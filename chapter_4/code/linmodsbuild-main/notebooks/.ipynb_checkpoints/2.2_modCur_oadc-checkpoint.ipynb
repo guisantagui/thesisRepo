{
 "cells": [
  {
   "cell_type": "markdown",
   "id": "9eec09cb",
   "metadata": {},
   "source": [
    "# Notebook 2.2: Check if the lineage-specific GSMMs can grow and, if not, check what's stoping the growth and fix them. - models built based on deletion data and all potentially deleterous SNPs"
   ]
  },
  {
   "cell_type": "code",
   "execution_count": 1,
   "id": "a3cc6905",
   "metadata": {},
   "outputs": [],
   "source": [
    "import cobra\n",
    "import pandas as pd\n",
    "import seaborn as sns\n",
    "import os\n",
    "from os.path import join\n",
    "from cobra.io import load_json_model\n",
    "from glob import glob\n",
    "from Bio import SeqIO\n",
    "import numpy as np\n",
    "from cobra import Model, Reaction, Metabolite\n",
    "import copy as cp\n",
    "import itertools as it\n",
    "from cobra.manipulation.delete import delete_model_genes, remove_genes\n",
    "import re"
   ]
  },
  {
   "cell_type": "code",
   "execution_count": 2,
   "id": "39eb16be",
   "metadata": {},
   "outputs": [],
   "source": [
    "# Set pandas to display all rows\n",
    "pd.set_option('display.max_rows', None)"
   ]
  },
  {
   "cell_type": "code",
   "execution_count": 3,
   "id": "1a03e00b",
   "metadata": {},
   "outputs": [],
   "source": [
    "# Directory stuff\n",
    "mod_dir = '../data/models/'\n",
    "res_dir = '../results/'\n",
    "del_dir = '../data/deletions/'\n",
    "snp_dir = '../data/snps/'\n",
    "built_mod_dir = res_dir + 'built_models/'\n",
    "delsSGsnps_mod_dir = built_mod_dir + 'delsSGsnps_mods/'\n",
    "delsAllsnps_mod_dir = built_mod_dir + 'delsAllsnps_mods/'\n",
    "delsAllsnps_mod_dir_cur = delsAllsnps_mod_dir + 'cur/'\n",
    "provResFile = '../data/proveanRes/proveanSign.csv'"
   ]
  },
  {
   "cell_type": "code",
   "execution_count": 4,
   "id": "12e02f91",
   "metadata": {},
   "outputs": [],
   "source": [
    "if not os.path.exists(delsAllsnps_mod_dir_cur):\n",
    "    os.mkdir(delsAllsnps_mod_dir_cur)"
   ]
  },
  {
   "cell_type": "markdown",
   "id": "84b809ee",
   "metadata": {},
   "source": [
    "### Load PROVEAN results file "
   ]
  },
  {
   "cell_type": "code",
   "execution_count": 5,
   "id": "f58239bc",
   "metadata": {},
   "outputs": [],
   "source": [
    "prov = pd.read_csv(provResFile, index_col = 0)"
   ]
  },
  {
   "cell_type": "markdown",
   "id": "9fe2328d",
   "metadata": {},
   "source": [
    "### Load base reconstruction, built models and different medium compositions for start running simulations"
   ]
  },
  {
   "cell_type": "code",
   "execution_count": 6,
   "id": "9f292d93",
   "metadata": {},
   "outputs": [],
   "source": [
    "base_mod = cobra.io.load_json_model(join(mod_dir, \"iEK1011_2.0.json\"))"
   ]
  },
  {
   "cell_type": "code",
   "execution_count": 7,
   "id": "e769587e",
   "metadata": {},
   "outputs": [
    {
     "data": {
      "text/plain": [
       "['../results/built_models/delsAllsnps_mods\\\\A1_delsAllsnps.json',\n",
       " '../results/built_models/delsAllsnps_mods\\\\A2_delsAllsnps.json',\n",
       " '../results/built_models/delsAllsnps_mods\\\\A3_delsAllsnps.json',\n",
       " '../results/built_models/delsAllsnps_mods\\\\A4_delsAllsnps.json',\n",
       " '../results/built_models/delsAllsnps_mods\\\\L1_delsAllsnps.json',\n",
       " '../results/built_models/delsAllsnps_mods\\\\L2_delsAllsnps.json',\n",
       " '../results/built_models/delsAllsnps_mods\\\\L3_delsAllsnps.json',\n",
       " '../results/built_models/delsAllsnps_mods\\\\L4_delsAllsnps.json',\n",
       " '../results/built_models/delsAllsnps_mods\\\\L5_delsAllsnps.json',\n",
       " '../results/built_models/delsAllsnps_mods\\\\L6_delsAllsnps.json',\n",
       " '../results/built_models/delsAllsnps_mods\\\\L7_delsAllsnps.json',\n",
       " '../results/built_models/delsAllsnps_mods\\\\L8_delsAllsnps.json',\n",
       " '../results/built_models/delsAllsnps_mods\\\\L9_delsAllsnps.json']"
      ]
     },
     "execution_count": 7,
     "metadata": {},
     "output_type": "execute_result"
    }
   ],
   "source": [
    "#load the curated models including deletions and stop gained SNPs created from Notebook 2.1\n",
    "mod_files_delsAllsnps=glob('%s/*.json'%delsAllsnps_mod_dir)\n",
    "mod_files_delsAllsnps"
   ]
  },
  {
   "cell_type": "code",
   "execution_count": 8,
   "id": "de918a1e",
   "metadata": {},
   "outputs": [],
   "source": [
    "# Create 7H9 OADC medium, obtained from S8 file matlab scripts from iEK1011 2.0 paper\n",
    "mi7H9_OADC_Med = {'EX_glu__L_e':1,'EX_cu2_e':1000,'EX_btn_e':1,'EX_pydxn_e':1,'EX_ca2_e':1000, 'EX_mg2_e':1000, 'EX_h_e':1000, 'EX_k_e':1000,\n",
    "'EX_nh4_e':10, 'EX_h2o_e':1000,'EX_pi_e':1, 'EX_cl_e':1000, 'EX_o2_e':20,\n",
    "'EX_na1_e':1000, 'EX_so4_e':1000,'EX_cit_e':1,'EX_fe3_e':5, 'EX_glyc_e':1,\n",
    "'EX_glc__D_e':1,'EX_ocdca_e':1}"
   ]
  },
  {
   "cell_type": "code",
   "execution_count": 9,
   "id": "a4261da8",
   "metadata": {},
   "outputs": [],
   "source": [
    "# Load different iEK1011 models (in different mediums) to retrieve mediums \n",
    "inVivoMed = cobra.io.load_json_model('C:/Users/Guillem/Documents/PhD/comput/models/MTBC/iEK1011_inVivo_media.json').medium\n",
    "deJesuMed = cobra.io.load_json_model('C:/Users/Guillem/Documents/PhD/comput/models/MTBC/iEK1011_deJesusEssen_media.json').medium\n",
    "drugTsMed = cobra.io.load_json_model('C:/Users/Guillem/Documents/PhD/comput/models/MTBC/iEK1011_drugTesting_media.json').medium\n",
    "grifEsMed = cobra.io.load_json_model('C:/Users/Guillem/Documents/PhD/comput/models/MTBC/iEK1011_griffinEssen_media.json').medium\n",
    "mi7H10Med = cobra.io.load_json_model('C:/Users/Guillem/Documents/PhD/comput/models/MTBC/iEK1011_m7H10_media.json').medium"
   ]
  },
  {
   "cell_type": "code",
   "execution_count": null,
   "id": "ab42eefb",
   "metadata": {},
   "outputs": [],
   "source": []
  },
  {
   "cell_type": "code",
   "execution_count": null,
   "id": "fcb34dfd",
   "metadata": {},
   "outputs": [],
   "source": []
  },
  {
   "cell_type": "code",
   "execution_count": 10,
   "id": "0df3e118",
   "metadata": {},
   "outputs": [],
   "source": [
    "# Exchange reactions have different names in old model than in new, so change the keys to make mediums compatible with models. \n",
    "\n",
    "for m in list(inVivoMed.keys()):\n",
    "    if 'L' in m or 'D' in m:\n",
    "        k = m[0:(len(m)-1)] + '_' + m[len(m)-1] + '_e'\n",
    "    else:\n",
    "        k = m + '_e'\n",
    "    inVivoMed[k] = inVivoMed.pop(m)\n",
    "\n",
    "for m in list(deJesuMed.keys()):\n",
    "    if 'L' in m or 'D' in m:\n",
    "        k = m[0:(len(m)-1)] + '_' + m[len(m)-1] + '_e'\n",
    "    else:\n",
    "        k = m + '_e'\n",
    "    deJesuMed[k] = deJesuMed.pop(m)\n",
    "\n",
    "for m in list(drugTsMed.keys()):\n",
    "    if 'L' in m or 'D' in m:\n",
    "        k = m[0:(len(m)-1)] + '_' + m[len(m)-1] + '_e'\n",
    "    else:\n",
    "        k = m + '_e'\n",
    "    drugTsMed[k] = drugTsMed.pop(m)\n",
    "\n",
    "for m in list(grifEsMed.keys()):\n",
    "    if 'L' in m or 'D' in m:\n",
    "        k = m[0:(len(m)-1)] + '_' + m[len(m)-1] + '_e'\n",
    "    else:\n",
    "        k = m + '_e'\n",
    "    grifEsMed[k] = grifEsMed.pop(m)\n",
    "\n",
    "for m in list(mi7H10Med.keys()):\n",
    "    if 'L' in m or 'D' in m:\n",
    "        k = m[0:(len(m)-1)] + '_' + m[len(m)-1] + '_e'\n",
    "    else:\n",
    "        k = m + '_e'\n",
    "    mi7H10Med[k] = mi7H10Med.pop(m)"
   ]
  },
  {
   "cell_type": "code",
   "execution_count": 11,
   "id": "078a291b",
   "metadata": {},
   "outputs": [],
   "source": [
    "# Initialize base reconstruction with 7H9 OADC\n",
    "base_mod.medium = mi7H9_OADC_Med"
   ]
  },
  {
   "cell_type": "markdown",
   "id": "100a7007",
   "metadata": {},
   "source": [
    "### Load to del matrix accounting for deletions, stop gained SNPs and PROVEAN significative SNPs\n",
    "Load the matrix and edit it to not delete the reactions we saw were blocking the growth in notebook 2.1"
   ]
  },
  {
   "cell_type": "code",
   "execution_count": 12,
   "id": "6128e7eb",
   "metadata": {},
   "outputs": [],
   "source": [
    "delMat = pd.read_csv('%sdel_AllSNPs_mat.csv'%res_dir, index_col = 0)"
   ]
  },
  {
   "cell_type": "code",
   "execution_count": 13,
   "id": "b69eee09",
   "metadata": {},
   "outputs": [],
   "source": [
    "# Keep Rv1525 and Rv3281, as they block growth. \n",
    "delMat.loc[delMat.index == 'Rv1525', 'L1'] = 1\n",
    "delMat.loc[delMat.index == 'Rv3281', 'L8'] = 1"
   ]
  },
  {
   "cell_type": "markdown",
   "id": "a2ccdf1b",
   "metadata": {},
   "source": [
    "### Create models adding PROVEAN significative SNPs to the curated ones with only deletions and Stop Gain SNPs"
   ]
  },
  {
   "cell_type": "code",
   "execution_count": 14,
   "id": "3d8bf6c8",
   "metadata": {},
   "outputs": [],
   "source": [
    "#create lineage-specific draft models and save them\n",
    "for lin in delMat.columns:\n",
    "    \n",
    "    #Get the list of Gene IDs from the homology matrix dataframe for the current strain without a homolog\n",
    "    currentStrain=delMat[lin]\n",
    "    nonHomologous=currentStrain[currentStrain==0.0]\n",
    "    nonHomologous=nonHomologous.index.tolist()\n",
    "    \n",
    "    #Define a list of Gene objects from the base reconstruction to be deleted from the current strain\n",
    "    toDelete=[]\n",
    "    for gene in nonHomologous:\n",
    "        toDelete.append(base_mod.genes.get_by_id(gene))\n",
    "\n",
    "    #Establish a model copy and use the COBRApy function to remove the appropriate content and save this model\n",
    "    modelCopy=base_mod.copy()\n",
    "    remove_genes(modelCopy, toDelete, remove_reactions=True)\n",
    "    modelCopy.id=str(lin)\n",
    "    cobra.io.json.save_json_model(modelCopy, str(delsAllsnps_mod_dir+lin+'_delsAllsnps.json'), pretty=False)"
   ]
  },
  {
   "cell_type": "code",
   "execution_count": 15,
   "id": "af5c3172",
   "metadata": {},
   "outputs": [
    {
     "name": "stdout",
     "output_type": "stream",
     "text": [
      "A1 growth, BIOMASS__2 as objective: 0.0\n",
      "A2 growth, BIOMASS__2 as objective: 0.0\n",
      "A3 growth, BIOMASS__2 as objective: 0.0\n",
      "A4 growth, BIOMASS__2 as objective: 0.0\n",
      "L1 growth, BIOMASS__2 as objective: 0.0\n",
      "L2 growth, BIOMASS__2 as objective: 0.0\n",
      "L3 growth, BIOMASS__2 as objective: 0.0\n",
      "L4 growth, BIOMASS__2 as objective: 0.3683291764340529\n",
      "L5 growth, BIOMASS__2 as objective: 0.0\n",
      "L6 growth, BIOMASS__2 as objective: 0.0\n",
      "L7 growth, BIOMASS__2 as objective: 0.0\n",
      "L8 growth, BIOMASS__2 as objective: 0.0\n",
      "L9 growth, BIOMASS__2 as objective: 0.0\n"
     ]
    }
   ],
   "source": [
    "#Load each target lineage model, initialize it to Middlebrock 7H10 media and see if the model can optimize for\n",
    "# biomass production\n",
    "for model in mod_files_delsAllsnps:\n",
    "    mod=cobra.io.load_json_model(model)\n",
    "    mod.medium = mi7H9_OADC_Med\n",
    "    mod.objective = 'BIOMASS__2'\n",
    "    print ('%s growth, BIOMASS__2 as objective: %s'%(mod.id, str(mod.slim_optimize())))\n",
    "    #mod.objective = 'BIOMASS__2.1'\n",
    "    #print ('%s growth, BIOMASS__2.1 as objective: %s'%(mod.id, str(mod.slim_optimize())))"
   ]
  },
  {
   "cell_type": "markdown",
   "id": "bc21d317",
   "metadata": {},
   "source": [
    "The only model that grows is the unaltered one: the L4"
   ]
  },
  {
   "cell_type": "markdown",
   "id": "6ee65ac7",
   "metadata": {},
   "source": [
    "### Check what's causing the growth to stop"
   ]
  },
  {
   "cell_type": "code",
   "execution_count": 16,
   "id": "fc5b649c",
   "metadata": {},
   "outputs": [],
   "source": [
    "# Define a function to, given a vector of genes to delete, outputs the effect of the mutation of each one, \n",
    "# with the aim of identifying what's causing the growth to stop. \n",
    "def testDelsFun(dels, medium = mi7H9_OADC_Med):\n",
    "    BMs = []\n",
    "    for g in dels:\n",
    "        testDel = cobra.io.load_json_model(join(mod_dir, \"iEK1011_2.0.json\"))\n",
    "        testDel.medium = medium\n",
    "        testDel.genes.get_by_id(g).knock_out()\n",
    "        growth = testDel.slim_optimize()\n",
    "        BMs.append(growth)\n",
    "        print('Growth with ' + g + ' deleted: ' + str(growth))\n",
    "    toDelMuts = pd.DataFrame({'gene':dels, 'BM':BMs})\n",
    "    return toDelMuts"
   ]
  },
  {
   "cell_type": "code",
   "execution_count": 17,
   "id": "f7f65a5a",
   "metadata": {},
   "outputs": [],
   "source": [
    "def getProvScore(locus, lin):\n",
    "    out = prov[['POS', 'REF', 'ALT', 'LIN', 'ANN', 'LOCUS', 'AA_one', 'PROVEAN']]\n",
    "    out = out.loc[out['LIN'] == lin]\n",
    "    out = out.reset_index(drop = True)\n",
    "    out = out.loc[out['LOCUS'] == locus]\n",
    "    out = out.reset_index(drop = True)\n",
    "    return out"
   ]
  },
  {
   "cell_type": "markdown",
   "id": "4af2436f",
   "metadata": {},
   "source": [
    "### L1"
   ]
  },
  {
   "cell_type": "code",
   "execution_count": 18,
   "id": "d5047f0e",
   "metadata": {},
   "outputs": [],
   "source": [
    "L1 = cobra.io.load_json_model(join(delsAllsnps_mod_dir, \"L1_delsAllsnps.json\"))"
   ]
  },
  {
   "cell_type": "code",
   "execution_count": 19,
   "id": "a9dbd509",
   "metadata": {},
   "outputs": [],
   "source": [
    "L1_dels = list(delMat.loc[delMat['L1'] == 0.0, 'L1'].index)"
   ]
  },
  {
   "cell_type": "code",
   "execution_count": 20,
   "id": "b8a769e7",
   "metadata": {},
   "outputs": [
    {
     "name": "stdout",
     "output_type": "stream",
     "text": [
      "Growth with Rv0994 deleted: 0.3683291764340529\n",
      "Growth with Rv2484c deleted: 0.3683291764340529\n",
      "Growth with Rv1750c deleted: 0.3683291764340529\n",
      "Growth with Rv1550 deleted: 0.3683291764340529\n",
      "Growth with Rv0270 deleted: 0.3683291764340529\n",
      "Growth with Rv1663 deleted: 0.3683291764340529\n",
      "Growth with Rv1099c deleted: 0.3683291764340529\n",
      "Growth with Rv1530 deleted: 0.3683291764340529\n",
      "Growth with Rv2051c deleted: 0.0\n",
      "Growth with Rv0392c deleted: 0.3683291764340529\n",
      "Growth with Rv2074 deleted: 0.3683291764340529\n",
      "Growth with Rv1672c deleted: 0.3683291764340539\n"
     ]
    }
   ],
   "source": [
    "\"\"\"Check what are the genes that are causing the flux to be zero.\"\"\"\n",
    "L1_toDelMuts = testDelsFun(L1_dels)\n",
    "L1_impGrwth = L1_toDelMuts.loc[L1_toDelMuts['BM'] == 0]['gene'].tolist()"
   ]
  },
  {
   "cell_type": "markdown",
   "id": "e12fa4e1",
   "metadata": {},
   "source": [
    "**L1) Rv2051.** Transfers mannose from GDP-mannose to all endogenous polyprenol-phosphates. PROVEAN = -3.792. Significative. Cell wall processes. Essential. Involved in PIM synthesis."
   ]
  },
  {
   "cell_type": "code",
   "execution_count": 21,
   "id": "bcf4d2c4",
   "metadata": {},
   "outputs": [
    {
     "data": {
      "text/html": [
       "<div>\n",
       "<style scoped>\n",
       "    .dataframe tbody tr th:only-of-type {\n",
       "        vertical-align: middle;\n",
       "    }\n",
       "\n",
       "    .dataframe tbody tr th {\n",
       "        vertical-align: top;\n",
       "    }\n",
       "\n",
       "    .dataframe thead th {\n",
       "        text-align: right;\n",
       "    }\n",
       "</style>\n",
       "<table border=\"1\" class=\"dataframe\">\n",
       "  <thead>\n",
       "    <tr style=\"text-align: right;\">\n",
       "      <th></th>\n",
       "      <th>POS</th>\n",
       "      <th>REF</th>\n",
       "      <th>ALT</th>\n",
       "      <th>LIN</th>\n",
       "      <th>ANN</th>\n",
       "      <th>LOCUS</th>\n",
       "      <th>AA_one</th>\n",
       "      <th>PROVEAN</th>\n",
       "    </tr>\n",
       "  </thead>\n",
       "  <tbody>\n",
       "    <tr>\n",
       "      <th>0</th>\n",
       "      <td>2309356.0</td>\n",
       "      <td>G</td>\n",
       "      <td>A</td>\n",
       "      <td>L1</td>\n",
       "      <td>missense_variant</td>\n",
       "      <td>Rv2051c</td>\n",
       "      <td>T467I</td>\n",
       "      <td>-3.792</td>\n",
       "    </tr>\n",
       "    <tr>\n",
       "      <th>1</th>\n",
       "      <td>2309174.0</td>\n",
       "      <td>G</td>\n",
       "      <td>A</td>\n",
       "      <td>L1</td>\n",
       "      <td>missense_variant</td>\n",
       "      <td>Rv2051c</td>\n",
       "      <td>R528W</td>\n",
       "      <td>-3.039</td>\n",
       "    </tr>\n",
       "    <tr>\n",
       "      <th>2</th>\n",
       "      <td>2309248.0</td>\n",
       "      <td>G</td>\n",
       "      <td>C</td>\n",
       "      <td>L1</td>\n",
       "      <td>missense_variant</td>\n",
       "      <td>Rv2051c</td>\n",
       "      <td>P503R</td>\n",
       "      <td>-4.175</td>\n",
       "    </tr>\n",
       "    <tr>\n",
       "      <th>3</th>\n",
       "      <td>2309459.0</td>\n",
       "      <td>T</td>\n",
       "      <td>G</td>\n",
       "      <td>L1</td>\n",
       "      <td>missense_variant</td>\n",
       "      <td>Rv2051c</td>\n",
       "      <td>S433R</td>\n",
       "      <td>-3.019</td>\n",
       "    </tr>\n",
       "    <tr>\n",
       "      <th>4</th>\n",
       "      <td>2310037.0</td>\n",
       "      <td>G</td>\n",
       "      <td>A</td>\n",
       "      <td>L1</td>\n",
       "      <td>missense_variant</td>\n",
       "      <td>Rv2051c</td>\n",
       "      <td>T240M</td>\n",
       "      <td>-2.711</td>\n",
       "    </tr>\n",
       "    <tr>\n",
       "      <th>5</th>\n",
       "      <td>2310171.0</td>\n",
       "      <td>C</td>\n",
       "      <td>G</td>\n",
       "      <td>L1</td>\n",
       "      <td>missense_variant</td>\n",
       "      <td>Rv2051c</td>\n",
       "      <td>W195C</td>\n",
       "      <td>-3.117</td>\n",
       "    </tr>\n",
       "    <tr>\n",
       "      <th>6</th>\n",
       "      <td>2310347.0</td>\n",
       "      <td>A</td>\n",
       "      <td>G</td>\n",
       "      <td>L1</td>\n",
       "      <td>missense_variant</td>\n",
       "      <td>Rv2051c</td>\n",
       "      <td>W137R</td>\n",
       "      <td>-7.222</td>\n",
       "    </tr>\n",
       "    <tr>\n",
       "      <th>7</th>\n",
       "      <td>2310370.0</td>\n",
       "      <td>G</td>\n",
       "      <td>A</td>\n",
       "      <td>L1</td>\n",
       "      <td>missense_variant</td>\n",
       "      <td>Rv2051c</td>\n",
       "      <td>A129V</td>\n",
       "      <td>-3.328</td>\n",
       "    </tr>\n",
       "  </tbody>\n",
       "</table>\n",
       "</div>"
      ],
      "text/plain": [
       "         POS REF ALT LIN               ANN    LOCUS AA_one  PROVEAN\n",
       "0  2309356.0   G   A  L1  missense_variant  Rv2051c  T467I   -3.792\n",
       "1  2309174.0   G   A  L1  missense_variant  Rv2051c  R528W   -3.039\n",
       "2  2309248.0   G   C  L1  missense_variant  Rv2051c  P503R   -4.175\n",
       "3  2309459.0   T   G  L1  missense_variant  Rv2051c  S433R   -3.019\n",
       "4  2310037.0   G   A  L1  missense_variant  Rv2051c  T240M   -2.711\n",
       "5  2310171.0   C   G  L1  missense_variant  Rv2051c  W195C   -3.117\n",
       "6  2310347.0   A   G  L1  missense_variant  Rv2051c  W137R   -7.222\n",
       "7  2310370.0   G   A  L1  missense_variant  Rv2051c  A129V   -3.328"
      ]
     },
     "execution_count": 21,
     "metadata": {},
     "output_type": "execute_result"
    }
   ],
   "source": [
    "getProvScore(L1_impGrwth[0], 'L1')"
   ]
  },
  {
   "cell_type": "code",
   "execution_count": 22,
   "id": "b2695f88",
   "metadata": {},
   "outputs": [
    {
     "data": {
      "text/html": [
       "\n",
       "        <table>\n",
       "            <tr>\n",
       "                <td><strong>Gene identifier</strong></td><td>Rv2051c</td>\n",
       "            </tr><tr>\n",
       "                <td><strong>Name</strong></td><td></td>\n",
       "            </tr><tr>\n",
       "                <td><strong>Memory address</strong></td>\n",
       "                <td>0x01fadbb464f0</td>\n",
       "            </tr><tr>\n",
       "                <td><strong>Functional</strong></td><td>True</td>\n",
       "            </tr><tr>\n",
       "                <td><strong>In 2 reaction(s)</strong></td><td>\n",
       "                    PPM1, GMT1</td>\n",
       "            </tr>\n",
       "        </table>"
      ],
      "text/plain": [
       "<Gene Rv2051c at 0x1fadbb464f0>"
      ]
     },
     "execution_count": 22,
     "metadata": {},
     "output_type": "execute_result"
    }
   ],
   "source": [
    "base_mod.genes.get_by_id(L1_impGrwth[0])"
   ]
  },
  {
   "cell_type": "code",
   "execution_count": 23,
   "id": "8078879b",
   "metadata": {},
   "outputs": [
    {
     "data": {
      "text/html": [
       "\n",
       "        <table>\n",
       "            <tr>\n",
       "                <td><strong>Reaction identifier</strong></td><td>PPM1</td>\n",
       "            </tr><tr>\n",
       "                <td><strong>Name</strong></td><td>MNXR76028</td>\n",
       "            </tr><tr>\n",
       "                <td><strong>Memory address</strong></td>\n",
       "                <td>0x01fadcd26fa0</td>\n",
       "            </tr><tr>\n",
       "                <td><strong>Stoichiometry</strong></td>\n",
       "                <td>\n",
       "                    <p style='text-align:right'>gdpmann[c] + udcpp[c] --> gdp[c] + ppm[c]</p>\n",
       "                    <p style='text-align:right'>GDP-D-mannose [cytoplasm] + Undecaprenyl phosphate [cytoplasm] --> GDP C10H12N5O11P2 [cytoplasm] + D-Mannosyl-1-phosphoundecaprenol [cytoplasm]</p>\n",
       "                </td>\n",
       "            </tr><tr>\n",
       "                <td><strong>GPR</strong></td><td>Rv2051c</td>\n",
       "            </tr><tr>\n",
       "                <td><strong>Lower bound</strong></td><td>0.0</td>\n",
       "            </tr><tr>\n",
       "                <td><strong>Upper bound</strong></td><td>1000.0</td>\n",
       "            </tr>\n",
       "        </table>\n",
       "        "
      ],
      "text/plain": [
       "<Reaction PPM1 at 0x1fadcd26fa0>"
      ]
     },
     "execution_count": 23,
     "metadata": {},
     "output_type": "execute_result"
    }
   ],
   "source": [
    "list(base_mod.genes.get_by_id(L1_impGrwth[0]).reactions)[0]"
   ]
  },
  {
   "cell_type": "code",
   "execution_count": 24,
   "id": "3858dd9c",
   "metadata": {},
   "outputs": [
    {
     "data": {
      "text/html": [
       "\n",
       "        <table>\n",
       "            <tr>\n",
       "                <td><strong>Reaction identifier</strong></td><td>GMT1</td>\n",
       "            </tr><tr>\n",
       "                <td><strong>Name</strong></td><td>GMT1</td>\n",
       "            </tr><tr>\n",
       "                <td><strong>Memory address</strong></td>\n",
       "                <td>0x01fadccce550</td>\n",
       "            </tr><tr>\n",
       "                <td><strong>Stoichiometry</strong></td>\n",
       "                <td>\n",
       "                    <p style='text-align:right'>decd_tb[c] + gdpmann[c] --> decdman1p_tb[c] + gdp[c]</p>\n",
       "                    <p style='text-align:right'>(E,E,E,E,E,E,E,Z,Z) decaprenyl phosphate [cytoplasm] + GDP-D-mannose [cytoplasm] --> (E,E,E,E,E,E,E,Z,Z) decaprenyl mannose phosphate [cytoplasm] + GDP C10H12N5O11P2 [cytoplasm]</p>\n",
       "                </td>\n",
       "            </tr><tr>\n",
       "                <td><strong>GPR</strong></td><td>Rv2051c</td>\n",
       "            </tr><tr>\n",
       "                <td><strong>Lower bound</strong></td><td>0.0</td>\n",
       "            </tr><tr>\n",
       "                <td><strong>Upper bound</strong></td><td>1000.0</td>\n",
       "            </tr>\n",
       "        </table>\n",
       "        "
      ],
      "text/plain": [
       "<Reaction GMT1 at 0x1fadccce550>"
      ]
     },
     "execution_count": 24,
     "metadata": {},
     "output_type": "execute_result"
    }
   ],
   "source": [
    "list(base_mod.genes.get_by_id(L1_impGrwth[0]).reactions)[1]"
   ]
  },
  {
   "cell_type": "markdown",
   "id": "923731cc",
   "metadata": {},
   "source": [
    "Keep Rv2051c."
   ]
  },
  {
   "cell_type": "code",
   "execution_count": 25,
   "id": "4c6623f5",
   "metadata": {},
   "outputs": [],
   "source": [
    "L1_toDel_cur = L1_toDelMuts.loc[L1_toDelMuts['BM'] != 0]['gene'].tolist()"
   ]
  },
  {
   "cell_type": "code",
   "execution_count": 26,
   "id": "f3b35168",
   "metadata": {},
   "outputs": [],
   "source": [
    "L1_cur = cobra.io.load_json_model(join(mod_dir, \"iEK1011_2.0.json\"))"
   ]
  },
  {
   "cell_type": "code",
   "execution_count": 27,
   "id": "4885312a",
   "metadata": {},
   "outputs": [],
   "source": [
    "remove_genes(L1_cur, L1_toDel_cur, remove_reactions=True)"
   ]
  },
  {
   "cell_type": "code",
   "execution_count": 28,
   "id": "c10b5ab7",
   "metadata": {},
   "outputs": [],
   "source": [
    "L1_cur.medium = mi7H9_OADC_Med"
   ]
  },
  {
   "cell_type": "code",
   "execution_count": 29,
   "id": "01dca96c",
   "metadata": {},
   "outputs": [],
   "source": [
    "L1_cur.id=str('L1')"
   ]
  },
  {
   "cell_type": "code",
   "execution_count": 30,
   "id": "87bc4819",
   "metadata": {},
   "outputs": [
    {
     "data": {
      "text/plain": [
       "0.3683291764340539"
      ]
     },
     "execution_count": 30,
     "metadata": {},
     "output_type": "execute_result"
    }
   ],
   "source": [
    "L1_cur.slim_optimize()"
   ]
  },
  {
   "cell_type": "code",
   "execution_count": 31,
   "id": "75cba60c",
   "metadata": {},
   "outputs": [],
   "source": [
    "cobra.io.json.save_json_model(L1_cur, str(delsAllsnps_mod_dir_cur+'L1'+'_cur.json'), pretty=False)"
   ]
  },
  {
   "cell_type": "markdown",
   "id": "a06e7236",
   "metadata": {},
   "source": [
    "### L2"
   ]
  },
  {
   "cell_type": "code",
   "execution_count": 32,
   "id": "9009ec60",
   "metadata": {},
   "outputs": [],
   "source": [
    "L2 = cobra.io.load_json_model(join(delsAllsnps_mod_dir, \"L2_delsAllsnps.json\"))"
   ]
  },
  {
   "cell_type": "code",
   "execution_count": 33,
   "id": "5e8bf9ce",
   "metadata": {},
   "outputs": [],
   "source": [
    "L2_dels = list(delMat.loc[delMat['L2'] == 0.0, 'L2'].index)"
   ]
  },
  {
   "cell_type": "code",
   "execution_count": 34,
   "id": "6e338ab8",
   "metadata": {},
   "outputs": [
    {
     "name": "stdout",
     "output_type": "stream",
     "text": [
      "Growth with Rv3782 deleted: 0.0\n",
      "Growth with Rv3465 deleted: 0.0\n",
      "Growth with Rv2831 deleted: 0.3683291764340529\n",
      "Growth with Rv1472 deleted: 0.3683291764340529\n",
      "Growth with Rv1736c deleted: 0.3683291764340529\n",
      "Growth with Rv1760 deleted: 0.3683291764340529\n",
      "Growth with Rv1925 deleted: 0.3683291764340529\n",
      "Growth with Rv2947c deleted: 0.0\n",
      "Growth with Rv1755c deleted: 0.368329176434048\n",
      "Growth with Rv1400c deleted: 0.3683291764340529\n",
      "Growth with Rv2349c deleted: 0.3683291764340529\n",
      "Growth with Rv3487c deleted: 0.3683291764340529\n",
      "Growth with Rv0768 deleted: 0.3683291764340529\n",
      "Growth with Rv2495c deleted: 0.0\n",
      "Growth with Rv0115 deleted: 0.36832917643405044\n",
      "Growth with Rv3800c deleted: 0.0\n",
      "Growth with Rv0773c deleted: 0.368329176434052\n",
      "Growth with Rv0808 deleted: 0.0\n",
      "Growth with Rv0107c deleted: 0.3683291764340529\n",
      "Growth with Rv2691 deleted: 0.3683291764340529\n",
      "Growth with Rv1739c deleted: 0.0\n",
      "Growth with Rv0072 deleted: 0.3683291764340529\n",
      "Growth with Rv0073 deleted: 0.3683291764340529\n"
     ]
    }
   ],
   "source": [
    "\"\"\"Check what are the genes that are causing the flux to be zero.\"\"\"\n",
    "L2_toDelMuts = testDelsFun(L2_dels)\n",
    "L2_impGrwth = L2_toDelMuts.loc[L2_toDelMuts['BM'] == 0]['gene'].tolist()"
   ]
  },
  {
   "cell_type": "code",
   "execution_count": 35,
   "id": "a7549749",
   "metadata": {},
   "outputs": [
    {
     "data": {
      "text/html": [
       "\n",
       "        <table>\n",
       "            <tr>\n",
       "                <td><strong>Gene identifier</strong></td><td>Rv3782</td>\n",
       "            </tr><tr>\n",
       "                <td><strong>Name</strong></td><td></td>\n",
       "            </tr><tr>\n",
       "                <td><strong>Memory address</strong></td>\n",
       "                <td>0x01fadc8d3760</td>\n",
       "            </tr><tr>\n",
       "                <td><strong>Functional</strong></td><td>True</td>\n",
       "            </tr><tr>\n",
       "                <td><strong>In 1 reaction(s)</strong></td><td>\n",
       "                    GALFT</td>\n",
       "            </tr>\n",
       "        </table>"
      ],
      "text/plain": [
       "<Gene Rv3782 at 0x1fadc8d3760>"
      ]
     },
     "execution_count": 35,
     "metadata": {},
     "output_type": "execute_result"
    }
   ],
   "source": [
    "base_mod.genes.get_by_id(L2_impGrwth[0])"
   ]
  },
  {
   "cell_type": "code",
   "execution_count": 36,
   "id": "0f00182e",
   "metadata": {},
   "outputs": [
    {
     "data": {
      "text/html": [
       "<div>\n",
       "<style scoped>\n",
       "    .dataframe tbody tr th:only-of-type {\n",
       "        vertical-align: middle;\n",
       "    }\n",
       "\n",
       "    .dataframe tbody tr th {\n",
       "        vertical-align: top;\n",
       "    }\n",
       "\n",
       "    .dataframe thead th {\n",
       "        text-align: right;\n",
       "    }\n",
       "</style>\n",
       "<table border=\"1\" class=\"dataframe\">\n",
       "  <thead>\n",
       "    <tr style=\"text-align: right;\">\n",
       "      <th></th>\n",
       "      <th>POS</th>\n",
       "      <th>REF</th>\n",
       "      <th>ALT</th>\n",
       "      <th>LIN</th>\n",
       "      <th>ANN</th>\n",
       "      <th>LOCUS</th>\n",
       "      <th>AA_one</th>\n",
       "      <th>PROVEAN</th>\n",
       "    </tr>\n",
       "  </thead>\n",
       "  <tbody>\n",
       "    <tr>\n",
       "      <th>0</th>\n",
       "      <td>4228532.0</td>\n",
       "      <td>G</td>\n",
       "      <td>T</td>\n",
       "      <td>L2</td>\n",
       "      <td>missense_variant</td>\n",
       "      <td>Rv3782</td>\n",
       "      <td>L62F</td>\n",
       "      <td>-2.705</td>\n",
       "    </tr>\n",
       "    <tr>\n",
       "      <th>1</th>\n",
       "      <td>4228726.0</td>\n",
       "      <td>A</td>\n",
       "      <td>C</td>\n",
       "      <td>L2</td>\n",
       "      <td>missense_variant</td>\n",
       "      <td>Rv3782</td>\n",
       "      <td>D127A</td>\n",
       "      <td>-3.697</td>\n",
       "    </tr>\n",
       "    <tr>\n",
       "      <th>2</th>\n",
       "      <td>4228821.0</td>\n",
       "      <td>C</td>\n",
       "      <td>T</td>\n",
       "      <td>L2</td>\n",
       "      <td>missense_variant</td>\n",
       "      <td>Rv3782</td>\n",
       "      <td>P159S</td>\n",
       "      <td>-5.502</td>\n",
       "    </tr>\n",
       "    <tr>\n",
       "      <th>3</th>\n",
       "      <td>4229005.0</td>\n",
       "      <td>A</td>\n",
       "      <td>G</td>\n",
       "      <td>L2</td>\n",
       "      <td>missense_variant</td>\n",
       "      <td>Rv3782</td>\n",
       "      <td>D220G</td>\n",
       "      <td>-2.868</td>\n",
       "    </tr>\n",
       "    <tr>\n",
       "      <th>4</th>\n",
       "      <td>4229167.0</td>\n",
       "      <td>T</td>\n",
       "      <td>C</td>\n",
       "      <td>L2</td>\n",
       "      <td>missense_variant</td>\n",
       "      <td>Rv3782</td>\n",
       "      <td>V274A</td>\n",
       "      <td>-2.943</td>\n",
       "    </tr>\n",
       "  </tbody>\n",
       "</table>\n",
       "</div>"
      ],
      "text/plain": [
       "         POS REF ALT LIN               ANN   LOCUS AA_one  PROVEAN\n",
       "0  4228532.0   G   T  L2  missense_variant  Rv3782   L62F   -2.705\n",
       "1  4228726.0   A   C  L2  missense_variant  Rv3782  D127A   -3.697\n",
       "2  4228821.0   C   T  L2  missense_variant  Rv3782  P159S   -5.502\n",
       "3  4229005.0   A   G  L2  missense_variant  Rv3782  D220G   -2.868\n",
       "4  4229167.0   T   C  L2  missense_variant  Rv3782  V274A   -2.943"
      ]
     },
     "execution_count": 36,
     "metadata": {},
     "output_type": "execute_result"
    }
   ],
   "source": [
    "getProvScore(L2_impGrwth[0], 'L2')"
   ]
  },
  {
   "cell_type": "code",
   "execution_count": 37,
   "id": "4cd664b0",
   "metadata": {},
   "outputs": [
    {
     "data": {
      "text/html": [
       "\n",
       "        <table>\n",
       "            <tr>\n",
       "                <td><strong>Reaction identifier</strong></td><td>GALFT</td>\n",
       "            </tr><tr>\n",
       "                <td><strong>Name</strong></td><td>Galactofuranose transferse (M tb)</td>\n",
       "            </tr><tr>\n",
       "                <td><strong>Memory address</strong></td>\n",
       "                <td>0x01fadc985f40</td>\n",
       "            </tr><tr>\n",
       "                <td><strong>Stoichiometry</strong></td>\n",
       "                <td>\n",
       "                    <p style='text-align:right'>h2o[c] + ragund[c] + 30.0 udpgalfur[c] --> galfragund[c] + 30.0 h[c] + 30.0 udp[c]</p>\n",
       "                    <p style='text-align:right'>H2O H2O [cytoplasm] + Rhamanosyl-N-acetylglucosamyl-undecaprenyl diphosphate [cytoplasm] + 30.0 UDP-D-galacto-1,4-furanose [cytoplasm] --> Galactofuranosyl(30)-rhamanosyl-N-acetylglucosamyl-...</p>\n",
       "                </td>\n",
       "            </tr><tr>\n",
       "                <td><strong>GPR</strong></td><td>Rv3808c and Rv3782</td>\n",
       "            </tr><tr>\n",
       "                <td><strong>Lower bound</strong></td><td>0.0</td>\n",
       "            </tr><tr>\n",
       "                <td><strong>Upper bound</strong></td><td>1000.0</td>\n",
       "            </tr>\n",
       "        </table>\n",
       "        "
      ],
      "text/plain": [
       "<Reaction GALFT at 0x1fadc985f40>"
      ]
     },
     "execution_count": 37,
     "metadata": {},
     "output_type": "execute_result"
    }
   ],
   "source": [
    "list(base_mod.genes.get_by_id(L2_impGrwth[0]).reactions)[0]"
   ]
  },
  {
   "cell_type": "markdown",
   "id": "dedd957c",
   "metadata": {},
   "source": [
    "**L2) Rv3782:** Galactofuranose transferse (M tb). Involved in arabinogalactan formation. One step next to wbbL2 Rv1525. "
   ]
  },
  {
   "cell_type": "code",
   "execution_count": 38,
   "id": "6954ea31",
   "metadata": {},
   "outputs": [
    {
     "data": {
      "text/html": [
       "<div>\n",
       "<style scoped>\n",
       "    .dataframe tbody tr th:only-of-type {\n",
       "        vertical-align: middle;\n",
       "    }\n",
       "\n",
       "    .dataframe tbody tr th {\n",
       "        vertical-align: top;\n",
       "    }\n",
       "\n",
       "    .dataframe thead th {\n",
       "        text-align: right;\n",
       "    }\n",
       "</style>\n",
       "<table border=\"1\" class=\"dataframe\">\n",
       "  <thead>\n",
       "    <tr style=\"text-align: right;\">\n",
       "      <th></th>\n",
       "      <th>POS</th>\n",
       "      <th>REF</th>\n",
       "      <th>ALT</th>\n",
       "      <th>LIN</th>\n",
       "      <th>ANN</th>\n",
       "      <th>LOCUS</th>\n",
       "      <th>AA_one</th>\n",
       "      <th>PROVEAN</th>\n",
       "    </tr>\n",
       "  </thead>\n",
       "  <tbody>\n",
       "    <tr>\n",
       "      <th>0</th>\n",
       "      <td>3883054.0</td>\n",
       "      <td>T</td>\n",
       "      <td>C</td>\n",
       "      <td>L2</td>\n",
       "      <td>missense_variant</td>\n",
       "      <td>Rv3465</td>\n",
       "      <td>V74A</td>\n",
       "      <td>-4.000</td>\n",
       "    </tr>\n",
       "    <tr>\n",
       "      <th>1</th>\n",
       "      <td>3883178.0</td>\n",
       "      <td>A</td>\n",
       "      <td>C</td>\n",
       "      <td>L2</td>\n",
       "      <td>missense_variant</td>\n",
       "      <td>Rv3465</td>\n",
       "      <td>E115D</td>\n",
       "      <td>-2.804</td>\n",
       "    </tr>\n",
       "    <tr>\n",
       "      <th>2</th>\n",
       "      <td>3883255.0</td>\n",
       "      <td>A</td>\n",
       "      <td>T</td>\n",
       "      <td>L2</td>\n",
       "      <td>missense_variant</td>\n",
       "      <td>Rv3465</td>\n",
       "      <td>Q141L</td>\n",
       "      <td>-2.626</td>\n",
       "    </tr>\n",
       "    <tr>\n",
       "      <th>3</th>\n",
       "      <td>3883294.0</td>\n",
       "      <td>C</td>\n",
       "      <td>T</td>\n",
       "      <td>L2</td>\n",
       "      <td>missense_variant</td>\n",
       "      <td>Rv3465</td>\n",
       "      <td>A154V</td>\n",
       "      <td>-3.078</td>\n",
       "    </tr>\n",
       "  </tbody>\n",
       "</table>\n",
       "</div>"
      ],
      "text/plain": [
       "         POS REF ALT LIN               ANN   LOCUS AA_one  PROVEAN\n",
       "0  3883054.0   T   C  L2  missense_variant  Rv3465   V74A   -4.000\n",
       "1  3883178.0   A   C  L2  missense_variant  Rv3465  E115D   -2.804\n",
       "2  3883255.0   A   T  L2  missense_variant  Rv3465  Q141L   -2.626\n",
       "3  3883294.0   C   T  L2  missense_variant  Rv3465  A154V   -3.078"
      ]
     },
     "execution_count": 38,
     "metadata": {},
     "output_type": "execute_result"
    }
   ],
   "source": [
    "getProvScore(L2_impGrwth[1], 'L2')"
   ]
  },
  {
   "cell_type": "code",
   "execution_count": 39,
   "id": "c3785632",
   "metadata": {},
   "outputs": [
    {
     "data": {
      "text/html": [
       "\n",
       "        <table>\n",
       "            <tr>\n",
       "                <td><strong>Gene identifier</strong></td><td>Rv3465</td>\n",
       "            </tr><tr>\n",
       "                <td><strong>Name</strong></td><td></td>\n",
       "            </tr><tr>\n",
       "                <td><strong>Memory address</strong></td>\n",
       "                <td>0x01fadc8d37f0</td>\n",
       "            </tr><tr>\n",
       "                <td><strong>Functional</strong></td><td>True</td>\n",
       "            </tr><tr>\n",
       "                <td><strong>In 1 reaction(s)</strong></td><td>\n",
       "                    TDPDRE</td>\n",
       "            </tr>\n",
       "        </table>"
      ],
      "text/plain": [
       "<Gene Rv3465 at 0x1fadc8d37f0>"
      ]
     },
     "execution_count": 39,
     "metadata": {},
     "output_type": "execute_result"
    }
   ],
   "source": [
    "base_mod.genes.get_by_id(L2_impGrwth[1])"
   ]
  },
  {
   "cell_type": "code",
   "execution_count": 40,
   "id": "87bf116c",
   "metadata": {},
   "outputs": [
    {
     "data": {
      "text/html": [
       "\n",
       "        <table>\n",
       "            <tr>\n",
       "                <td><strong>Reaction identifier</strong></td><td>TDPDRE</td>\n",
       "            </tr><tr>\n",
       "                <td><strong>Name</strong></td><td>DTDP-4-dehydrorhamnose 3,5-epimerase</td>\n",
       "            </tr><tr>\n",
       "                <td><strong>Memory address</strong></td>\n",
       "                <td>0x01fadc98a9d0</td>\n",
       "            </tr><tr>\n",
       "                <td><strong>Stoichiometry</strong></td>\n",
       "                <td>\n",
       "                    <p style='text-align:right'>dtdp4d6dg[c] --> dtdp4d6dm[c]</p>\n",
       "                    <p style='text-align:right'>DTDP-4-dehydro-6-deoxy-D-glucose [cytoplasm] --> DTDP-4-dehydro-6-deoxy-L-mannose [cytoplasm]</p>\n",
       "                </td>\n",
       "            </tr><tr>\n",
       "                <td><strong>GPR</strong></td><td>Rv3465</td>\n",
       "            </tr><tr>\n",
       "                <td><strong>Lower bound</strong></td><td>0.0</td>\n",
       "            </tr><tr>\n",
       "                <td><strong>Upper bound</strong></td><td>1000.0</td>\n",
       "            </tr>\n",
       "        </table>\n",
       "        "
      ],
      "text/plain": [
       "<Reaction TDPDRE at 0x1fadc98a9d0>"
      ]
     },
     "execution_count": 40,
     "metadata": {},
     "output_type": "execute_result"
    }
   ],
   "source": [
    "list(base_mod.genes.get_by_id(L2_impGrwth[1]).reactions)[0]"
   ]
  },
  {
   "cell_type": "markdown",
   "id": "85e1bc68",
   "metadata": {},
   "source": [
    "**L2) Rv3465:** Involved in dTDP-L-rhamnose biosynthesis, within the O antigen biosynthesis pathway of lipopolysaccharide biosynthesis: conversion of dTDP-4-keto-6-deoxy-D-glucose to dTDP-4-keto-rhamnose. Essential in H37Rv. https://pubmed.ncbi.nlm.nih.gov/15103135/"
   ]
  },
  {
   "cell_type": "code",
   "execution_count": 41,
   "id": "1494df26",
   "metadata": {},
   "outputs": [
    {
     "data": {
      "text/html": [
       "<div>\n",
       "<style scoped>\n",
       "    .dataframe tbody tr th:only-of-type {\n",
       "        vertical-align: middle;\n",
       "    }\n",
       "\n",
       "    .dataframe tbody tr th {\n",
       "        vertical-align: top;\n",
       "    }\n",
       "\n",
       "    .dataframe thead th {\n",
       "        text-align: right;\n",
       "    }\n",
       "</style>\n",
       "<table border=\"1\" class=\"dataframe\">\n",
       "  <thead>\n",
       "    <tr style=\"text-align: right;\">\n",
       "      <th></th>\n",
       "      <th>POS</th>\n",
       "      <th>REF</th>\n",
       "      <th>ALT</th>\n",
       "      <th>LIN</th>\n",
       "      <th>ANN</th>\n",
       "      <th>LOCUS</th>\n",
       "      <th>AA_one</th>\n",
       "      <th>PROVEAN</th>\n",
       "    </tr>\n",
       "  </thead>\n",
       "  <tbody>\n",
       "    <tr>\n",
       "      <th>0</th>\n",
       "      <td>3296437.0</td>\n",
       "      <td>T</td>\n",
       "      <td>G</td>\n",
       "      <td>L2</td>\n",
       "      <td>missense_variant</td>\n",
       "      <td>Rv2947c</td>\n",
       "      <td>E468D</td>\n",
       "      <td>-2.868</td>\n",
       "    </tr>\n",
       "    <tr>\n",
       "      <th>1</th>\n",
       "      <td>3296495.0</td>\n",
       "      <td>C</td>\n",
       "      <td>T</td>\n",
       "      <td>L2</td>\n",
       "      <td>missense_variant</td>\n",
       "      <td>Rv2947c</td>\n",
       "      <td>R449H</td>\n",
       "      <td>-4.663</td>\n",
       "    </tr>\n",
       "    <tr>\n",
       "      <th>2</th>\n",
       "      <td>3296498.0</td>\n",
       "      <td>G</td>\n",
       "      <td>A</td>\n",
       "      <td>L2</td>\n",
       "      <td>missense_variant</td>\n",
       "      <td>Rv2947c</td>\n",
       "      <td>P448L</td>\n",
       "      <td>-8.803</td>\n",
       "    </tr>\n",
       "    <tr>\n",
       "      <th>3</th>\n",
       "      <td>3296501.0</td>\n",
       "      <td>C</td>\n",
       "      <td>T</td>\n",
       "      <td>L2</td>\n",
       "      <td>missense_variant</td>\n",
       "      <td>Rv2947c</td>\n",
       "      <td>R447H</td>\n",
       "      <td>-3.567</td>\n",
       "    </tr>\n",
       "    <tr>\n",
       "      <th>4</th>\n",
       "      <td>3296521.0</td>\n",
       "      <td>C</td>\n",
       "      <td>A</td>\n",
       "      <td>L2</td>\n",
       "      <td>missense_variant</td>\n",
       "      <td>Rv2947c</td>\n",
       "      <td>R440S</td>\n",
       "      <td>-3.950</td>\n",
       "    </tr>\n",
       "    <tr>\n",
       "      <th>5</th>\n",
       "      <td>3296561.0</td>\n",
       "      <td>T</td>\n",
       "      <td>G</td>\n",
       "      <td>L2</td>\n",
       "      <td>missense_variant</td>\n",
       "      <td>Rv2947c</td>\n",
       "      <td>D427A</td>\n",
       "      <td>-7.738</td>\n",
       "    </tr>\n",
       "    <tr>\n",
       "      <th>6</th>\n",
       "      <td>3296582.0</td>\n",
       "      <td>T</td>\n",
       "      <td>C</td>\n",
       "      <td>L2</td>\n",
       "      <td>missense_variant</td>\n",
       "      <td>Rv2947c</td>\n",
       "      <td>D420G</td>\n",
       "      <td>-6.519</td>\n",
       "    </tr>\n",
       "    <tr>\n",
       "      <th>7</th>\n",
       "      <td>3296583.0</td>\n",
       "      <td>C</td>\n",
       "      <td>A</td>\n",
       "      <td>L2</td>\n",
       "      <td>missense_variant</td>\n",
       "      <td>Rv2947c</td>\n",
       "      <td>D420Y</td>\n",
       "      <td>-8.291</td>\n",
       "    </tr>\n",
       "    <tr>\n",
       "      <th>8</th>\n",
       "      <td>3296585.0</td>\n",
       "      <td>A</td>\n",
       "      <td>C</td>\n",
       "      <td>L2</td>\n",
       "      <td>missense_variant</td>\n",
       "      <td>Rv2947c</td>\n",
       "      <td>V419G</td>\n",
       "      <td>-6.435</td>\n",
       "    </tr>\n",
       "    <tr>\n",
       "      <th>9</th>\n",
       "      <td>3296594.0</td>\n",
       "      <td>G</td>\n",
       "      <td>A</td>\n",
       "      <td>L2</td>\n",
       "      <td>missense_variant</td>\n",
       "      <td>Rv2947c</td>\n",
       "      <td>T416M</td>\n",
       "      <td>-5.529</td>\n",
       "    </tr>\n",
       "    <tr>\n",
       "      <th>10</th>\n",
       "      <td>3296627.0</td>\n",
       "      <td>A</td>\n",
       "      <td>G</td>\n",
       "      <td>L2</td>\n",
       "      <td>missense_variant</td>\n",
       "      <td>Rv2947c</td>\n",
       "      <td>V405A</td>\n",
       "      <td>-3.744</td>\n",
       "    </tr>\n",
       "    <tr>\n",
       "      <th>11</th>\n",
       "      <td>3296667.0</td>\n",
       "      <td>T</td>\n",
       "      <td>C</td>\n",
       "      <td>L2</td>\n",
       "      <td>missense_variant</td>\n",
       "      <td>Rv2947c</td>\n",
       "      <td>T392A</td>\n",
       "      <td>-3.728</td>\n",
       "    </tr>\n",
       "    <tr>\n",
       "      <th>12</th>\n",
       "      <td>3296717.0</td>\n",
       "      <td>G</td>\n",
       "      <td>C</td>\n",
       "      <td>L2</td>\n",
       "      <td>missense_variant</td>\n",
       "      <td>Rv2947c</td>\n",
       "      <td>P375R</td>\n",
       "      <td>-5.296</td>\n",
       "    </tr>\n",
       "    <tr>\n",
       "      <th>13</th>\n",
       "      <td>3296721.0</td>\n",
       "      <td>G</td>\n",
       "      <td>C</td>\n",
       "      <td>L2</td>\n",
       "      <td>missense_variant</td>\n",
       "      <td>Rv2947c</td>\n",
       "      <td>R374G</td>\n",
       "      <td>-5.570</td>\n",
       "    </tr>\n",
       "    <tr>\n",
       "      <th>14</th>\n",
       "      <td>3296724.0</td>\n",
       "      <td>C</td>\n",
       "      <td>T</td>\n",
       "      <td>L2</td>\n",
       "      <td>missense_variant</td>\n",
       "      <td>Rv2947c</td>\n",
       "      <td>G373R</td>\n",
       "      <td>-2.616</td>\n",
       "    </tr>\n",
       "    <tr>\n",
       "      <th>15</th>\n",
       "      <td>3296738.0</td>\n",
       "      <td>G</td>\n",
       "      <td>A</td>\n",
       "      <td>L2</td>\n",
       "      <td>missense_variant</td>\n",
       "      <td>Rv2947c</td>\n",
       "      <td>S368F</td>\n",
       "      <td>-3.165</td>\n",
       "    </tr>\n",
       "    <tr>\n",
       "      <th>16</th>\n",
       "      <td>3296762.0</td>\n",
       "      <td>G</td>\n",
       "      <td>A</td>\n",
       "      <td>L2</td>\n",
       "      <td>missense_variant</td>\n",
       "      <td>Rv2947c</td>\n",
       "      <td>P360L</td>\n",
       "      <td>-9.752</td>\n",
       "    </tr>\n",
       "    <tr>\n",
       "      <th>17</th>\n",
       "      <td>3296763.0</td>\n",
       "      <td>G</td>\n",
       "      <td>A</td>\n",
       "      <td>L2</td>\n",
       "      <td>missense_variant</td>\n",
       "      <td>Rv2947c</td>\n",
       "      <td>P360S</td>\n",
       "      <td>-7.787</td>\n",
       "    </tr>\n",
       "    <tr>\n",
       "      <th>18</th>\n",
       "      <td>3296790.0</td>\n",
       "      <td>G</td>\n",
       "      <td>A</td>\n",
       "      <td>L2</td>\n",
       "      <td>missense_variant</td>\n",
       "      <td>Rv2947c</td>\n",
       "      <td>H351Y</td>\n",
       "      <td>-5.865</td>\n",
       "    </tr>\n",
       "    <tr>\n",
       "      <th>19</th>\n",
       "      <td>3296808.0</td>\n",
       "      <td>C</td>\n",
       "      <td>A</td>\n",
       "      <td>L2</td>\n",
       "      <td>missense_variant</td>\n",
       "      <td>Rv2947c</td>\n",
       "      <td>V345L</td>\n",
       "      <td>-2.752</td>\n",
       "    </tr>\n",
       "    <tr>\n",
       "      <th>20</th>\n",
       "      <td>3296846.0</td>\n",
       "      <td>T</td>\n",
       "      <td>A</td>\n",
       "      <td>L2</td>\n",
       "      <td>missense_variant</td>\n",
       "      <td>Rv2947c</td>\n",
       "      <td>Q332L</td>\n",
       "      <td>-3.109</td>\n",
       "    </tr>\n",
       "    <tr>\n",
       "      <th>21</th>\n",
       "      <td>3296861.0</td>\n",
       "      <td>T</td>\n",
       "      <td>C</td>\n",
       "      <td>L2</td>\n",
       "      <td>missense_variant</td>\n",
       "      <td>Rv2947c</td>\n",
       "      <td>Q327R</td>\n",
       "      <td>-3.947</td>\n",
       "    </tr>\n",
       "    <tr>\n",
       "      <th>22</th>\n",
       "      <td>3296882.0</td>\n",
       "      <td>G</td>\n",
       "      <td>A</td>\n",
       "      <td>L2</td>\n",
       "      <td>missense_variant</td>\n",
       "      <td>Rv2947c</td>\n",
       "      <td>T320I</td>\n",
       "      <td>-5.396</td>\n",
       "    </tr>\n",
       "    <tr>\n",
       "      <th>23</th>\n",
       "      <td>3296891.0</td>\n",
       "      <td>T</td>\n",
       "      <td>A</td>\n",
       "      <td>L2</td>\n",
       "      <td>missense_variant</td>\n",
       "      <td>Rv2947c</td>\n",
       "      <td>N317I</td>\n",
       "      <td>-8.509</td>\n",
       "    </tr>\n",
       "    <tr>\n",
       "      <th>24</th>\n",
       "      <td>3296915.0</td>\n",
       "      <td>G</td>\n",
       "      <td>A</td>\n",
       "      <td>L2</td>\n",
       "      <td>missense_variant</td>\n",
       "      <td>Rv2947c</td>\n",
       "      <td>A309V</td>\n",
       "      <td>-3.945</td>\n",
       "    </tr>\n",
       "    <tr>\n",
       "      <th>25</th>\n",
       "      <td>3296916.0</td>\n",
       "      <td>C</td>\n",
       "      <td>G</td>\n",
       "      <td>L2</td>\n",
       "      <td>missense_variant</td>\n",
       "      <td>Rv2947c</td>\n",
       "      <td>A309P</td>\n",
       "      <td>-4.931</td>\n",
       "    </tr>\n",
       "    <tr>\n",
       "      <th>26</th>\n",
       "      <td>3296934.0</td>\n",
       "      <td>C</td>\n",
       "      <td>G</td>\n",
       "      <td>L2</td>\n",
       "      <td>missense_variant</td>\n",
       "      <td>Rv2947c</td>\n",
       "      <td>A303P</td>\n",
       "      <td>-4.518</td>\n",
       "    </tr>\n",
       "    <tr>\n",
       "      <th>27</th>\n",
       "      <td>3296960.0</td>\n",
       "      <td>G</td>\n",
       "      <td>A</td>\n",
       "      <td>L2</td>\n",
       "      <td>missense_variant</td>\n",
       "      <td>Rv2947c</td>\n",
       "      <td>A294V</td>\n",
       "      <td>-3.945</td>\n",
       "    </tr>\n",
       "    <tr>\n",
       "      <th>28</th>\n",
       "      <td>3296975.0</td>\n",
       "      <td>T</td>\n",
       "      <td>G</td>\n",
       "      <td>L2</td>\n",
       "      <td>missense_variant</td>\n",
       "      <td>Rv2947c</td>\n",
       "      <td>E289A</td>\n",
       "      <td>-4.939</td>\n",
       "    </tr>\n",
       "    <tr>\n",
       "      <th>29</th>\n",
       "      <td>3296975.0</td>\n",
       "      <td>T</td>\n",
       "      <td>C</td>\n",
       "      <td>L2</td>\n",
       "      <td>missense_variant</td>\n",
       "      <td>Rv2947c</td>\n",
       "      <td>E289G</td>\n",
       "      <td>-6.086</td>\n",
       "    </tr>\n",
       "    <tr>\n",
       "      <th>30</th>\n",
       "      <td>3296990.0</td>\n",
       "      <td>C</td>\n",
       "      <td>T</td>\n",
       "      <td>L2</td>\n",
       "      <td>missense_variant</td>\n",
       "      <td>Rv2947c</td>\n",
       "      <td>G284E</td>\n",
       "      <td>-7.664</td>\n",
       "    </tr>\n",
       "    <tr>\n",
       "      <th>31</th>\n",
       "      <td>3297029.0</td>\n",
       "      <td>G</td>\n",
       "      <td>A</td>\n",
       "      <td>L2</td>\n",
       "      <td>missense_variant</td>\n",
       "      <td>Rv2947c</td>\n",
       "      <td>A271V</td>\n",
       "      <td>-3.670</td>\n",
       "    </tr>\n",
       "    <tr>\n",
       "      <th>32</th>\n",
       "      <td>3297040.0</td>\n",
       "      <td>A</td>\n",
       "      <td>C</td>\n",
       "      <td>L2</td>\n",
       "      <td>missense_variant</td>\n",
       "      <td>Rv2947c</td>\n",
       "      <td>C267W</td>\n",
       "      <td>-10.594</td>\n",
       "    </tr>\n",
       "    <tr>\n",
       "      <th>33</th>\n",
       "      <td>3297074.0</td>\n",
       "      <td>G</td>\n",
       "      <td>T</td>\n",
       "      <td>L2</td>\n",
       "      <td>missense_variant</td>\n",
       "      <td>Rv2947c</td>\n",
       "      <td>S256Y</td>\n",
       "      <td>-5.818</td>\n",
       "    </tr>\n",
       "    <tr>\n",
       "      <th>34</th>\n",
       "      <td>3297078.0</td>\n",
       "      <td>A</td>\n",
       "      <td>C</td>\n",
       "      <td>L2</td>\n",
       "      <td>missense_variant</td>\n",
       "      <td>Rv2947c</td>\n",
       "      <td>F255V</td>\n",
       "      <td>-6.638</td>\n",
       "    </tr>\n",
       "    <tr>\n",
       "      <th>35</th>\n",
       "      <td>3297150.0</td>\n",
       "      <td>G</td>\n",
       "      <td>A</td>\n",
       "      <td>L2</td>\n",
       "      <td>missense_variant</td>\n",
       "      <td>Rv2947c</td>\n",
       "      <td>R231C</td>\n",
       "      <td>-7.891</td>\n",
       "    </tr>\n",
       "    <tr>\n",
       "      <th>36</th>\n",
       "      <td>3297203.0</td>\n",
       "      <td>T</td>\n",
       "      <td>C</td>\n",
       "      <td>L2</td>\n",
       "      <td>missense_variant</td>\n",
       "      <td>Rv2947c</td>\n",
       "      <td>D213G</td>\n",
       "      <td>-6.882</td>\n",
       "    </tr>\n",
       "    <tr>\n",
       "      <th>37</th>\n",
       "      <td>3297233.0</td>\n",
       "      <td>A</td>\n",
       "      <td>G</td>\n",
       "      <td>L2</td>\n",
       "      <td>missense_variant</td>\n",
       "      <td>Rv2947c</td>\n",
       "      <td>L203S</td>\n",
       "      <td>-5.232</td>\n",
       "    </tr>\n",
       "    <tr>\n",
       "      <th>38</th>\n",
       "      <td>3297245.0</td>\n",
       "      <td>A</td>\n",
       "      <td>C</td>\n",
       "      <td>L2</td>\n",
       "      <td>missense_variant</td>\n",
       "      <td>Rv2947c</td>\n",
       "      <td>V199G</td>\n",
       "      <td>-6.826</td>\n",
       "    </tr>\n",
       "    <tr>\n",
       "      <th>39</th>\n",
       "      <td>3297254.0</td>\n",
       "      <td>G</td>\n",
       "      <td>A</td>\n",
       "      <td>L2</td>\n",
       "      <td>missense_variant</td>\n",
       "      <td>Rv2947c</td>\n",
       "      <td>S196L</td>\n",
       "      <td>-5.921</td>\n",
       "    </tr>\n",
       "    <tr>\n",
       "      <th>40</th>\n",
       "      <td>3297287.0</td>\n",
       "      <td>T</td>\n",
       "      <td>G</td>\n",
       "      <td>L2</td>\n",
       "      <td>missense_variant</td>\n",
       "      <td>Rv2947c</td>\n",
       "      <td>Y185S</td>\n",
       "      <td>-7.490</td>\n",
       "    </tr>\n",
       "    <tr>\n",
       "      <th>41</th>\n",
       "      <td>3297296.0</td>\n",
       "      <td>A</td>\n",
       "      <td>C</td>\n",
       "      <td>L2</td>\n",
       "      <td>missense_variant</td>\n",
       "      <td>Rv2947c</td>\n",
       "      <td>L182R</td>\n",
       "      <td>-4.129</td>\n",
       "    </tr>\n",
       "    <tr>\n",
       "      <th>42</th>\n",
       "      <td>3297339.0</td>\n",
       "      <td>C</td>\n",
       "      <td>A</td>\n",
       "      <td>L2</td>\n",
       "      <td>missense_variant</td>\n",
       "      <td>Rv2947c</td>\n",
       "      <td>G168C</td>\n",
       "      <td>-8.752</td>\n",
       "    </tr>\n",
       "    <tr>\n",
       "      <th>43</th>\n",
       "      <td>3297380.0</td>\n",
       "      <td>T</td>\n",
       "      <td>G</td>\n",
       "      <td>L2</td>\n",
       "      <td>missense_variant</td>\n",
       "      <td>Rv2947c</td>\n",
       "      <td>D154A</td>\n",
       "      <td>-6.640</td>\n",
       "    </tr>\n",
       "    <tr>\n",
       "      <th>44</th>\n",
       "      <td>3297403.0</td>\n",
       "      <td>C</td>\n",
       "      <td>G</td>\n",
       "      <td>L2</td>\n",
       "      <td>missense_variant</td>\n",
       "      <td>Rv2947c</td>\n",
       "      <td>E146D</td>\n",
       "      <td>-2.912</td>\n",
       "    </tr>\n",
       "    <tr>\n",
       "      <th>45</th>\n",
       "      <td>3297408.0</td>\n",
       "      <td>A</td>\n",
       "      <td>C</td>\n",
       "      <td>L2</td>\n",
       "      <td>missense_variant</td>\n",
       "      <td>Rv2947c</td>\n",
       "      <td>W145G</td>\n",
       "      <td>-12.573</td>\n",
       "    </tr>\n",
       "    <tr>\n",
       "      <th>46</th>\n",
       "      <td>3297422.0</td>\n",
       "      <td>A</td>\n",
       "      <td>C</td>\n",
       "      <td>L2</td>\n",
       "      <td>missense_variant</td>\n",
       "      <td>Rv2947c</td>\n",
       "      <td>M140R</td>\n",
       "      <td>-4.221</td>\n",
       "    </tr>\n",
       "    <tr>\n",
       "      <th>47</th>\n",
       "      <td>3297476.0</td>\n",
       "      <td>A</td>\n",
       "      <td>C</td>\n",
       "      <td>L2</td>\n",
       "      <td>missense_variant</td>\n",
       "      <td>Rv2947c</td>\n",
       "      <td>F122C</td>\n",
       "      <td>-6.422</td>\n",
       "    </tr>\n",
       "    <tr>\n",
       "      <th>48</th>\n",
       "      <td>3297483.0</td>\n",
       "      <td>C</td>\n",
       "      <td>T</td>\n",
       "      <td>L2</td>\n",
       "      <td>missense_variant</td>\n",
       "      <td>Rv2947c</td>\n",
       "      <td>A120T</td>\n",
       "      <td>-2.720</td>\n",
       "    </tr>\n",
       "    <tr>\n",
       "      <th>49</th>\n",
       "      <td>3297516.0</td>\n",
       "      <td>C</td>\n",
       "      <td>A</td>\n",
       "      <td>L2</td>\n",
       "      <td>missense_variant</td>\n",
       "      <td>Rv2947c</td>\n",
       "      <td>G109W</td>\n",
       "      <td>-7.522</td>\n",
       "    </tr>\n",
       "    <tr>\n",
       "      <th>50</th>\n",
       "      <td>3297554.0</td>\n",
       "      <td>G</td>\n",
       "      <td>C</td>\n",
       "      <td>L2</td>\n",
       "      <td>missense_variant</td>\n",
       "      <td>Rv2947c</td>\n",
       "      <td>P96R</td>\n",
       "      <td>-7.232</td>\n",
       "    </tr>\n",
       "    <tr>\n",
       "      <th>51</th>\n",
       "      <td>3297596.0</td>\n",
       "      <td>A</td>\n",
       "      <td>T</td>\n",
       "      <td>L2</td>\n",
       "      <td>missense_variant</td>\n",
       "      <td>Rv2947c</td>\n",
       "      <td>F82Y</td>\n",
       "      <td>-2.659</td>\n",
       "    </tr>\n",
       "    <tr>\n",
       "      <th>52</th>\n",
       "      <td>3297614.0</td>\n",
       "      <td>C</td>\n",
       "      <td>T</td>\n",
       "      <td>L2</td>\n",
       "      <td>missense_variant</td>\n",
       "      <td>Rv2947c</td>\n",
       "      <td>R76H</td>\n",
       "      <td>-3.097</td>\n",
       "    </tr>\n",
       "    <tr>\n",
       "      <th>53</th>\n",
       "      <td>3297635.0</td>\n",
       "      <td>C</td>\n",
       "      <td>G</td>\n",
       "      <td>L2</td>\n",
       "      <td>missense_variant</td>\n",
       "      <td>Rv2947c</td>\n",
       "      <td>W69S</td>\n",
       "      <td>-12.992</td>\n",
       "    </tr>\n",
       "    <tr>\n",
       "      <th>54</th>\n",
       "      <td>3297647.0</td>\n",
       "      <td>G</td>\n",
       "      <td>A</td>\n",
       "      <td>L2</td>\n",
       "      <td>missense_variant</td>\n",
       "      <td>Rv2947c</td>\n",
       "      <td>P65L</td>\n",
       "      <td>-7.646</td>\n",
       "    </tr>\n",
       "    <tr>\n",
       "      <th>55</th>\n",
       "      <td>3297666.0</td>\n",
       "      <td>G</td>\n",
       "      <td>A</td>\n",
       "      <td>L2</td>\n",
       "      <td>missense_variant</td>\n",
       "      <td>Rv2947c</td>\n",
       "      <td>P59S</td>\n",
       "      <td>-6.940</td>\n",
       "    </tr>\n",
       "    <tr>\n",
       "      <th>56</th>\n",
       "      <td>3297699.0</td>\n",
       "      <td>G</td>\n",
       "      <td>A</td>\n",
       "      <td>L2</td>\n",
       "      <td>missense_variant</td>\n",
       "      <td>Rv2947c</td>\n",
       "      <td>P48S</td>\n",
       "      <td>-7.050</td>\n",
       "    </tr>\n",
       "    <tr>\n",
       "      <th>57</th>\n",
       "      <td>3297770.0</td>\n",
       "      <td>A</td>\n",
       "      <td>G</td>\n",
       "      <td>L2</td>\n",
       "      <td>missense_variant</td>\n",
       "      <td>Rv2947c</td>\n",
       "      <td>L24P</td>\n",
       "      <td>-4.546</td>\n",
       "    </tr>\n",
       "  </tbody>\n",
       "</table>\n",
       "</div>"
      ],
      "text/plain": [
       "          POS REF ALT LIN               ANN    LOCUS AA_one  PROVEAN\n",
       "0   3296437.0   T   G  L2  missense_variant  Rv2947c  E468D   -2.868\n",
       "1   3296495.0   C   T  L2  missense_variant  Rv2947c  R449H   -4.663\n",
       "2   3296498.0   G   A  L2  missense_variant  Rv2947c  P448L   -8.803\n",
       "3   3296501.0   C   T  L2  missense_variant  Rv2947c  R447H   -3.567\n",
       "4   3296521.0   C   A  L2  missense_variant  Rv2947c  R440S   -3.950\n",
       "5   3296561.0   T   G  L2  missense_variant  Rv2947c  D427A   -7.738\n",
       "6   3296582.0   T   C  L2  missense_variant  Rv2947c  D420G   -6.519\n",
       "7   3296583.0   C   A  L2  missense_variant  Rv2947c  D420Y   -8.291\n",
       "8   3296585.0   A   C  L2  missense_variant  Rv2947c  V419G   -6.435\n",
       "9   3296594.0   G   A  L2  missense_variant  Rv2947c  T416M   -5.529\n",
       "10  3296627.0   A   G  L2  missense_variant  Rv2947c  V405A   -3.744\n",
       "11  3296667.0   T   C  L2  missense_variant  Rv2947c  T392A   -3.728\n",
       "12  3296717.0   G   C  L2  missense_variant  Rv2947c  P375R   -5.296\n",
       "13  3296721.0   G   C  L2  missense_variant  Rv2947c  R374G   -5.570\n",
       "14  3296724.0   C   T  L2  missense_variant  Rv2947c  G373R   -2.616\n",
       "15  3296738.0   G   A  L2  missense_variant  Rv2947c  S368F   -3.165\n",
       "16  3296762.0   G   A  L2  missense_variant  Rv2947c  P360L   -9.752\n",
       "17  3296763.0   G   A  L2  missense_variant  Rv2947c  P360S   -7.787\n",
       "18  3296790.0   G   A  L2  missense_variant  Rv2947c  H351Y   -5.865\n",
       "19  3296808.0   C   A  L2  missense_variant  Rv2947c  V345L   -2.752\n",
       "20  3296846.0   T   A  L2  missense_variant  Rv2947c  Q332L   -3.109\n",
       "21  3296861.0   T   C  L2  missense_variant  Rv2947c  Q327R   -3.947\n",
       "22  3296882.0   G   A  L2  missense_variant  Rv2947c  T320I   -5.396\n",
       "23  3296891.0   T   A  L2  missense_variant  Rv2947c  N317I   -8.509\n",
       "24  3296915.0   G   A  L2  missense_variant  Rv2947c  A309V   -3.945\n",
       "25  3296916.0   C   G  L2  missense_variant  Rv2947c  A309P   -4.931\n",
       "26  3296934.0   C   G  L2  missense_variant  Rv2947c  A303P   -4.518\n",
       "27  3296960.0   G   A  L2  missense_variant  Rv2947c  A294V   -3.945\n",
       "28  3296975.0   T   G  L2  missense_variant  Rv2947c  E289A   -4.939\n",
       "29  3296975.0   T   C  L2  missense_variant  Rv2947c  E289G   -6.086\n",
       "30  3296990.0   C   T  L2  missense_variant  Rv2947c  G284E   -7.664\n",
       "31  3297029.0   G   A  L2  missense_variant  Rv2947c  A271V   -3.670\n",
       "32  3297040.0   A   C  L2  missense_variant  Rv2947c  C267W  -10.594\n",
       "33  3297074.0   G   T  L2  missense_variant  Rv2947c  S256Y   -5.818\n",
       "34  3297078.0   A   C  L2  missense_variant  Rv2947c  F255V   -6.638\n",
       "35  3297150.0   G   A  L2  missense_variant  Rv2947c  R231C   -7.891\n",
       "36  3297203.0   T   C  L2  missense_variant  Rv2947c  D213G   -6.882\n",
       "37  3297233.0   A   G  L2  missense_variant  Rv2947c  L203S   -5.232\n",
       "38  3297245.0   A   C  L2  missense_variant  Rv2947c  V199G   -6.826\n",
       "39  3297254.0   G   A  L2  missense_variant  Rv2947c  S196L   -5.921\n",
       "40  3297287.0   T   G  L2  missense_variant  Rv2947c  Y185S   -7.490\n",
       "41  3297296.0   A   C  L2  missense_variant  Rv2947c  L182R   -4.129\n",
       "42  3297339.0   C   A  L2  missense_variant  Rv2947c  G168C   -8.752\n",
       "43  3297380.0   T   G  L2  missense_variant  Rv2947c  D154A   -6.640\n",
       "44  3297403.0   C   G  L2  missense_variant  Rv2947c  E146D   -2.912\n",
       "45  3297408.0   A   C  L2  missense_variant  Rv2947c  W145G  -12.573\n",
       "46  3297422.0   A   C  L2  missense_variant  Rv2947c  M140R   -4.221\n",
       "47  3297476.0   A   C  L2  missense_variant  Rv2947c  F122C   -6.422\n",
       "48  3297483.0   C   T  L2  missense_variant  Rv2947c  A120T   -2.720\n",
       "49  3297516.0   C   A  L2  missense_variant  Rv2947c  G109W   -7.522\n",
       "50  3297554.0   G   C  L2  missense_variant  Rv2947c   P96R   -7.232\n",
       "51  3297596.0   A   T  L2  missense_variant  Rv2947c   F82Y   -2.659\n",
       "52  3297614.0   C   T  L2  missense_variant  Rv2947c   R76H   -3.097\n",
       "53  3297635.0   C   G  L2  missense_variant  Rv2947c   W69S  -12.992\n",
       "54  3297647.0   G   A  L2  missense_variant  Rv2947c   P65L   -7.646\n",
       "55  3297666.0   G   A  L2  missense_variant  Rv2947c   P59S   -6.940\n",
       "56  3297699.0   G   A  L2  missense_variant  Rv2947c   P48S   -7.050\n",
       "57  3297770.0   A   G  L2  missense_variant  Rv2947c   L24P   -4.546"
      ]
     },
     "execution_count": 41,
     "metadata": {},
     "output_type": "execute_result"
    }
   ],
   "source": [
    "getProvScore(L2_impGrwth[2], 'L2')"
   ]
  },
  {
   "cell_type": "code",
   "execution_count": 42,
   "id": "b624ba3e",
   "metadata": {},
   "outputs": [
    {
     "data": {
      "text/html": [
       "\n",
       "        <table>\n",
       "            <tr>\n",
       "                <td><strong>Gene identifier</strong></td><td>Rv2947c</td>\n",
       "            </tr><tr>\n",
       "                <td><strong>Name</strong></td><td></td>\n",
       "            </tr><tr>\n",
       "                <td><strong>Memory address</strong></td>\n",
       "                <td>0x01fadc900580</td>\n",
       "            </tr><tr>\n",
       "                <td><strong>Functional</strong></td><td>True</td>\n",
       "            </tr><tr>\n",
       "                <td><strong>In 11 reaction(s)</strong></td><td>\n",
       "                    FAS161, FAS160, FAS120, FAS260, FAS100, FAS200, FAS80_L, FAS180, FAS140, FAS240_L, FAS181</td>\n",
       "            </tr>\n",
       "        </table>"
      ],
      "text/plain": [
       "<Gene Rv2947c at 0x1fadc900580>"
      ]
     },
     "execution_count": 42,
     "metadata": {},
     "output_type": "execute_result"
    }
   ],
   "source": [
    "base_mod.genes.get_by_id(L2_impGrwth[2])"
   ]
  },
  {
   "cell_type": "code",
   "execution_count": 43,
   "id": "8423d246",
   "metadata": {},
   "outputs": [
    {
     "data": {
      "text/plain": [
       "[<Reaction FAS161 at 0x1fadcb06c10>,\n",
       " <Reaction FAS160 at 0x1fadcb06c40>,\n",
       " <Reaction FAS120 at 0x1fadcae1c40>,\n",
       " <Reaction FAS260 at 0x1fadcb13850>,\n",
       " <Reaction FAS100 at 0x1fadcaeec70>,\n",
       " <Reaction FAS200 at 0x1fadcb06cd0>,\n",
       " <Reaction FAS80_L at 0x1fadcb13af0>,\n",
       " <Reaction FAS180 at 0x1fadcb06d30>,\n",
       " <Reaction FAS140 at 0x1fadcaeed60>,\n",
       " <Reaction FAS240_L at 0x1fadcb06f70>,\n",
       " <Reaction FAS181 at 0x1fadcb06fd0>]"
      ]
     },
     "execution_count": 43,
     "metadata": {},
     "output_type": "execute_result"
    }
   ],
   "source": [
    "list(base_mod.genes.get_by_id(L2_impGrwth[2]).reactions)"
   ]
  },
  {
   "cell_type": "markdown",
   "id": "777b78aa",
   "metadata": {},
   "source": [
    "**L2) Rv2947c:** Probable pks15, polyketide synthase. Lipid synthesis. Non-essential. In the model it participates in several reactions with products that go straight into biomass reaction, so we cannot remove this gene (if doing we should remove many compounds from biomass equation). This gene is involved in PGL synthesis. In H37Rv it's disrupted. (Role of the pks15/1 gene in the biosynthesis of phenolglycolipids in the Mycobacterium tuberculosis complex: Evidence that all strains synthesize glycosylated p-hydroxybenzoic methyl esters and that strains devoid of phenolglycolipids harbor a frameshift mutation in the pks15/1 gene). In the model is participating in fatty acid synthesis. "
   ]
  },
  {
   "cell_type": "code",
   "execution_count": 44,
   "id": "8f50eda5",
   "metadata": {},
   "outputs": [
    {
     "data": {
      "text/html": [
       "<div>\n",
       "<style scoped>\n",
       "    .dataframe tbody tr th:only-of-type {\n",
       "        vertical-align: middle;\n",
       "    }\n",
       "\n",
       "    .dataframe tbody tr th {\n",
       "        vertical-align: top;\n",
       "    }\n",
       "\n",
       "    .dataframe thead th {\n",
       "        text-align: right;\n",
       "    }\n",
       "</style>\n",
       "<table border=\"1\" class=\"dataframe\">\n",
       "  <thead>\n",
       "    <tr style=\"text-align: right;\">\n",
       "      <th></th>\n",
       "      <th>POS</th>\n",
       "      <th>REF</th>\n",
       "      <th>ALT</th>\n",
       "      <th>LIN</th>\n",
       "      <th>ANN</th>\n",
       "      <th>LOCUS</th>\n",
       "      <th>AA_one</th>\n",
       "      <th>PROVEAN</th>\n",
       "    </tr>\n",
       "  </thead>\n",
       "  <tbody>\n",
       "    <tr>\n",
       "      <th>0</th>\n",
       "      <td>2808954.0</td>\n",
       "      <td>G</td>\n",
       "      <td>A</td>\n",
       "      <td>L2</td>\n",
       "      <td>missense_variant</td>\n",
       "      <td>Rv2495c</td>\n",
       "      <td>P329L</td>\n",
       "      <td>-8.641</td>\n",
       "    </tr>\n",
       "    <tr>\n",
       "      <th>1</th>\n",
       "      <td>2809074.0</td>\n",
       "      <td>T</td>\n",
       "      <td>C</td>\n",
       "      <td>L2</td>\n",
       "      <td>missense_variant</td>\n",
       "      <td>Rv2495c</td>\n",
       "      <td>E289G</td>\n",
       "      <td>-2.849</td>\n",
       "    </tr>\n",
       "    <tr>\n",
       "      <th>2</th>\n",
       "      <td>2809101.0</td>\n",
       "      <td>G</td>\n",
       "      <td>A</td>\n",
       "      <td>L2</td>\n",
       "      <td>missense_variant</td>\n",
       "      <td>Rv2495c</td>\n",
       "      <td>T280I</td>\n",
       "      <td>-2.990</td>\n",
       "    </tr>\n",
       "    <tr>\n",
       "      <th>3</th>\n",
       "      <td>2809326.0</td>\n",
       "      <td>A</td>\n",
       "      <td>G</td>\n",
       "      <td>L2</td>\n",
       "      <td>missense_variant</td>\n",
       "      <td>Rv2495c</td>\n",
       "      <td>L205P</td>\n",
       "      <td>-3.467</td>\n",
       "    </tr>\n",
       "    <tr>\n",
       "      <th>4</th>\n",
       "      <td>2809369.0</td>\n",
       "      <td>C</td>\n",
       "      <td>A</td>\n",
       "      <td>L2</td>\n",
       "      <td>missense_variant</td>\n",
       "      <td>Rv2495c</td>\n",
       "      <td>A191S</td>\n",
       "      <td>-2.767</td>\n",
       "    </tr>\n",
       "    <tr>\n",
       "      <th>5</th>\n",
       "      <td>2809426.0</td>\n",
       "      <td>C</td>\n",
       "      <td>T</td>\n",
       "      <td>L2</td>\n",
       "      <td>missense_variant</td>\n",
       "      <td>Rv2495c</td>\n",
       "      <td>G172S</td>\n",
       "      <td>-4.908</td>\n",
       "    </tr>\n",
       "    <tr>\n",
       "      <th>6</th>\n",
       "      <td>2809633.0</td>\n",
       "      <td>A</td>\n",
       "      <td>C</td>\n",
       "      <td>L2</td>\n",
       "      <td>missense_variant</td>\n",
       "      <td>Rv2495c</td>\n",
       "      <td>Y103D</td>\n",
       "      <td>-8.832</td>\n",
       "    </tr>\n",
       "    <tr>\n",
       "      <th>7</th>\n",
       "      <td>2809830.0</td>\n",
       "      <td>A</td>\n",
       "      <td>G</td>\n",
       "      <td>L2</td>\n",
       "      <td>missense_variant</td>\n",
       "      <td>Rv2495c</td>\n",
       "      <td>I37T</td>\n",
       "      <td>-3.245</td>\n",
       "    </tr>\n",
       "    <tr>\n",
       "      <th>8</th>\n",
       "      <td>2809891.0</td>\n",
       "      <td>C</td>\n",
       "      <td>T</td>\n",
       "      <td>L2</td>\n",
       "      <td>missense_variant</td>\n",
       "      <td>Rv2495c</td>\n",
       "      <td>E17K</td>\n",
       "      <td>-3.835</td>\n",
       "    </tr>\n",
       "    <tr>\n",
       "      <th>9</th>\n",
       "      <td>2809894.0</td>\n",
       "      <td>C</td>\n",
       "      <td>G</td>\n",
       "      <td>L2</td>\n",
       "      <td>missense_variant</td>\n",
       "      <td>Rv2495c</td>\n",
       "      <td>G16R</td>\n",
       "      <td>-7.553</td>\n",
       "    </tr>\n",
       "  </tbody>\n",
       "</table>\n",
       "</div>"
      ],
      "text/plain": [
       "         POS REF ALT LIN               ANN    LOCUS AA_one  PROVEAN\n",
       "0  2808954.0   G   A  L2  missense_variant  Rv2495c  P329L   -8.641\n",
       "1  2809074.0   T   C  L2  missense_variant  Rv2495c  E289G   -2.849\n",
       "2  2809101.0   G   A  L2  missense_variant  Rv2495c  T280I   -2.990\n",
       "3  2809326.0   A   G  L2  missense_variant  Rv2495c  L205P   -3.467\n",
       "4  2809369.0   C   A  L2  missense_variant  Rv2495c  A191S   -2.767\n",
       "5  2809426.0   C   T  L2  missense_variant  Rv2495c  G172S   -4.908\n",
       "6  2809633.0   A   C  L2  missense_variant  Rv2495c  Y103D   -8.832\n",
       "7  2809830.0   A   G  L2  missense_variant  Rv2495c   I37T   -3.245\n",
       "8  2809891.0   C   T  L2  missense_variant  Rv2495c   E17K   -3.835\n",
       "9  2809894.0   C   G  L2  missense_variant  Rv2495c   G16R   -7.553"
      ]
     },
     "execution_count": 44,
     "metadata": {},
     "output_type": "execute_result"
    }
   ],
   "source": [
    "getProvScore(L2_impGrwth[3], 'L2')"
   ]
  },
  {
   "cell_type": "code",
   "execution_count": 45,
   "id": "4e4dc4b7",
   "metadata": {},
   "outputs": [
    {
     "data": {
      "text/html": [
       "\n",
       "        <table>\n",
       "            <tr>\n",
       "                <td><strong>Gene identifier</strong></td><td>Rv2495c</td>\n",
       "            </tr><tr>\n",
       "                <td><strong>Name</strong></td><td></td>\n",
       "            </tr><tr>\n",
       "                <td><strong>Memory address</strong></td>\n",
       "                <td>0x01fadc908a00</td>\n",
       "            </tr><tr>\n",
       "                <td><strong>Functional</strong></td><td>True</td>\n",
       "            </tr><tr>\n",
       "                <td><strong>In 3 reaction(s)</strong></td><td>\n",
       "                    PDHbr, BKDC1, BKDC</td>\n",
       "            </tr>\n",
       "        </table>"
      ],
      "text/plain": [
       "<Gene Rv2495c at 0x1fadc908a00>"
      ]
     },
     "execution_count": 45,
     "metadata": {},
     "output_type": "execute_result"
    }
   ],
   "source": [
    "base_mod.genes.get_by_id(L2_impGrwth[3])"
   ]
  },
  {
   "cell_type": "code",
   "execution_count": 46,
   "id": "a769c858",
   "metadata": {},
   "outputs": [
    {
     "data": {
      "text/html": [
       "\n",
       "        <table>\n",
       "            <tr>\n",
       "                <td><strong>Reaction identifier</strong></td><td>PDHbr</td>\n",
       "            </tr><tr>\n",
       "                <td><strong>Name</strong></td><td>Pyruvate dehydrogenase (dihydrolipoamide) reversible</td>\n",
       "            </tr><tr>\n",
       "                <td><strong>Memory address</strong></td>\n",
       "                <td>0x01fadcc6ba90</td>\n",
       "            </tr><tr>\n",
       "                <td><strong>Stoichiometry</strong></td>\n",
       "                <td>\n",
       "                    <p style='text-align:right'>adhlam[c] + coa[c] <=> accoa[c] + dhlam[c]</p>\n",
       "                    <p style='text-align:right'>S-Acetyldihydrolipoamide [cytoplasm] + Coenzyme A [cytoplasm] <=> Acetyl-CoA [cytoplasm] + Dihydrolipoamide C8H17NOS2 [cytoplasm]</p>\n",
       "                </td>\n",
       "            </tr><tr>\n",
       "                <td><strong>GPR</strong></td><td>Rv2215 or Rv2495c</td>\n",
       "            </tr><tr>\n",
       "                <td><strong>Lower bound</strong></td><td>-1000.0</td>\n",
       "            </tr><tr>\n",
       "                <td><strong>Upper bound</strong></td><td>1000.0</td>\n",
       "            </tr>\n",
       "        </table>\n",
       "        "
      ],
      "text/plain": [
       "<Reaction PDHbr at 0x1fadcc6ba90>"
      ]
     },
     "execution_count": 46,
     "metadata": {},
     "output_type": "execute_result"
    }
   ],
   "source": [
    "list(base_mod.genes.get_by_id(L2_impGrwth[3]).reactions)[0]"
   ]
  },
  {
   "cell_type": "code",
   "execution_count": 47,
   "id": "ff880619",
   "metadata": {},
   "outputs": [
    {
     "data": {
      "text/html": [
       "\n",
       "        <table>\n",
       "            <tr>\n",
       "                <td><strong>Reaction identifier</strong></td><td>BKDC1</td>\n",
       "            </tr><tr>\n",
       "                <td><strong>Name</strong></td><td>BKDC1</td>\n",
       "            </tr><tr>\n",
       "                <td><strong>Memory address</strong></td>\n",
       "                <td>0x01fadcc9efa0</td>\n",
       "            </tr><tr>\n",
       "                <td><strong>Stoichiometry</strong></td>\n",
       "                <td>\n",
       "                    <p style='text-align:right'>2mbdhl[c] + coa[c] <=> 2mbcoa[c] + dhlam[c]</p>\n",
       "                    <p style='text-align:right'>S-(2-Methylbutanoyl)-dihydrolipoamide [cytoplasm] + Coenzyme A [cytoplasm] <=> 2-Methylbutanoyl-CoA [cytoplasm] + Dihydrolipoamide C8H17NOS2 [cytoplasm]</p>\n",
       "                </td>\n",
       "            </tr><tr>\n",
       "                <td><strong>GPR</strong></td><td>Rv2495c</td>\n",
       "            </tr><tr>\n",
       "                <td><strong>Lower bound</strong></td><td>-1000.0</td>\n",
       "            </tr><tr>\n",
       "                <td><strong>Upper bound</strong></td><td>1000.0</td>\n",
       "            </tr>\n",
       "        </table>\n",
       "        "
      ],
      "text/plain": [
       "<Reaction BKDC1 at 0x1fadcc9efa0>"
      ]
     },
     "execution_count": 47,
     "metadata": {},
     "output_type": "execute_result"
    }
   ],
   "source": [
    "list(base_mod.genes.get_by_id(L2_impGrwth[3]).reactions)[1]"
   ]
  },
  {
   "cell_type": "code",
   "execution_count": 48,
   "id": "21374a86",
   "metadata": {},
   "outputs": [
    {
     "data": {
      "text/html": [
       "\n",
       "        <table>\n",
       "            <tr>\n",
       "                <td><strong>Reaction identifier</strong></td><td>BKDC</td>\n",
       "            </tr><tr>\n",
       "                <td><strong>Name</strong></td><td>BKDC</td>\n",
       "            </tr><tr>\n",
       "                <td><strong>Memory address</strong></td>\n",
       "                <td>0x01fadcc9e790</td>\n",
       "            </tr><tr>\n",
       "                <td><strong>Stoichiometry</strong></td>\n",
       "                <td>\n",
       "                    <p style='text-align:right'>2mpdhl[c] + coa[c] + h[c] <=> dhlam[c] + ibcoa[c]</p>\n",
       "                    <p style='text-align:right'>S-(2-Methylpropanoyl)-dihydrolipoamide [cytoplasm] + Coenzyme A [cytoplasm] + H+ [cytoplasm] <=> Dihydrolipoamide C8H17NOS2 [cytoplasm] + Isobutyryl-CoA [cytoplasm]</p>\n",
       "                </td>\n",
       "            </tr><tr>\n",
       "                <td><strong>GPR</strong></td><td>Rv2495c</td>\n",
       "            </tr><tr>\n",
       "                <td><strong>Lower bound</strong></td><td>-1000.0</td>\n",
       "            </tr><tr>\n",
       "                <td><strong>Upper bound</strong></td><td>1000.0</td>\n",
       "            </tr>\n",
       "        </table>\n",
       "        "
      ],
      "text/plain": [
       "<Reaction BKDC at 0x1fadcc9e790>"
      ]
     },
     "execution_count": 48,
     "metadata": {},
     "output_type": "execute_result"
    }
   ],
   "source": [
    "list(base_mod.genes.get_by_id(L2_impGrwth[3]).reactions)[2]"
   ]
  },
  {
   "cell_type": "markdown",
   "id": "def622d6",
   "metadata": {},
   "source": [
    "**L2) Rv2495c:** Probable branched-chain keto acid dehydrogenase E2 component BkdC. Not essential"
   ]
  },
  {
   "cell_type": "code",
   "execution_count": 49,
   "id": "0164edef",
   "metadata": {},
   "outputs": [
    {
     "data": {
      "text/html": [
       "<div>\n",
       "<style scoped>\n",
       "    .dataframe tbody tr th:only-of-type {\n",
       "        vertical-align: middle;\n",
       "    }\n",
       "\n",
       "    .dataframe tbody tr th {\n",
       "        vertical-align: top;\n",
       "    }\n",
       "\n",
       "    .dataframe thead th {\n",
       "        text-align: right;\n",
       "    }\n",
       "</style>\n",
       "<table border=\"1\" class=\"dataframe\">\n",
       "  <thead>\n",
       "    <tr style=\"text-align: right;\">\n",
       "      <th></th>\n",
       "      <th>POS</th>\n",
       "      <th>REF</th>\n",
       "      <th>ALT</th>\n",
       "      <th>LIN</th>\n",
       "      <th>ANN</th>\n",
       "      <th>LOCUS</th>\n",
       "      <th>AA_one</th>\n",
       "      <th>PROVEAN</th>\n",
       "    </tr>\n",
       "  </thead>\n",
       "  <tbody>\n",
       "    <tr>\n",
       "      <th>0</th>\n",
       "      <td>4256183.0</td>\n",
       "      <td>A</td>\n",
       "      <td>G</td>\n",
       "      <td>L2</td>\n",
       "      <td>missense_variant</td>\n",
       "      <td>Rv3800c</td>\n",
       "      <td>V1655A</td>\n",
       "      <td>-3.650</td>\n",
       "    </tr>\n",
       "    <tr>\n",
       "      <th>1</th>\n",
       "      <td>4256210.0</td>\n",
       "      <td>G</td>\n",
       "      <td>T</td>\n",
       "      <td>L2</td>\n",
       "      <td>missense_variant</td>\n",
       "      <td>Rv3800c</td>\n",
       "      <td>A1646D</td>\n",
       "      <td>-2.691</td>\n",
       "    </tr>\n",
       "    <tr>\n",
       "      <th>2</th>\n",
       "      <td>4256603.0</td>\n",
       "      <td>A</td>\n",
       "      <td>G</td>\n",
       "      <td>L2</td>\n",
       "      <td>missense_variant</td>\n",
       "      <td>Rv3800c</td>\n",
       "      <td>V1515A</td>\n",
       "      <td>-3.000</td>\n",
       "    </tr>\n",
       "    <tr>\n",
       "      <th>3</th>\n",
       "      <td>4256669.0</td>\n",
       "      <td>G</td>\n",
       "      <td>A</td>\n",
       "      <td>L2</td>\n",
       "      <td>missense_variant</td>\n",
       "      <td>Rv3800c</td>\n",
       "      <td>A1493V</td>\n",
       "      <td>-2.560</td>\n",
       "    </tr>\n",
       "    <tr>\n",
       "      <th>4</th>\n",
       "      <td>4256760.0</td>\n",
       "      <td>G</td>\n",
       "      <td>A</td>\n",
       "      <td>L2</td>\n",
       "      <td>missense_variant</td>\n",
       "      <td>Rv3800c</td>\n",
       "      <td>P1463S</td>\n",
       "      <td>-2.879</td>\n",
       "    </tr>\n",
       "    <tr>\n",
       "      <th>5</th>\n",
       "      <td>4256825.0</td>\n",
       "      <td>T</td>\n",
       "      <td>C</td>\n",
       "      <td>L2</td>\n",
       "      <td>missense_variant</td>\n",
       "      <td>Rv3800c</td>\n",
       "      <td>D1441G</td>\n",
       "      <td>-3.581</td>\n",
       "    </tr>\n",
       "    <tr>\n",
       "      <th>6</th>\n",
       "      <td>4256862.0</td>\n",
       "      <td>C</td>\n",
       "      <td>G</td>\n",
       "      <td>L2</td>\n",
       "      <td>missense_variant</td>\n",
       "      <td>Rv3800c</td>\n",
       "      <td>D1429H</td>\n",
       "      <td>-3.620</td>\n",
       "    </tr>\n",
       "    <tr>\n",
       "      <th>7</th>\n",
       "      <td>4256985.0</td>\n",
       "      <td>C</td>\n",
       "      <td>T</td>\n",
       "      <td>L2</td>\n",
       "      <td>missense_variant</td>\n",
       "      <td>Rv3800c</td>\n",
       "      <td>A1388T</td>\n",
       "      <td>-3.650</td>\n",
       "    </tr>\n",
       "    <tr>\n",
       "      <th>8</th>\n",
       "      <td>4256987.0</td>\n",
       "      <td>C</td>\n",
       "      <td>A</td>\n",
       "      <td>L2</td>\n",
       "      <td>missense_variant</td>\n",
       "      <td>Rv3800c</td>\n",
       "      <td>W1387L</td>\n",
       "      <td>-11.729</td>\n",
       "    </tr>\n",
       "    <tr>\n",
       "      <th>9</th>\n",
       "      <td>4257269.0</td>\n",
       "      <td>G</td>\n",
       "      <td>A</td>\n",
       "      <td>L2</td>\n",
       "      <td>missense_variant</td>\n",
       "      <td>Rv3800c</td>\n",
       "      <td>A1293V</td>\n",
       "      <td>-3.783</td>\n",
       "    </tr>\n",
       "    <tr>\n",
       "      <th>10</th>\n",
       "      <td>4257409.0</td>\n",
       "      <td>C</td>\n",
       "      <td>T</td>\n",
       "      <td>L2</td>\n",
       "      <td>missense_variant</td>\n",
       "      <td>Rv3800c</td>\n",
       "      <td>M1246I</td>\n",
       "      <td>-3.917</td>\n",
       "    </tr>\n",
       "    <tr>\n",
       "      <th>11</th>\n",
       "      <td>4257707.0</td>\n",
       "      <td>C</td>\n",
       "      <td>T</td>\n",
       "      <td>L2</td>\n",
       "      <td>missense_variant</td>\n",
       "      <td>Rv3800c</td>\n",
       "      <td>G1147D</td>\n",
       "      <td>-6.654</td>\n",
       "    </tr>\n",
       "    <tr>\n",
       "      <th>12</th>\n",
       "      <td>4257792.0</td>\n",
       "      <td>G</td>\n",
       "      <td>A</td>\n",
       "      <td>L2</td>\n",
       "      <td>missense_variant</td>\n",
       "      <td>Rv3800c</td>\n",
       "      <td>P1119S</td>\n",
       "      <td>-3.607</td>\n",
       "    </tr>\n",
       "    <tr>\n",
       "      <th>13</th>\n",
       "      <td>4258106.0</td>\n",
       "      <td>G</td>\n",
       "      <td>A</td>\n",
       "      <td>L2</td>\n",
       "      <td>missense_variant</td>\n",
       "      <td>Rv3800c</td>\n",
       "      <td>T1014M</td>\n",
       "      <td>-3.724</td>\n",
       "    </tr>\n",
       "    <tr>\n",
       "      <th>14</th>\n",
       "      <td>4258127.0</td>\n",
       "      <td>T</td>\n",
       "      <td>C</td>\n",
       "      <td>L2</td>\n",
       "      <td>missense_variant</td>\n",
       "      <td>Rv3800c</td>\n",
       "      <td>H1007R</td>\n",
       "      <td>-3.159</td>\n",
       "    </tr>\n",
       "    <tr>\n",
       "      <th>15</th>\n",
       "      <td>4258466.0</td>\n",
       "      <td>G</td>\n",
       "      <td>A</td>\n",
       "      <td>L2</td>\n",
       "      <td>missense_variant</td>\n",
       "      <td>Rv3800c</td>\n",
       "      <td>A894V</td>\n",
       "      <td>-3.047</td>\n",
       "    </tr>\n",
       "    <tr>\n",
       "      <th>16</th>\n",
       "      <td>4258538.0</td>\n",
       "      <td>T</td>\n",
       "      <td>C</td>\n",
       "      <td>L2</td>\n",
       "      <td>missense_variant</td>\n",
       "      <td>Rv3800c</td>\n",
       "      <td>Y870C</td>\n",
       "      <td>-8.790</td>\n",
       "    </tr>\n",
       "    <tr>\n",
       "      <th>17</th>\n",
       "      <td>4258877.0</td>\n",
       "      <td>A</td>\n",
       "      <td>G</td>\n",
       "      <td>L2</td>\n",
       "      <td>missense_variant</td>\n",
       "      <td>Rv3800c</td>\n",
       "      <td>L757P</td>\n",
       "      <td>-3.648</td>\n",
       "    </tr>\n",
       "    <tr>\n",
       "      <th>18</th>\n",
       "      <td>4258955.0</td>\n",
       "      <td>T</td>\n",
       "      <td>G</td>\n",
       "      <td>L2</td>\n",
       "      <td>missense_variant</td>\n",
       "      <td>Rv3800c</td>\n",
       "      <td>Y731S</td>\n",
       "      <td>-5.681</td>\n",
       "    </tr>\n",
       "    <tr>\n",
       "      <th>19</th>\n",
       "      <td>4259046.0</td>\n",
       "      <td>C</td>\n",
       "      <td>T</td>\n",
       "      <td>L2</td>\n",
       "      <td>missense_variant</td>\n",
       "      <td>Rv3800c</td>\n",
       "      <td>V701M</td>\n",
       "      <td>-2.637</td>\n",
       "    </tr>\n",
       "    <tr>\n",
       "      <th>20</th>\n",
       "      <td>4259135.0</td>\n",
       "      <td>C</td>\n",
       "      <td>G</td>\n",
       "      <td>L2</td>\n",
       "      <td>missense_variant</td>\n",
       "      <td>Rv3800c</td>\n",
       "      <td>G671A</td>\n",
       "      <td>-4.671</td>\n",
       "    </tr>\n",
       "    <tr>\n",
       "      <th>21</th>\n",
       "      <td>4259645.0</td>\n",
       "      <td>T</td>\n",
       "      <td>C</td>\n",
       "      <td>L2</td>\n",
       "      <td>missense_variant</td>\n",
       "      <td>Rv3800c</td>\n",
       "      <td>D501G</td>\n",
       "      <td>-5.410</td>\n",
       "    </tr>\n",
       "    <tr>\n",
       "      <th>22</th>\n",
       "      <td>4260395.0</td>\n",
       "      <td>G</td>\n",
       "      <td>A</td>\n",
       "      <td>L2</td>\n",
       "      <td>missense_variant</td>\n",
       "      <td>Rv3800c</td>\n",
       "      <td>T251M</td>\n",
       "      <td>-2.732</td>\n",
       "    </tr>\n",
       "    <tr>\n",
       "      <th>23</th>\n",
       "      <td>4260767.0</td>\n",
       "      <td>C</td>\n",
       "      <td>T</td>\n",
       "      <td>L2</td>\n",
       "      <td>missense_variant</td>\n",
       "      <td>Rv3800c</td>\n",
       "      <td>R127H</td>\n",
       "      <td>-4.619</td>\n",
       "    </tr>\n",
       "    <tr>\n",
       "      <th>24</th>\n",
       "      <td>4260915.0</td>\n",
       "      <td>C</td>\n",
       "      <td>T</td>\n",
       "      <td>L2</td>\n",
       "      <td>missense_variant</td>\n",
       "      <td>Rv3800c</td>\n",
       "      <td>A78T</td>\n",
       "      <td>-3.362</td>\n",
       "    </tr>\n",
       "    <tr>\n",
       "      <th>25</th>\n",
       "      <td>4260949.0</td>\n",
       "      <td>T</td>\n",
       "      <td>G</td>\n",
       "      <td>L2</td>\n",
       "      <td>missense_variant</td>\n",
       "      <td>Rv3800c</td>\n",
       "      <td>E66D</td>\n",
       "      <td>-2.838</td>\n",
       "    </tr>\n",
       "    <tr>\n",
       "      <th>26</th>\n",
       "      <td>4261025.0</td>\n",
       "      <td>G</td>\n",
       "      <td>A</td>\n",
       "      <td>L2</td>\n",
       "      <td>missense_variant</td>\n",
       "      <td>Rv3800c</td>\n",
       "      <td>S41L</td>\n",
       "      <td>-2.759</td>\n",
       "    </tr>\n",
       "    <tr>\n",
       "      <th>27</th>\n",
       "      <td>4261082.0</td>\n",
       "      <td>T</td>\n",
       "      <td>C</td>\n",
       "      <td>L2</td>\n",
       "      <td>missense_variant</td>\n",
       "      <td>Rv3800c</td>\n",
       "      <td>E22G</td>\n",
       "      <td>-4.400</td>\n",
       "    </tr>\n",
       "  </tbody>\n",
       "</table>\n",
       "</div>"
      ],
      "text/plain": [
       "          POS REF ALT LIN               ANN    LOCUS  AA_one  PROVEAN\n",
       "0   4256183.0   A   G  L2  missense_variant  Rv3800c  V1655A   -3.650\n",
       "1   4256210.0   G   T  L2  missense_variant  Rv3800c  A1646D   -2.691\n",
       "2   4256603.0   A   G  L2  missense_variant  Rv3800c  V1515A   -3.000\n",
       "3   4256669.0   G   A  L2  missense_variant  Rv3800c  A1493V   -2.560\n",
       "4   4256760.0   G   A  L2  missense_variant  Rv3800c  P1463S   -2.879\n",
       "5   4256825.0   T   C  L2  missense_variant  Rv3800c  D1441G   -3.581\n",
       "6   4256862.0   C   G  L2  missense_variant  Rv3800c  D1429H   -3.620\n",
       "7   4256985.0   C   T  L2  missense_variant  Rv3800c  A1388T   -3.650\n",
       "8   4256987.0   C   A  L2  missense_variant  Rv3800c  W1387L  -11.729\n",
       "9   4257269.0   G   A  L2  missense_variant  Rv3800c  A1293V   -3.783\n",
       "10  4257409.0   C   T  L2  missense_variant  Rv3800c  M1246I   -3.917\n",
       "11  4257707.0   C   T  L2  missense_variant  Rv3800c  G1147D   -6.654\n",
       "12  4257792.0   G   A  L2  missense_variant  Rv3800c  P1119S   -3.607\n",
       "13  4258106.0   G   A  L2  missense_variant  Rv3800c  T1014M   -3.724\n",
       "14  4258127.0   T   C  L2  missense_variant  Rv3800c  H1007R   -3.159\n",
       "15  4258466.0   G   A  L2  missense_variant  Rv3800c   A894V   -3.047\n",
       "16  4258538.0   T   C  L2  missense_variant  Rv3800c   Y870C   -8.790\n",
       "17  4258877.0   A   G  L2  missense_variant  Rv3800c   L757P   -3.648\n",
       "18  4258955.0   T   G  L2  missense_variant  Rv3800c   Y731S   -5.681\n",
       "19  4259046.0   C   T  L2  missense_variant  Rv3800c   V701M   -2.637\n",
       "20  4259135.0   C   G  L2  missense_variant  Rv3800c   G671A   -4.671\n",
       "21  4259645.0   T   C  L2  missense_variant  Rv3800c   D501G   -5.410\n",
       "22  4260395.0   G   A  L2  missense_variant  Rv3800c   T251M   -2.732\n",
       "23  4260767.0   C   T  L2  missense_variant  Rv3800c   R127H   -4.619\n",
       "24  4260915.0   C   T  L2  missense_variant  Rv3800c    A78T   -3.362\n",
       "25  4260949.0   T   G  L2  missense_variant  Rv3800c    E66D   -2.838\n",
       "26  4261025.0   G   A  L2  missense_variant  Rv3800c    S41L   -2.759\n",
       "27  4261082.0   T   C  L2  missense_variant  Rv3800c    E22G   -4.400"
      ]
     },
     "execution_count": 49,
     "metadata": {},
     "output_type": "execute_result"
    }
   ],
   "source": [
    "getProvScore(L2_impGrwth[4], 'L2')"
   ]
  },
  {
   "cell_type": "code",
   "execution_count": 50,
   "id": "8a9f9d4f",
   "metadata": {},
   "outputs": [
    {
     "data": {
      "text/html": [
       "\n",
       "        <table>\n",
       "            <tr>\n",
       "                <td><strong>Gene identifier</strong></td><td>Rv3800c</td>\n",
       "            </tr><tr>\n",
       "                <td><strong>Name</strong></td><td></td>\n",
       "            </tr><tr>\n",
       "                <td><strong>Memory address</strong></td>\n",
       "                <td>0x01fadbb46ca0</td>\n",
       "            </tr><tr>\n",
       "                <td><strong>Functional</strong></td><td>True</td>\n",
       "            </tr><tr>\n",
       "                <td><strong>In 5 reaction(s)</strong></td><td>\n",
       "                    MYCON1, MYCON5, MYCON4, MYCON3, MYCON2</td>\n",
       "            </tr>\n",
       "        </table>"
      ],
      "text/plain": [
       "<Gene Rv3800c at 0x1fadbb46ca0>"
      ]
     },
     "execution_count": 50,
     "metadata": {},
     "output_type": "execute_result"
    }
   ],
   "source": [
    "base_mod.genes.get_by_id(L2_impGrwth[4])"
   ]
  },
  {
   "cell_type": "code",
   "execution_count": 51,
   "id": "9c6947c1",
   "metadata": {},
   "outputs": [
    {
     "data": {
      "text/html": [
       "\n",
       "        <table>\n",
       "            <tr>\n",
       "                <td><strong>Reaction identifier</strong></td><td>MYCON1</td>\n",
       "            </tr><tr>\n",
       "                <td><strong>Name</strong></td><td>Mycolic Acid Condensation</td>\n",
       "            </tr><tr>\n",
       "                <td><strong>Memory address</strong></td>\n",
       "                <td>0x01fadcd1aa00</td>\n",
       "            </tr><tr>\n",
       "                <td><strong>Stoichiometry</strong></td>\n",
       "                <td>\n",
       "                    <p style='text-align:right'>chexccoa[c] + 2.0 h2o[c] + meroacidcyc2AMP[c] --> amp[c] + co2[c] + coa[c] + 2.0 h[c] + mycolate[c]</p>\n",
       "                    <p style='text-align:right'>Carboxy hexacosanoyl-CoA [cytoplasm] + 2.0 H2O H2O [cytoplasm] + Cyclopropanated alpha meroacid AMP (2 cyclopropane rings) [cytoplasm] --> AMP C10H12N5O7P [cytoplasm] + CO2 CO2 [cytoplasm] +...</p>\n",
       "                </td>\n",
       "            </tr><tr>\n",
       "                <td><strong>GPR</strong></td><td>Rv3800c</td>\n",
       "            </tr><tr>\n",
       "                <td><strong>Lower bound</strong></td><td>0.0</td>\n",
       "            </tr><tr>\n",
       "                <td><strong>Upper bound</strong></td><td>1000.0</td>\n",
       "            </tr>\n",
       "        </table>\n",
       "        "
      ],
      "text/plain": [
       "<Reaction MYCON1 at 0x1fadcd1aa00>"
      ]
     },
     "execution_count": 51,
     "metadata": {},
     "output_type": "execute_result"
    }
   ],
   "source": [
    "list(base_mod.genes.get_by_id(L2_impGrwth[4]).reactions)[0]"
   ]
  },
  {
   "cell_type": "code",
   "execution_count": 52,
   "id": "7c1cfa10",
   "metadata": {},
   "outputs": [
    {
     "data": {
      "text/html": [
       "\n",
       "        <table>\n",
       "            <tr>\n",
       "                <td><strong>Reaction identifier</strong></td><td>MYCON5</td>\n",
       "            </tr><tr>\n",
       "                <td><strong>Name</strong></td><td>Mycolic Acid Condensation</td>\n",
       "            </tr><tr>\n",
       "                <td><strong>Memory address</strong></td>\n",
       "                <td>0x01fadcd1af40</td>\n",
       "            </tr><tr>\n",
       "                <td><strong>Stoichiometry</strong></td>\n",
       "                <td>\n",
       "                    <p style='text-align:right'>chexccoa[c] + 2.0 h2o[c] + mkmeroacidcyc1AMP[c] --> amp[c] + co2[c] + coa[c] + 2.0 h[c] + mkmycolate[c]</p>\n",
       "                    <p style='text-align:right'>Carboxy hexacosanoyl-CoA [cytoplasm] + 2.0 H2O H2O [cytoplasm] + Cyclopropanated methyl hydroxy keto meroacid AMP (1 cyclopropane ring) [cytoplasm] --> AMP C10H12N5O7P [cytoplasm] + CO2 CO2...</p>\n",
       "                </td>\n",
       "            </tr><tr>\n",
       "                <td><strong>GPR</strong></td><td>Rv3800c</td>\n",
       "            </tr><tr>\n",
       "                <td><strong>Lower bound</strong></td><td>0.0</td>\n",
       "            </tr><tr>\n",
       "                <td><strong>Upper bound</strong></td><td>1000.0</td>\n",
       "            </tr>\n",
       "        </table>\n",
       "        "
      ],
      "text/plain": [
       "<Reaction MYCON5 at 0x1fadcd1af40>"
      ]
     },
     "execution_count": 52,
     "metadata": {},
     "output_type": "execute_result"
    }
   ],
   "source": [
    "list(base_mod.genes.get_by_id(L2_impGrwth[4]).reactions)[1]"
   ]
  },
  {
   "cell_type": "code",
   "execution_count": 53,
   "id": "a035e7d4",
   "metadata": {},
   "outputs": [
    {
     "data": {
      "text/html": [
       "\n",
       "        <table>\n",
       "            <tr>\n",
       "                <td><strong>Reaction identifier</strong></td><td>MYCON4</td>\n",
       "            </tr><tr>\n",
       "                <td><strong>Name</strong></td><td>MYCON4</td>\n",
       "            </tr><tr>\n",
       "                <td><strong>Memory address</strong></td>\n",
       "                <td>0x01fadcd1afa0</td>\n",
       "            </tr><tr>\n",
       "                <td><strong>Stoichiometry</strong></td>\n",
       "                <td>\n",
       "                    <p style='text-align:right'>chexccoa[c] + 2.0 h2o[c] + mmmeroacidcyc1AMP[c] --> amp[c] + co2[c] + coa[c] + 2.0 h[c] + mmmycolate[c]</p>\n",
       "                    <p style='text-align:right'>Carboxy hexacosanoyl-CoA [cytoplasm] + 2.0 H2O H2O [cytoplasm] + Cyclopropanated methyl hydroxy methoxy meroacid AMP (1 cyclopropane ring) [cytoplasm] --> AMP C10H12N5O7P [cytoplasm] + CO2 CO2...</p>\n",
       "                </td>\n",
       "            </tr><tr>\n",
       "                <td><strong>GPR</strong></td><td>Rv3800c</td>\n",
       "            </tr><tr>\n",
       "                <td><strong>Lower bound</strong></td><td>0.0</td>\n",
       "            </tr><tr>\n",
       "                <td><strong>Upper bound</strong></td><td>1000.0</td>\n",
       "            </tr>\n",
       "        </table>\n",
       "        "
      ],
      "text/plain": [
       "<Reaction MYCON4 at 0x1fadcd1afa0>"
      ]
     },
     "execution_count": 53,
     "metadata": {},
     "output_type": "execute_result"
    }
   ],
   "source": [
    "list(base_mod.genes.get_by_id(L2_impGrwth[4]).reactions)[2]"
   ]
  },
  {
   "cell_type": "code",
   "execution_count": 54,
   "id": "1ba47c51",
   "metadata": {},
   "outputs": [
    {
     "data": {
      "text/html": [
       "\n",
       "        <table>\n",
       "            <tr>\n",
       "                <td><strong>Reaction identifier</strong></td><td>MYCON3</td>\n",
       "            </tr><tr>\n",
       "                <td><strong>Name</strong></td><td>MYCON3</td>\n",
       "            </tr><tr>\n",
       "                <td><strong>Memory address</strong></td>\n",
       "                <td>0x01fadcd1adc0</td>\n",
       "            </tr><tr>\n",
       "                <td><strong>Stoichiometry</strong></td>\n",
       "                <td>\n",
       "                    <p style='text-align:right'>chexccoa[c] + 2.0 h2o[c] + kmeroacidcyc2AMP[c] --> amp[c] + co2[c] + coa[c] + 2.0 h[c] + kmycolate[c]</p>\n",
       "                    <p style='text-align:right'>Carboxy hexacosanoyl-CoA [cytoplasm] + 2.0 H2O H2O [cytoplasm] + Cyclopropanated keto-meroacid AMP (2 cyclopropane rings) [cytoplasm] --> AMP C10H12N5O7P [cytoplasm] + CO2 CO2 [cytoplasm] +...</p>\n",
       "                </td>\n",
       "            </tr><tr>\n",
       "                <td><strong>GPR</strong></td><td>Rv3800c</td>\n",
       "            </tr><tr>\n",
       "                <td><strong>Lower bound</strong></td><td>0.0</td>\n",
       "            </tr><tr>\n",
       "                <td><strong>Upper bound</strong></td><td>1000.0</td>\n",
       "            </tr>\n",
       "        </table>\n",
       "        "
      ],
      "text/plain": [
       "<Reaction MYCON3 at 0x1fadcd1adc0>"
      ]
     },
     "execution_count": 54,
     "metadata": {},
     "output_type": "execute_result"
    }
   ],
   "source": [
    "list(base_mod.genes.get_by_id(L2_impGrwth[4]).reactions)[3]"
   ]
  },
  {
   "cell_type": "code",
   "execution_count": 55,
   "id": "87bec1f7",
   "metadata": {},
   "outputs": [
    {
     "data": {
      "text/html": [
       "\n",
       "        <table>\n",
       "            <tr>\n",
       "                <td><strong>Reaction identifier</strong></td><td>MYCON2</td>\n",
       "            </tr><tr>\n",
       "                <td><strong>Name</strong></td><td>MYCON2</td>\n",
       "            </tr><tr>\n",
       "                <td><strong>Memory address</strong></td>\n",
       "                <td>0x01fadcd1abe0</td>\n",
       "            </tr><tr>\n",
       "                <td><strong>Stoichiometry</strong></td>\n",
       "                <td>\n",
       "                    <p style='text-align:right'>chexccoa[c] + 2.0 h2o[c] + mmeroacidcyc2AMP[c] --> amp[c] + co2[c] + coa[c] + 2.0 h[c] + mmycolate[c]</p>\n",
       "                    <p style='text-align:right'>Carboxy hexacosanoyl-CoA [cytoplasm] + 2.0 H2O H2O [cytoplasm] + Cyclopropanated methoxy-meroacid AMP (2 cyclopropane rings) [cytoplasm] --> AMP C10H12N5O7P [cytoplasm] + CO2 CO2 [cytoplasm] +...</p>\n",
       "                </td>\n",
       "            </tr><tr>\n",
       "                <td><strong>GPR</strong></td><td>Rv3800c</td>\n",
       "            </tr><tr>\n",
       "                <td><strong>Lower bound</strong></td><td>0.0</td>\n",
       "            </tr><tr>\n",
       "                <td><strong>Upper bound</strong></td><td>1000.0</td>\n",
       "            </tr>\n",
       "        </table>\n",
       "        "
      ],
      "text/plain": [
       "<Reaction MYCON2 at 0x1fadcd1abe0>"
      ]
     },
     "execution_count": 55,
     "metadata": {},
     "output_type": "execute_result"
    }
   ],
   "source": [
    "list(base_mod.genes.get_by_id(L2_impGrwth[4]).reactions)[4]"
   ]
  },
  {
   "cell_type": "markdown",
   "id": "a83c68e2",
   "metadata": {},
   "source": [
    "**L2) Rv3800c:** Involved in the final steps of mycolic acid biosynthesis. Catalyses the condensation of two fatty acyl chains. Essential"
   ]
  },
  {
   "cell_type": "code",
   "execution_count": 56,
   "id": "ad4689c8",
   "metadata": {},
   "outputs": [
    {
     "data": {
      "text/html": [
       "<div>\n",
       "<style scoped>\n",
       "    .dataframe tbody tr th:only-of-type {\n",
       "        vertical-align: middle;\n",
       "    }\n",
       "\n",
       "    .dataframe tbody tr th {\n",
       "        vertical-align: top;\n",
       "    }\n",
       "\n",
       "    .dataframe thead th {\n",
       "        text-align: right;\n",
       "    }\n",
       "</style>\n",
       "<table border=\"1\" class=\"dataframe\">\n",
       "  <thead>\n",
       "    <tr style=\"text-align: right;\">\n",
       "      <th></th>\n",
       "      <th>POS</th>\n",
       "      <th>REF</th>\n",
       "      <th>ALT</th>\n",
       "      <th>LIN</th>\n",
       "      <th>ANN</th>\n",
       "      <th>LOCUS</th>\n",
       "      <th>AA_one</th>\n",
       "      <th>PROVEAN</th>\n",
       "    </tr>\n",
       "  </thead>\n",
       "  <tbody>\n",
       "    <tr>\n",
       "      <th>0</th>\n",
       "      <td>903537.0</td>\n",
       "      <td>G</td>\n",
       "      <td>T</td>\n",
       "      <td>L2</td>\n",
       "      <td>missense_variant</td>\n",
       "      <td>Rv0808</td>\n",
       "      <td>R476L</td>\n",
       "      <td>-4.043</td>\n",
       "    </tr>\n",
       "    <tr>\n",
       "      <th>1</th>\n",
       "      <td>902325.0</td>\n",
       "      <td>A</td>\n",
       "      <td>C</td>\n",
       "      <td>L2</td>\n",
       "      <td>missense_variant</td>\n",
       "      <td>Rv0808</td>\n",
       "      <td>D72A</td>\n",
       "      <td>-5.909</td>\n",
       "    </tr>\n",
       "    <tr>\n",
       "      <th>2</th>\n",
       "      <td>902366.0</td>\n",
       "      <td>A</td>\n",
       "      <td>G</td>\n",
       "      <td>L2</td>\n",
       "      <td>missense_variant</td>\n",
       "      <td>Rv0808</td>\n",
       "      <td>S86G</td>\n",
       "      <td>-3.700</td>\n",
       "    </tr>\n",
       "    <tr>\n",
       "      <th>3</th>\n",
       "      <td>902636.0</td>\n",
       "      <td>G</td>\n",
       "      <td>A</td>\n",
       "      <td>L2</td>\n",
       "      <td>missense_variant</td>\n",
       "      <td>Rv0808</td>\n",
       "      <td>A176T</td>\n",
       "      <td>-3.219</td>\n",
       "    </tr>\n",
       "    <tr>\n",
       "      <th>4</th>\n",
       "      <td>902676.0</td>\n",
       "      <td>T</td>\n",
       "      <td>G</td>\n",
       "      <td>L2</td>\n",
       "      <td>missense_variant</td>\n",
       "      <td>Rv0808</td>\n",
       "      <td>L189R</td>\n",
       "      <td>-2.821</td>\n",
       "    </tr>\n",
       "    <tr>\n",
       "      <th>5</th>\n",
       "      <td>902703.0</td>\n",
       "      <td>C</td>\n",
       "      <td>G</td>\n",
       "      <td>L2</td>\n",
       "      <td>missense_variant</td>\n",
       "      <td>Rv0808</td>\n",
       "      <td>A198G</td>\n",
       "      <td>-3.713</td>\n",
       "    </tr>\n",
       "    <tr>\n",
       "      <th>6</th>\n",
       "      <td>902762.0</td>\n",
       "      <td>G</td>\n",
       "      <td>A</td>\n",
       "      <td>L2</td>\n",
       "      <td>missense_variant</td>\n",
       "      <td>Rv0808</td>\n",
       "      <td>V218M</td>\n",
       "      <td>-2.678</td>\n",
       "    </tr>\n",
       "    <tr>\n",
       "      <th>7</th>\n",
       "      <td>902997.0</td>\n",
       "      <td>A</td>\n",
       "      <td>T</td>\n",
       "      <td>L2</td>\n",
       "      <td>missense_variant</td>\n",
       "      <td>Rv0808</td>\n",
       "      <td>H296L</td>\n",
       "      <td>-6.861</td>\n",
       "    </tr>\n",
       "    <tr>\n",
       "      <th>8</th>\n",
       "      <td>903394.0</td>\n",
       "      <td>C</td>\n",
       "      <td>G</td>\n",
       "      <td>L2</td>\n",
       "      <td>missense_variant</td>\n",
       "      <td>Rv0808</td>\n",
       "      <td>F428L</td>\n",
       "      <td>-5.990</td>\n",
       "    </tr>\n",
       "    <tr>\n",
       "      <th>9</th>\n",
       "      <td>903519.0</td>\n",
       "      <td>C</td>\n",
       "      <td>G</td>\n",
       "      <td>L2</td>\n",
       "      <td>missense_variant</td>\n",
       "      <td>Rv0808</td>\n",
       "      <td>S470C</td>\n",
       "      <td>-2.651</td>\n",
       "    </tr>\n",
       "  </tbody>\n",
       "</table>\n",
       "</div>"
      ],
      "text/plain": [
       "        POS REF ALT LIN               ANN   LOCUS AA_one  PROVEAN\n",
       "0  903537.0   G   T  L2  missense_variant  Rv0808  R476L   -4.043\n",
       "1  902325.0   A   C  L2  missense_variant  Rv0808   D72A   -5.909\n",
       "2  902366.0   A   G  L2  missense_variant  Rv0808   S86G   -3.700\n",
       "3  902636.0   G   A  L2  missense_variant  Rv0808  A176T   -3.219\n",
       "4  902676.0   T   G  L2  missense_variant  Rv0808  L189R   -2.821\n",
       "5  902703.0   C   G  L2  missense_variant  Rv0808  A198G   -3.713\n",
       "6  902762.0   G   A  L2  missense_variant  Rv0808  V218M   -2.678\n",
       "7  902997.0   A   T  L2  missense_variant  Rv0808  H296L   -6.861\n",
       "8  903394.0   C   G  L2  missense_variant  Rv0808  F428L   -5.990\n",
       "9  903519.0   C   G  L2  missense_variant  Rv0808  S470C   -2.651"
      ]
     },
     "execution_count": 56,
     "metadata": {},
     "output_type": "execute_result"
    }
   ],
   "source": [
    "getProvScore(L2_impGrwth[5], 'L2')"
   ]
  },
  {
   "cell_type": "code",
   "execution_count": 57,
   "id": "9e5eabbb",
   "metadata": {},
   "outputs": [
    {
     "data": {
      "text/html": [
       "\n",
       "        <table>\n",
       "            <tr>\n",
       "                <td><strong>Gene identifier</strong></td><td>Rv0808</td>\n",
       "            </tr><tr>\n",
       "                <td><strong>Name</strong></td><td></td>\n",
       "            </tr><tr>\n",
       "                <td><strong>Memory address</strong></td>\n",
       "                <td>0x01fadc915a30</td>\n",
       "            </tr><tr>\n",
       "                <td><strong>Functional</strong></td><td>True</td>\n",
       "            </tr><tr>\n",
       "                <td><strong>In 1 reaction(s)</strong></td><td>\n",
       "                    GLUPRT</td>\n",
       "            </tr>\n",
       "        </table>"
      ],
      "text/plain": [
       "<Gene Rv0808 at 0x1fadc915a30>"
      ]
     },
     "execution_count": 57,
     "metadata": {},
     "output_type": "execute_result"
    }
   ],
   "source": [
    "base_mod.genes.get_by_id(L2_impGrwth[5])"
   ]
  },
  {
   "cell_type": "code",
   "execution_count": 58,
   "id": "76fdd38c",
   "metadata": {},
   "outputs": [
    {
     "data": {
      "text/html": [
       "\n",
       "        <table>\n",
       "            <tr>\n",
       "                <td><strong>Reaction identifier</strong></td><td>GLUPRT</td>\n",
       "            </tr><tr>\n",
       "                <td><strong>Name</strong></td><td>Glutamine phosphoribosyldiphosphate amidotransferase</td>\n",
       "            </tr><tr>\n",
       "                <td><strong>Memory address</strong></td>\n",
       "                <td>0x01fadcdf0b80</td>\n",
       "            </tr><tr>\n",
       "                <td><strong>Stoichiometry</strong></td>\n",
       "                <td>\n",
       "                    <p style='text-align:right'>gln__L[c] + h2o[c] + prpp[c] --> glu__L[c] + ppi[c] + pram[c]</p>\n",
       "                    <p style='text-align:right'>L-Glutamine [cytoplasm] + H2O H2O [cytoplasm] + 5-Phospho-alpha-D-ribose 1-diphosphate [cytoplasm] --> L-Glutamate [cytoplasm] + Diphosphate [cytoplasm] + 5-Phospho-beta-D-ribosylamine [cytoplasm]</p>\n",
       "                </td>\n",
       "            </tr><tr>\n",
       "                <td><strong>GPR</strong></td><td>Rv0808</td>\n",
       "            </tr><tr>\n",
       "                <td><strong>Lower bound</strong></td><td>0.0</td>\n",
       "            </tr><tr>\n",
       "                <td><strong>Upper bound</strong></td><td>1000.0</td>\n",
       "            </tr>\n",
       "        </table>\n",
       "        "
      ],
      "text/plain": [
       "<Reaction GLUPRT at 0x1fadcdf0b80>"
      ]
     },
     "execution_count": 58,
     "metadata": {},
     "output_type": "execute_result"
    }
   ],
   "source": [
    "list(base_mod.genes.get_by_id(L2_impGrwth[5]).reactions)[0]"
   ]
  },
  {
   "cell_type": "markdown",
   "id": "a3e33aff",
   "metadata": {},
   "source": [
    "**L2) Rv0808:** Involved in de novo purine biosynthesis (at the first step) [catalytic activity: 5-phospho-beta-D-ribosylamine + diphosphate + L-glutamate = L-glutamine + 5-phospho-alpha-D-ribose 1-diphosphate + H2O]. Only essential in Griffin set. "
   ]
  },
  {
   "cell_type": "code",
   "execution_count": 59,
   "id": "372028dd",
   "metadata": {},
   "outputs": [
    {
     "data": {
      "text/html": [
       "<div>\n",
       "<style scoped>\n",
       "    .dataframe tbody tr th:only-of-type {\n",
       "        vertical-align: middle;\n",
       "    }\n",
       "\n",
       "    .dataframe tbody tr th {\n",
       "        vertical-align: top;\n",
       "    }\n",
       "\n",
       "    .dataframe thead th {\n",
       "        text-align: right;\n",
       "    }\n",
       "</style>\n",
       "<table border=\"1\" class=\"dataframe\">\n",
       "  <thead>\n",
       "    <tr style=\"text-align: right;\">\n",
       "      <th></th>\n",
       "      <th>POS</th>\n",
       "      <th>REF</th>\n",
       "      <th>ALT</th>\n",
       "      <th>LIN</th>\n",
       "      <th>ANN</th>\n",
       "      <th>LOCUS</th>\n",
       "      <th>AA_one</th>\n",
       "      <th>PROVEAN</th>\n",
       "    </tr>\n",
       "  </thead>\n",
       "  <tbody>\n",
       "    <tr>\n",
       "      <th>0</th>\n",
       "      <td>1965993.0</td>\n",
       "      <td>T</td>\n",
       "      <td>G</td>\n",
       "      <td>L2</td>\n",
       "      <td>missense_variant</td>\n",
       "      <td>Rv1739c</td>\n",
       "      <td>T549P</td>\n",
       "      <td>-5.686</td>\n",
       "    </tr>\n",
       "    <tr>\n",
       "      <th>1</th>\n",
       "      <td>1966016.0</td>\n",
       "      <td>A</td>\n",
       "      <td>G</td>\n",
       "      <td>L2</td>\n",
       "      <td>missense_variant</td>\n",
       "      <td>Rv1739c</td>\n",
       "      <td>I541T</td>\n",
       "      <td>-4.058</td>\n",
       "    </tr>\n",
       "    <tr>\n",
       "      <th>2</th>\n",
       "      <td>1966226.0</td>\n",
       "      <td>C</td>\n",
       "      <td>G</td>\n",
       "      <td>L2</td>\n",
       "      <td>missense_variant</td>\n",
       "      <td>Rv1739c</td>\n",
       "      <td>R471T</td>\n",
       "      <td>-2.899</td>\n",
       "    </tr>\n",
       "    <tr>\n",
       "      <th>3</th>\n",
       "      <td>1966275.0</td>\n",
       "      <td>A</td>\n",
       "      <td>C</td>\n",
       "      <td>L2</td>\n",
       "      <td>missense_variant</td>\n",
       "      <td>Rv1739c</td>\n",
       "      <td>Y455D</td>\n",
       "      <td>-8.493</td>\n",
       "    </tr>\n",
       "    <tr>\n",
       "      <th>4</th>\n",
       "      <td>1966344.0</td>\n",
       "      <td>G</td>\n",
       "      <td>C</td>\n",
       "      <td>L2</td>\n",
       "      <td>missense_variant</td>\n",
       "      <td>Rv1739c</td>\n",
       "      <td>P432A</td>\n",
       "      <td>-4.913</td>\n",
       "    </tr>\n",
       "    <tr>\n",
       "      <th>5</th>\n",
       "      <td>1966346.0</td>\n",
       "      <td>A</td>\n",
       "      <td>G</td>\n",
       "      <td>L2</td>\n",
       "      <td>missense_variant</td>\n",
       "      <td>Rv1739c</td>\n",
       "      <td>V431A</td>\n",
       "      <td>-2.504</td>\n",
       "    </tr>\n",
       "    <tr>\n",
       "      <th>6</th>\n",
       "      <td>1966395.0</td>\n",
       "      <td>C</td>\n",
       "      <td>T</td>\n",
       "      <td>L2</td>\n",
       "      <td>missense_variant</td>\n",
       "      <td>Rv1739c</td>\n",
       "      <td>E415K</td>\n",
       "      <td>-2.554</td>\n",
       "    </tr>\n",
       "    <tr>\n",
       "      <th>7</th>\n",
       "      <td>1966439.0</td>\n",
       "      <td>C</td>\n",
       "      <td>T</td>\n",
       "      <td>L2</td>\n",
       "      <td>missense_variant</td>\n",
       "      <td>Rv1739c</td>\n",
       "      <td>G400E</td>\n",
       "      <td>-5.504</td>\n",
       "    </tr>\n",
       "    <tr>\n",
       "      <th>8</th>\n",
       "      <td>1966463.0</td>\n",
       "      <td>G</td>\n",
       "      <td>A</td>\n",
       "      <td>L2</td>\n",
       "      <td>missense_variant</td>\n",
       "      <td>Rv1739c</td>\n",
       "      <td>T392I</td>\n",
       "      <td>-3.744</td>\n",
       "    </tr>\n",
       "    <tr>\n",
       "      <th>9</th>\n",
       "      <td>1966592.0</td>\n",
       "      <td>A</td>\n",
       "      <td>G</td>\n",
       "      <td>L2</td>\n",
       "      <td>missense_variant</td>\n",
       "      <td>Rv1739c</td>\n",
       "      <td>L349P</td>\n",
       "      <td>-3.650</td>\n",
       "    </tr>\n",
       "    <tr>\n",
       "      <th>10</th>\n",
       "      <td>1966787.0</td>\n",
       "      <td>C</td>\n",
       "      <td>G</td>\n",
       "      <td>L2</td>\n",
       "      <td>missense_variant</td>\n",
       "      <td>Rv1739c</td>\n",
       "      <td>G284A</td>\n",
       "      <td>-2.535</td>\n",
       "    </tr>\n",
       "    <tr>\n",
       "      <th>11</th>\n",
       "      <td>1966801.0</td>\n",
       "      <td>G</td>\n",
       "      <td>T</td>\n",
       "      <td>L2</td>\n",
       "      <td>missense_variant</td>\n",
       "      <td>Rv1739c</td>\n",
       "      <td>F279L</td>\n",
       "      <td>-5.707</td>\n",
       "    </tr>\n",
       "    <tr>\n",
       "      <th>12</th>\n",
       "      <td>1966805.0</td>\n",
       "      <td>G</td>\n",
       "      <td>T</td>\n",
       "      <td>L2</td>\n",
       "      <td>missense_variant</td>\n",
       "      <td>Rv1739c</td>\n",
       "      <td>A278D</td>\n",
       "      <td>-5.200</td>\n",
       "    </tr>\n",
       "    <tr>\n",
       "      <th>13</th>\n",
       "      <td>1967016.0</td>\n",
       "      <td>G</td>\n",
       "      <td>A</td>\n",
       "      <td>L2</td>\n",
       "      <td>missense_variant</td>\n",
       "      <td>Rv1739c</td>\n",
       "      <td>P208S</td>\n",
       "      <td>-8.000</td>\n",
       "    </tr>\n",
       "    <tr>\n",
       "      <th>14</th>\n",
       "      <td>1967021.0</td>\n",
       "      <td>C</td>\n",
       "      <td>T</td>\n",
       "      <td>L2</td>\n",
       "      <td>missense_variant</td>\n",
       "      <td>Rv1739c</td>\n",
       "      <td>R206H</td>\n",
       "      <td>-3.089</td>\n",
       "    </tr>\n",
       "    <tr>\n",
       "      <th>15</th>\n",
       "      <td>1967033.0</td>\n",
       "      <td>C</td>\n",
       "      <td>A</td>\n",
       "      <td>L2</td>\n",
       "      <td>missense_variant</td>\n",
       "      <td>Rv1739c</td>\n",
       "      <td>R202L</td>\n",
       "      <td>-4.322</td>\n",
       "    </tr>\n",
       "    <tr>\n",
       "      <th>16</th>\n",
       "      <td>1967176.0</td>\n",
       "      <td>T</td>\n",
       "      <td>G</td>\n",
       "      <td>L2</td>\n",
       "      <td>missense_variant</td>\n",
       "      <td>Rv1739c</td>\n",
       "      <td>Q154H</td>\n",
       "      <td>-5.000</td>\n",
       "    </tr>\n",
       "    <tr>\n",
       "      <th>17</th>\n",
       "      <td>1967283.0</td>\n",
       "      <td>A</td>\n",
       "      <td>C</td>\n",
       "      <td>L2</td>\n",
       "      <td>missense_variant</td>\n",
       "      <td>Rv1739c</td>\n",
       "      <td>C119G</td>\n",
       "      <td>-8.533</td>\n",
       "    </tr>\n",
       "    <tr>\n",
       "      <th>18</th>\n",
       "      <td>1967370.0</td>\n",
       "      <td>C</td>\n",
       "      <td>G</td>\n",
       "      <td>L2</td>\n",
       "      <td>missense_variant</td>\n",
       "      <td>Rv1739c</td>\n",
       "      <td>A90P</td>\n",
       "      <td>-4.567</td>\n",
       "    </tr>\n",
       "    <tr>\n",
       "      <th>19</th>\n",
       "      <td>1967543.0</td>\n",
       "      <td>C</td>\n",
       "      <td>A</td>\n",
       "      <td>L2</td>\n",
       "      <td>missense_variant</td>\n",
       "      <td>Rv1739c</td>\n",
       "      <td>G32V</td>\n",
       "      <td>-8.615</td>\n",
       "    </tr>\n",
       "    <tr>\n",
       "      <th>20</th>\n",
       "      <td>1967543.0</td>\n",
       "      <td>C</td>\n",
       "      <td>G</td>\n",
       "      <td>L2</td>\n",
       "      <td>missense_variant</td>\n",
       "      <td>Rv1739c</td>\n",
       "      <td>G32A</td>\n",
       "      <td>-5.650</td>\n",
       "    </tr>\n",
       "  </tbody>\n",
       "</table>\n",
       "</div>"
      ],
      "text/plain": [
       "          POS REF ALT LIN               ANN    LOCUS AA_one  PROVEAN\n",
       "0   1965993.0   T   G  L2  missense_variant  Rv1739c  T549P   -5.686\n",
       "1   1966016.0   A   G  L2  missense_variant  Rv1739c  I541T   -4.058\n",
       "2   1966226.0   C   G  L2  missense_variant  Rv1739c  R471T   -2.899\n",
       "3   1966275.0   A   C  L2  missense_variant  Rv1739c  Y455D   -8.493\n",
       "4   1966344.0   G   C  L2  missense_variant  Rv1739c  P432A   -4.913\n",
       "5   1966346.0   A   G  L2  missense_variant  Rv1739c  V431A   -2.504\n",
       "6   1966395.0   C   T  L2  missense_variant  Rv1739c  E415K   -2.554\n",
       "7   1966439.0   C   T  L2  missense_variant  Rv1739c  G400E   -5.504\n",
       "8   1966463.0   G   A  L2  missense_variant  Rv1739c  T392I   -3.744\n",
       "9   1966592.0   A   G  L2  missense_variant  Rv1739c  L349P   -3.650\n",
       "10  1966787.0   C   G  L2  missense_variant  Rv1739c  G284A   -2.535\n",
       "11  1966801.0   G   T  L2  missense_variant  Rv1739c  F279L   -5.707\n",
       "12  1966805.0   G   T  L2  missense_variant  Rv1739c  A278D   -5.200\n",
       "13  1967016.0   G   A  L2  missense_variant  Rv1739c  P208S   -8.000\n",
       "14  1967021.0   C   T  L2  missense_variant  Rv1739c  R206H   -3.089\n",
       "15  1967033.0   C   A  L2  missense_variant  Rv1739c  R202L   -4.322\n",
       "16  1967176.0   T   G  L2  missense_variant  Rv1739c  Q154H   -5.000\n",
       "17  1967283.0   A   C  L2  missense_variant  Rv1739c  C119G   -8.533\n",
       "18  1967370.0   C   G  L2  missense_variant  Rv1739c   A90P   -4.567\n",
       "19  1967543.0   C   A  L2  missense_variant  Rv1739c   G32V   -8.615\n",
       "20  1967543.0   C   G  L2  missense_variant  Rv1739c   G32A   -5.650"
      ]
     },
     "execution_count": 59,
     "metadata": {},
     "output_type": "execute_result"
    }
   ],
   "source": [
    "getProvScore(L2_impGrwth[6], 'L2')"
   ]
  },
  {
   "cell_type": "code",
   "execution_count": 60,
   "id": "64670dcf",
   "metadata": {},
   "outputs": [
    {
     "data": {
      "text/html": [
       "\n",
       "        <table>\n",
       "            <tr>\n",
       "                <td><strong>Gene identifier</strong></td><td>Rv1739c</td>\n",
       "            </tr><tr>\n",
       "                <td><strong>Name</strong></td><td></td>\n",
       "            </tr><tr>\n",
       "                <td><strong>Memory address</strong></td>\n",
       "                <td>0x01fadc92db50</td>\n",
       "            </tr><tr>\n",
       "                <td><strong>Functional</strong></td><td>True</td>\n",
       "            </tr><tr>\n",
       "                <td><strong>In 2 reaction(s)</strong></td><td>\n",
       "                    SULabc, TSULabc</td>\n",
       "            </tr>\n",
       "        </table>"
      ],
      "text/plain": [
       "<Gene Rv1739c at 0x1fadc92db50>"
      ]
     },
     "execution_count": 60,
     "metadata": {},
     "output_type": "execute_result"
    }
   ],
   "source": [
    "base_mod.genes.get_by_id(L2_impGrwth[6])"
   ]
  },
  {
   "cell_type": "code",
   "execution_count": 61,
   "id": "7188091e",
   "metadata": {},
   "outputs": [
    {
     "data": {
      "text/html": [
       "\n",
       "        <table>\n",
       "            <tr>\n",
       "                <td><strong>Reaction identifier</strong></td><td>SULabc</td>\n",
       "            </tr><tr>\n",
       "                <td><strong>Name</strong></td><td>Sulfate transport via ABC system</td>\n",
       "            </tr><tr>\n",
       "                <td><strong>Memory address</strong></td>\n",
       "                <td>0x01fadced1d90</td>\n",
       "            </tr><tr>\n",
       "                <td><strong>Stoichiometry</strong></td>\n",
       "                <td>\n",
       "                    <p style='text-align:right'>atp[c] + h2o[c] + so4[e] --> adp[c] + h[c] + pi[c] + so4[c]</p>\n",
       "                    <p style='text-align:right'>ATP C10H12N5O13P3 [cytoplasm] + H2O H2O [cytoplasm] + Sulfate [extracellular] --> ADP C10H12N5O10P2 [cytoplasm] + H+ [cytoplasm] + Phosphate [cytoplasm] + Sulfate [cytoplasm]</p>\n",
       "                </td>\n",
       "            </tr><tr>\n",
       "                <td><strong>GPR</strong></td><td>Rv2397c and Rv2398c and Rv2399c and Rv2400c and Rv1739c</td>\n",
       "            </tr><tr>\n",
       "                <td><strong>Lower bound</strong></td><td>0.0</td>\n",
       "            </tr><tr>\n",
       "                <td><strong>Upper bound</strong></td><td>1000.0</td>\n",
       "            </tr>\n",
       "        </table>\n",
       "        "
      ],
      "text/plain": [
       "<Reaction SULabc at 0x1fadced1d90>"
      ]
     },
     "execution_count": 61,
     "metadata": {},
     "output_type": "execute_result"
    }
   ],
   "source": [
    "list(base_mod.genes.get_by_id(L2_impGrwth[6]).reactions)[0]"
   ]
  },
  {
   "cell_type": "code",
   "execution_count": 62,
   "id": "793d2072",
   "metadata": {},
   "outputs": [
    {
     "data": {
      "text/html": [
       "\n",
       "        <table>\n",
       "            <tr>\n",
       "                <td><strong>Reaction identifier</strong></td><td>TSULabc</td>\n",
       "            </tr><tr>\n",
       "                <td><strong>Name</strong></td><td>Thiosulfate transport via ABC system</td>\n",
       "            </tr><tr>\n",
       "                <td><strong>Memory address</strong></td>\n",
       "                <td>0x01fadced1f70</td>\n",
       "            </tr><tr>\n",
       "                <td><strong>Stoichiometry</strong></td>\n",
       "                <td>\n",
       "                    <p style='text-align:right'>atp[c] + h2o[c] + tsul[e] --> adp[c] + h[c] + pi[c] + tsul[c]</p>\n",
       "                    <p style='text-align:right'>ATP C10H12N5O13P3 [cytoplasm] + H2O H2O [cytoplasm] + Thiosulfate [extracellular] --> ADP C10H12N5O10P2 [cytoplasm] + H+ [cytoplasm] + Phosphate [cytoplasm] + Thiosulfate [cytoplasm]</p>\n",
       "                </td>\n",
       "            </tr><tr>\n",
       "                <td><strong>GPR</strong></td><td>Rv2397c and Rv2398c and Rv2399c and Rv2400c and Rv1739c</td>\n",
       "            </tr><tr>\n",
       "                <td><strong>Lower bound</strong></td><td>0.0</td>\n",
       "            </tr><tr>\n",
       "                <td><strong>Upper bound</strong></td><td>1000.0</td>\n",
       "            </tr>\n",
       "        </table>\n",
       "        "
      ],
      "text/plain": [
       "<Reaction TSULabc at 0x1fadced1f70>"
      ]
     },
     "execution_count": 62,
     "metadata": {},
     "output_type": "execute_result"
    }
   ],
   "source": [
    "list(base_mod.genes.get_by_id(L2_impGrwth[6]).reactions)[1]"
   ]
  },
  {
   "cell_type": "markdown",
   "id": "e1e4e911",
   "metadata": {},
   "source": [
    "**L2) Rv1739c:** Probable sulphate-transport transmembrane protein ABC transporter. Not essential."
   ]
  },
  {
   "cell_type": "markdown",
   "id": "e7682ad0",
   "metadata": {},
   "source": [
    "#### Create a curated version of the model keeping the genes that abolish growth when absent"
   ]
  },
  {
   "cell_type": "code",
   "execution_count": 63,
   "id": "38880fbe",
   "metadata": {},
   "outputs": [
    {
     "data": {
      "text/html": [
       "\n",
       "        <table>\n",
       "            <tr>\n",
       "                <td><strong>Gene identifier</strong></td><td>Rv1472</td>\n",
       "            </tr><tr>\n",
       "                <td><strong>Name</strong></td><td></td>\n",
       "            </tr><tr>\n",
       "                <td><strong>Memory address</strong></td>\n",
       "                <td>0x01fadc8de6d0</td>\n",
       "            </tr><tr>\n",
       "                <td><strong>Functional</strong></td><td>True</td>\n",
       "            </tr><tr>\n",
       "                <td><strong>In 29 reaction(s)</strong></td><td>\n",
       "                    FAD_26, FAD_6, FAD_18, FAD_10, FAD_13, FAD_23, FAD_22, FAD_4, FAD_16, FAD_20, FAD_24, FAD_2, FAD_8, FAD_14, ECOAH12, FAD_15, FAD_21, FAD_25, ECOAH9ir, FAD_11, FAD_12, FAD_17, FAD_5, FAD_3, FAD_1,...</td>\n",
       "            </tr>\n",
       "        </table>"
      ],
      "text/plain": [
       "<Gene Rv1472 at 0x1fadc8de6d0>"
      ]
     },
     "execution_count": 63,
     "metadata": {},
     "output_type": "execute_result"
    }
   ],
   "source": [
    "base_mod.genes.get_by_id('Rv1472')"
   ]
  },
  {
   "cell_type": "code",
   "execution_count": 64,
   "id": "9c98cb33",
   "metadata": {},
   "outputs": [],
   "source": [
    "L2_toDel_cur = L2_toDelMuts.loc[L2_toDelMuts['BM'] != 0]['gene'].tolist()"
   ]
  },
  {
   "cell_type": "code",
   "execution_count": 65,
   "id": "45120e50",
   "metadata": {},
   "outputs": [],
   "source": [
    "L2_cur = cobra.io.load_json_model(join(mod_dir, \"iEK1011_2.0.json\"))"
   ]
  },
  {
   "cell_type": "code",
   "execution_count": 66,
   "id": "f8dc4abe",
   "metadata": {},
   "outputs": [],
   "source": [
    "remove_genes(L2_cur, L2_toDel_cur, remove_reactions=True)"
   ]
  },
  {
   "cell_type": "code",
   "execution_count": 67,
   "id": "078c5164",
   "metadata": {},
   "outputs": [],
   "source": [
    "L2_cur.medium = mi7H9_OADC_Med"
   ]
  },
  {
   "cell_type": "code",
   "execution_count": 68,
   "id": "5af5abba",
   "metadata": {},
   "outputs": [],
   "source": [
    "L2_cur.id=str('L2')"
   ]
  },
  {
   "cell_type": "code",
   "execution_count": 69,
   "id": "c202188b",
   "metadata": {},
   "outputs": [
    {
     "data": {
      "text/plain": [
       "0.36832917643405183"
      ]
     },
     "execution_count": 69,
     "metadata": {},
     "output_type": "execute_result"
    }
   ],
   "source": [
    "L2_cur.slim_optimize()"
   ]
  },
  {
   "cell_type": "code",
   "execution_count": 70,
   "id": "95e79335",
   "metadata": {},
   "outputs": [],
   "source": [
    "cobra.io.json.save_json_model(L2_cur, str(delsAllsnps_mod_dir_cur+'L2'+'_cur.json'), pretty=False)"
   ]
  },
  {
   "cell_type": "markdown",
   "id": "53a3d74e",
   "metadata": {},
   "source": [
    "### L3"
   ]
  },
  {
   "cell_type": "code",
   "execution_count": 71,
   "id": "bfc59476",
   "metadata": {},
   "outputs": [],
   "source": [
    "L3 = cobra.io.load_json_model(join(delsAllsnps_mod_dir, \"L3_delsAllsnps.json\"))"
   ]
  },
  {
   "cell_type": "code",
   "execution_count": 72,
   "id": "d875a204",
   "metadata": {},
   "outputs": [],
   "source": [
    "L3_dels = list(delMat.loc[delMat['L3'] == 0.0, 'L3'].index)"
   ]
  },
  {
   "cell_type": "code",
   "execution_count": 73,
   "id": "9f3a7f5e",
   "metadata": {},
   "outputs": [
    {
     "name": "stdout",
     "output_type": "stream",
     "text": [
      "Growth with Rv1934c deleted: 0.3683291764340529\n",
      "Growth with Rv3516 deleted: 0.3683291764340529\n",
      "Growth with Rv0231 deleted: 0.3683291764340529\n",
      "Growth with Rv1472 deleted: 0.3683291764340529\n",
      "Growth with Rv0066c deleted: 0.3683291764340529\n",
      "Growth with Rv1736c deleted: 0.3683291764340529\n",
      "Growth with Rv0815c deleted: 0.3683291764340529\n",
      "Growth with Rv3117 deleted: 0.3683291764340529\n",
      "Growth with Rv0848 deleted: 0.3683291764340541\n",
      "Growth with Rv2187 deleted: 0.3683291764340529\n",
      "Growth with Rv1521 deleted: 0.3683291764340529\n",
      "Growth with Rv2947c deleted: 0.0\n",
      "Growth with Rv1826 deleted: 0.3673031549755135\n",
      "Growth with Rv2483c deleted: 0.3683291764340529\n",
      "Growth with Rv2378c deleted: 0.36832917643405105\n",
      "Growth with Rv2267c deleted: 0.3683291764340529\n",
      "Growth with Rv0129c deleted: 0.36832917643404756\n",
      "Growth with Rv0223c deleted: 0.3683291764340529\n",
      "Growth with Rv0777 deleted: 0.0\n",
      "Growth with Rv0803 deleted: 0.0\n",
      "Growth with Rv1286 deleted: 0.0\n",
      "Growth with Rv1029 deleted: 0.3683291764340529\n",
      "Growth with Rv0294 deleted: 0.3683291764340552\n"
     ]
    }
   ],
   "source": [
    "\"\"\"Check what are the genes that are causing the flux to be zero.\"\"\"\n",
    "L3_toDelMuts = testDelsFun(L3_dels)\n",
    "L3_impGrwth = L3_toDelMuts.loc[L3_toDelMuts['BM'] == 0]['gene'].tolist()"
   ]
  },
  {
   "cell_type": "code",
   "execution_count": 74,
   "id": "68adeb0a",
   "metadata": {},
   "outputs": [
    {
     "data": {
      "text/html": [
       "<div>\n",
       "<style scoped>\n",
       "    .dataframe tbody tr th:only-of-type {\n",
       "        vertical-align: middle;\n",
       "    }\n",
       "\n",
       "    .dataframe tbody tr th {\n",
       "        vertical-align: top;\n",
       "    }\n",
       "\n",
       "    .dataframe thead th {\n",
       "        text-align: right;\n",
       "    }\n",
       "</style>\n",
       "<table border=\"1\" class=\"dataframe\">\n",
       "  <thead>\n",
       "    <tr style=\"text-align: right;\">\n",
       "      <th></th>\n",
       "      <th>POS</th>\n",
       "      <th>REF</th>\n",
       "      <th>ALT</th>\n",
       "      <th>LIN</th>\n",
       "      <th>ANN</th>\n",
       "      <th>LOCUS</th>\n",
       "      <th>AA_one</th>\n",
       "      <th>PROVEAN</th>\n",
       "    </tr>\n",
       "  </thead>\n",
       "  <tbody>\n",
       "    <tr>\n",
       "      <th>0</th>\n",
       "      <td>3296721.0</td>\n",
       "      <td>G</td>\n",
       "      <td>C</td>\n",
       "      <td>L3</td>\n",
       "      <td>missense_variant</td>\n",
       "      <td>Rv2947c</td>\n",
       "      <td>R374G</td>\n",
       "      <td>-5.570</td>\n",
       "    </tr>\n",
       "    <tr>\n",
       "      <th>1</th>\n",
       "      <td>3296472.0</td>\n",
       "      <td>C</td>\n",
       "      <td>T</td>\n",
       "      <td>L3</td>\n",
       "      <td>missense_variant</td>\n",
       "      <td>Rv2947c</td>\n",
       "      <td>G457R</td>\n",
       "      <td>-7.648</td>\n",
       "    </tr>\n",
       "    <tr>\n",
       "      <th>2</th>\n",
       "      <td>3296565.0</td>\n",
       "      <td>C</td>\n",
       "      <td>T</td>\n",
       "      <td>L3</td>\n",
       "      <td>missense_variant</td>\n",
       "      <td>Rv2947c</td>\n",
       "      <td>V426M</td>\n",
       "      <td>-2.875</td>\n",
       "    </tr>\n",
       "    <tr>\n",
       "      <th>3</th>\n",
       "      <td>3296753.0</td>\n",
       "      <td>G</td>\n",
       "      <td>C</td>\n",
       "      <td>L3</td>\n",
       "      <td>missense_variant</td>\n",
       "      <td>Rv2947c</td>\n",
       "      <td>A363G</td>\n",
       "      <td>-3.910</td>\n",
       "    </tr>\n",
       "    <tr>\n",
       "      <th>4</th>\n",
       "      <td>3296813.0</td>\n",
       "      <td>G</td>\n",
       "      <td>A</td>\n",
       "      <td>L3</td>\n",
       "      <td>missense_variant</td>\n",
       "      <td>Rv2947c</td>\n",
       "      <td>A343V</td>\n",
       "      <td>-3.035</td>\n",
       "    </tr>\n",
       "    <tr>\n",
       "      <th>5</th>\n",
       "      <td>3296894.0</td>\n",
       "      <td>G</td>\n",
       "      <td>A</td>\n",
       "      <td>L3</td>\n",
       "      <td>missense_variant</td>\n",
       "      <td>Rv2947c</td>\n",
       "      <td>S316F</td>\n",
       "      <td>-5.917</td>\n",
       "    </tr>\n",
       "    <tr>\n",
       "      <th>6</th>\n",
       "      <td>3296915.0</td>\n",
       "      <td>G</td>\n",
       "      <td>T</td>\n",
       "      <td>L3</td>\n",
       "      <td>missense_variant</td>\n",
       "      <td>Rv2947c</td>\n",
       "      <td>A309E</td>\n",
       "      <td>-4.931</td>\n",
       "    </tr>\n",
       "    <tr>\n",
       "      <th>7</th>\n",
       "      <td>3296917.0</td>\n",
       "      <td>G</td>\n",
       "      <td>C</td>\n",
       "      <td>L3</td>\n",
       "      <td>missense_variant</td>\n",
       "      <td>Rv2947c</td>\n",
       "      <td>S308R</td>\n",
       "      <td>-4.581</td>\n",
       "    </tr>\n",
       "    <tr>\n",
       "      <th>8</th>\n",
       "      <td>3297032.0</td>\n",
       "      <td>A</td>\n",
       "      <td>G</td>\n",
       "      <td>L3</td>\n",
       "      <td>missense_variant</td>\n",
       "      <td>Rv2947c</td>\n",
       "      <td>F270S</td>\n",
       "      <td>-7.018</td>\n",
       "    </tr>\n",
       "    <tr>\n",
       "      <th>9</th>\n",
       "      <td>3297063.0</td>\n",
       "      <td>C</td>\n",
       "      <td>G</td>\n",
       "      <td>L3</td>\n",
       "      <td>missense_variant</td>\n",
       "      <td>Rv2947c</td>\n",
       "      <td>G260R</td>\n",
       "      <td>-6.017</td>\n",
       "    </tr>\n",
       "    <tr>\n",
       "      <th>10</th>\n",
       "      <td>3297123.0</td>\n",
       "      <td>C</td>\n",
       "      <td>T</td>\n",
       "      <td>L3</td>\n",
       "      <td>missense_variant</td>\n",
       "      <td>Rv2947c</td>\n",
       "      <td>A240T</td>\n",
       "      <td>-3.551</td>\n",
       "    </tr>\n",
       "    <tr>\n",
       "      <th>11</th>\n",
       "      <td>3297296.0</td>\n",
       "      <td>A</td>\n",
       "      <td>G</td>\n",
       "      <td>L3</td>\n",
       "      <td>missense_variant</td>\n",
       "      <td>Rv2947c</td>\n",
       "      <td>L182P</td>\n",
       "      <td>-3.774</td>\n",
       "    </tr>\n",
       "    <tr>\n",
       "      <th>12</th>\n",
       "      <td>3297303.0</td>\n",
       "      <td>C</td>\n",
       "      <td>A</td>\n",
       "      <td>L3</td>\n",
       "      <td>missense_variant</td>\n",
       "      <td>Rv2947c</td>\n",
       "      <td>G180W</td>\n",
       "      <td>-4.368</td>\n",
       "    </tr>\n",
       "    <tr>\n",
       "      <th>13</th>\n",
       "      <td>3297614.0</td>\n",
       "      <td>C</td>\n",
       "      <td>G</td>\n",
       "      <td>L3</td>\n",
       "      <td>missense_variant</td>\n",
       "      <td>Rv2947c</td>\n",
       "      <td>R76P</td>\n",
       "      <td>-4.089</td>\n",
       "    </tr>\n",
       "    <tr>\n",
       "      <th>14</th>\n",
       "      <td>3297698.0</td>\n",
       "      <td>G</td>\n",
       "      <td>A</td>\n",
       "      <td>L3</td>\n",
       "      <td>missense_variant</td>\n",
       "      <td>Rv2947c</td>\n",
       "      <td>P48L</td>\n",
       "      <td>-8.941</td>\n",
       "    </tr>\n",
       "  </tbody>\n",
       "</table>\n",
       "</div>"
      ],
      "text/plain": [
       "          POS REF ALT LIN               ANN    LOCUS AA_one  PROVEAN\n",
       "0   3296721.0   G   C  L3  missense_variant  Rv2947c  R374G   -5.570\n",
       "1   3296472.0   C   T  L3  missense_variant  Rv2947c  G457R   -7.648\n",
       "2   3296565.0   C   T  L3  missense_variant  Rv2947c  V426M   -2.875\n",
       "3   3296753.0   G   C  L3  missense_variant  Rv2947c  A363G   -3.910\n",
       "4   3296813.0   G   A  L3  missense_variant  Rv2947c  A343V   -3.035\n",
       "5   3296894.0   G   A  L3  missense_variant  Rv2947c  S316F   -5.917\n",
       "6   3296915.0   G   T  L3  missense_variant  Rv2947c  A309E   -4.931\n",
       "7   3296917.0   G   C  L3  missense_variant  Rv2947c  S308R   -4.581\n",
       "8   3297032.0   A   G  L3  missense_variant  Rv2947c  F270S   -7.018\n",
       "9   3297063.0   C   G  L3  missense_variant  Rv2947c  G260R   -6.017\n",
       "10  3297123.0   C   T  L3  missense_variant  Rv2947c  A240T   -3.551\n",
       "11  3297296.0   A   G  L3  missense_variant  Rv2947c  L182P   -3.774\n",
       "12  3297303.0   C   A  L3  missense_variant  Rv2947c  G180W   -4.368\n",
       "13  3297614.0   C   G  L3  missense_variant  Rv2947c   R76P   -4.089\n",
       "14  3297698.0   G   A  L3  missense_variant  Rv2947c   P48L   -8.941"
      ]
     },
     "execution_count": 74,
     "metadata": {},
     "output_type": "execute_result"
    }
   ],
   "source": [
    "getProvScore(L3_impGrwth[0], 'L3')"
   ]
  },
  {
   "cell_type": "code",
   "execution_count": 75,
   "id": "8a6d491f",
   "metadata": {},
   "outputs": [
    {
     "data": {
      "text/html": [
       "\n",
       "        <table>\n",
       "            <tr>\n",
       "                <td><strong>Gene identifier</strong></td><td>Rv2947c</td>\n",
       "            </tr><tr>\n",
       "                <td><strong>Name</strong></td><td></td>\n",
       "            </tr><tr>\n",
       "                <td><strong>Memory address</strong></td>\n",
       "                <td>0x01fadc900580</td>\n",
       "            </tr><tr>\n",
       "                <td><strong>Functional</strong></td><td>True</td>\n",
       "            </tr><tr>\n",
       "                <td><strong>In 11 reaction(s)</strong></td><td>\n",
       "                    FAS161, FAS160, FAS120, FAS260, FAS100, FAS200, FAS80_L, FAS180, FAS140, FAS240_L, FAS181</td>\n",
       "            </tr>\n",
       "        </table>"
      ],
      "text/plain": [
       "<Gene Rv2947c at 0x1fadc900580>"
      ]
     },
     "execution_count": 75,
     "metadata": {},
     "output_type": "execute_result"
    }
   ],
   "source": [
    "base_mod.genes.get_by_id(L3_impGrwth[0])"
   ]
  },
  {
   "cell_type": "code",
   "execution_count": 76,
   "id": "bc8ceb5d",
   "metadata": {},
   "outputs": [
    {
     "data": {
      "text/html": [
       "\n",
       "        <table>\n",
       "            <tr>\n",
       "                <td><strong>Gene identifier</strong></td><td>Rv0777</td>\n",
       "            </tr><tr>\n",
       "                <td><strong>Name</strong></td><td></td>\n",
       "            </tr><tr>\n",
       "                <td><strong>Memory address</strong></td>\n",
       "                <td>0x01fadc915700</td>\n",
       "            </tr><tr>\n",
       "                <td><strong>Functional</strong></td><td>True</td>\n",
       "            </tr><tr>\n",
       "                <td><strong>In 2 reaction(s)</strong></td><td>\n",
       "                    ADSL2r, ADSL1r</td>\n",
       "            </tr>\n",
       "        </table>"
      ],
      "text/plain": [
       "<Gene Rv0777 at 0x1fadc915700>"
      ]
     },
     "execution_count": 76,
     "metadata": {},
     "output_type": "execute_result"
    }
   ],
   "source": [
    "base_mod.genes.get_by_id(L3_impGrwth[1])"
   ]
  },
  {
   "cell_type": "code",
   "execution_count": 77,
   "id": "582ef47b",
   "metadata": {},
   "outputs": [
    {
     "data": {
      "text/html": [
       "\n",
       "        <table>\n",
       "            <tr>\n",
       "                <td><strong>Reaction identifier</strong></td><td>ADSL2r</td>\n",
       "            </tr><tr>\n",
       "                <td><strong>Name</strong></td><td>Adenylosuccinate lyase</td>\n",
       "            </tr><tr>\n",
       "                <td><strong>Memory address</strong></td>\n",
       "                <td>0x01fadcdd7e20</td>\n",
       "            </tr><tr>\n",
       "                <td><strong>Stoichiometry</strong></td>\n",
       "                <td>\n",
       "                    <p style='text-align:right'>25aics[c] <=> aicar[c] + fum[c]</p>\n",
       "                    <p style='text-align:right'>(S)-2-[5-Amino-1-(5-phospho-D-ribosyl)imidazole-4-carboxamido]succinate [cytoplasm] <=> 5-Amino-1-(5-Phospho-D-ribosyl)imidazole-4-carboxamide [cytoplasm] + Fumarate [cytoplasm]</p>\n",
       "                </td>\n",
       "            </tr><tr>\n",
       "                <td><strong>GPR</strong></td><td>Rv0777</td>\n",
       "            </tr><tr>\n",
       "                <td><strong>Lower bound</strong></td><td>-1000.0</td>\n",
       "            </tr><tr>\n",
       "                <td><strong>Upper bound</strong></td><td>1000.0</td>\n",
       "            </tr>\n",
       "        </table>\n",
       "        "
      ],
      "text/plain": [
       "<Reaction ADSL2r at 0x1fadcdd7e20>"
      ]
     },
     "execution_count": 77,
     "metadata": {},
     "output_type": "execute_result"
    }
   ],
   "source": [
    "list(base_mod.genes.get_by_id(L3_impGrwth[1]).reactions)[0]"
   ]
  },
  {
   "cell_type": "code",
   "execution_count": 78,
   "id": "27599f2f",
   "metadata": {},
   "outputs": [
    {
     "data": {
      "text/html": [
       "\n",
       "        <table>\n",
       "            <tr>\n",
       "                <td><strong>Reaction identifier</strong></td><td>ADSL1r</td>\n",
       "            </tr><tr>\n",
       "                <td><strong>Name</strong></td><td>Adenylsuccinate lyase</td>\n",
       "            </tr><tr>\n",
       "                <td><strong>Memory address</strong></td>\n",
       "                <td>0x01fadcdd7c70</td>\n",
       "            </tr><tr>\n",
       "                <td><strong>Stoichiometry</strong></td>\n",
       "                <td>\n",
       "                    <p style='text-align:right'>dcamp[c] <=> amp[c] + fum[c]</p>\n",
       "                    <p style='text-align:right'>N6-(1,2-Dicarboxyethyl)-AMP [cytoplasm] <=> AMP C10H12N5O7P [cytoplasm] + Fumarate [cytoplasm]</p>\n",
       "                </td>\n",
       "            </tr><tr>\n",
       "                <td><strong>GPR</strong></td><td>Rv0777</td>\n",
       "            </tr><tr>\n",
       "                <td><strong>Lower bound</strong></td><td>-1000.0</td>\n",
       "            </tr><tr>\n",
       "                <td><strong>Upper bound</strong></td><td>1000.0</td>\n",
       "            </tr>\n",
       "        </table>\n",
       "        "
      ],
      "text/plain": [
       "<Reaction ADSL1r at 0x1fadcdd7c70>"
      ]
     },
     "execution_count": 78,
     "metadata": {},
     "output_type": "execute_result"
    }
   ],
   "source": [
    "list(base_mod.genes.get_by_id(L3_impGrwth[1]).reactions)[1]"
   ]
  },
  {
   "cell_type": "code",
   "execution_count": 79,
   "id": "af68d1ba",
   "metadata": {},
   "outputs": [
    {
     "data": {
      "text/html": [
       "\n",
       "        <table>\n",
       "            <tr>\n",
       "                <td><strong>Gene identifier</strong></td><td>Rv0803</td>\n",
       "            </tr><tr>\n",
       "                <td><strong>Name</strong></td><td></td>\n",
       "            </tr><tr>\n",
       "                <td><strong>Memory address</strong></td>\n",
       "                <td>0x01fadc915d90</td>\n",
       "            </tr><tr>\n",
       "                <td><strong>Functional</strong></td><td>True</td>\n",
       "            </tr><tr>\n",
       "                <td><strong>In 1 reaction(s)</strong></td><td>\n",
       "                    PRFGS</td>\n",
       "            </tr>\n",
       "        </table>"
      ],
      "text/plain": [
       "<Gene Rv0803 at 0x1fadc915d90>"
      ]
     },
     "execution_count": 79,
     "metadata": {},
     "output_type": "execute_result"
    }
   ],
   "source": [
    "base_mod.genes.get_by_id(L3_impGrwth[2])"
   ]
  },
  {
   "cell_type": "code",
   "execution_count": 80,
   "id": "80ce9a57",
   "metadata": {},
   "outputs": [
    {
     "data": {
      "text/html": [
       "\n",
       "        <table>\n",
       "            <tr>\n",
       "                <td><strong>Reaction identifier</strong></td><td>PRFGS</td>\n",
       "            </tr><tr>\n",
       "                <td><strong>Name</strong></td><td>Phosphoribosylformylglycinamidine synthase</td>\n",
       "            </tr><tr>\n",
       "                <td><strong>Memory address</strong></td>\n",
       "                <td>0x01fadce09fa0</td>\n",
       "            </tr><tr>\n",
       "                <td><strong>Stoichiometry</strong></td>\n",
       "                <td>\n",
       "                    <p style='text-align:right'>atp[c] + fgam[c] + gln__L[c] + h2o[c] --> adp[c] + fpram[c] + glu__L[c] + h[c] + pi[c]</p>\n",
       "                    <p style='text-align:right'>ATP C10H12N5O13P3 [cytoplasm] + N2-Formyl-N1-(5-phospho-D-ribosyl)glycinamide [cytoplasm] + L-Glutamine [cytoplasm] + H2O H2O [cytoplasm] --> ADP C10H12N5O10P2 [cytoplasm] +...</p>\n",
       "                </td>\n",
       "            </tr><tr>\n",
       "                <td><strong>GPR</strong></td><td>Rv0803 and Rv0788</td>\n",
       "            </tr><tr>\n",
       "                <td><strong>Lower bound</strong></td><td>0.0</td>\n",
       "            </tr><tr>\n",
       "                <td><strong>Upper bound</strong></td><td>1000.0</td>\n",
       "            </tr>\n",
       "        </table>\n",
       "        "
      ],
      "text/plain": [
       "<Reaction PRFGS at 0x1fadce09fa0>"
      ]
     },
     "execution_count": 80,
     "metadata": {},
     "output_type": "execute_result"
    }
   ],
   "source": [
    "list(base_mod.genes.get_by_id(L3_impGrwth[2]).reactions)[0]"
   ]
  },
  {
   "cell_type": "code",
   "execution_count": 81,
   "id": "72b41e19",
   "metadata": {},
   "outputs": [
    {
     "data": {
      "text/html": [
       "\n",
       "        <table>\n",
       "            <tr>\n",
       "                <td><strong>Gene identifier</strong></td><td>Rv1286</td>\n",
       "            </tr><tr>\n",
       "                <td><strong>Name</strong></td><td></td>\n",
       "            </tr><tr>\n",
       "                <td><strong>Memory address</strong></td>\n",
       "                <td>0x01fadc915eb0</td>\n",
       "            </tr><tr>\n",
       "                <td><strong>Functional</strong></td><td>True</td>\n",
       "            </tr><tr>\n",
       "                <td><strong>In 2 reaction(s)</strong></td><td>\n",
       "                    SADT, ADSK</td>\n",
       "            </tr>\n",
       "        </table>"
      ],
      "text/plain": [
       "<Gene Rv1286 at 0x1fadc915eb0>"
      ]
     },
     "execution_count": 81,
     "metadata": {},
     "output_type": "execute_result"
    }
   ],
   "source": [
    "base_mod.genes.get_by_id(L3_impGrwth[3])"
   ]
  },
  {
   "cell_type": "code",
   "execution_count": 82,
   "id": "7deacac0",
   "metadata": {},
   "outputs": [
    {
     "data": {
      "text/html": [
       "\n",
       "        <table>\n",
       "            <tr>\n",
       "                <td><strong>Reaction identifier</strong></td><td>SADT</td>\n",
       "            </tr><tr>\n",
       "                <td><strong>Name</strong></td><td>Sulfate adenylyltransferase</td>\n",
       "            </tr><tr>\n",
       "                <td><strong>Memory address</strong></td>\n",
       "                <td>0x01fadce16d90</td>\n",
       "            </tr><tr>\n",
       "                <td><strong>Stoichiometry</strong></td>\n",
       "                <td>\n",
       "                    <p style='text-align:right'>atp[c] + h[c] + so4[c] --> aps[c] + ppi[c]</p>\n",
       "                    <p style='text-align:right'>ATP C10H12N5O13P3 [cytoplasm] + H+ [cytoplasm] + Sulfate [cytoplasm] --> Adenosine 5'-phosphosulfate [cytoplasm] + Diphosphate [cytoplasm]</p>\n",
       "                </td>\n",
       "            </tr><tr>\n",
       "                <td><strong>GPR</strong></td><td>Rv1285 and Rv1286</td>\n",
       "            </tr><tr>\n",
       "                <td><strong>Lower bound</strong></td><td>0.0</td>\n",
       "            </tr><tr>\n",
       "                <td><strong>Upper bound</strong></td><td>1000.0</td>\n",
       "            </tr>\n",
       "        </table>\n",
       "        "
      ],
      "text/plain": [
       "<Reaction SADT at 0x1fadce16d90>"
      ]
     },
     "execution_count": 82,
     "metadata": {},
     "output_type": "execute_result"
    }
   ],
   "source": [
    "list(base_mod.genes.get_by_id(L3_impGrwth[3]).reactions)[0]"
   ]
  },
  {
   "cell_type": "code",
   "execution_count": 83,
   "id": "6b50554c",
   "metadata": {},
   "outputs": [
    {
     "data": {
      "text/html": [
       "\n",
       "        <table>\n",
       "            <tr>\n",
       "                <td><strong>Reaction identifier</strong></td><td>ADSK</td>\n",
       "            </tr><tr>\n",
       "                <td><strong>Name</strong></td><td>Adenylyl-sulfate kinase</td>\n",
       "            </tr><tr>\n",
       "                <td><strong>Memory address</strong></td>\n",
       "                <td>0x01fadce6deb0</td>\n",
       "            </tr><tr>\n",
       "                <td><strong>Stoichiometry</strong></td>\n",
       "                <td>\n",
       "                    <p style='text-align:right'>aps[c] + atp[c] --> adp[c] + h[c] + paps[c]</p>\n",
       "                    <p style='text-align:right'>Adenosine 5'-phosphosulfate [cytoplasm] + ATP C10H12N5O13P3 [cytoplasm] --> ADP C10H12N5O10P2 [cytoplasm] + H+ [cytoplasm] + 3'-Phosphoadenylyl sulfate [cytoplasm]</p>\n",
       "                </td>\n",
       "            </tr><tr>\n",
       "                <td><strong>GPR</strong></td><td>Rv1286</td>\n",
       "            </tr><tr>\n",
       "                <td><strong>Lower bound</strong></td><td>0.0</td>\n",
       "            </tr><tr>\n",
       "                <td><strong>Upper bound</strong></td><td>1000.0</td>\n",
       "            </tr>\n",
       "        </table>\n",
       "        "
      ],
      "text/plain": [
       "<Reaction ADSK at 0x1fadce6deb0>"
      ]
     },
     "execution_count": 83,
     "metadata": {},
     "output_type": "execute_result"
    }
   ],
   "source": [
    "list(base_mod.genes.get_by_id(L3_impGrwth[3]).reactions)[1]"
   ]
  },
  {
   "cell_type": "code",
   "execution_count": 84,
   "id": "0f86e05a",
   "metadata": {},
   "outputs": [],
   "source": [
    "L3_toDel_cur = L3_toDelMuts.loc[L3_toDelMuts['BM'] != 0]['gene'].tolist()"
   ]
  },
  {
   "cell_type": "code",
   "execution_count": 85,
   "id": "3dcc87c9",
   "metadata": {},
   "outputs": [],
   "source": [
    "L3_cur = cobra.io.load_json_model(join(mod_dir, \"iEK1011_2.0.json\"))"
   ]
  },
  {
   "cell_type": "code",
   "execution_count": 86,
   "id": "c9be817b",
   "metadata": {},
   "outputs": [],
   "source": [
    "remove_genes(L3_cur, L3_toDel_cur, remove_reactions=True)"
   ]
  },
  {
   "cell_type": "code",
   "execution_count": 87,
   "id": "468e92bb",
   "metadata": {},
   "outputs": [],
   "source": [
    "L3_cur.medium = mi7H9_OADC_Med"
   ]
  },
  {
   "cell_type": "code",
   "execution_count": 88,
   "id": "4c9d45be",
   "metadata": {},
   "outputs": [],
   "source": [
    "L3_cur.id=str('L3')"
   ]
  },
  {
   "cell_type": "code",
   "execution_count": 89,
   "id": "895c0d1b",
   "metadata": {},
   "outputs": [
    {
     "data": {
      "text/plain": [
       "0.36730315497551447"
      ]
     },
     "execution_count": 89,
     "metadata": {},
     "output_type": "execute_result"
    }
   ],
   "source": [
    "L3_cur.slim_optimize()"
   ]
  },
  {
   "cell_type": "code",
   "execution_count": 90,
   "id": "433d6d27",
   "metadata": {},
   "outputs": [],
   "source": [
    "cobra.io.json.save_json_model(L3_cur, str(delsAllsnps_mod_dir_cur+'L3'+'_cur.json'), pretty=False)"
   ]
  },
  {
   "cell_type": "markdown",
   "id": "b4277846",
   "metadata": {},
   "source": [
    "### L4"
   ]
  },
  {
   "cell_type": "code",
   "execution_count": 91,
   "id": "b00e761b",
   "metadata": {},
   "outputs": [],
   "source": [
    "L4_cur = base_mod.copy()"
   ]
  },
  {
   "cell_type": "code",
   "execution_count": 92,
   "id": "a8f7285a",
   "metadata": {},
   "outputs": [],
   "source": [
    "L4_cur.id = 'L4'"
   ]
  },
  {
   "cell_type": "code",
   "execution_count": 93,
   "id": "9adcacd9",
   "metadata": {},
   "outputs": [],
   "source": [
    "L4_cur.medium = mi7H9_OADC_Med"
   ]
  },
  {
   "cell_type": "code",
   "execution_count": 94,
   "id": "07a8648b",
   "metadata": {},
   "outputs": [
    {
     "data": {
      "text/plain": [
       "0.3683291764340514"
      ]
     },
     "execution_count": 94,
     "metadata": {},
     "output_type": "execute_result"
    }
   ],
   "source": [
    "L4_cur.slim_optimize()"
   ]
  },
  {
   "cell_type": "code",
   "execution_count": 95,
   "id": "89919838",
   "metadata": {},
   "outputs": [],
   "source": [
    "cobra.io.json.save_json_model(L4_cur, str(delsAllsnps_mod_dir_cur+'L4'+'_cur.json'), pretty=False)"
   ]
  },
  {
   "cell_type": "markdown",
   "id": "c22be3f0",
   "metadata": {},
   "source": [
    "### L5"
   ]
  },
  {
   "cell_type": "code",
   "execution_count": 96,
   "id": "98839008",
   "metadata": {},
   "outputs": [],
   "source": [
    "L5 = cobra.io.load_json_model(join(delsAllsnps_mod_dir, \"L5_delsAllsnps.json\"))"
   ]
  },
  {
   "cell_type": "code",
   "execution_count": 97,
   "id": "05b4ba2c",
   "metadata": {},
   "outputs": [],
   "source": [
    "L5_dels = list(delMat.loc[delMat['L5'] == 0.0, 'L5'].index)"
   ]
  },
  {
   "cell_type": "code",
   "execution_count": 98,
   "id": "0c6d6d90",
   "metadata": {},
   "outputs": [
    {
     "name": "stdout",
     "output_type": "stream",
     "text": [
      "Growth with Rv2531c deleted: 0.3683291764340493\n",
      "Growth with Rv2222c deleted: 0.3683291764340529\n",
      "Growth with Rv3808c deleted: 0.0\n",
      "Growth with Rv3784 deleted: 0.3683291764340529\n",
      "Growth with Rv3794 deleted: 0.0\n",
      "Growth with Rv1656 deleted: 0.0\n",
      "Growth with Rv1188 deleted: 0.3683291764340529\n",
      "Growth with Rv0400c deleted: 0.3683291764340529\n",
      "Growth with Rv0672 deleted: 0.3683291764340529\n",
      "Growth with Rv2724c deleted: 0.3683291764340529\n",
      "Growth with Rv1912c deleted: 0.3683291764340529\n",
      "Growth with Rv3139 deleted: 0.3683291764340529\n",
      "Growth with Rv1552 deleted: 0.3683291764340529\n",
      "Growth with Rv1240 deleted: 0.3228575664042155\n",
      "Growth with Rv2967c deleted: 0.3683291764340529\n",
      "Growth with Rv0254c deleted: 0.3683291764340492\n",
      "Growth with Rv2849c deleted: 0.3683291764344683\n",
      "Growth with Rv2850c deleted: 0.3683291764340529\n",
      "Growth with Rv2071c deleted: 0.3683291764340529\n",
      "Growth with Rv1451 deleted: 0.0\n",
      "Growth with Rv2124c deleted: 0.0\n",
      "Growth with Rv0069c deleted: 0.36832917643404867\n",
      "Growth with Rv3130c deleted: 0.3683291764340529\n",
      "Growth with Rv2590 deleted: 0.3683291764340529\n",
      "Growth with Rv1427c deleted: 0.3683291764340529\n",
      "Growth with Rv3513c deleted: 0.3683291764340529\n",
      "Growth with Rv2505c deleted: 0.3683291764340529\n",
      "Growth with Rv2503c deleted: 0.3683291764340493\n",
      "Growth with Rv0112 deleted: 0.3683291764340529\n",
      "Growth with Rv0499 deleted: 0.3683291764340529\n",
      "Growth with Rv0768 deleted: 0.3683291764340529\n",
      "Growth with Rv3214 deleted: 0.3683291764340529\n",
      "Growth with Rv1617 deleted: 0.36832917643405105\n",
      "Growth with Rv1605 deleted: 0.0\n",
      "Growth with Rv2949c deleted: 0.0\n",
      "Growth with Rv2380c deleted: 0.36832917643405394\n",
      "Growth with Rv0087 deleted: 0.3683291764340529\n",
      "Growth with Rv1309 deleted: 0.1302016729300472\n",
      "Growth with Rv1307 deleted: 0.1302016729300472\n",
      "Growth with Rv2225 deleted: 0.0\n",
      "Growth with Rv0573c deleted: 0.3683291764340529\n",
      "Growth with Rv2074 deleted: 0.3683291764340529\n",
      "Growth with Rv2155c deleted: 0.0\n",
      "Growth with Rv2682c deleted: 0.3683291764340529\n",
      "Growth with Rv1131 deleted: 0.3683291764340532\n",
      "Growth with Rv1320c deleted: 0.3683291764340529\n",
      "Growth with Rv2435c deleted: 0.3683291764340529\n",
      "Growth with Rv0382c deleted: 0.368329176434051\n",
      "Growth with Rv0788 deleted: 0.0\n",
      "Growth with Rv3913 deleted: 0.0\n",
      "Growth with Rv1850 deleted: 0.3683291764340565\n",
      "Growth with Rv1127c deleted: 0.3683291764340491\n",
      "Growth with Rv3824c deleted: 0.3683291764340529\n",
      "Growth with Rv0522 deleted: 0.3683291764340529\n",
      "Growth with Rv3759c deleted: 0.3683291764340529\n",
      "Growth with Rv1030 deleted: 0.3683291764340529\n",
      "Growth with Rv2691 deleted: 0.3683291764340529\n",
      "Growth with Rv2287 deleted: 0.3683291764340529\n",
      "Growth with Rv3500c deleted: 0.3683291764340541\n"
     ]
    }
   ],
   "source": [
    "\"\"\"Check what are the genes that are causing the flux to be zero.\"\"\"\n",
    "L5_toDelMuts = testDelsFun(L5_dels)\n",
    "L5_impGrwth = L5_toDelMuts.loc[L5_toDelMuts['BM'] == 0]['gene'].tolist()"
   ]
  },
  {
   "cell_type": "code",
   "execution_count": 99,
   "id": "27c3da01",
   "metadata": {},
   "outputs": [
    {
     "data": {
      "text/html": [
       "\n",
       "        <table>\n",
       "            <tr>\n",
       "                <td><strong>Gene identifier</strong></td><td>Rv3808c</td>\n",
       "            </tr><tr>\n",
       "                <td><strong>Name</strong></td><td></td>\n",
       "            </tr><tr>\n",
       "                <td><strong>Memory address</strong></td>\n",
       "                <td>0x01fadc8d3730</td>\n",
       "            </tr><tr>\n",
       "                <td><strong>Functional</strong></td><td>True</td>\n",
       "            </tr><tr>\n",
       "                <td><strong>In 1 reaction(s)</strong></td><td>\n",
       "                    GALFT</td>\n",
       "            </tr>\n",
       "        </table>"
      ],
      "text/plain": [
       "<Gene Rv3808c at 0x1fadc8d3730>"
      ]
     },
     "execution_count": 99,
     "metadata": {},
     "output_type": "execute_result"
    }
   ],
   "source": [
    "base_mod.genes.get_by_id(L5_impGrwth[0])"
   ]
  },
  {
   "cell_type": "code",
   "execution_count": 100,
   "id": "8e7e94ec",
   "metadata": {},
   "outputs": [
    {
     "data": {
      "text/html": [
       "\n",
       "        <table>\n",
       "            <tr>\n",
       "                <td><strong>Gene identifier</strong></td><td>Rv3794</td>\n",
       "            </tr><tr>\n",
       "                <td><strong>Name</strong></td><td></td>\n",
       "            </tr><tr>\n",
       "                <td><strong>Memory address</strong></td>\n",
       "                <td>0x01fadc8d39d0</td>\n",
       "            </tr><tr>\n",
       "                <td><strong>Functional</strong></td><td>True</td>\n",
       "            </tr><tr>\n",
       "                <td><strong>In 1 reaction(s)</strong></td><td>\n",
       "                    EMB</td>\n",
       "            </tr>\n",
       "        </table>"
      ],
      "text/plain": [
       "<Gene Rv3794 at 0x1fadc8d39d0>"
      ]
     },
     "execution_count": 100,
     "metadata": {},
     "output_type": "execute_result"
    }
   ],
   "source": [
    "base_mod.genes.get_by_id(L5_impGrwth[1])"
   ]
  },
  {
   "cell_type": "code",
   "execution_count": 101,
   "id": "ce5b1114",
   "metadata": {},
   "outputs": [
    {
     "data": {
      "text/html": [
       "\n",
       "        <table>\n",
       "            <tr>\n",
       "                <td><strong>Gene identifier</strong></td><td>Rv1656</td>\n",
       "            </tr><tr>\n",
       "                <td><strong>Name</strong></td><td></td>\n",
       "            </tr><tr>\n",
       "                <td><strong>Memory address</strong></td>\n",
       "                <td>0x01fadc8d3b50</td>\n",
       "            </tr><tr>\n",
       "                <td><strong>Functional</strong></td><td>True</td>\n",
       "            </tr><tr>\n",
       "                <td><strong>In 1 reaction(s)</strong></td><td>\n",
       "                    OCBT</td>\n",
       "            </tr>\n",
       "        </table>"
      ],
      "text/plain": [
       "<Gene Rv1656 at 0x1fadc8d3b50>"
      ]
     },
     "execution_count": 101,
     "metadata": {},
     "output_type": "execute_result"
    }
   ],
   "source": [
    "base_mod.genes.get_by_id(L5_impGrwth[2])"
   ]
  },
  {
   "cell_type": "code",
   "execution_count": 102,
   "id": "45ef2743",
   "metadata": {},
   "outputs": [
    {
     "data": {
      "text/html": [
       "\n",
       "        <table>\n",
       "            <tr>\n",
       "                <td><strong>Reaction identifier</strong></td><td>OCBT</td>\n",
       "            </tr><tr>\n",
       "                <td><strong>Name</strong></td><td>Ornithine carbamoyltransferase</td>\n",
       "            </tr><tr>\n",
       "                <td><strong>Memory address</strong></td>\n",
       "                <td>0x01fadc997e50</td>\n",
       "            </tr><tr>\n",
       "                <td><strong>Stoichiometry</strong></td>\n",
       "                <td>\n",
       "                    <p style='text-align:right'>cbp[c] + orn[c] <=> citr__L[c] + h[c] + pi[c]</p>\n",
       "                    <p style='text-align:right'>Carbamoyl phosphate [cytoplasm] + Ornithine [cytoplasm] <=> L-Citrulline [cytoplasm] + H+ [cytoplasm] + Phosphate [cytoplasm]</p>\n",
       "                </td>\n",
       "            </tr><tr>\n",
       "                <td><strong>GPR</strong></td><td>Rv1656</td>\n",
       "            </tr><tr>\n",
       "                <td><strong>Lower bound</strong></td><td>-1000.0</td>\n",
       "            </tr><tr>\n",
       "                <td><strong>Upper bound</strong></td><td>1000.0</td>\n",
       "            </tr>\n",
       "        </table>\n",
       "        "
      ],
      "text/plain": [
       "<Reaction OCBT at 0x1fadc997e50>"
      ]
     },
     "execution_count": 102,
     "metadata": {},
     "output_type": "execute_result"
    }
   ],
   "source": [
    "list(base_mod.genes.get_by_id(L5_impGrwth[2]).reactions)[0]"
   ]
  },
  {
   "cell_type": "code",
   "execution_count": 103,
   "id": "13484e42",
   "metadata": {},
   "outputs": [
    {
     "data": {
      "text/html": [
       "\n",
       "        <table>\n",
       "            <tr>\n",
       "                <td><strong>Gene identifier</strong></td><td>Rv1451</td>\n",
       "            </tr><tr>\n",
       "                <td><strong>Name</strong></td><td></td>\n",
       "            </tr><tr>\n",
       "                <td><strong>Memory address</strong></td>\n",
       "                <td>0x01fadc8f40a0</td>\n",
       "            </tr><tr>\n",
       "                <td><strong>Functional</strong></td><td>True</td>\n",
       "            </tr><tr>\n",
       "                <td><strong>In 2 reaction(s)</strong></td><td>\n",
       "                    CYO1b, HEMEOS</td>\n",
       "            </tr>\n",
       "        </table>"
      ],
      "text/plain": [
       "<Gene Rv1451 at 0x1fadc8f40a0>"
      ]
     },
     "execution_count": 103,
     "metadata": {},
     "output_type": "execute_result"
    }
   ],
   "source": [
    "base_mod.genes.get_by_id(L5_impGrwth[3])"
   ]
  },
  {
   "cell_type": "code",
   "execution_count": 104,
   "id": "1dc1a7d5",
   "metadata": {},
   "outputs": [
    {
     "data": {
      "text/html": [
       "\n",
       "        <table>\n",
       "            <tr>\n",
       "                <td><strong>Reaction identifier</strong></td><td>CYO1b</td>\n",
       "            </tr><tr>\n",
       "                <td><strong>Name</strong></td><td>CYO1b</td>\n",
       "            </tr><tr>\n",
       "                <td><strong>Memory address</strong></td>\n",
       "                <td>0x01fadcd66af0</td>\n",
       "            </tr><tr>\n",
       "                <td><strong>Stoichiometry</strong></td>\n",
       "                <td>\n",
       "                    <p style='text-align:right'>2.0 focytc[c] + 0.5 o2[c] --> 2.0 ficytc[c] + h2o[c]</p>\n",
       "                    <p style='text-align:right'>2.0 Ferrocytochrome c C42H53FeN8O6S2 [cytoplasm] + 0.5 O2 O2 [cytoplasm] --> 2.0 Ferricytochrome c C42H52FeN8O6S2 [cytoplasm] + H2O H2O [cytoplasm]</p>\n",
       "                </td>\n",
       "            </tr><tr>\n",
       "                <td><strong>GPR</strong></td><td>Rv2193 and Rv1451 and Rv3043c and Rv2200c</td>\n",
       "            </tr><tr>\n",
       "                <td><strong>Lower bound</strong></td><td>0.0</td>\n",
       "            </tr><tr>\n",
       "                <td><strong>Upper bound</strong></td><td>1000.0</td>\n",
       "            </tr>\n",
       "        </table>\n",
       "        "
      ],
      "text/plain": [
       "<Reaction CYO1b at 0x1fadcd66af0>"
      ]
     },
     "execution_count": 104,
     "metadata": {},
     "output_type": "execute_result"
    }
   ],
   "source": [
    "list(base_mod.genes.get_by_id(L5_impGrwth[3]).reactions)[0]"
   ]
  },
  {
   "cell_type": "code",
   "execution_count": 105,
   "id": "9817b8a0",
   "metadata": {},
   "outputs": [
    {
     "data": {
      "text/html": [
       "\n",
       "        <table>\n",
       "            <tr>\n",
       "                <td><strong>Reaction identifier</strong></td><td>HEMEOS</td>\n",
       "            </tr><tr>\n",
       "                <td><strong>Name</strong></td><td>Heme O synthase</td>\n",
       "            </tr><tr>\n",
       "                <td><strong>Memory address</strong></td>\n",
       "                <td>0x01fadca771f0</td>\n",
       "            </tr><tr>\n",
       "                <td><strong>Stoichiometry</strong></td>\n",
       "                <td>\n",
       "                    <p style='text-align:right'>frdp[c] + h2o[c] + pheme[c] --> hemeO[c] + ppi[c]</p>\n",
       "                    <p style='text-align:right'>Farnesyl diphosphate [cytoplasm] + H2O H2O [cytoplasm] + Protoheme C34H30FeN4O4 [cytoplasm] --> Heme O C49H56FeN4O5 [cytoplasm] + Diphosphate [cytoplasm]</p>\n",
       "                </td>\n",
       "            </tr><tr>\n",
       "                <td><strong>GPR</strong></td><td>Rv1451</td>\n",
       "            </tr><tr>\n",
       "                <td><strong>Lower bound</strong></td><td>0.0</td>\n",
       "            </tr><tr>\n",
       "                <td><strong>Upper bound</strong></td><td>1000.0</td>\n",
       "            </tr>\n",
       "        </table>\n",
       "        "
      ],
      "text/plain": [
       "<Reaction HEMEOS at 0x1fadca771f0>"
      ]
     },
     "execution_count": 105,
     "metadata": {},
     "output_type": "execute_result"
    }
   ],
   "source": [
    "list(base_mod.genes.get_by_id(L5_impGrwth[3]).reactions)[1]"
   ]
  },
  {
   "cell_type": "markdown",
   "id": "62b7d524",
   "metadata": {},
   "source": [
    "Rv1451: cytochrome"
   ]
  },
  {
   "cell_type": "code",
   "execution_count": 106,
   "id": "2f6bac40",
   "metadata": {},
   "outputs": [
    {
     "data": {
      "text/html": [
       "\n",
       "        <table>\n",
       "            <tr>\n",
       "                <td><strong>Gene identifier</strong></td><td>Rv2124c</td>\n",
       "            </tr><tr>\n",
       "                <td><strong>Name</strong></td><td></td>\n",
       "            </tr><tr>\n",
       "                <td><strong>Memory address</strong></td>\n",
       "                <td>0x01fadc8f4610</td>\n",
       "            </tr><tr>\n",
       "                <td><strong>Functional</strong></td><td>True</td>\n",
       "            </tr><tr>\n",
       "                <td><strong>In 1 reaction(s)</strong></td><td>\n",
       "                    METS</td>\n",
       "            </tr>\n",
       "        </table>"
      ],
      "text/plain": [
       "<Gene Rv2124c at 0x1fadc8f4610>"
      ]
     },
     "execution_count": 106,
     "metadata": {},
     "output_type": "execute_result"
    }
   ],
   "source": [
    "base_mod.genes.get_by_id(L5_impGrwth[4])"
   ]
  },
  {
   "cell_type": "code",
   "execution_count": 107,
   "id": "d7edea18",
   "metadata": {},
   "outputs": [
    {
     "data": {
      "text/html": [
       "\n",
       "        <table>\n",
       "            <tr>\n",
       "                <td><strong>Reaction identifier</strong></td><td>METS</td>\n",
       "            </tr><tr>\n",
       "                <td><strong>Name</strong></td><td>Methionine synthase</td>\n",
       "            </tr><tr>\n",
       "                <td><strong>Memory address</strong></td>\n",
       "                <td>0x01fadca90730</td>\n",
       "            </tr><tr>\n",
       "                <td><strong>Stoichiometry</strong></td>\n",
       "                <td>\n",
       "                    <p style='text-align:right'>5mthf[c] + hcys__L[c] --> h[c] + met__L[c] + thf[c]</p>\n",
       "                    <p style='text-align:right'>5-Methyltetrahydrofolate [cytoplasm] + L-Homocysteine [cytoplasm] --> H+ [cytoplasm] + L-Methionine [cytoplasm] + 5,6,7,8-Tetrahydrofolate [cytoplasm]</p>\n",
       "                </td>\n",
       "            </tr><tr>\n",
       "                <td><strong>GPR</strong></td><td>Rv2124c and Rv1133c</td>\n",
       "            </tr><tr>\n",
       "                <td><strong>Lower bound</strong></td><td>0.0</td>\n",
       "            </tr><tr>\n",
       "                <td><strong>Upper bound</strong></td><td>1000.0</td>\n",
       "            </tr>\n",
       "        </table>\n",
       "        "
      ],
      "text/plain": [
       "<Reaction METS at 0x1fadca90730>"
      ]
     },
     "execution_count": 107,
     "metadata": {},
     "output_type": "execute_result"
    }
   ],
   "source": [
    "list(base_mod.genes.get_by_id(L5_impGrwth[4]).reactions)[0]"
   ]
  },
  {
   "cell_type": "code",
   "execution_count": 108,
   "id": "71190be4",
   "metadata": {},
   "outputs": [
    {
     "data": {
      "text/html": [
       "\n",
       "        <table>\n",
       "            <tr>\n",
       "                <td><strong>Gene identifier</strong></td><td>Rv1605</td>\n",
       "            </tr><tr>\n",
       "                <td><strong>Name</strong></td><td></td>\n",
       "            </tr><tr>\n",
       "                <td><strong>Memory address</strong></td>\n",
       "                <td>0x01fadbb46130</td>\n",
       "            </tr><tr>\n",
       "                <td><strong>Functional</strong></td><td>True</td>\n",
       "            </tr><tr>\n",
       "                <td><strong>In 1 reaction(s)</strong></td><td>\n",
       "                    IG3PS</td>\n",
       "            </tr>\n",
       "        </table>"
      ],
      "text/plain": [
       "<Gene Rv1605 at 0x1fadbb46130>"
      ]
     },
     "execution_count": 108,
     "metadata": {},
     "output_type": "execute_result"
    }
   ],
   "source": [
    "base_mod.genes.get_by_id(L5_impGrwth[5])"
   ]
  },
  {
   "cell_type": "code",
   "execution_count": 109,
   "id": "b0f5cda0",
   "metadata": {},
   "outputs": [
    {
     "data": {
      "text/html": [
       "\n",
       "        <table>\n",
       "            <tr>\n",
       "                <td><strong>Reaction identifier</strong></td><td>IG3PS</td>\n",
       "            </tr><tr>\n",
       "                <td><strong>Name</strong></td><td>Imidazole-glycerol-3-phosphate synthase</td>\n",
       "            </tr><tr>\n",
       "                <td><strong>Memory address</strong></td>\n",
       "                <td>0x01fadcc84cd0</td>\n",
       "            </tr><tr>\n",
       "                <td><strong>Stoichiometry</strong></td>\n",
       "                <td>\n",
       "                    <p style='text-align:right'>gln__L[c] + prlp[c] --> aicar[c] + eig3p[c] + glu__L[c] + h[c]</p>\n",
       "                    <p style='text-align:right'>L-Glutamine [cytoplasm] + 5-[(5-phospho-1-deoxyribulos-1-ylamino)methylideneamino]-1-(5-phosphoribosyl)imidazole-4-carboxamide [cytoplasm] --> 5-Amino-1-(5-Phospho-D-ribosyl)imidazole-4-carboxamide...</p>\n",
       "                </td>\n",
       "            </tr><tr>\n",
       "                <td><strong>GPR</strong></td><td>Rv1602 and Rv1605</td>\n",
       "            </tr><tr>\n",
       "                <td><strong>Lower bound</strong></td><td>0.0</td>\n",
       "            </tr><tr>\n",
       "                <td><strong>Upper bound</strong></td><td>1000.0</td>\n",
       "            </tr>\n",
       "        </table>\n",
       "        "
      ],
      "text/plain": [
       "<Reaction IG3PS at 0x1fadcc84cd0>"
      ]
     },
     "execution_count": 109,
     "metadata": {},
     "output_type": "execute_result"
    }
   ],
   "source": [
    "list(base_mod.genes.get_by_id(L5_impGrwth[5]).reactions)[0]"
   ]
  },
  {
   "cell_type": "code",
   "execution_count": 110,
   "id": "35e5ae96",
   "metadata": {},
   "outputs": [
    {
     "data": {
      "text/html": [
       "\n",
       "        <table>\n",
       "            <tr>\n",
       "                <td><strong>Gene identifier</strong></td><td>Rv2949c</td>\n",
       "            </tr><tr>\n",
       "                <td><strong>Name</strong></td><td></td>\n",
       "            </tr><tr>\n",
       "                <td><strong>Memory address</strong></td>\n",
       "                <td>0x01fadbb464c0</td>\n",
       "            </tr><tr>\n",
       "                <td><strong>Functional</strong></td><td>True</td>\n",
       "            </tr><tr>\n",
       "                <td><strong>In 1 reaction(s)</strong></td><td>\n",
       "                    CHRPL</td>\n",
       "            </tr>\n",
       "        </table>"
      ],
      "text/plain": [
       "<Gene Rv2949c at 0x1fadbb464c0>"
      ]
     },
     "execution_count": 110,
     "metadata": {},
     "output_type": "execute_result"
    }
   ],
   "source": [
    "base_mod.genes.get_by_id(L5_impGrwth[6])"
   ]
  },
  {
   "cell_type": "code",
   "execution_count": 111,
   "id": "0cc90b67",
   "metadata": {},
   "outputs": [
    {
     "data": {
      "text/html": [
       "\n",
       "        <table>\n",
       "            <tr>\n",
       "                <td><strong>Reaction identifier</strong></td><td>CHRPL</td>\n",
       "            </tr><tr>\n",
       "                <td><strong>Name</strong></td><td>Chorismate pyruvate lyase</td>\n",
       "            </tr><tr>\n",
       "                <td><strong>Memory address</strong></td>\n",
       "                <td>0x01fadccaaf40</td>\n",
       "            </tr><tr>\n",
       "                <td><strong>Stoichiometry</strong></td>\n",
       "                <td>\n",
       "                    <p style='text-align:right'>chor[c] --> 4hbz[c] + pyr[c]</p>\n",
       "                    <p style='text-align:right'>Chorismate [cytoplasm] --> 4-Hydroxybenzoate [cytoplasm] + Pyruvate [cytoplasm]</p>\n",
       "                </td>\n",
       "            </tr><tr>\n",
       "                <td><strong>GPR</strong></td><td>Rv2949c</td>\n",
       "            </tr><tr>\n",
       "                <td><strong>Lower bound</strong></td><td>0.0</td>\n",
       "            </tr><tr>\n",
       "                <td><strong>Upper bound</strong></td><td>1000.0</td>\n",
       "            </tr>\n",
       "        </table>\n",
       "        "
      ],
      "text/plain": [
       "<Reaction CHRPL at 0x1fadccaaf40>"
      ]
     },
     "execution_count": 111,
     "metadata": {},
     "output_type": "execute_result"
    }
   ],
   "source": [
    "list(base_mod.genes.get_by_id(L5_impGrwth[6]).reactions)[0]"
   ]
  },
  {
   "cell_type": "code",
   "execution_count": 112,
   "id": "d7a019c5",
   "metadata": {},
   "outputs": [
    {
     "data": {
      "text/html": [
       "\n",
       "        <table>\n",
       "            <tr>\n",
       "                <td><strong>Gene identifier</strong></td><td>Rv2225</td>\n",
       "            </tr><tr>\n",
       "                <td><strong>Name</strong></td><td></td>\n",
       "            </tr><tr>\n",
       "                <td><strong>Memory address</strong></td>\n",
       "                <td>0x01fadbb30a90</td>\n",
       "            </tr><tr>\n",
       "                <td><strong>Functional</strong></td><td>True</td>\n",
       "            </tr><tr>\n",
       "                <td><strong>In 1 reaction(s)</strong></td><td>\n",
       "                    MOHMT</td>\n",
       "            </tr>\n",
       "        </table>"
      ],
      "text/plain": [
       "<Gene Rv2225 at 0x1fadbb30a90>"
      ]
     },
     "execution_count": 112,
     "metadata": {},
     "output_type": "execute_result"
    }
   ],
   "source": [
    "base_mod.genes.get_by_id(L5_impGrwth[7])"
   ]
  },
  {
   "cell_type": "code",
   "execution_count": 113,
   "id": "8ad5b9bf",
   "metadata": {},
   "outputs": [
    {
     "data": {
      "text/html": [
       "\n",
       "        <table>\n",
       "            <tr>\n",
       "                <td><strong>Reaction identifier</strong></td><td>MOHMT</td>\n",
       "            </tr><tr>\n",
       "                <td><strong>Name</strong></td><td>3-methyl-2-oxobutanoate hydroxymethyltransferase</td>\n",
       "            </tr><tr>\n",
       "                <td><strong>Memory address</strong></td>\n",
       "                <td>0x01fadcd7b1c0</td>\n",
       "            </tr><tr>\n",
       "                <td><strong>Stoichiometry</strong></td>\n",
       "                <td>\n",
       "                    <p style='text-align:right'>3mob[c] + h2o[c] + mlthf[c] --> 2dhp[c] + thf[c]</p>\n",
       "                    <p style='text-align:right'>3-Methyl-2-oxobutanoate [cytoplasm] + H2O H2O [cytoplasm] + 5,10-Methylenetetrahydrofolate [cytoplasm] --> 2-Dehydropantoate [cytoplasm] + 5,6,7,8-Tetrahydrofolate [cytoplasm]</p>\n",
       "                </td>\n",
       "            </tr><tr>\n",
       "                <td><strong>GPR</strong></td><td>Rv2225</td>\n",
       "            </tr><tr>\n",
       "                <td><strong>Lower bound</strong></td><td>0.0</td>\n",
       "            </tr><tr>\n",
       "                <td><strong>Upper bound</strong></td><td>1000.0</td>\n",
       "            </tr>\n",
       "        </table>\n",
       "        "
      ],
      "text/plain": [
       "<Reaction MOHMT at 0x1fadcd7b1c0>"
      ]
     },
     "execution_count": 113,
     "metadata": {},
     "output_type": "execute_result"
    }
   ],
   "source": [
    "list(base_mod.genes.get_by_id(L5_impGrwth[7]).reactions)[0]"
   ]
  },
  {
   "cell_type": "code",
   "execution_count": 114,
   "id": "27c24053",
   "metadata": {},
   "outputs": [
    {
     "data": {
      "text/html": [
       "\n",
       "        <table>\n",
       "            <tr>\n",
       "                <td><strong>Gene identifier</strong></td><td>Rv2155c</td>\n",
       "            </tr><tr>\n",
       "                <td><strong>Name</strong></td><td></td>\n",
       "            </tr><tr>\n",
       "                <td><strong>Memory address</strong></td>\n",
       "                <td>0x01fadc915070</td>\n",
       "            </tr><tr>\n",
       "                <td><strong>Functional</strong></td><td>True</td>\n",
       "            </tr><tr>\n",
       "                <td><strong>In 2 reaction(s)</strong></td><td>\n",
       "                    UAMAGS, UGMAGS</td>\n",
       "            </tr>\n",
       "        </table>"
      ],
      "text/plain": [
       "<Gene Rv2155c at 0x1fadc915070>"
      ]
     },
     "execution_count": 114,
     "metadata": {},
     "output_type": "execute_result"
    }
   ],
   "source": [
    "base_mod.genes.get_by_id(L5_impGrwth[8])"
   ]
  },
  {
   "cell_type": "code",
   "execution_count": 115,
   "id": "ff4379a8",
   "metadata": {},
   "outputs": [
    {
     "data": {
      "text/html": [
       "\n",
       "        <table>\n",
       "            <tr>\n",
       "                <td><strong>Reaction identifier</strong></td><td>UAMAGS</td>\n",
       "            </tr><tr>\n",
       "                <td><strong>Name</strong></td><td>UDP-N-acetylmuramoyl-L-alanyl-D-glutamate synthetase</td>\n",
       "            </tr><tr>\n",
       "                <td><strong>Memory address</strong></td>\n",
       "                <td>0x01fadcda5f10</td>\n",
       "            </tr><tr>\n",
       "                <td><strong>Stoichiometry</strong></td>\n",
       "                <td>\n",
       "                    <p style='text-align:right'>atp[c] + glu__D[c] + uama[c] --> adp[c] + h[c] + pi[c] + uamag[c]</p>\n",
       "                    <p style='text-align:right'>ATP C10H12N5O13P3 [cytoplasm] + D-Glutamate [cytoplasm] + UDP-N-acetylmuramoyl-L-alanine [cytoplasm] --> ADP C10H12N5O10P2 [cytoplasm] + H+ [cytoplasm] + Phosphate [cytoplasm] + UDP-N-...</p>\n",
       "                </td>\n",
       "            </tr><tr>\n",
       "                <td><strong>GPR</strong></td><td>Rv2155c</td>\n",
       "            </tr><tr>\n",
       "                <td><strong>Lower bound</strong></td><td>0.0</td>\n",
       "            </tr><tr>\n",
       "                <td><strong>Upper bound</strong></td><td>1000.0</td>\n",
       "            </tr>\n",
       "        </table>\n",
       "        "
      ],
      "text/plain": [
       "<Reaction UAMAGS at 0x1fadcda5f10>"
      ]
     },
     "execution_count": 115,
     "metadata": {},
     "output_type": "execute_result"
    }
   ],
   "source": [
    "list(base_mod.genes.get_by_id(L5_impGrwth[8]).reactions)[0]"
   ]
  },
  {
   "cell_type": "code",
   "execution_count": 116,
   "id": "d3c23f4d",
   "metadata": {},
   "outputs": [
    {
     "data": {
      "text/html": [
       "\n",
       "        <table>\n",
       "            <tr>\n",
       "                <td><strong>Reaction identifier</strong></td><td>UGMAGS</td>\n",
       "            </tr><tr>\n",
       "                <td><strong>Name</strong></td><td>UGMAGS</td>\n",
       "            </tr><tr>\n",
       "                <td><strong>Memory address</strong></td>\n",
       "                <td>0x01fadcdb1910</td>\n",
       "            </tr><tr>\n",
       "                <td><strong>Stoichiometry</strong></td>\n",
       "                <td>\n",
       "                    <p style='text-align:right'>atp[c] + glu__D[c] + ugma[c] --> adp[c] + h[c] + pi[c] + ugmag[c]</p>\n",
       "                    <p style='text-align:right'>ATP C10H12N5O13P3 [cytoplasm] + D-Glutamate [cytoplasm] + UDP-N-glycolylmuramoyl-L-alanine [cytoplasm] --> ADP C10H12N5O10P2 [cytoplasm] + H+ [cytoplasm] + Phosphate [cytoplasm] + UDP-N-...</p>\n",
       "                </td>\n",
       "            </tr><tr>\n",
       "                <td><strong>GPR</strong></td><td>Rv2155c</td>\n",
       "            </tr><tr>\n",
       "                <td><strong>Lower bound</strong></td><td>0.0</td>\n",
       "            </tr><tr>\n",
       "                <td><strong>Upper bound</strong></td><td>1000.0</td>\n",
       "            </tr>\n",
       "        </table>\n",
       "        "
      ],
      "text/plain": [
       "<Reaction UGMAGS at 0x1fadcdb1910>"
      ]
     },
     "execution_count": 116,
     "metadata": {},
     "output_type": "execute_result"
    }
   ],
   "source": [
    "list(base_mod.genes.get_by_id(L5_impGrwth[8]).reactions)[1]"
   ]
  },
  {
   "cell_type": "code",
   "execution_count": 117,
   "id": "39eda5dd",
   "metadata": {},
   "outputs": [
    {
     "data": {
      "text/html": [
       "\n",
       "        <table>\n",
       "            <tr>\n",
       "                <td><strong>Gene identifier</strong></td><td>Rv0788</td>\n",
       "            </tr><tr>\n",
       "                <td><strong>Name</strong></td><td></td>\n",
       "            </tr><tr>\n",
       "                <td><strong>Memory address</strong></td>\n",
       "                <td>0x01fadc915d60</td>\n",
       "            </tr><tr>\n",
       "                <td><strong>Functional</strong></td><td>True</td>\n",
       "            </tr><tr>\n",
       "                <td><strong>In 1 reaction(s)</strong></td><td>\n",
       "                    PRFGS</td>\n",
       "            </tr>\n",
       "        </table>"
      ],
      "text/plain": [
       "<Gene Rv0788 at 0x1fadc915d60>"
      ]
     },
     "execution_count": 117,
     "metadata": {},
     "output_type": "execute_result"
    }
   ],
   "source": [
    "base_mod.genes.get_by_id(L5_impGrwth[9])"
   ]
  },
  {
   "cell_type": "code",
   "execution_count": 118,
   "id": "2bc2a2ec",
   "metadata": {},
   "outputs": [
    {
     "data": {
      "text/html": [
       "\n",
       "        <table>\n",
       "            <tr>\n",
       "                <td><strong>Reaction identifier</strong></td><td>PRFGS</td>\n",
       "            </tr><tr>\n",
       "                <td><strong>Name</strong></td><td>Phosphoribosylformylglycinamidine synthase</td>\n",
       "            </tr><tr>\n",
       "                <td><strong>Memory address</strong></td>\n",
       "                <td>0x01fadce09fa0</td>\n",
       "            </tr><tr>\n",
       "                <td><strong>Stoichiometry</strong></td>\n",
       "                <td>\n",
       "                    <p style='text-align:right'>atp[c] + fgam[c] + gln__L[c] + h2o[c] --> adp[c] + fpram[c] + glu__L[c] + h[c] + pi[c]</p>\n",
       "                    <p style='text-align:right'>ATP C10H12N5O13P3 [cytoplasm] + N2-Formyl-N1-(5-phospho-D-ribosyl)glycinamide [cytoplasm] + L-Glutamine [cytoplasm] + H2O H2O [cytoplasm] --> ADP C10H12N5O10P2 [cytoplasm] +...</p>\n",
       "                </td>\n",
       "            </tr><tr>\n",
       "                <td><strong>GPR</strong></td><td>Rv0803 and Rv0788</td>\n",
       "            </tr><tr>\n",
       "                <td><strong>Lower bound</strong></td><td>0.0</td>\n",
       "            </tr><tr>\n",
       "                <td><strong>Upper bound</strong></td><td>1000.0</td>\n",
       "            </tr>\n",
       "        </table>\n",
       "        "
      ],
      "text/plain": [
       "<Reaction PRFGS at 0x1fadce09fa0>"
      ]
     },
     "execution_count": 118,
     "metadata": {},
     "output_type": "execute_result"
    }
   ],
   "source": [
    "list(base_mod.genes.get_by_id(L5_impGrwth[9]).reactions)[0]"
   ]
  },
  {
   "cell_type": "code",
   "execution_count": 119,
   "id": "be317db6",
   "metadata": {},
   "outputs": [
    {
     "data": {
      "text/html": [
       "\n",
       "        <table>\n",
       "            <tr>\n",
       "                <td><strong>Gene identifier</strong></td><td>Rv3913</td>\n",
       "            </tr><tr>\n",
       "                <td><strong>Name</strong></td><td></td>\n",
       "            </tr><tr>\n",
       "                <td><strong>Memory address</strong></td>\n",
       "                <td>0x01fadc915f70</td>\n",
       "            </tr><tr>\n",
       "                <td><strong>Functional</strong></td><td>True</td>\n",
       "            </tr><tr>\n",
       "                <td><strong>In 1 reaction(s)</strong></td><td>\n",
       "                    TRDR</td>\n",
       "            </tr>\n",
       "        </table>"
      ],
      "text/plain": [
       "<Gene Rv3913 at 0x1fadc915f70>"
      ]
     },
     "execution_count": 119,
     "metadata": {},
     "output_type": "execute_result"
    }
   ],
   "source": [
    "base_mod.genes.get_by_id(L5_impGrwth[10])"
   ]
  },
  {
   "cell_type": "code",
   "execution_count": 120,
   "id": "c9c08cc0",
   "metadata": {},
   "outputs": [
    {
     "data": {
      "text/html": [
       "\n",
       "        <table>\n",
       "            <tr>\n",
       "                <td><strong>Reaction identifier</strong></td><td>TRDR</td>\n",
       "            </tr><tr>\n",
       "                <td><strong>Name</strong></td><td>Thioredoxin reductase (NADPH)</td>\n",
       "            </tr><tr>\n",
       "                <td><strong>Memory address</strong></td>\n",
       "                <td>0x01fadce23820</td>\n",
       "            </tr><tr>\n",
       "                <td><strong>Stoichiometry</strong></td>\n",
       "                <td>\n",
       "                    <p style='text-align:right'>h[c] + nadph[c] + trdox[c] --> nadp[c] + trdrd[c]</p>\n",
       "                    <p style='text-align:right'>H+ [cytoplasm] + Nicotinamide adenine dinucleotide phosphate - reduced [cytoplasm] + Oxidized thioredoxin [cytoplasm] --> Nicotinamide adenine dinucleotide phosphate [cytoplasm] + Reduced...</p>\n",
       "                </td>\n",
       "            </tr><tr>\n",
       "                <td><strong>GPR</strong></td><td>Rv3913</td>\n",
       "            </tr><tr>\n",
       "                <td><strong>Lower bound</strong></td><td>0.0</td>\n",
       "            </tr><tr>\n",
       "                <td><strong>Upper bound</strong></td><td>1000.0</td>\n",
       "            </tr>\n",
       "        </table>\n",
       "        "
      ],
      "text/plain": [
       "<Reaction TRDR at 0x1fadce23820>"
      ]
     },
     "execution_count": 120,
     "metadata": {},
     "output_type": "execute_result"
    }
   ],
   "source": [
    "list(base_mod.genes.get_by_id(L5_impGrwth[10]).reactions)[0]"
   ]
  },
  {
   "cell_type": "code",
   "execution_count": 121,
   "id": "4630fad3",
   "metadata": {},
   "outputs": [],
   "source": [
    "L5_toDel_cur = L5_toDelMuts.loc[L5_toDelMuts['BM'] != 0]['gene'].tolist()"
   ]
  },
  {
   "cell_type": "code",
   "execution_count": 122,
   "id": "1185f4b4",
   "metadata": {},
   "outputs": [],
   "source": [
    "L5_cur = cobra.io.load_json_model(join(mod_dir, \"iEK1011_2.0.json\"))"
   ]
  },
  {
   "cell_type": "code",
   "execution_count": 123,
   "id": "e015a5c6",
   "metadata": {},
   "outputs": [],
   "source": [
    "remove_genes(L5_cur, L5_toDel_cur, remove_reactions=True)"
   ]
  },
  {
   "cell_type": "code",
   "execution_count": 124,
   "id": "f29ac06d",
   "metadata": {},
   "outputs": [],
   "source": [
    "L5_cur.medium = mi7H9_OADC_Med"
   ]
  },
  {
   "cell_type": "code",
   "execution_count": 125,
   "id": "5f3d392f",
   "metadata": {},
   "outputs": [
    {
     "data": {
      "text/plain": [
       "0.07524297272645399"
      ]
     },
     "execution_count": 125,
     "metadata": {},
     "output_type": "execute_result"
    }
   ],
   "source": [
    "L5_cur.slim_optimize()"
   ]
  },
  {
   "cell_type": "markdown",
   "id": "34ca9a0e",
   "metadata": {},
   "source": [
    "#### L5 round 2\n",
    "L5 model is still not growing how it should. Check what else needs to be kept"
   ]
  },
  {
   "cell_type": "code",
   "execution_count": 126,
   "id": "9e5d85b8",
   "metadata": {},
   "outputs": [
    {
     "name": "stdout",
     "output_type": "stream",
     "text": [
      "Growth with Rv2531c deleted: 0.3683291764340493\n",
      "Growth with Rv2222c deleted: 0.3683291764340529\n",
      "Growth with Rv3784 deleted: 0.3683291764340529\n",
      "Growth with Rv1188 deleted: 0.3683291764340529\n",
      "Growth with Rv0400c deleted: 0.3683291764340529\n",
      "Growth with Rv0672 deleted: 0.3683291764340529\n",
      "Growth with Rv2724c deleted: 0.3683291764340529\n",
      "Growth with Rv1912c deleted: 0.3683291764340529\n",
      "Growth with Rv3139 deleted: 0.3683291764340529\n",
      "Growth with Rv1552 deleted: 0.3683291764340529\n",
      "Growth with Rv1240 deleted: 0.3228575664042155\n",
      "Growth with Rv2967c deleted: 0.3683291764340529\n",
      "Growth with Rv0254c deleted: 0.3683291764340492\n",
      "Growth with Rv2849c deleted: 0.3683291764344683\n",
      "Growth with Rv2850c deleted: 0.3683291764340529\n",
      "Growth with Rv2071c deleted: 0.3683291764340529\n",
      "Growth with Rv0069c deleted: 0.36832917643404867\n",
      "Growth with Rv3130c deleted: 0.3683291764340529\n",
      "Growth with Rv2590 deleted: 0.3683291764340529\n",
      "Growth with Rv1427c deleted: 0.3683291764340529\n",
      "Growth with Rv3513c deleted: 0.3683291764340529\n",
      "Growth with Rv2505c deleted: 0.3683291764340529\n",
      "Growth with Rv2503c deleted: 0.3683291764340493\n",
      "Growth with Rv0112 deleted: 0.3683291764340529\n",
      "Growth with Rv0499 deleted: 0.3683291764340529\n",
      "Growth with Rv0768 deleted: 0.3683291764340529\n",
      "Growth with Rv3214 deleted: 0.3683291764340529\n",
      "Growth with Rv1617 deleted: 0.36832917643405105\n",
      "Growth with Rv2380c deleted: 0.36832917643405394\n",
      "Growth with Rv0087 deleted: 0.3683291764340529\n",
      "Growth with Rv1309 deleted: 0.1302016729300472\n",
      "Growth with Rv1307 deleted: 0.1302016729300472\n",
      "Growth with Rv0573c deleted: 0.3683291764340529\n",
      "Growth with Rv2074 deleted: 0.3683291764340529\n",
      "Growth with Rv2682c deleted: 0.3683291764340529\n",
      "Growth with Rv1131 deleted: 0.3683291764340532\n",
      "Growth with Rv1320c deleted: 0.3683291764340529\n",
      "Growth with Rv2435c deleted: 0.3683291764340529\n",
      "Growth with Rv0382c deleted: 0.368329176434051\n",
      "Growth with Rv1850 deleted: 0.3683291764340565\n",
      "Growth with Rv1127c deleted: 0.3683291764340491\n",
      "Growth with Rv3824c deleted: 0.3683291764340529\n",
      "Growth with Rv0522 deleted: 0.3683291764340529\n",
      "Growth with Rv3759c deleted: 0.3683291764340529\n",
      "Growth with Rv1030 deleted: 0.3683291764340529\n",
      "Growth with Rv2691 deleted: 0.3683291764340529\n",
      "Growth with Rv2287 deleted: 0.3683291764340529\n",
      "Growth with Rv3500c deleted: 0.3683291764340541\n"
     ]
    },
    {
     "data": {
      "text/html": [
       "<div>\n",
       "<style scoped>\n",
       "    .dataframe tbody tr th:only-of-type {\n",
       "        vertical-align: middle;\n",
       "    }\n",
       "\n",
       "    .dataframe tbody tr th {\n",
       "        vertical-align: top;\n",
       "    }\n",
       "\n",
       "    .dataframe thead th {\n",
       "        text-align: right;\n",
       "    }\n",
       "</style>\n",
       "<table border=\"1\" class=\"dataframe\">\n",
       "  <thead>\n",
       "    <tr style=\"text-align: right;\">\n",
       "      <th></th>\n",
       "      <th>gene</th>\n",
       "      <th>BM</th>\n",
       "    </tr>\n",
       "  </thead>\n",
       "  <tbody>\n",
       "    <tr>\n",
       "      <th>0</th>\n",
       "      <td>Rv2531c</td>\n",
       "      <td>0.368329</td>\n",
       "    </tr>\n",
       "    <tr>\n",
       "      <th>1</th>\n",
       "      <td>Rv2222c</td>\n",
       "      <td>0.368329</td>\n",
       "    </tr>\n",
       "    <tr>\n",
       "      <th>2</th>\n",
       "      <td>Rv3784</td>\n",
       "      <td>0.368329</td>\n",
       "    </tr>\n",
       "    <tr>\n",
       "      <th>3</th>\n",
       "      <td>Rv1188</td>\n",
       "      <td>0.368329</td>\n",
       "    </tr>\n",
       "    <tr>\n",
       "      <th>4</th>\n",
       "      <td>Rv0400c</td>\n",
       "      <td>0.368329</td>\n",
       "    </tr>\n",
       "    <tr>\n",
       "      <th>5</th>\n",
       "      <td>Rv0672</td>\n",
       "      <td>0.368329</td>\n",
       "    </tr>\n",
       "    <tr>\n",
       "      <th>6</th>\n",
       "      <td>Rv2724c</td>\n",
       "      <td>0.368329</td>\n",
       "    </tr>\n",
       "    <tr>\n",
       "      <th>7</th>\n",
       "      <td>Rv1912c</td>\n",
       "      <td>0.368329</td>\n",
       "    </tr>\n",
       "    <tr>\n",
       "      <th>8</th>\n",
       "      <td>Rv3139</td>\n",
       "      <td>0.368329</td>\n",
       "    </tr>\n",
       "    <tr>\n",
       "      <th>9</th>\n",
       "      <td>Rv1552</td>\n",
       "      <td>0.368329</td>\n",
       "    </tr>\n",
       "    <tr>\n",
       "      <th>10</th>\n",
       "      <td>Rv1240</td>\n",
       "      <td>0.322858</td>\n",
       "    </tr>\n",
       "    <tr>\n",
       "      <th>11</th>\n",
       "      <td>Rv2967c</td>\n",
       "      <td>0.368329</td>\n",
       "    </tr>\n",
       "    <tr>\n",
       "      <th>12</th>\n",
       "      <td>Rv0254c</td>\n",
       "      <td>0.368329</td>\n",
       "    </tr>\n",
       "    <tr>\n",
       "      <th>13</th>\n",
       "      <td>Rv2849c</td>\n",
       "      <td>0.368329</td>\n",
       "    </tr>\n",
       "    <tr>\n",
       "      <th>14</th>\n",
       "      <td>Rv2850c</td>\n",
       "      <td>0.368329</td>\n",
       "    </tr>\n",
       "    <tr>\n",
       "      <th>15</th>\n",
       "      <td>Rv2071c</td>\n",
       "      <td>0.368329</td>\n",
       "    </tr>\n",
       "    <tr>\n",
       "      <th>16</th>\n",
       "      <td>Rv0069c</td>\n",
       "      <td>0.368329</td>\n",
       "    </tr>\n",
       "    <tr>\n",
       "      <th>17</th>\n",
       "      <td>Rv3130c</td>\n",
       "      <td>0.368329</td>\n",
       "    </tr>\n",
       "    <tr>\n",
       "      <th>18</th>\n",
       "      <td>Rv2590</td>\n",
       "      <td>0.368329</td>\n",
       "    </tr>\n",
       "    <tr>\n",
       "      <th>19</th>\n",
       "      <td>Rv1427c</td>\n",
       "      <td>0.368329</td>\n",
       "    </tr>\n",
       "    <tr>\n",
       "      <th>20</th>\n",
       "      <td>Rv3513c</td>\n",
       "      <td>0.368329</td>\n",
       "    </tr>\n",
       "    <tr>\n",
       "      <th>21</th>\n",
       "      <td>Rv2505c</td>\n",
       "      <td>0.368329</td>\n",
       "    </tr>\n",
       "    <tr>\n",
       "      <th>22</th>\n",
       "      <td>Rv2503c</td>\n",
       "      <td>0.368329</td>\n",
       "    </tr>\n",
       "    <tr>\n",
       "      <th>23</th>\n",
       "      <td>Rv0112</td>\n",
       "      <td>0.368329</td>\n",
       "    </tr>\n",
       "    <tr>\n",
       "      <th>24</th>\n",
       "      <td>Rv0499</td>\n",
       "      <td>0.368329</td>\n",
       "    </tr>\n",
       "    <tr>\n",
       "      <th>25</th>\n",
       "      <td>Rv0768</td>\n",
       "      <td>0.368329</td>\n",
       "    </tr>\n",
       "    <tr>\n",
       "      <th>26</th>\n",
       "      <td>Rv3214</td>\n",
       "      <td>0.368329</td>\n",
       "    </tr>\n",
       "    <tr>\n",
       "      <th>27</th>\n",
       "      <td>Rv1617</td>\n",
       "      <td>0.368329</td>\n",
       "    </tr>\n",
       "    <tr>\n",
       "      <th>28</th>\n",
       "      <td>Rv2380c</td>\n",
       "      <td>0.368329</td>\n",
       "    </tr>\n",
       "    <tr>\n",
       "      <th>29</th>\n",
       "      <td>Rv0087</td>\n",
       "      <td>0.368329</td>\n",
       "    </tr>\n",
       "    <tr>\n",
       "      <th>30</th>\n",
       "      <td>Rv1309</td>\n",
       "      <td>0.130202</td>\n",
       "    </tr>\n",
       "    <tr>\n",
       "      <th>31</th>\n",
       "      <td>Rv1307</td>\n",
       "      <td>0.130202</td>\n",
       "    </tr>\n",
       "    <tr>\n",
       "      <th>32</th>\n",
       "      <td>Rv0573c</td>\n",
       "      <td>0.368329</td>\n",
       "    </tr>\n",
       "    <tr>\n",
       "      <th>33</th>\n",
       "      <td>Rv2074</td>\n",
       "      <td>0.368329</td>\n",
       "    </tr>\n",
       "    <tr>\n",
       "      <th>34</th>\n",
       "      <td>Rv2682c</td>\n",
       "      <td>0.368329</td>\n",
       "    </tr>\n",
       "    <tr>\n",
       "      <th>35</th>\n",
       "      <td>Rv1131</td>\n",
       "      <td>0.368329</td>\n",
       "    </tr>\n",
       "    <tr>\n",
       "      <th>36</th>\n",
       "      <td>Rv1320c</td>\n",
       "      <td>0.368329</td>\n",
       "    </tr>\n",
       "    <tr>\n",
       "      <th>37</th>\n",
       "      <td>Rv2435c</td>\n",
       "      <td>0.368329</td>\n",
       "    </tr>\n",
       "    <tr>\n",
       "      <th>38</th>\n",
       "      <td>Rv0382c</td>\n",
       "      <td>0.368329</td>\n",
       "    </tr>\n",
       "    <tr>\n",
       "      <th>39</th>\n",
       "      <td>Rv1850</td>\n",
       "      <td>0.368329</td>\n",
       "    </tr>\n",
       "    <tr>\n",
       "      <th>40</th>\n",
       "      <td>Rv1127c</td>\n",
       "      <td>0.368329</td>\n",
       "    </tr>\n",
       "    <tr>\n",
       "      <th>41</th>\n",
       "      <td>Rv3824c</td>\n",
       "      <td>0.368329</td>\n",
       "    </tr>\n",
       "    <tr>\n",
       "      <th>42</th>\n",
       "      <td>Rv0522</td>\n",
       "      <td>0.368329</td>\n",
       "    </tr>\n",
       "    <tr>\n",
       "      <th>43</th>\n",
       "      <td>Rv3759c</td>\n",
       "      <td>0.368329</td>\n",
       "    </tr>\n",
       "    <tr>\n",
       "      <th>44</th>\n",
       "      <td>Rv1030</td>\n",
       "      <td>0.368329</td>\n",
       "    </tr>\n",
       "    <tr>\n",
       "      <th>45</th>\n",
       "      <td>Rv2691</td>\n",
       "      <td>0.368329</td>\n",
       "    </tr>\n",
       "    <tr>\n",
       "      <th>46</th>\n",
       "      <td>Rv2287</td>\n",
       "      <td>0.368329</td>\n",
       "    </tr>\n",
       "    <tr>\n",
       "      <th>47</th>\n",
       "      <td>Rv3500c</td>\n",
       "      <td>0.368329</td>\n",
       "    </tr>\n",
       "  </tbody>\n",
       "</table>\n",
       "</div>"
      ],
      "text/plain": [
       "       gene        BM\n",
       "0   Rv2531c  0.368329\n",
       "1   Rv2222c  0.368329\n",
       "2    Rv3784  0.368329\n",
       "3    Rv1188  0.368329\n",
       "4   Rv0400c  0.368329\n",
       "5    Rv0672  0.368329\n",
       "6   Rv2724c  0.368329\n",
       "7   Rv1912c  0.368329\n",
       "8    Rv3139  0.368329\n",
       "9    Rv1552  0.368329\n",
       "10   Rv1240  0.322858\n",
       "11  Rv2967c  0.368329\n",
       "12  Rv0254c  0.368329\n",
       "13  Rv2849c  0.368329\n",
       "14  Rv2850c  0.368329\n",
       "15  Rv2071c  0.368329\n",
       "16  Rv0069c  0.368329\n",
       "17  Rv3130c  0.368329\n",
       "18   Rv2590  0.368329\n",
       "19  Rv1427c  0.368329\n",
       "20  Rv3513c  0.368329\n",
       "21  Rv2505c  0.368329\n",
       "22  Rv2503c  0.368329\n",
       "23   Rv0112  0.368329\n",
       "24   Rv0499  0.368329\n",
       "25   Rv0768  0.368329\n",
       "26   Rv3214  0.368329\n",
       "27   Rv1617  0.368329\n",
       "28  Rv2380c  0.368329\n",
       "29   Rv0087  0.368329\n",
       "30   Rv1309  0.130202\n",
       "31   Rv1307  0.130202\n",
       "32  Rv0573c  0.368329\n",
       "33   Rv2074  0.368329\n",
       "34  Rv2682c  0.368329\n",
       "35   Rv1131  0.368329\n",
       "36  Rv1320c  0.368329\n",
       "37  Rv2435c  0.368329\n",
       "38  Rv0382c  0.368329\n",
       "39   Rv1850  0.368329\n",
       "40  Rv1127c  0.368329\n",
       "41  Rv3824c  0.368329\n",
       "42   Rv0522  0.368329\n",
       "43  Rv3759c  0.368329\n",
       "44   Rv1030  0.368329\n",
       "45   Rv2691  0.368329\n",
       "46   Rv2287  0.368329\n",
       "47  Rv3500c  0.368329"
      ]
     },
     "execution_count": 126,
     "metadata": {},
     "output_type": "execute_result"
    }
   ],
   "source": [
    "testDelsFun(L5_toDel_cur)"
   ]
  },
  {
   "cell_type": "markdown",
   "id": "ca3118df",
   "metadata": {},
   "source": [
    "It's a combination of removed genes what is blocking growth."
   ]
  },
  {
   "cell_type": "code",
   "execution_count": 127,
   "id": "596457d4",
   "metadata": {},
   "outputs": [
    {
     "name": "stdout",
     "output_type": "stream",
     "text": [
      "Growth without removing Rv1240 from the model restores growth: 0.13020167293005466.\n"
     ]
    }
   ],
   "source": [
    "for i in range(0, len(L5_toDel_cur)):\n",
    "    tryDels = cp.copy(L5_toDel_cur)\n",
    "    remov = tryDels[i]\n",
    "    tryDels.remove(remov)\n",
    "    testMod = base_mod.copy()\n",
    "    testMod.medium = mi7H9_OADC_Med\n",
    "    remove_genes(testMod, tryDels, remove_reactions=True)\n",
    "    result = testMod.slim_optimize()\n",
    "    if(result > 0.076):\n",
    "        print('Growth without removing %s from the model restores growth: %s.'%(remov, str(result)))"
   ]
  },
  {
   "cell_type": "markdown",
   "id": "b3948fcc",
   "metadata": {},
   "source": [
    "Rv1240 increases a bit growth, from 0.075 to 0.13, but still it's not enough"
   ]
  },
  {
   "cell_type": "code",
   "execution_count": 128,
   "id": "1eec253c",
   "metadata": {},
   "outputs": [
    {
     "data": {
      "text/html": [
       "\n",
       "        <table>\n",
       "            <tr>\n",
       "                <td><strong>Gene identifier</strong></td><td>Rv1240</td>\n",
       "            </tr><tr>\n",
       "                <td><strong>Name</strong></td><td></td>\n",
       "            </tr><tr>\n",
       "                <td><strong>Memory address</strong></td>\n",
       "                <td>0x01fadc8ded90</td>\n",
       "            </tr><tr>\n",
       "                <td><strong>Functional</strong></td><td>True</td>\n",
       "            </tr><tr>\n",
       "                <td><strong>In 1 reaction(s)</strong></td><td>\n",
       "                    MDH</td>\n",
       "            </tr>\n",
       "        </table>"
      ],
      "text/plain": [
       "<Gene Rv1240 at 0x1fadc8ded90>"
      ]
     },
     "execution_count": 128,
     "metadata": {},
     "output_type": "execute_result"
    }
   ],
   "source": [
    "base_mod.genes.get_by_id('Rv1240')"
   ]
  },
  {
   "cell_type": "code",
   "execution_count": 129,
   "id": "11b8fa11",
   "metadata": {},
   "outputs": [
    {
     "data": {
      "text/html": [
       "\n",
       "        <table>\n",
       "            <tr>\n",
       "                <td><strong>Reaction identifier</strong></td><td>MDH</td>\n",
       "            </tr><tr>\n",
       "                <td><strong>Name</strong></td><td>Malate dehydrogenase</td>\n",
       "            </tr><tr>\n",
       "                <td><strong>Memory address</strong></td>\n",
       "                <td>0x01fadc9b8d90</td>\n",
       "            </tr><tr>\n",
       "                <td><strong>Stoichiometry</strong></td>\n",
       "                <td>\n",
       "                    <p style='text-align:right'>mal__L[c] + nad[c] <=> h[c] + nadh[c] + oaa[c]</p>\n",
       "                    <p style='text-align:right'>L-Malate [cytoplasm] + Nicotinamide adenine dinucleotide [cytoplasm] <=> H+ [cytoplasm] + Nicotinamide adenine dinucleotide - reduced [cytoplasm] + Oxaloacetate [cytoplasm]</p>\n",
       "                </td>\n",
       "            </tr><tr>\n",
       "                <td><strong>GPR</strong></td><td>Rv1240</td>\n",
       "            </tr><tr>\n",
       "                <td><strong>Lower bound</strong></td><td>-1000.0</td>\n",
       "            </tr><tr>\n",
       "                <td><strong>Upper bound</strong></td><td>1000.0</td>\n",
       "            </tr>\n",
       "        </table>\n",
       "        "
      ],
      "text/plain": [
       "<Reaction MDH at 0x1fadc9b8d90>"
      ]
     },
     "execution_count": 129,
     "metadata": {},
     "output_type": "execute_result"
    }
   ],
   "source": [
    "list(base_mod.genes.get_by_id('Rv1240').reactions)[0]"
   ]
  },
  {
   "cell_type": "code",
   "execution_count": 130,
   "id": "126ccf58",
   "metadata": {},
   "outputs": [
    {
     "data": {
      "text/html": [
       "<div>\n",
       "<style scoped>\n",
       "    .dataframe tbody tr th:only-of-type {\n",
       "        vertical-align: middle;\n",
       "    }\n",
       "\n",
       "    .dataframe tbody tr th {\n",
       "        vertical-align: top;\n",
       "    }\n",
       "\n",
       "    .dataframe thead th {\n",
       "        text-align: right;\n",
       "    }\n",
       "</style>\n",
       "<table border=\"1\" class=\"dataframe\">\n",
       "  <thead>\n",
       "    <tr style=\"text-align: right;\">\n",
       "      <th></th>\n",
       "      <th>POS</th>\n",
       "      <th>REF</th>\n",
       "      <th>ALT</th>\n",
       "      <th>LIN</th>\n",
       "      <th>ANN</th>\n",
       "      <th>LOCUS</th>\n",
       "      <th>AA_one</th>\n",
       "      <th>PROVEAN</th>\n",
       "    </tr>\n",
       "  </thead>\n",
       "  <tbody>\n",
       "    <tr>\n",
       "      <th>0</th>\n",
       "      <td>1383970.0</td>\n",
       "      <td>A</td>\n",
       "      <td>C</td>\n",
       "      <td>L5</td>\n",
       "      <td>missense_variant</td>\n",
       "      <td>Rv1240</td>\n",
       "      <td>D253A</td>\n",
       "      <td>-5.383</td>\n",
       "    </tr>\n",
       "  </tbody>\n",
       "</table>\n",
       "</div>"
      ],
      "text/plain": [
       "         POS REF ALT LIN               ANN   LOCUS AA_one  PROVEAN\n",
       "0  1383970.0   A   C  L5  missense_variant  Rv1240  D253A   -5.383"
      ]
     },
     "execution_count": 130,
     "metadata": {},
     "output_type": "execute_result"
    }
   ],
   "source": [
    "getProvScore('Rv1240', 'L5')"
   ]
  },
  {
   "cell_type": "markdown",
   "id": "d0dad87c",
   "metadata": {},
   "source": [
    "Rv1240. malate dehydrogenase Mdh. Essential in Mycobrowser. PROVEAN = -5.383. Let's see if there are combinations of two that restore a higher growth before making decisions."
   ]
  },
  {
   "cell_type": "code",
   "execution_count": 132,
   "id": "ced314b0",
   "metadata": {},
   "outputs": [
    {
     "name": "stdout",
     "output_type": "stream",
     "text": [
      "Growth without removing Rv2531c and Rv1240 from the model restores growth: 0.13020167293004925.\n",
      "Growth without removing Rv2222c and Rv1240 from the model restores growth: 0.13020167293005466.\n",
      "Growth without removing Rv3784 and Rv1240 from the model restores growth: 0.13020167293005466.\n",
      "Growth without removing Rv1188 and Rv1240 from the model restores growth: 0.13020167293005483.\n",
      "Growth without removing Rv0400c and Rv1240 from the model restores growth: 0.13020167293005466.\n",
      "Growth without removing Rv0672 and Rv1240 from the model restores growth: 0.13020167293005466.\n",
      "Growth without removing Rv2724c and Rv1240 from the model restores growth: 0.13020167293005466.\n",
      "Growth without removing Rv1912c and Rv1240 from the model restores growth: 0.13020167293005466.\n",
      "Growth without removing Rv3139 and Rv1240 from the model restores growth: 0.13020167293005466.\n",
      "Growth without removing Rv1552 and Rv1240 from the model restores growth: 0.13020167293005466.\n",
      "Growth without removing Rv1240 and Rv2967c from the model restores growth: 0.13020167293005466.\n",
      "Growth without removing Rv1240 and Rv0254c from the model restores growth: 0.13020167293005158.\n",
      "Growth without removing Rv1240 and Rv2849c from the model restores growth: 0.1302016729300513.\n",
      "Growth without removing Rv1240 and Rv2850c from the model restores growth: 0.13020167293005466.\n",
      "Growth without removing Rv1240 and Rv2071c from the model restores growth: 0.13020167293005466.\n",
      "Growth without removing Rv1240 and Rv0069c from the model restores growth: 0.13020167293005402.\n",
      "Growth without removing Rv1240 and Rv3130c from the model restores growth: 0.13020167293005466.\n",
      "Growth without removing Rv1240 and Rv2590 from the model restores growth: 0.13020167293005466.\n",
      "Growth without removing Rv1240 and Rv1427c from the model restores growth: 0.13020167293005466.\n",
      "Growth without removing Rv1240 and Rv3513c from the model restores growth: 0.13020167293005466.\n",
      "Growth without removing Rv1240 and Rv2505c from the model restores growth: 0.13020167293005466.\n",
      "Growth without removing Rv1240 and Rv2503c from the model restores growth: 0.13020167293005225.\n",
      "Growth without removing Rv1240 and Rv0112 from the model restores growth: 0.13020167293005466.\n",
      "Growth without removing Rv1240 and Rv0499 from the model restores growth: 0.13020167293005466.\n",
      "Growth without removing Rv1240 and Rv0768 from the model restores growth: 0.13020167293005466.\n",
      "Growth without removing Rv1240 and Rv3214 from the model restores growth: 0.13020167293005466.\n",
      "Growth without removing Rv1240 and Rv1617 from the model restores growth: 0.13020167293005272.\n",
      "Growth without removing Rv1240 and Rv2380c from the model restores growth: 0.13020167293004825.\n",
      "Growth without removing Rv1240 and Rv0087 from the model restores growth: 0.13020167293005466.\n",
      "Growth without removing Rv1240 and Rv1309 from the model restores growth: 0.13020167293005466.\n",
      "Growth without removing Rv1240 and Rv1307 from the model restores growth: 0.13020167293005466.\n",
      "Growth without removing Rv1240 and Rv0573c from the model restores growth: 0.13020167293005466.\n",
      "Growth without removing Rv1240 and Rv2074 from the model restores growth: 0.13020167293005466.\n",
      "Growth without removing Rv1240 and Rv2682c from the model restores growth: 0.13020167293005466.\n",
      "Growth without removing Rv1240 and Rv1131 from the model restores growth: 0.130201672930052.\n",
      "Growth without removing Rv1240 and Rv1320c from the model restores growth: 0.13020167293005466.\n",
      "Growth without removing Rv1240 and Rv2435c from the model restores growth: 0.13020167293005466.\n",
      "Growth without removing Rv1240 and Rv0382c from the model restores growth: 0.13020167293005674.\n",
      "Growth without removing Rv1240 and Rv1850 from the model restores growth: 0.13020167293000393.\n",
      "Growth without removing Rv1240 and Rv1127c from the model restores growth: 0.13020167293005466.\n",
      "Growth without removing Rv1240 and Rv3824c from the model restores growth: 0.13020167293005466.\n",
      "Growth without removing Rv1240 and Rv0522 from the model restores growth: 0.13020167293004942.\n",
      "Growth without removing Rv1240 and Rv3759c from the model restores growth: 0.13020167293005466.\n",
      "Growth without removing Rv1240 and Rv1030 from the model restores growth: 0.13020167293005466.\n",
      "Growth without removing Rv1240 and Rv2691 from the model restores growth: 0.13020167293005466.\n",
      "Growth without removing Rv1240 and Rv2287 from the model restores growth: 0.13020167293005466.\n",
      "Growth without removing Rv1240 and Rv3500c from the model restores growth: 0.1302016729300573.\n",
      "Growth without removing Rv1309 and Rv1307 from the model restores growth: 0.27298539340838374.\n"
     ]
    }
   ],
   "source": [
    "# Try to remove pairs of genes from the \"to remove\" list.\n",
    "for i in range(0, len(L5_toDel_cur)):\n",
    "    remov1 = L5_toDel_cur[i]\n",
    "    for j in range(i + 1, len(L5_toDel_cur)):\n",
    "        tryDels = cp.copy(L5_toDel_cur)\n",
    "        remov2 = L5_toDel_cur[j]\n",
    "        tryDels.remove(remov1)\n",
    "        tryDels.remove(remov2)\n",
    "        testMod = base_mod.copy()\n",
    "        testMod.medium = mi7H9_OADC_Med\n",
    "        #testMod = cobra.io.load_json_model(join(data_dir, \"iEK1011_2.0.json\"))\n",
    "        remove_genes(testMod, tryDels, remove_reactions=True)\n",
    "        result = testMod.slim_optimize()\n",
    "        if(result > 0.13):\n",
    "            print('Growth without removing %s and %s from the model restores growth: %s.'%(remov1, remov2, str(result)))"
   ]
  },
  {
   "cell_type": "markdown",
   "id": "26079a86",
   "metadata": {},
   "source": [
    "All the combinations of Rv1240 restore growth at the same level than just keeping Rv1240. <br>\n",
    "The combination of Rv1309 and Rv1307 increases growth to 0.272.<br>\n",
    "Still not enough. Try leaving genes out recursively. Maybe we can after try combinations of 3 genes, but it takes a lot of time."
   ]
  },
  {
   "cell_type": "code",
   "execution_count": 133,
   "id": "4375f951",
   "metadata": {},
   "outputs": [
    {
     "data": {
      "text/html": [
       "\n",
       "        <table>\n",
       "            <tr>\n",
       "                <td><strong>Gene identifier</strong></td><td>Rv1307</td>\n",
       "            </tr><tr>\n",
       "                <td><strong>Name</strong></td><td></td>\n",
       "            </tr><tr>\n",
       "                <td><strong>Memory address</strong></td>\n",
       "                <td>0x01fadbb305e0</td>\n",
       "            </tr><tr>\n",
       "                <td><strong>Functional</strong></td><td>True</td>\n",
       "            </tr><tr>\n",
       "                <td><strong>In 1 reaction(s)</strong></td><td>\n",
       "                    ATPS4r</td>\n",
       "            </tr>\n",
       "        </table>"
      ],
      "text/plain": [
       "<Gene Rv1307 at 0x1fadbb305e0>"
      ]
     },
     "execution_count": 133,
     "metadata": {},
     "output_type": "execute_result"
    }
   ],
   "source": [
    "base_mod.genes.get_by_id('Rv1307')"
   ]
  },
  {
   "cell_type": "code",
   "execution_count": 134,
   "id": "876de5cc",
   "metadata": {},
   "outputs": [
    {
     "data": {
      "text/html": [
       "\n",
       "        <table>\n",
       "            <tr>\n",
       "                <td><strong>Gene identifier</strong></td><td>Rv1309</td>\n",
       "            </tr><tr>\n",
       "                <td><strong>Name</strong></td><td></td>\n",
       "            </tr><tr>\n",
       "                <td><strong>Memory address</strong></td>\n",
       "                <td>0x01fadbb305b0</td>\n",
       "            </tr><tr>\n",
       "                <td><strong>Functional</strong></td><td>True</td>\n",
       "            </tr><tr>\n",
       "                <td><strong>In 1 reaction(s)</strong></td><td>\n",
       "                    ATPS4r</td>\n",
       "            </tr>\n",
       "        </table>"
      ],
      "text/plain": [
       "<Gene Rv1309 at 0x1fadbb305b0>"
      ]
     },
     "execution_count": 134,
     "metadata": {},
     "output_type": "execute_result"
    }
   ],
   "source": [
    "base_mod.genes.get_by_id('Rv1309')"
   ]
  },
  {
   "cell_type": "code",
   "execution_count": 135,
   "id": "95b7711f",
   "metadata": {},
   "outputs": [
    {
     "data": {
      "text/html": [
       "\n",
       "        <table>\n",
       "            <tr>\n",
       "                <td><strong>Reaction identifier</strong></td><td>ATPS4r</td>\n",
       "            </tr><tr>\n",
       "                <td><strong>Name</strong></td><td>ATP synthase (four protons for one ATP)</td>\n",
       "            </tr><tr>\n",
       "                <td><strong>Memory address</strong></td>\n",
       "                <td>0x01fadcd66460</td>\n",
       "            </tr><tr>\n",
       "                <td><strong>Stoichiometry</strong></td>\n",
       "                <td>\n",
       "                    <p style='text-align:right'>adp[c] + 4.0 h[e] + pi[c] <=> atp[c] + h2o[c] + 3.0 h[c]</p>\n",
       "                    <p style='text-align:right'>ADP C10H12N5O10P2 [cytoplasm] + 4.0 H+ [extracellular] + Phosphate [cytoplasm] <=> ATP C10H12N5O13P3 [cytoplasm] + H2O H2O [cytoplasm] + 3.0 H+ [cytoplasm]</p>\n",
       "                </td>\n",
       "            </tr><tr>\n",
       "                <td><strong>GPR</strong></td><td>Rv1308 and Rv1304 and Rv1311 and Rv1310 and Rv1305 and Rv1306 and Rv1309 and Rv1307</td>\n",
       "            </tr><tr>\n",
       "                <td><strong>Lower bound</strong></td><td>-1000.0</td>\n",
       "            </tr><tr>\n",
       "                <td><strong>Upper bound</strong></td><td>1000.0</td>\n",
       "            </tr>\n",
       "        </table>\n",
       "        "
      ],
      "text/plain": [
       "<Reaction ATPS4r at 0x1fadcd66460>"
      ]
     },
     "execution_count": 135,
     "metadata": {},
     "output_type": "execute_result"
    }
   ],
   "source": [
    "base_mod.reactions.get_by_id('ATPS4r')"
   ]
  },
  {
   "cell_type": "code",
   "execution_count": 136,
   "id": "2b280ac7",
   "metadata": {},
   "outputs": [
    {
     "data": {
      "text/html": [
       "<div>\n",
       "<style scoped>\n",
       "    .dataframe tbody tr th:only-of-type {\n",
       "        vertical-align: middle;\n",
       "    }\n",
       "\n",
       "    .dataframe tbody tr th {\n",
       "        vertical-align: top;\n",
       "    }\n",
       "\n",
       "    .dataframe thead th {\n",
       "        text-align: right;\n",
       "    }\n",
       "</style>\n",
       "<table border=\"1\" class=\"dataframe\">\n",
       "  <thead>\n",
       "    <tr style=\"text-align: right;\">\n",
       "      <th></th>\n",
       "      <th>POS</th>\n",
       "      <th>REF</th>\n",
       "      <th>ALT</th>\n",
       "      <th>LIN</th>\n",
       "      <th>ANN</th>\n",
       "      <th>LOCUS</th>\n",
       "      <th>AA_one</th>\n",
       "      <th>PROVEAN</th>\n",
       "    </tr>\n",
       "  </thead>\n",
       "  <tbody>\n",
       "    <tr>\n",
       "      <th>0</th>\n",
       "      <td>1463143.0</td>\n",
       "      <td>C</td>\n",
       "      <td>T</td>\n",
       "      <td>L5</td>\n",
       "      <td>missense_variant</td>\n",
       "      <td>Rv1307</td>\n",
       "      <td>S434L</td>\n",
       "      <td>-2.522</td>\n",
       "    </tr>\n",
       "    <tr>\n",
       "      <th>1</th>\n",
       "      <td>1462485.0</td>\n",
       "      <td>C</td>\n",
       "      <td>G</td>\n",
       "      <td>L5</td>\n",
       "      <td>missense_variant</td>\n",
       "      <td>Rv1307</td>\n",
       "      <td>R215G</td>\n",
       "      <td>-2.522</td>\n",
       "    </tr>\n",
       "    <tr>\n",
       "      <th>2</th>\n",
       "      <td>1462690.0</td>\n",
       "      <td>C</td>\n",
       "      <td>T</td>\n",
       "      <td>L5</td>\n",
       "      <td>missense_variant</td>\n",
       "      <td>Rv1307</td>\n",
       "      <td>A283V</td>\n",
       "      <td>-3.983</td>\n",
       "    </tr>\n",
       "    <tr>\n",
       "      <th>3</th>\n",
       "      <td>1462820.0</td>\n",
       "      <td>G</td>\n",
       "      <td>C</td>\n",
       "      <td>L5</td>\n",
       "      <td>missense_variant</td>\n",
       "      <td>Rv1307</td>\n",
       "      <td>L326F</td>\n",
       "      <td>-3.822</td>\n",
       "    </tr>\n",
       "  </tbody>\n",
       "</table>\n",
       "</div>"
      ],
      "text/plain": [
       "         POS REF ALT LIN               ANN   LOCUS AA_one  PROVEAN\n",
       "0  1463143.0   C   T  L5  missense_variant  Rv1307  S434L   -2.522\n",
       "1  1462485.0   C   G  L5  missense_variant  Rv1307  R215G   -2.522\n",
       "2  1462690.0   C   T  L5  missense_variant  Rv1307  A283V   -3.983\n",
       "3  1462820.0   G   C  L5  missense_variant  Rv1307  L326F   -3.822"
      ]
     },
     "execution_count": 136,
     "metadata": {},
     "output_type": "execute_result"
    }
   ],
   "source": [
    "getProvScore('Rv1307', 'L5')"
   ]
  },
  {
   "cell_type": "code",
   "execution_count": 137,
   "id": "5552768e",
   "metadata": {},
   "outputs": [
    {
     "data": {
      "text/html": [
       "<div>\n",
       "<style scoped>\n",
       "    .dataframe tbody tr th:only-of-type {\n",
       "        vertical-align: middle;\n",
       "    }\n",
       "\n",
       "    .dataframe tbody tr th {\n",
       "        vertical-align: top;\n",
       "    }\n",
       "\n",
       "    .dataframe thead th {\n",
       "        text-align: right;\n",
       "    }\n",
       "</style>\n",
       "<table border=\"1\" class=\"dataframe\">\n",
       "  <thead>\n",
       "    <tr style=\"text-align: right;\">\n",
       "      <th></th>\n",
       "      <th>POS</th>\n",
       "      <th>REF</th>\n",
       "      <th>ALT</th>\n",
       "      <th>LIN</th>\n",
       "      <th>ANN</th>\n",
       "      <th>LOCUS</th>\n",
       "      <th>AA_one</th>\n",
       "      <th>PROVEAN</th>\n",
       "    </tr>\n",
       "  </thead>\n",
       "  <tbody>\n",
       "    <tr>\n",
       "      <th>0</th>\n",
       "      <td>1465542.0</td>\n",
       "      <td>A</td>\n",
       "      <td>C</td>\n",
       "      <td>L5</td>\n",
       "      <td>missense_variant</td>\n",
       "      <td>Rv1309</td>\n",
       "      <td>Y220S</td>\n",
       "      <td>-6.312</td>\n",
       "    </tr>\n",
       "    <tr>\n",
       "      <th>1</th>\n",
       "      <td>1465011.0</td>\n",
       "      <td>C</td>\n",
       "      <td>T</td>\n",
       "      <td>L5</td>\n",
       "      <td>missense_variant</td>\n",
       "      <td>Rv1309</td>\n",
       "      <td>A43V</td>\n",
       "      <td>-3.387</td>\n",
       "    </tr>\n",
       "    <tr>\n",
       "      <th>2</th>\n",
       "      <td>1465019.0</td>\n",
       "      <td>T</td>\n",
       "      <td>C</td>\n",
       "      <td>L5</td>\n",
       "      <td>missense_variant</td>\n",
       "      <td>Rv1309</td>\n",
       "      <td>Y46H</td>\n",
       "      <td>-4.994</td>\n",
       "    </tr>\n",
       "  </tbody>\n",
       "</table>\n",
       "</div>"
      ],
      "text/plain": [
       "         POS REF ALT LIN               ANN   LOCUS AA_one  PROVEAN\n",
       "0  1465542.0   A   C  L5  missense_variant  Rv1309  Y220S   -6.312\n",
       "1  1465011.0   C   T  L5  missense_variant  Rv1309   A43V   -3.387\n",
       "2  1465019.0   T   C  L5  missense_variant  Rv1309   Y46H   -4.994"
      ]
     },
     "execution_count": 137,
     "metadata": {},
     "output_type": "execute_result"
    }
   ],
   "source": [
    "getProvScore('Rv1309', 'L5')"
   ]
  },
  {
   "cell_type": "markdown",
   "id": "39ad9a7b",
   "metadata": {},
   "source": [
    "Rv1307. ATP synthase delta chain AtpH. Essential. PROVEAN = -2.522. Not so low. Reasonable to keep it. <br>\n",
    "Rv1309. ATP synthase gamma chain AtpG. Essential. PROVEAN = -6.312. It's low, but needs to be kept. <br>"
   ]
  },
  {
   "cell_type": "code",
   "execution_count": 139,
   "id": "2f9779c2",
   "metadata": {},
   "outputs": [
    {
     "name": "stdout",
     "output_type": "stream",
     "text": [
      "Growth removing ['Rv2222c', 'Rv3784', 'Rv1188', 'Rv0400c', 'Rv0672', 'Rv2724c', 'Rv1912c', 'Rv3139', 'Rv1552', 'Rv1240', 'Rv2967c', 'Rv0254c', 'Rv2849c', 'Rv2850c', 'Rv2071c', 'Rv0069c', 'Rv3130c', 'Rv2590', 'Rv1427c', 'Rv3513c', 'Rv2505c', 'Rv2503c', 'Rv0112', 'Rv0499', 'Rv0768', 'Rv3214', 'Rv1617', 'Rv2380c', 'Rv0087', 'Rv1309', 'Rv1307', 'Rv0573c', 'Rv2074', 'Rv2682c', 'Rv1131', 'Rv1320c', 'Rv2435c', 'Rv0382c', 'Rv1850', 'Rv1127c', 'Rv3824c', 'Rv0522', 'Rv3759c', 'Rv1030', 'Rv2691', 'Rv2287', 'Rv3500c'] from model\n",
      "Growth without removing ['Rv2531c'] from model\n",
      "0.07524297272645643\n",
      "Growth removing ['Rv3784', 'Rv1188', 'Rv0400c', 'Rv0672', 'Rv2724c', 'Rv1912c', 'Rv3139', 'Rv1552', 'Rv1240', 'Rv2967c', 'Rv0254c', 'Rv2849c', 'Rv2850c', 'Rv2071c', 'Rv0069c', 'Rv3130c', 'Rv2590', 'Rv1427c', 'Rv3513c', 'Rv2505c', 'Rv2503c', 'Rv0112', 'Rv0499', 'Rv0768', 'Rv3214', 'Rv1617', 'Rv2380c', 'Rv0087', 'Rv1309', 'Rv1307', 'Rv0573c', 'Rv2074', 'Rv2682c', 'Rv1131', 'Rv1320c', 'Rv2435c', 'Rv0382c', 'Rv1850', 'Rv1127c', 'Rv3824c', 'Rv0522', 'Rv3759c', 'Rv1030', 'Rv2691', 'Rv2287', 'Rv3500c'] from model\n",
      "Growth without removing ['Rv2531c', 'Rv2222c'] from model\n",
      "0.07524297272645643\n",
      "Growth removing ['Rv1188', 'Rv0400c', 'Rv0672', 'Rv2724c', 'Rv1912c', 'Rv3139', 'Rv1552', 'Rv1240', 'Rv2967c', 'Rv0254c', 'Rv2849c', 'Rv2850c', 'Rv2071c', 'Rv0069c', 'Rv3130c', 'Rv2590', 'Rv1427c', 'Rv3513c', 'Rv2505c', 'Rv2503c', 'Rv0112', 'Rv0499', 'Rv0768', 'Rv3214', 'Rv1617', 'Rv2380c', 'Rv0087', 'Rv1309', 'Rv1307', 'Rv0573c', 'Rv2074', 'Rv2682c', 'Rv1131', 'Rv1320c', 'Rv2435c', 'Rv0382c', 'Rv1850', 'Rv1127c', 'Rv3824c', 'Rv0522', 'Rv3759c', 'Rv1030', 'Rv2691', 'Rv2287', 'Rv3500c'] from model\n",
      "Growth without removing ['Rv2531c', 'Rv2222c', 'Rv3784'] from model\n",
      "0.07524297272645643\n",
      "Growth removing ['Rv0400c', 'Rv0672', 'Rv2724c', 'Rv1912c', 'Rv3139', 'Rv1552', 'Rv1240', 'Rv2967c', 'Rv0254c', 'Rv2849c', 'Rv2850c', 'Rv2071c', 'Rv0069c', 'Rv3130c', 'Rv2590', 'Rv1427c', 'Rv3513c', 'Rv2505c', 'Rv2503c', 'Rv0112', 'Rv0499', 'Rv0768', 'Rv3214', 'Rv1617', 'Rv2380c', 'Rv0087', 'Rv1309', 'Rv1307', 'Rv0573c', 'Rv2074', 'Rv2682c', 'Rv1131', 'Rv1320c', 'Rv2435c', 'Rv0382c', 'Rv1850', 'Rv1127c', 'Rv3824c', 'Rv0522', 'Rv3759c', 'Rv1030', 'Rv2691', 'Rv2287', 'Rv3500c'] from model\n",
      "Growth without removing ['Rv2531c', 'Rv2222c', 'Rv3784', 'Rv1188'] from model\n",
      "0.07524297272645603\n",
      "Growth removing ['Rv0672', 'Rv2724c', 'Rv1912c', 'Rv3139', 'Rv1552', 'Rv1240', 'Rv2967c', 'Rv0254c', 'Rv2849c', 'Rv2850c', 'Rv2071c', 'Rv0069c', 'Rv3130c', 'Rv2590', 'Rv1427c', 'Rv3513c', 'Rv2505c', 'Rv2503c', 'Rv0112', 'Rv0499', 'Rv0768', 'Rv3214', 'Rv1617', 'Rv2380c', 'Rv0087', 'Rv1309', 'Rv1307', 'Rv0573c', 'Rv2074', 'Rv2682c', 'Rv1131', 'Rv1320c', 'Rv2435c', 'Rv0382c', 'Rv1850', 'Rv1127c', 'Rv3824c', 'Rv0522', 'Rv3759c', 'Rv1030', 'Rv2691', 'Rv2287', 'Rv3500c'] from model\n",
      "Growth without removing ['Rv2531c', 'Rv2222c', 'Rv3784', 'Rv1188', 'Rv0400c'] from model\n",
      "0.07524297272645603\n",
      "Growth removing ['Rv2724c', 'Rv1912c', 'Rv3139', 'Rv1552', 'Rv1240', 'Rv2967c', 'Rv0254c', 'Rv2849c', 'Rv2850c', 'Rv2071c', 'Rv0069c', 'Rv3130c', 'Rv2590', 'Rv1427c', 'Rv3513c', 'Rv2505c', 'Rv2503c', 'Rv0112', 'Rv0499', 'Rv0768', 'Rv3214', 'Rv1617', 'Rv2380c', 'Rv0087', 'Rv1309', 'Rv1307', 'Rv0573c', 'Rv2074', 'Rv2682c', 'Rv1131', 'Rv1320c', 'Rv2435c', 'Rv0382c', 'Rv1850', 'Rv1127c', 'Rv3824c', 'Rv0522', 'Rv3759c', 'Rv1030', 'Rv2691', 'Rv2287', 'Rv3500c'] from model\n",
      "Growth without removing ['Rv2531c', 'Rv2222c', 'Rv3784', 'Rv1188', 'Rv0400c', 'Rv0672'] from model\n",
      "0.07524297272645603\n",
      "Growth removing ['Rv1912c', 'Rv3139', 'Rv1552', 'Rv1240', 'Rv2967c', 'Rv0254c', 'Rv2849c', 'Rv2850c', 'Rv2071c', 'Rv0069c', 'Rv3130c', 'Rv2590', 'Rv1427c', 'Rv3513c', 'Rv2505c', 'Rv2503c', 'Rv0112', 'Rv0499', 'Rv0768', 'Rv3214', 'Rv1617', 'Rv2380c', 'Rv0087', 'Rv1309', 'Rv1307', 'Rv0573c', 'Rv2074', 'Rv2682c', 'Rv1131', 'Rv1320c', 'Rv2435c', 'Rv0382c', 'Rv1850', 'Rv1127c', 'Rv3824c', 'Rv0522', 'Rv3759c', 'Rv1030', 'Rv2691', 'Rv2287', 'Rv3500c'] from model\n",
      "Growth without removing ['Rv2531c', 'Rv2222c', 'Rv3784', 'Rv1188', 'Rv0400c', 'Rv0672', 'Rv2724c'] from model\n",
      "0.07524297272645603\n",
      "Growth removing ['Rv3139', 'Rv1552', 'Rv1240', 'Rv2967c', 'Rv0254c', 'Rv2849c', 'Rv2850c', 'Rv2071c', 'Rv0069c', 'Rv3130c', 'Rv2590', 'Rv1427c', 'Rv3513c', 'Rv2505c', 'Rv2503c', 'Rv0112', 'Rv0499', 'Rv0768', 'Rv3214', 'Rv1617', 'Rv2380c', 'Rv0087', 'Rv1309', 'Rv1307', 'Rv0573c', 'Rv2074', 'Rv2682c', 'Rv1131', 'Rv1320c', 'Rv2435c', 'Rv0382c', 'Rv1850', 'Rv1127c', 'Rv3824c', 'Rv0522', 'Rv3759c', 'Rv1030', 'Rv2691', 'Rv2287', 'Rv3500c'] from model\n",
      "Growth without removing ['Rv2531c', 'Rv2222c', 'Rv3784', 'Rv1188', 'Rv0400c', 'Rv0672', 'Rv2724c', 'Rv1912c'] from model\n",
      "0.07524297272645603\n",
      "Growth removing ['Rv1552', 'Rv1240', 'Rv2967c', 'Rv0254c', 'Rv2849c', 'Rv2850c', 'Rv2071c', 'Rv0069c', 'Rv3130c', 'Rv2590', 'Rv1427c', 'Rv3513c', 'Rv2505c', 'Rv2503c', 'Rv0112', 'Rv0499', 'Rv0768', 'Rv3214', 'Rv1617', 'Rv2380c', 'Rv0087', 'Rv1309', 'Rv1307', 'Rv0573c', 'Rv2074', 'Rv2682c', 'Rv1131', 'Rv1320c', 'Rv2435c', 'Rv0382c', 'Rv1850', 'Rv1127c', 'Rv3824c', 'Rv0522', 'Rv3759c', 'Rv1030', 'Rv2691', 'Rv2287', 'Rv3500c'] from model\n",
      "Growth without removing ['Rv2531c', 'Rv2222c', 'Rv3784', 'Rv1188', 'Rv0400c', 'Rv0672', 'Rv2724c', 'Rv1912c', 'Rv3139'] from model\n",
      "0.07524297272645603\n",
      "Growth removing ['Rv1240', 'Rv2967c', 'Rv0254c', 'Rv2849c', 'Rv2850c', 'Rv2071c', 'Rv0069c', 'Rv3130c', 'Rv2590', 'Rv1427c', 'Rv3513c', 'Rv2505c', 'Rv2503c', 'Rv0112', 'Rv0499', 'Rv0768', 'Rv3214', 'Rv1617', 'Rv2380c', 'Rv0087', 'Rv1309', 'Rv1307', 'Rv0573c', 'Rv2074', 'Rv2682c', 'Rv1131', 'Rv1320c', 'Rv2435c', 'Rv0382c', 'Rv1850', 'Rv1127c', 'Rv3824c', 'Rv0522', 'Rv3759c', 'Rv1030', 'Rv2691', 'Rv2287', 'Rv3500c'] from model\n",
      "Growth without removing ['Rv2531c', 'Rv2222c', 'Rv3784', 'Rv1188', 'Rv0400c', 'Rv0672', 'Rv2724c', 'Rv1912c', 'Rv3139', 'Rv1552'] from model\n",
      "0.07524297272645603\n",
      "Growth removing ['Rv2967c', 'Rv0254c', 'Rv2849c', 'Rv2850c', 'Rv2071c', 'Rv0069c', 'Rv3130c', 'Rv2590', 'Rv1427c', 'Rv3513c', 'Rv2505c', 'Rv2503c', 'Rv0112', 'Rv0499', 'Rv0768', 'Rv3214', 'Rv1617', 'Rv2380c', 'Rv0087', 'Rv1309', 'Rv1307', 'Rv0573c', 'Rv2074', 'Rv2682c', 'Rv1131', 'Rv1320c', 'Rv2435c', 'Rv0382c', 'Rv1850', 'Rv1127c', 'Rv3824c', 'Rv0522', 'Rv3759c', 'Rv1030', 'Rv2691', 'Rv2287', 'Rv3500c'] from model\n",
      "Growth without removing ['Rv2531c', 'Rv2222c', 'Rv3784', 'Rv1188', 'Rv0400c', 'Rv0672', 'Rv2724c', 'Rv1912c', 'Rv3139', 'Rv1552', 'Rv1240'] from model\n",
      "0.13020167293004925\n",
      "Growth removing ['Rv0254c', 'Rv2849c', 'Rv2850c', 'Rv2071c', 'Rv0069c', 'Rv3130c', 'Rv2590', 'Rv1427c', 'Rv3513c', 'Rv2505c', 'Rv2503c', 'Rv0112', 'Rv0499', 'Rv0768', 'Rv3214', 'Rv1617', 'Rv2380c', 'Rv0087', 'Rv1309', 'Rv1307', 'Rv0573c', 'Rv2074', 'Rv2682c', 'Rv1131', 'Rv1320c', 'Rv2435c', 'Rv0382c', 'Rv1850', 'Rv1127c', 'Rv3824c', 'Rv0522', 'Rv3759c', 'Rv1030', 'Rv2691', 'Rv2287', 'Rv3500c'] from model\n",
      "Growth without removing ['Rv2531c', 'Rv2222c', 'Rv3784', 'Rv1188', 'Rv0400c', 'Rv0672', 'Rv2724c', 'Rv1912c', 'Rv3139', 'Rv1552', 'Rv1240', 'Rv2967c'] from model\n",
      "0.13020167293004925\n",
      "Growth removing ['Rv2849c', 'Rv2850c', 'Rv2071c', 'Rv0069c', 'Rv3130c', 'Rv2590', 'Rv1427c', 'Rv3513c', 'Rv2505c', 'Rv2503c', 'Rv0112', 'Rv0499', 'Rv0768', 'Rv3214', 'Rv1617', 'Rv2380c', 'Rv0087', 'Rv1309', 'Rv1307', 'Rv0573c', 'Rv2074', 'Rv2682c', 'Rv1131', 'Rv1320c', 'Rv2435c', 'Rv0382c', 'Rv1850', 'Rv1127c', 'Rv3824c', 'Rv0522', 'Rv3759c', 'Rv1030', 'Rv2691', 'Rv2287', 'Rv3500c'] from model\n",
      "Growth without removing ['Rv2531c', 'Rv2222c', 'Rv3784', 'Rv1188', 'Rv0400c', 'Rv0672', 'Rv2724c', 'Rv1912c', 'Rv3139', 'Rv1552', 'Rv1240', 'Rv2967c', 'Rv0254c'] from model\n",
      "0.13020167293004356\n",
      "Growth removing ['Rv2850c', 'Rv2071c', 'Rv0069c', 'Rv3130c', 'Rv2590', 'Rv1427c', 'Rv3513c', 'Rv2505c', 'Rv2503c', 'Rv0112', 'Rv0499', 'Rv0768', 'Rv3214', 'Rv1617', 'Rv2380c', 'Rv0087', 'Rv1309', 'Rv1307', 'Rv0573c', 'Rv2074', 'Rv2682c', 'Rv1131', 'Rv1320c', 'Rv2435c', 'Rv0382c', 'Rv1850', 'Rv1127c', 'Rv3824c', 'Rv0522', 'Rv3759c', 'Rv1030', 'Rv2691', 'Rv2287', 'Rv3500c'] from model\n",
      "Growth without removing ['Rv2531c', 'Rv2222c', 'Rv3784', 'Rv1188', 'Rv0400c', 'Rv0672', 'Rv2724c', 'Rv1912c', 'Rv3139', 'Rv1552', 'Rv1240', 'Rv2967c', 'Rv0254c', 'Rv2849c'] from model\n",
      "0.13020167293005025\n"
     ]
    },
    {
     "name": "stdout",
     "output_type": "stream",
     "text": [
      "Growth removing ['Rv2071c', 'Rv0069c', 'Rv3130c', 'Rv2590', 'Rv1427c', 'Rv3513c', 'Rv2505c', 'Rv2503c', 'Rv0112', 'Rv0499', 'Rv0768', 'Rv3214', 'Rv1617', 'Rv2380c', 'Rv0087', 'Rv1309', 'Rv1307', 'Rv0573c', 'Rv2074', 'Rv2682c', 'Rv1131', 'Rv1320c', 'Rv2435c', 'Rv0382c', 'Rv1850', 'Rv1127c', 'Rv3824c', 'Rv0522', 'Rv3759c', 'Rv1030', 'Rv2691', 'Rv2287', 'Rv3500c'] from model\n",
      "Growth without removing ['Rv2531c', 'Rv2222c', 'Rv3784', 'Rv1188', 'Rv0400c', 'Rv0672', 'Rv2724c', 'Rv1912c', 'Rv3139', 'Rv1552', 'Rv1240', 'Rv2967c', 'Rv0254c', 'Rv2849c', 'Rv2850c'] from model\n",
      "0.13020167293005025\n",
      "Growth removing ['Rv0069c', 'Rv3130c', 'Rv2590', 'Rv1427c', 'Rv3513c', 'Rv2505c', 'Rv2503c', 'Rv0112', 'Rv0499', 'Rv0768', 'Rv3214', 'Rv1617', 'Rv2380c', 'Rv0087', 'Rv1309', 'Rv1307', 'Rv0573c', 'Rv2074', 'Rv2682c', 'Rv1131', 'Rv1320c', 'Rv2435c', 'Rv0382c', 'Rv1850', 'Rv1127c', 'Rv3824c', 'Rv0522', 'Rv3759c', 'Rv1030', 'Rv2691', 'Rv2287', 'Rv3500c'] from model\n",
      "Growth without removing ['Rv2531c', 'Rv2222c', 'Rv3784', 'Rv1188', 'Rv0400c', 'Rv0672', 'Rv2724c', 'Rv1912c', 'Rv3139', 'Rv1552', 'Rv1240', 'Rv2967c', 'Rv0254c', 'Rv2849c', 'Rv2850c', 'Rv2071c'] from model\n",
      "0.13020167293005025\n",
      "Growth removing ['Rv3130c', 'Rv2590', 'Rv1427c', 'Rv3513c', 'Rv2505c', 'Rv2503c', 'Rv0112', 'Rv0499', 'Rv0768', 'Rv3214', 'Rv1617', 'Rv2380c', 'Rv0087', 'Rv1309', 'Rv1307', 'Rv0573c', 'Rv2074', 'Rv2682c', 'Rv1131', 'Rv1320c', 'Rv2435c', 'Rv0382c', 'Rv1850', 'Rv1127c', 'Rv3824c', 'Rv0522', 'Rv3759c', 'Rv1030', 'Rv2691', 'Rv2287', 'Rv3500c'] from model\n",
      "Growth without removing ['Rv2531c', 'Rv2222c', 'Rv3784', 'Rv1188', 'Rv0400c', 'Rv0672', 'Rv2724c', 'Rv1912c', 'Rv3139', 'Rv1552', 'Rv1240', 'Rv2967c', 'Rv0254c', 'Rv2849c', 'Rv2850c', 'Rv2071c', 'Rv0069c'] from model\n",
      "0.1302016729300505\n",
      "Growth removing ['Rv2590', 'Rv1427c', 'Rv3513c', 'Rv2505c', 'Rv2503c', 'Rv0112', 'Rv0499', 'Rv0768', 'Rv3214', 'Rv1617', 'Rv2380c', 'Rv0087', 'Rv1309', 'Rv1307', 'Rv0573c', 'Rv2074', 'Rv2682c', 'Rv1131', 'Rv1320c', 'Rv2435c', 'Rv0382c', 'Rv1850', 'Rv1127c', 'Rv3824c', 'Rv0522', 'Rv3759c', 'Rv1030', 'Rv2691', 'Rv2287', 'Rv3500c'] from model\n",
      "Growth without removing ['Rv2531c', 'Rv2222c', 'Rv3784', 'Rv1188', 'Rv0400c', 'Rv0672', 'Rv2724c', 'Rv1912c', 'Rv3139', 'Rv1552', 'Rv1240', 'Rv2967c', 'Rv0254c', 'Rv2849c', 'Rv2850c', 'Rv2071c', 'Rv0069c', 'Rv3130c'] from model\n",
      "0.1302016729300505\n",
      "Growth removing ['Rv1427c', 'Rv3513c', 'Rv2505c', 'Rv2503c', 'Rv0112', 'Rv0499', 'Rv0768', 'Rv3214', 'Rv1617', 'Rv2380c', 'Rv0087', 'Rv1309', 'Rv1307', 'Rv0573c', 'Rv2074', 'Rv2682c', 'Rv1131', 'Rv1320c', 'Rv2435c', 'Rv0382c', 'Rv1850', 'Rv1127c', 'Rv3824c', 'Rv0522', 'Rv3759c', 'Rv1030', 'Rv2691', 'Rv2287', 'Rv3500c'] from model\n",
      "Growth without removing ['Rv2531c', 'Rv2222c', 'Rv3784', 'Rv1188', 'Rv0400c', 'Rv0672', 'Rv2724c', 'Rv1912c', 'Rv3139', 'Rv1552', 'Rv1240', 'Rv2967c', 'Rv0254c', 'Rv2849c', 'Rv2850c', 'Rv2071c', 'Rv0069c', 'Rv3130c', 'Rv2590'] from model\n",
      "0.1302016729300505\n",
      "Growth removing ['Rv3513c', 'Rv2505c', 'Rv2503c', 'Rv0112', 'Rv0499', 'Rv0768', 'Rv3214', 'Rv1617', 'Rv2380c', 'Rv0087', 'Rv1309', 'Rv1307', 'Rv0573c', 'Rv2074', 'Rv2682c', 'Rv1131', 'Rv1320c', 'Rv2435c', 'Rv0382c', 'Rv1850', 'Rv1127c', 'Rv3824c', 'Rv0522', 'Rv3759c', 'Rv1030', 'Rv2691', 'Rv2287', 'Rv3500c'] from model\n",
      "Growth without removing ['Rv2531c', 'Rv2222c', 'Rv3784', 'Rv1188', 'Rv0400c', 'Rv0672', 'Rv2724c', 'Rv1912c', 'Rv3139', 'Rv1552', 'Rv1240', 'Rv2967c', 'Rv0254c', 'Rv2849c', 'Rv2850c', 'Rv2071c', 'Rv0069c', 'Rv3130c', 'Rv2590', 'Rv1427c'] from model\n",
      "0.1302016729300505\n",
      "Growth removing ['Rv2505c', 'Rv2503c', 'Rv0112', 'Rv0499', 'Rv0768', 'Rv3214', 'Rv1617', 'Rv2380c', 'Rv0087', 'Rv1309', 'Rv1307', 'Rv0573c', 'Rv2074', 'Rv2682c', 'Rv1131', 'Rv1320c', 'Rv2435c', 'Rv0382c', 'Rv1850', 'Rv1127c', 'Rv3824c', 'Rv0522', 'Rv3759c', 'Rv1030', 'Rv2691', 'Rv2287', 'Rv3500c'] from model\n",
      "Growth without removing ['Rv2531c', 'Rv2222c', 'Rv3784', 'Rv1188', 'Rv0400c', 'Rv0672', 'Rv2724c', 'Rv1912c', 'Rv3139', 'Rv1552', 'Rv1240', 'Rv2967c', 'Rv0254c', 'Rv2849c', 'Rv2850c', 'Rv2071c', 'Rv0069c', 'Rv3130c', 'Rv2590', 'Rv1427c', 'Rv3513c'] from model\n",
      "0.1302016729300505\n",
      "Growth removing ['Rv2503c', 'Rv0112', 'Rv0499', 'Rv0768', 'Rv3214', 'Rv1617', 'Rv2380c', 'Rv0087', 'Rv1309', 'Rv1307', 'Rv0573c', 'Rv2074', 'Rv2682c', 'Rv1131', 'Rv1320c', 'Rv2435c', 'Rv0382c', 'Rv1850', 'Rv1127c', 'Rv3824c', 'Rv0522', 'Rv3759c', 'Rv1030', 'Rv2691', 'Rv2287', 'Rv3500c'] from model\n",
      "Growth without removing ['Rv2531c', 'Rv2222c', 'Rv3784', 'Rv1188', 'Rv0400c', 'Rv0672', 'Rv2724c', 'Rv1912c', 'Rv3139', 'Rv1552', 'Rv1240', 'Rv2967c', 'Rv0254c', 'Rv2849c', 'Rv2850c', 'Rv2071c', 'Rv0069c', 'Rv3130c', 'Rv2590', 'Rv1427c', 'Rv3513c', 'Rv2505c'] from model\n",
      "0.1302016729300505\n",
      "Growth removing ['Rv0112', 'Rv0499', 'Rv0768', 'Rv3214', 'Rv1617', 'Rv2380c', 'Rv0087', 'Rv1309', 'Rv1307', 'Rv0573c', 'Rv2074', 'Rv2682c', 'Rv1131', 'Rv1320c', 'Rv2435c', 'Rv0382c', 'Rv1850', 'Rv1127c', 'Rv3824c', 'Rv0522', 'Rv3759c', 'Rv1030', 'Rv2691', 'Rv2287', 'Rv3500c'] from model\n",
      "Growth without removing ['Rv2531c', 'Rv2222c', 'Rv3784', 'Rv1188', 'Rv0400c', 'Rv0672', 'Rv2724c', 'Rv1912c', 'Rv3139', 'Rv1552', 'Rv1240', 'Rv2967c', 'Rv0254c', 'Rv2849c', 'Rv2850c', 'Rv2071c', 'Rv0069c', 'Rv3130c', 'Rv2590', 'Rv1427c', 'Rv3513c', 'Rv2505c', 'Rv2503c'] from model\n",
      "0.13020167293005389\n",
      "Growth removing ['Rv0499', 'Rv0768', 'Rv3214', 'Rv1617', 'Rv2380c', 'Rv0087', 'Rv1309', 'Rv1307', 'Rv0573c', 'Rv2074', 'Rv2682c', 'Rv1131', 'Rv1320c', 'Rv2435c', 'Rv0382c', 'Rv1850', 'Rv1127c', 'Rv3824c', 'Rv0522', 'Rv3759c', 'Rv1030', 'Rv2691', 'Rv2287', 'Rv3500c'] from model\n",
      "Growth without removing ['Rv2531c', 'Rv2222c', 'Rv3784', 'Rv1188', 'Rv0400c', 'Rv0672', 'Rv2724c', 'Rv1912c', 'Rv3139', 'Rv1552', 'Rv1240', 'Rv2967c', 'Rv0254c', 'Rv2849c', 'Rv2850c', 'Rv2071c', 'Rv0069c', 'Rv3130c', 'Rv2590', 'Rv1427c', 'Rv3513c', 'Rv2505c', 'Rv2503c', 'Rv0112'] from model\n",
      "0.13020167293005389\n",
      "Growth removing ['Rv0768', 'Rv3214', 'Rv1617', 'Rv2380c', 'Rv0087', 'Rv1309', 'Rv1307', 'Rv0573c', 'Rv2074', 'Rv2682c', 'Rv1131', 'Rv1320c', 'Rv2435c', 'Rv0382c', 'Rv1850', 'Rv1127c', 'Rv3824c', 'Rv0522', 'Rv3759c', 'Rv1030', 'Rv2691', 'Rv2287', 'Rv3500c'] from model\n",
      "Growth without removing ['Rv2531c', 'Rv2222c', 'Rv3784', 'Rv1188', 'Rv0400c', 'Rv0672', 'Rv2724c', 'Rv1912c', 'Rv3139', 'Rv1552', 'Rv1240', 'Rv2967c', 'Rv0254c', 'Rv2849c', 'Rv2850c', 'Rv2071c', 'Rv0069c', 'Rv3130c', 'Rv2590', 'Rv1427c', 'Rv3513c', 'Rv2505c', 'Rv2503c', 'Rv0112', 'Rv0499'] from model\n",
      "0.13020167293005389\n",
      "Growth removing ['Rv3214', 'Rv1617', 'Rv2380c', 'Rv0087', 'Rv1309', 'Rv1307', 'Rv0573c', 'Rv2074', 'Rv2682c', 'Rv1131', 'Rv1320c', 'Rv2435c', 'Rv0382c', 'Rv1850', 'Rv1127c', 'Rv3824c', 'Rv0522', 'Rv3759c', 'Rv1030', 'Rv2691', 'Rv2287', 'Rv3500c'] from model\n",
      "Growth without removing ['Rv2531c', 'Rv2222c', 'Rv3784', 'Rv1188', 'Rv0400c', 'Rv0672', 'Rv2724c', 'Rv1912c', 'Rv3139', 'Rv1552', 'Rv1240', 'Rv2967c', 'Rv0254c', 'Rv2849c', 'Rv2850c', 'Rv2071c', 'Rv0069c', 'Rv3130c', 'Rv2590', 'Rv1427c', 'Rv3513c', 'Rv2505c', 'Rv2503c', 'Rv0112', 'Rv0499', 'Rv0768'] from model\n",
      "0.13020167293005389\n",
      "Growth removing ['Rv1617', 'Rv2380c', 'Rv0087', 'Rv1309', 'Rv1307', 'Rv0573c', 'Rv2074', 'Rv2682c', 'Rv1131', 'Rv1320c', 'Rv2435c', 'Rv0382c', 'Rv1850', 'Rv1127c', 'Rv3824c', 'Rv0522', 'Rv3759c', 'Rv1030', 'Rv2691', 'Rv2287', 'Rv3500c'] from model\n",
      "Growth without removing ['Rv2531c', 'Rv2222c', 'Rv3784', 'Rv1188', 'Rv0400c', 'Rv0672', 'Rv2724c', 'Rv1912c', 'Rv3139', 'Rv1552', 'Rv1240', 'Rv2967c', 'Rv0254c', 'Rv2849c', 'Rv2850c', 'Rv2071c', 'Rv0069c', 'Rv3130c', 'Rv2590', 'Rv1427c', 'Rv3513c', 'Rv2505c', 'Rv2503c', 'Rv0112', 'Rv0499', 'Rv0768', 'Rv3214'] from model\n",
      "0.13020167293005389\n",
      "Growth removing ['Rv2380c', 'Rv0087', 'Rv1309', 'Rv1307', 'Rv0573c', 'Rv2074', 'Rv2682c', 'Rv1131', 'Rv1320c', 'Rv2435c', 'Rv0382c', 'Rv1850', 'Rv1127c', 'Rv3824c', 'Rv0522', 'Rv3759c', 'Rv1030', 'Rv2691', 'Rv2287', 'Rv3500c'] from model\n",
      "Growth without removing ['Rv2531c', 'Rv2222c', 'Rv3784', 'Rv1188', 'Rv0400c', 'Rv0672', 'Rv2724c', 'Rv1912c', 'Rv3139', 'Rv1552', 'Rv1240', 'Rv2967c', 'Rv0254c', 'Rv2849c', 'Rv2850c', 'Rv2071c', 'Rv0069c', 'Rv3130c', 'Rv2590', 'Rv1427c', 'Rv3513c', 'Rv2505c', 'Rv2503c', 'Rv0112', 'Rv0499', 'Rv0768', 'Rv3214', 'Rv1617'] from model\n",
      "0.13020167293003698\n"
     ]
    },
    {
     "name": "stdout",
     "output_type": "stream",
     "text": [
      "Growth removing ['Rv0087', 'Rv1309', 'Rv1307', 'Rv0573c', 'Rv2074', 'Rv2682c', 'Rv1131', 'Rv1320c', 'Rv2435c', 'Rv0382c', 'Rv1850', 'Rv1127c', 'Rv3824c', 'Rv0522', 'Rv3759c', 'Rv1030', 'Rv2691', 'Rv2287', 'Rv3500c'] from model\n",
      "Growth without removing ['Rv2531c', 'Rv2222c', 'Rv3784', 'Rv1188', 'Rv0400c', 'Rv0672', 'Rv2724c', 'Rv1912c', 'Rv3139', 'Rv1552', 'Rv1240', 'Rv2967c', 'Rv0254c', 'Rv2849c', 'Rv2850c', 'Rv2071c', 'Rv0069c', 'Rv3130c', 'Rv2590', 'Rv1427c', 'Rv3513c', 'Rv2505c', 'Rv2503c', 'Rv0112', 'Rv0499', 'Rv0768', 'Rv3214', 'Rv1617', 'Rv2380c'] from model\n",
      "0.13020167293004808\n",
      "Growth removing ['Rv1309', 'Rv1307', 'Rv0573c', 'Rv2074', 'Rv2682c', 'Rv1131', 'Rv1320c', 'Rv2435c', 'Rv0382c', 'Rv1850', 'Rv1127c', 'Rv3824c', 'Rv0522', 'Rv3759c', 'Rv1030', 'Rv2691', 'Rv2287', 'Rv3500c'] from model\n",
      "Growth without removing ['Rv2531c', 'Rv2222c', 'Rv3784', 'Rv1188', 'Rv0400c', 'Rv0672', 'Rv2724c', 'Rv1912c', 'Rv3139', 'Rv1552', 'Rv1240', 'Rv2967c', 'Rv0254c', 'Rv2849c', 'Rv2850c', 'Rv2071c', 'Rv0069c', 'Rv3130c', 'Rv2590', 'Rv1427c', 'Rv3513c', 'Rv2505c', 'Rv2503c', 'Rv0112', 'Rv0499', 'Rv0768', 'Rv3214', 'Rv1617', 'Rv2380c', 'Rv0087'] from model\n",
      "0.13020167293004808\n",
      "Growth removing ['Rv1307', 'Rv0573c', 'Rv2074', 'Rv2682c', 'Rv1131', 'Rv1320c', 'Rv2435c', 'Rv0382c', 'Rv1850', 'Rv1127c', 'Rv3824c', 'Rv0522', 'Rv3759c', 'Rv1030', 'Rv2691', 'Rv2287', 'Rv3500c'] from model\n",
      "Growth without removing ['Rv2531c', 'Rv2222c', 'Rv3784', 'Rv1188', 'Rv0400c', 'Rv0672', 'Rv2724c', 'Rv1912c', 'Rv3139', 'Rv1552', 'Rv1240', 'Rv2967c', 'Rv0254c', 'Rv2849c', 'Rv2850c', 'Rv2071c', 'Rv0069c', 'Rv3130c', 'Rv2590', 'Rv1427c', 'Rv3513c', 'Rv2505c', 'Rv2503c', 'Rv0112', 'Rv0499', 'Rv0768', 'Rv3214', 'Rv1617', 'Rv2380c', 'Rv0087', 'Rv1309'] from model\n",
      "0.13020167293004808\n",
      "Growth removing ['Rv0573c', 'Rv2074', 'Rv2682c', 'Rv1131', 'Rv1320c', 'Rv2435c', 'Rv0382c', 'Rv1850', 'Rv1127c', 'Rv3824c', 'Rv0522', 'Rv3759c', 'Rv1030', 'Rv2691', 'Rv2287', 'Rv3500c'] from model\n",
      "Growth without removing ['Rv2531c', 'Rv2222c', 'Rv3784', 'Rv1188', 'Rv0400c', 'Rv0672', 'Rv2724c', 'Rv1912c', 'Rv3139', 'Rv1552', 'Rv1240', 'Rv2967c', 'Rv0254c', 'Rv2849c', 'Rv2850c', 'Rv2071c', 'Rv0069c', 'Rv3130c', 'Rv2590', 'Rv1427c', 'Rv3513c', 'Rv2505c', 'Rv2503c', 'Rv0112', 'Rv0499', 'Rv0768', 'Rv3214', 'Rv1617', 'Rv2380c', 'Rv0087', 'Rv1309', 'Rv1307'] from model\n",
      "0.3683291764340532\n",
      "Growth removing ['Rv2074', 'Rv2682c', 'Rv1131', 'Rv1320c', 'Rv2435c', 'Rv0382c', 'Rv1850', 'Rv1127c', 'Rv3824c', 'Rv0522', 'Rv3759c', 'Rv1030', 'Rv2691', 'Rv2287', 'Rv3500c'] from model\n",
      "Growth without removing ['Rv2531c', 'Rv2222c', 'Rv3784', 'Rv1188', 'Rv0400c', 'Rv0672', 'Rv2724c', 'Rv1912c', 'Rv3139', 'Rv1552', 'Rv1240', 'Rv2967c', 'Rv0254c', 'Rv2849c', 'Rv2850c', 'Rv2071c', 'Rv0069c', 'Rv3130c', 'Rv2590', 'Rv1427c', 'Rv3513c', 'Rv2505c', 'Rv2503c', 'Rv0112', 'Rv0499', 'Rv0768', 'Rv3214', 'Rv1617', 'Rv2380c', 'Rv0087', 'Rv1309', 'Rv1307', 'Rv0573c'] from model\n",
      "0.3683291764340532\n",
      "Growth removing ['Rv2682c', 'Rv1131', 'Rv1320c', 'Rv2435c', 'Rv0382c', 'Rv1850', 'Rv1127c', 'Rv3824c', 'Rv0522', 'Rv3759c', 'Rv1030', 'Rv2691', 'Rv2287', 'Rv3500c'] from model\n",
      "Growth without removing ['Rv2531c', 'Rv2222c', 'Rv3784', 'Rv1188', 'Rv0400c', 'Rv0672', 'Rv2724c', 'Rv1912c', 'Rv3139', 'Rv1552', 'Rv1240', 'Rv2967c', 'Rv0254c', 'Rv2849c', 'Rv2850c', 'Rv2071c', 'Rv0069c', 'Rv3130c', 'Rv2590', 'Rv1427c', 'Rv3513c', 'Rv2505c', 'Rv2503c', 'Rv0112', 'Rv0499', 'Rv0768', 'Rv3214', 'Rv1617', 'Rv2380c', 'Rv0087', 'Rv1309', 'Rv1307', 'Rv0573c', 'Rv2074'] from model\n",
      "0.3683291764340532\n",
      "Growth removing ['Rv1131', 'Rv1320c', 'Rv2435c', 'Rv0382c', 'Rv1850', 'Rv1127c', 'Rv3824c', 'Rv0522', 'Rv3759c', 'Rv1030', 'Rv2691', 'Rv2287', 'Rv3500c'] from model\n",
      "Growth without removing ['Rv2531c', 'Rv2222c', 'Rv3784', 'Rv1188', 'Rv0400c', 'Rv0672', 'Rv2724c', 'Rv1912c', 'Rv3139', 'Rv1552', 'Rv1240', 'Rv2967c', 'Rv0254c', 'Rv2849c', 'Rv2850c', 'Rv2071c', 'Rv0069c', 'Rv3130c', 'Rv2590', 'Rv1427c', 'Rv3513c', 'Rv2505c', 'Rv2503c', 'Rv0112', 'Rv0499', 'Rv0768', 'Rv3214', 'Rv1617', 'Rv2380c', 'Rv0087', 'Rv1309', 'Rv1307', 'Rv0573c', 'Rv2074', 'Rv2682c'] from model\n",
      "0.3683291764340532\n",
      "Growth removing ['Rv1320c', 'Rv2435c', 'Rv0382c', 'Rv1850', 'Rv1127c', 'Rv3824c', 'Rv0522', 'Rv3759c', 'Rv1030', 'Rv2691', 'Rv2287', 'Rv3500c'] from model\n",
      "Growth without removing ['Rv2531c', 'Rv2222c', 'Rv3784', 'Rv1188', 'Rv0400c', 'Rv0672', 'Rv2724c', 'Rv1912c', 'Rv3139', 'Rv1552', 'Rv1240', 'Rv2967c', 'Rv0254c', 'Rv2849c', 'Rv2850c', 'Rv2071c', 'Rv0069c', 'Rv3130c', 'Rv2590', 'Rv1427c', 'Rv3513c', 'Rv2505c', 'Rv2503c', 'Rv0112', 'Rv0499', 'Rv0768', 'Rv3214', 'Rv1617', 'Rv2380c', 'Rv0087', 'Rv1309', 'Rv1307', 'Rv0573c', 'Rv2074', 'Rv2682c', 'Rv1131'] from model\n",
      "0.3683291764340532\n",
      "Growth removing ['Rv2435c', 'Rv0382c', 'Rv1850', 'Rv1127c', 'Rv3824c', 'Rv0522', 'Rv3759c', 'Rv1030', 'Rv2691', 'Rv2287', 'Rv3500c'] from model\n",
      "Growth without removing ['Rv2531c', 'Rv2222c', 'Rv3784', 'Rv1188', 'Rv0400c', 'Rv0672', 'Rv2724c', 'Rv1912c', 'Rv3139', 'Rv1552', 'Rv1240', 'Rv2967c', 'Rv0254c', 'Rv2849c', 'Rv2850c', 'Rv2071c', 'Rv0069c', 'Rv3130c', 'Rv2590', 'Rv1427c', 'Rv3513c', 'Rv2505c', 'Rv2503c', 'Rv0112', 'Rv0499', 'Rv0768', 'Rv3214', 'Rv1617', 'Rv2380c', 'Rv0087', 'Rv1309', 'Rv1307', 'Rv0573c', 'Rv2074', 'Rv2682c', 'Rv1131', 'Rv1320c'] from model\n",
      "0.3683291764340532\n",
      "Growth removing ['Rv0382c', 'Rv1850', 'Rv1127c', 'Rv3824c', 'Rv0522', 'Rv3759c', 'Rv1030', 'Rv2691', 'Rv2287', 'Rv3500c'] from model\n",
      "Growth without removing ['Rv2531c', 'Rv2222c', 'Rv3784', 'Rv1188', 'Rv0400c', 'Rv0672', 'Rv2724c', 'Rv1912c', 'Rv3139', 'Rv1552', 'Rv1240', 'Rv2967c', 'Rv0254c', 'Rv2849c', 'Rv2850c', 'Rv2071c', 'Rv0069c', 'Rv3130c', 'Rv2590', 'Rv1427c', 'Rv3513c', 'Rv2505c', 'Rv2503c', 'Rv0112', 'Rv0499', 'Rv0768', 'Rv3214', 'Rv1617', 'Rv2380c', 'Rv0087', 'Rv1309', 'Rv1307', 'Rv0573c', 'Rv2074', 'Rv2682c', 'Rv1131', 'Rv1320c', 'Rv2435c'] from model\n",
      "0.3683291764340532\n",
      "Growth removing ['Rv1850', 'Rv1127c', 'Rv3824c', 'Rv0522', 'Rv3759c', 'Rv1030', 'Rv2691', 'Rv2287', 'Rv3500c'] from model\n",
      "Growth without removing ['Rv2531c', 'Rv2222c', 'Rv3784', 'Rv1188', 'Rv0400c', 'Rv0672', 'Rv2724c', 'Rv1912c', 'Rv3139', 'Rv1552', 'Rv1240', 'Rv2967c', 'Rv0254c', 'Rv2849c', 'Rv2850c', 'Rv2071c', 'Rv0069c', 'Rv3130c', 'Rv2590', 'Rv1427c', 'Rv3513c', 'Rv2505c', 'Rv2503c', 'Rv0112', 'Rv0499', 'Rv0768', 'Rv3214', 'Rv1617', 'Rv2380c', 'Rv0087', 'Rv1309', 'Rv1307', 'Rv0573c', 'Rv2074', 'Rv2682c', 'Rv1131', 'Rv1320c', 'Rv2435c', 'Rv0382c'] from model\n",
      "0.3683291764340518\n",
      "Growth removing ['Rv1127c', 'Rv3824c', 'Rv0522', 'Rv3759c', 'Rv1030', 'Rv2691', 'Rv2287', 'Rv3500c'] from model\n",
      "Growth without removing ['Rv2531c', 'Rv2222c', 'Rv3784', 'Rv1188', 'Rv0400c', 'Rv0672', 'Rv2724c', 'Rv1912c', 'Rv3139', 'Rv1552', 'Rv1240', 'Rv2967c', 'Rv0254c', 'Rv2849c', 'Rv2850c', 'Rv2071c', 'Rv0069c', 'Rv3130c', 'Rv2590', 'Rv1427c', 'Rv3513c', 'Rv2505c', 'Rv2503c', 'Rv0112', 'Rv0499', 'Rv0768', 'Rv3214', 'Rv1617', 'Rv2380c', 'Rv0087', 'Rv1309', 'Rv1307', 'Rv0573c', 'Rv2074', 'Rv2682c', 'Rv1131', 'Rv1320c', 'Rv2435c', 'Rv0382c', 'Rv1850'] from model\n",
      "0.3683291764340483\n",
      "Growth removing ['Rv3824c', 'Rv0522', 'Rv3759c', 'Rv1030', 'Rv2691', 'Rv2287', 'Rv3500c'] from model\n",
      "Growth without removing ['Rv2531c', 'Rv2222c', 'Rv3784', 'Rv1188', 'Rv0400c', 'Rv0672', 'Rv2724c', 'Rv1912c', 'Rv3139', 'Rv1552', 'Rv1240', 'Rv2967c', 'Rv0254c', 'Rv2849c', 'Rv2850c', 'Rv2071c', 'Rv0069c', 'Rv3130c', 'Rv2590', 'Rv1427c', 'Rv3513c', 'Rv2505c', 'Rv2503c', 'Rv0112', 'Rv0499', 'Rv0768', 'Rv3214', 'Rv1617', 'Rv2380c', 'Rv0087', 'Rv1309', 'Rv1307', 'Rv0573c', 'Rv2074', 'Rv2682c', 'Rv1131', 'Rv1320c', 'Rv2435c', 'Rv0382c', 'Rv1850', 'Rv1127c'] from model\n",
      "0.3683291764340483\n",
      "Growth removing ['Rv0522', 'Rv3759c', 'Rv1030', 'Rv2691', 'Rv2287', 'Rv3500c'] from model\n",
      "Growth without removing ['Rv2531c', 'Rv2222c', 'Rv3784', 'Rv1188', 'Rv0400c', 'Rv0672', 'Rv2724c', 'Rv1912c', 'Rv3139', 'Rv1552', 'Rv1240', 'Rv2967c', 'Rv0254c', 'Rv2849c', 'Rv2850c', 'Rv2071c', 'Rv0069c', 'Rv3130c', 'Rv2590', 'Rv1427c', 'Rv3513c', 'Rv2505c', 'Rv2503c', 'Rv0112', 'Rv0499', 'Rv0768', 'Rv3214', 'Rv1617', 'Rv2380c', 'Rv0087', 'Rv1309', 'Rv1307', 'Rv0573c', 'Rv2074', 'Rv2682c', 'Rv1131', 'Rv1320c', 'Rv2435c', 'Rv0382c', 'Rv1850', 'Rv1127c', 'Rv3824c'] from model\n",
      "0.3683291764340483\n"
     ]
    },
    {
     "name": "stdout",
     "output_type": "stream",
     "text": [
      "Growth removing ['Rv3759c', 'Rv1030', 'Rv2691', 'Rv2287', 'Rv3500c'] from model\n",
      "Growth without removing ['Rv2531c', 'Rv2222c', 'Rv3784', 'Rv1188', 'Rv0400c', 'Rv0672', 'Rv2724c', 'Rv1912c', 'Rv3139', 'Rv1552', 'Rv1240', 'Rv2967c', 'Rv0254c', 'Rv2849c', 'Rv2850c', 'Rv2071c', 'Rv0069c', 'Rv3130c', 'Rv2590', 'Rv1427c', 'Rv3513c', 'Rv2505c', 'Rv2503c', 'Rv0112', 'Rv0499', 'Rv0768', 'Rv3214', 'Rv1617', 'Rv2380c', 'Rv0087', 'Rv1309', 'Rv1307', 'Rv0573c', 'Rv2074', 'Rv2682c', 'Rv1131', 'Rv1320c', 'Rv2435c', 'Rv0382c', 'Rv1850', 'Rv1127c', 'Rv3824c', 'Rv0522'] from model\n",
      "0.36832917643404767\n",
      "Growth removing ['Rv1030', 'Rv2691', 'Rv2287', 'Rv3500c'] from model\n",
      "Growth without removing ['Rv2531c', 'Rv2222c', 'Rv3784', 'Rv1188', 'Rv0400c', 'Rv0672', 'Rv2724c', 'Rv1912c', 'Rv3139', 'Rv1552', 'Rv1240', 'Rv2967c', 'Rv0254c', 'Rv2849c', 'Rv2850c', 'Rv2071c', 'Rv0069c', 'Rv3130c', 'Rv2590', 'Rv1427c', 'Rv3513c', 'Rv2505c', 'Rv2503c', 'Rv0112', 'Rv0499', 'Rv0768', 'Rv3214', 'Rv1617', 'Rv2380c', 'Rv0087', 'Rv1309', 'Rv1307', 'Rv0573c', 'Rv2074', 'Rv2682c', 'Rv1131', 'Rv1320c', 'Rv2435c', 'Rv0382c', 'Rv1850', 'Rv1127c', 'Rv3824c', 'Rv0522', 'Rv3759c'] from model\n",
      "0.36832917643404767\n",
      "Growth removing ['Rv2691', 'Rv2287', 'Rv3500c'] from model\n",
      "Growth without removing ['Rv2531c', 'Rv2222c', 'Rv3784', 'Rv1188', 'Rv0400c', 'Rv0672', 'Rv2724c', 'Rv1912c', 'Rv3139', 'Rv1552', 'Rv1240', 'Rv2967c', 'Rv0254c', 'Rv2849c', 'Rv2850c', 'Rv2071c', 'Rv0069c', 'Rv3130c', 'Rv2590', 'Rv1427c', 'Rv3513c', 'Rv2505c', 'Rv2503c', 'Rv0112', 'Rv0499', 'Rv0768', 'Rv3214', 'Rv1617', 'Rv2380c', 'Rv0087', 'Rv1309', 'Rv1307', 'Rv0573c', 'Rv2074', 'Rv2682c', 'Rv1131', 'Rv1320c', 'Rv2435c', 'Rv0382c', 'Rv1850', 'Rv1127c', 'Rv3824c', 'Rv0522', 'Rv3759c', 'Rv1030'] from model\n",
      "0.36832917643404767\n",
      "Growth removing ['Rv2287', 'Rv3500c'] from model\n",
      "Growth without removing ['Rv2531c', 'Rv2222c', 'Rv3784', 'Rv1188', 'Rv0400c', 'Rv0672', 'Rv2724c', 'Rv1912c', 'Rv3139', 'Rv1552', 'Rv1240', 'Rv2967c', 'Rv0254c', 'Rv2849c', 'Rv2850c', 'Rv2071c', 'Rv0069c', 'Rv3130c', 'Rv2590', 'Rv1427c', 'Rv3513c', 'Rv2505c', 'Rv2503c', 'Rv0112', 'Rv0499', 'Rv0768', 'Rv3214', 'Rv1617', 'Rv2380c', 'Rv0087', 'Rv1309', 'Rv1307', 'Rv0573c', 'Rv2074', 'Rv2682c', 'Rv1131', 'Rv1320c', 'Rv2435c', 'Rv0382c', 'Rv1850', 'Rv1127c', 'Rv3824c', 'Rv0522', 'Rv3759c', 'Rv1030', 'Rv2691'] from model\n",
      "0.36832917643404767\n",
      "Growth removing ['Rv3500c'] from model\n",
      "Growth without removing ['Rv2531c', 'Rv2222c', 'Rv3784', 'Rv1188', 'Rv0400c', 'Rv0672', 'Rv2724c', 'Rv1912c', 'Rv3139', 'Rv1552', 'Rv1240', 'Rv2967c', 'Rv0254c', 'Rv2849c', 'Rv2850c', 'Rv2071c', 'Rv0069c', 'Rv3130c', 'Rv2590', 'Rv1427c', 'Rv3513c', 'Rv2505c', 'Rv2503c', 'Rv0112', 'Rv0499', 'Rv0768', 'Rv3214', 'Rv1617', 'Rv2380c', 'Rv0087', 'Rv1309', 'Rv1307', 'Rv0573c', 'Rv2074', 'Rv2682c', 'Rv1131', 'Rv1320c', 'Rv2435c', 'Rv0382c', 'Rv1850', 'Rv1127c', 'Rv3824c', 'Rv0522', 'Rv3759c', 'Rv1030', 'Rv2691', 'Rv2287'] from model\n",
      "0.36832917643404767\n",
      "Growth removing [] from model\n",
      "Growth without removing ['Rv2531c', 'Rv2222c', 'Rv3784', 'Rv1188', 'Rv0400c', 'Rv0672', 'Rv2724c', 'Rv1912c', 'Rv3139', 'Rv1552', 'Rv1240', 'Rv2967c', 'Rv0254c', 'Rv2849c', 'Rv2850c', 'Rv2071c', 'Rv0069c', 'Rv3130c', 'Rv2590', 'Rv1427c', 'Rv3513c', 'Rv2505c', 'Rv2503c', 'Rv0112', 'Rv0499', 'Rv0768', 'Rv3214', 'Rv1617', 'Rv2380c', 'Rv0087', 'Rv1309', 'Rv1307', 'Rv0573c', 'Rv2074', 'Rv2682c', 'Rv1131', 'Rv1320c', 'Rv2435c', 'Rv0382c', 'Rv1850', 'Rv1127c', 'Rv3824c', 'Rv0522', 'Rv3759c', 'Rv1030', 'Rv2691', 'Rv2287', 'Rv3500c'] from model\n",
      "0.3683291764340514\n"
     ]
    }
   ],
   "source": [
    "# Remove recursively genes from \"to remove\" list to see when growth is restored\n",
    "tryDelLst = cp.copy(L5_toDel_cur)\n",
    "notDeleted = []\n",
    "for i in L5_toDel_cur:\n",
    "    tryDelLst.remove(i)\n",
    "    notDeleted.append(i)\n",
    "    testDel = base_mod.copy()\n",
    "    testDel.medium = mi7H9_OADC_Med\n",
    "    remove_genes(testDel, tryDelLst, remove_reactions=True)\n",
    "    result = testDel.slim_optimize()\n",
    "    print(\"Growth removing %s from model\"%tryDelLst)\n",
    "    print(\"Growth without removing %s from model\"%notDeleted)\n",
    "    print(result)"
   ]
  },
  {
   "cell_type": "markdown",
   "id": "bab48db4",
   "metadata": {},
   "source": [
    "Here we see that keeping Rv1240 increases growth to 0.13, then a bunch of genes are deleted, and after this when Rv1307 is removed growth is restored to 0.37. Try to remove from a list of genes to remove from L5 already lacking Rv1307 and Rv1240 individual genes, to see if growth can be restored."
   ]
  },
  {
   "cell_type": "code",
   "execution_count": 140,
   "id": "e1b43bc1",
   "metadata": {},
   "outputs": [
    {
     "name": "stdout",
     "output_type": "stream",
     "text": [
      "Growth without removing Rv1240, Rv1307 and Rv1309 from the model restores growth: 0.3683291764340487.\n"
     ]
    }
   ],
   "source": [
    "tryDelsNoTwo = cp.copy(L5_toDel_cur)\n",
    "tryDelsNoTwo.remove('Rv1307')\n",
    "tryDelsNoTwo.remove('Rv1240')\n",
    "for i in range(0, len(tryDelsNoTwo)):\n",
    "    tryDels = cp.copy(tryDelsNoTwo)\n",
    "    remov = tryDels[i]\n",
    "    tryDels.remove(remov)\n",
    "    testMod = base_mod.copy()\n",
    "    testMod.medium = mi7H9_OADC_Med\n",
    "    remove_genes(testMod, tryDels, remove_reactions=True)\n",
    "    result = testMod.slim_optimize()\n",
    "    if(result > 0.3):\n",
    "        print('Growth without removing Rv1240, Rv1307 and %s from the model restores growth: %s.'%(remov, str(result)))"
   ]
  },
  {
   "cell_type": "markdown",
   "id": "d2152d46",
   "metadata": {},
   "source": [
    "Keeping Rv1307, Rv1309 and Rv1240 restores growth in L5. These genes are related with central carbon metabolism: two subunits of ATP synthase and a malate dehydrogenase. Update L5 model and save it."
   ]
  },
  {
   "cell_type": "code",
   "execution_count": 141,
   "id": "202713fa",
   "metadata": {},
   "outputs": [],
   "source": [
    "L5_cur=base_mod.copy()\n",
    "L5_toDel_cur.remove('Rv1240')\n",
    "L5_toDel_cur.remove('Rv1307')\n",
    "L5_toDel_cur.remove('Rv1309')\n",
    "remove_genes(L5_cur, L5_toDel_cur, remove_reactions=True)\n",
    "L5_cur.id=str('L5')"
   ]
  },
  {
   "cell_type": "code",
   "execution_count": 142,
   "id": "4801c470",
   "metadata": {},
   "outputs": [],
   "source": [
    "L5_cur.medium = mi7H9_OADC_Med"
   ]
  },
  {
   "cell_type": "code",
   "execution_count": 143,
   "id": "ac9ade79",
   "metadata": {},
   "outputs": [
    {
     "data": {
      "text/plain": [
       "0.3683291764340487"
      ]
     },
     "execution_count": 143,
     "metadata": {},
     "output_type": "execute_result"
    }
   ],
   "source": [
    "L5_cur.slim_optimize()"
   ]
  },
  {
   "cell_type": "code",
   "execution_count": 144,
   "id": "e7e96d8d",
   "metadata": {},
   "outputs": [],
   "source": [
    "cobra.io.json.save_json_model(L5_cur, str(delsAllsnps_mod_dir_cur+'L5'+'_cur.json'), pretty=False)"
   ]
  },
  {
   "cell_type": "markdown",
   "id": "708b767a",
   "metadata": {},
   "source": [
    "L5 has mostly mutations in redox metabolism and central carbon metabolism (atp synthase, cytochromes, malate DH...)"
   ]
  },
  {
   "cell_type": "markdown",
   "id": "37bf5065",
   "metadata": {},
   "source": [
    "### L6"
   ]
  },
  {
   "cell_type": "code",
   "execution_count": 145,
   "id": "f616cde3",
   "metadata": {},
   "outputs": [],
   "source": [
    "L6 = cobra.io.load_json_model(join(delsAllsnps_mod_dir, \"L6_delsAllsnps.json\"))"
   ]
  },
  {
   "cell_type": "code",
   "execution_count": 146,
   "id": "e64a6b12",
   "metadata": {},
   "outputs": [],
   "source": [
    "L6_dels = list(delMat.loc[delMat['L6'] == 0.0, 'L6'].index)"
   ]
  },
  {
   "cell_type": "code",
   "execution_count": 147,
   "id": "8574f4f3",
   "metadata": {},
   "outputs": [
    {
     "name": "stdout",
     "output_type": "stream",
     "text": [
      "Growth with Rv2860c deleted: 0.3683291764340529\n",
      "Growth with Rv1248c deleted: 0.36832917643405105\n",
      "Growth with Rv3808c deleted: 0.0\n",
      "Growth with Rv0222 deleted: 0.3683291764340529\n",
      "Growth with Rv2724c deleted: 0.3683291764340529\n",
      "Growth with Rv0375c deleted: 0.36832917643405255\n",
      "Growth with Rv1092c deleted: 0.0\n",
      "Growth with Rv0438c deleted: 0.3683291764340529\n",
      "Growth with Rv0206c deleted: 0.3683291764340529\n",
      "Growth with Rv1451 deleted: 0.0\n",
      "Growth with Rv2194 deleted: 0.0\n",
      "Growth with Rv3617 deleted: 0.3683291764340529\n",
      "Growth with Rv0221 deleted: 0.3683291764340529\n",
      "Growth with Rv0166 deleted: 0.3683291764340529\n",
      "Growth with Rv1484 deleted: 0.0\n",
      "Growth with Rv2524c deleted: 0.0\n",
      "Growth with Rv2940c deleted: 0.0\n",
      "Growth with Rv1500 deleted: 0.0\n",
      "Growth with Rv2504c deleted: 0.3683291764340493\n",
      "Growth with Rv3255c deleted: 0.0\n",
      "Growth with Rv0436c deleted: 0.0\n",
      "Growth with Rv0070c deleted: 0.3683291764340529\n",
      "Growth with Rv1296 deleted: 0.0\n",
      "Growth with Rv1617 deleted: 0.36832917643405105\n",
      "Growth with Rv1605 deleted: 0.0\n",
      "Growth with Rv0644c deleted: 0.0\n",
      "Growth with Rv0904c deleted: 0.3683291764340538\n",
      "Growth with Rv3199c deleted: 0.3683291764340552\n",
      "Growth with Rv3375 deleted: 0.3683291764340529\n",
      "Growth with Rv0223c deleted: 0.3683291764340529\n",
      "Growth with Rv1155 deleted: 0.3683291764340529\n",
      "Growth with Rv2074 deleted: 0.3683291764340529\n",
      "Growth with Rv1449c deleted: 0.0\n",
      "Growth with Rv3410c deleted: 0.0\n",
      "Growth with Rv3314c deleted: 0.3683291764340513\n",
      "Growth with Rv3913 deleted: 0.0\n",
      "Growth with Rv1348 deleted: 0.0\n",
      "Growth with Rv0021c deleted: 0.3683291764340529\n",
      "Growth with Rv1409 deleted: 0.3683291764340525\n",
      "Growth with Rv2127 deleted: 0.3683291764340529\n",
      "Growth with Rv0103c deleted: 0.3683291764340529\n",
      "Growth with Rv1030 deleted: 0.3683291764340529\n",
      "Growth with Rv0267 deleted: 0.3683291764340529\n",
      "Growth with Rv2400c deleted: 0.0\n"
     ]
    }
   ],
   "source": [
    "\"\"\"Check what are the genes that are causing the flux to be zero.\"\"\"\n",
    "L6_toDelMuts = testDelsFun(L6_dels)\n",
    "L6_impGrwth = L6_toDelMuts.loc[L6_toDelMuts['BM'] == 0]['gene'].tolist()"
   ]
  },
  {
   "cell_type": "code",
   "execution_count": 148,
   "id": "3e9e0551",
   "metadata": {},
   "outputs": [
    {
     "data": {
      "text/html": [
       "\n",
       "        <table>\n",
       "            <tr>\n",
       "                <td><strong>Gene identifier</strong></td><td>Rv3808c</td>\n",
       "            </tr><tr>\n",
       "                <td><strong>Name</strong></td><td></td>\n",
       "            </tr><tr>\n",
       "                <td><strong>Memory address</strong></td>\n",
       "                <td>0x01fadc8d3730</td>\n",
       "            </tr><tr>\n",
       "                <td><strong>Functional</strong></td><td>True</td>\n",
       "            </tr><tr>\n",
       "                <td><strong>In 1 reaction(s)</strong></td><td>\n",
       "                    GALFT</td>\n",
       "            </tr>\n",
       "        </table>"
      ],
      "text/plain": [
       "<Gene Rv3808c at 0x1fadc8d3730>"
      ]
     },
     "execution_count": 148,
     "metadata": {},
     "output_type": "execute_result"
    }
   ],
   "source": [
    "base_mod.genes.get_by_id(L6_impGrwth[0])"
   ]
  },
  {
   "cell_type": "markdown",
   "id": "0fe8c8a2",
   "metadata": {},
   "source": [
    "Rv3808c. Bifunctional UDP-galactofuranosyl transferase GlfT2. Peptidoglycan synthesis. PROVEAN = -4.864. Significative. Essential. It could also be that in L5 there are paralogs of this gene, the members of the L5-L6-L7 have a different membrane composition (maybe the snp is not deletereous but impairs peptidoglycan synthesis...), or that it is a false positive of PROVEAN. So let's keep it. Talk about it in paper"
   ]
  },
  {
   "cell_type": "code",
   "execution_count": 149,
   "id": "c4284455",
   "metadata": {},
   "outputs": [
    {
     "data": {
      "text/html": [
       "\n",
       "        <table>\n",
       "            <tr>\n",
       "                <td><strong>Gene identifier</strong></td><td>Rv1092c</td>\n",
       "            </tr><tr>\n",
       "                <td><strong>Name</strong></td><td></td>\n",
       "            </tr><tr>\n",
       "                <td><strong>Memory address</strong></td>\n",
       "                <td>0x01fadc8e98b0</td>\n",
       "            </tr><tr>\n",
       "                <td><strong>Functional</strong></td><td>True</td>\n",
       "            </tr><tr>\n",
       "                <td><strong>In 2 reaction(s)</strong></td><td>\n",
       "                    PNTK, PNCDC</td>\n",
       "            </tr>\n",
       "        </table>"
      ],
      "text/plain": [
       "<Gene Rv1092c at 0x1fadc8e98b0>"
      ]
     },
     "execution_count": 149,
     "metadata": {},
     "output_type": "execute_result"
    }
   ],
   "source": [
    "base_mod.genes.get_by_id(L6_impGrwth[1])"
   ]
  },
  {
   "cell_type": "code",
   "execution_count": 150,
   "id": "f8783999",
   "metadata": {},
   "outputs": [
    {
     "data": {
      "text/html": [
       "\n",
       "        <table>\n",
       "            <tr>\n",
       "                <td><strong>Gene identifier</strong></td><td>Rv1451</td>\n",
       "            </tr><tr>\n",
       "                <td><strong>Name</strong></td><td></td>\n",
       "            </tr><tr>\n",
       "                <td><strong>Memory address</strong></td>\n",
       "                <td>0x01fadc8f40a0</td>\n",
       "            </tr><tr>\n",
       "                <td><strong>Functional</strong></td><td>True</td>\n",
       "            </tr><tr>\n",
       "                <td><strong>In 2 reaction(s)</strong></td><td>\n",
       "                    CYO1b, HEMEOS</td>\n",
       "            </tr>\n",
       "        </table>"
      ],
      "text/plain": [
       "<Gene Rv1451 at 0x1fadc8f40a0>"
      ]
     },
     "execution_count": 150,
     "metadata": {},
     "output_type": "execute_result"
    }
   ],
   "source": [
    "base_mod.genes.get_by_id(L6_impGrwth[2])"
   ]
  },
  {
   "cell_type": "code",
   "execution_count": 151,
   "id": "dc9edcc8",
   "metadata": {},
   "outputs": [
    {
     "data": {
      "text/html": [
       "\n",
       "        <table>\n",
       "            <tr>\n",
       "                <td><strong>Gene identifier</strong></td><td>Rv2194</td>\n",
       "            </tr><tr>\n",
       "                <td><strong>Name</strong></td><td></td>\n",
       "            </tr><tr>\n",
       "                <td><strong>Memory address</strong></td>\n",
       "                <td>0x01fadc8f4190</td>\n",
       "            </tr><tr>\n",
       "                <td><strong>Functional</strong></td><td>True</td>\n",
       "            </tr><tr>\n",
       "                <td><strong>In 2 reaction(s)</strong></td><td>\n",
       "                    HEMEAS, CYO1a</td>\n",
       "            </tr>\n",
       "        </table>"
      ],
      "text/plain": [
       "<Gene Rv2194 at 0x1fadc8f4190>"
      ]
     },
     "execution_count": 151,
     "metadata": {},
     "output_type": "execute_result"
    }
   ],
   "source": [
    "base_mod.genes.get_by_id(L6_impGrwth[3])"
   ]
  },
  {
   "cell_type": "code",
   "execution_count": 152,
   "id": "ec7345de",
   "metadata": {},
   "outputs": [
    {
     "data": {
      "text/html": [
       "\n",
       "        <table>\n",
       "            <tr>\n",
       "                <td><strong>Gene identifier</strong></td><td>Rv1484</td>\n",
       "            </tr><tr>\n",
       "                <td><strong>Name</strong></td><td></td>\n",
       "            </tr><tr>\n",
       "                <td><strong>Memory address</strong></td>\n",
       "                <td>0x01fadc9005b0</td>\n",
       "            </tr><tr>\n",
       "                <td><strong>Functional</strong></td><td>True</td>\n",
       "            </tr><tr>\n",
       "                <td><strong>In 11 reaction(s)</strong></td><td>\n",
       "                    FAS161, FAS160, FAS120, FAS260, FAS100, FAS200, FAS80_L, FAS180, FAS140, FAS240_L, FAS181</td>\n",
       "            </tr>\n",
       "        </table>"
      ],
      "text/plain": [
       "<Gene Rv1484 at 0x1fadc9005b0>"
      ]
     },
     "execution_count": 152,
     "metadata": {},
     "output_type": "execute_result"
    }
   ],
   "source": [
    "base_mod.genes.get_by_id(L6_impGrwth[4])"
   ]
  },
  {
   "cell_type": "code",
   "execution_count": 153,
   "id": "b24f0bc0",
   "metadata": {},
   "outputs": [
    {
     "data": {
      "text/html": [
       "\n",
       "        <table>\n",
       "            <tr>\n",
       "                <td><strong>Gene identifier</strong></td><td>Rv2524c</td>\n",
       "            </tr><tr>\n",
       "                <td><strong>Name</strong></td><td></td>\n",
       "            </tr><tr>\n",
       "                <td><strong>Memory address</strong></td>\n",
       "                <td>0x01fadc900610</td>\n",
       "            </tr><tr>\n",
       "                <td><strong>Functional</strong></td><td>True</td>\n",
       "            </tr><tr>\n",
       "                <td><strong>In 11 reaction(s)</strong></td><td>\n",
       "                    FAS161, FAS160, FAS120, FAS260, FAS100, FAS200, FAS80_L, FAS180, FAS140, FAS240_L, FAS181</td>\n",
       "            </tr>\n",
       "        </table>"
      ],
      "text/plain": [
       "<Gene Rv2524c at 0x1fadc900610>"
      ]
     },
     "execution_count": 153,
     "metadata": {},
     "output_type": "execute_result"
    }
   ],
   "source": [
    "base_mod.genes.get_by_id(L6_impGrwth[5])"
   ]
  },
  {
   "cell_type": "code",
   "execution_count": 154,
   "id": "81fe8186",
   "metadata": {},
   "outputs": [
    {
     "data": {
      "text/html": [
       "\n",
       "        <table>\n",
       "            <tr>\n",
       "                <td><strong>Gene identifier</strong></td><td>Rv2940c</td>\n",
       "            </tr><tr>\n",
       "                <td><strong>Name</strong></td><td></td>\n",
       "            </tr><tr>\n",
       "                <td><strong>Memory address</strong></td>\n",
       "                <td>0x01fadc9006d0</td>\n",
       "            </tr><tr>\n",
       "                <td><strong>Functional</strong></td><td>True</td>\n",
       "            </tr><tr>\n",
       "                <td><strong>In 17 reaction(s)</strong></td><td>\n",
       "                    FASm2602, FASm280, MAS3, FASm2202, FASm2802, FASm3001, FASm320, FASm240, FASm220, FASm2401, FASm2402, FASm2601, FASm2201, FASm2801, FASm300, FASm260, FASm340</td>\n",
       "            </tr>\n",
       "        </table>"
      ],
      "text/plain": [
       "<Gene Rv2940c at 0x1fadc9006d0>"
      ]
     },
     "execution_count": 154,
     "metadata": {},
     "output_type": "execute_result"
    }
   ],
   "source": [
    "base_mod.genes.get_by_id(L6_impGrwth[6])"
   ]
  },
  {
   "cell_type": "code",
   "execution_count": 155,
   "id": "ca6a3772",
   "metadata": {},
   "outputs": [
    {
     "data": {
      "text/html": [
       "\n",
       "        <table>\n",
       "            <tr>\n",
       "                <td><strong>Gene identifier</strong></td><td>Rv1500</td>\n",
       "            </tr><tr>\n",
       "                <td><strong>Name</strong></td><td></td>\n",
       "            </tr><tr>\n",
       "                <td><strong>Memory address</strong></td>\n",
       "                <td>0x01fadc900730</td>\n",
       "            </tr><tr>\n",
       "                <td><strong>Functional</strong></td><td>True</td>\n",
       "            </tr><tr>\n",
       "                <td><strong>In 1 reaction(s)</strong></td><td>\n",
       "                    G16MTM10</td>\n",
       "            </tr>\n",
       "        </table>"
      ],
      "text/plain": [
       "<Gene Rv1500 at 0x1fadc900730>"
      ]
     },
     "execution_count": 155,
     "metadata": {},
     "output_type": "execute_result"
    }
   ],
   "source": [
    "base_mod.genes.get_by_id(L6_impGrwth[7])"
   ]
  },
  {
   "cell_type": "code",
   "execution_count": 156,
   "id": "dc0e131a",
   "metadata": {},
   "outputs": [
    {
     "data": {
      "text/html": [
       "\n",
       "        <table>\n",
       "            <tr>\n",
       "                <td><strong>Gene identifier</strong></td><td>Rv3255c</td>\n",
       "            </tr><tr>\n",
       "                <td><strong>Name</strong></td><td></td>\n",
       "            </tr><tr>\n",
       "                <td><strong>Memory address</strong></td>\n",
       "                <td>0x01fadc900c10</td>\n",
       "            </tr><tr>\n",
       "                <td><strong>Functional</strong></td><td>True</td>\n",
       "            </tr><tr>\n",
       "                <td><strong>In 1 reaction(s)</strong></td><td>\n",
       "                    MAN6PI</td>\n",
       "            </tr>\n",
       "        </table>"
      ],
      "text/plain": [
       "<Gene Rv3255c at 0x1fadc900c10>"
      ]
     },
     "execution_count": 156,
     "metadata": {},
     "output_type": "execute_result"
    }
   ],
   "source": [
    "base_mod.genes.get_by_id(L6_impGrwth[8])"
   ]
  },
  {
   "cell_type": "code",
   "execution_count": 157,
   "id": "5de81469",
   "metadata": {},
   "outputs": [
    {
     "data": {
      "text/html": [
       "\n",
       "        <table>\n",
       "            <tr>\n",
       "                <td><strong>Gene identifier</strong></td><td>Rv0436c</td>\n",
       "            </tr><tr>\n",
       "                <td><strong>Name</strong></td><td></td>\n",
       "            </tr><tr>\n",
       "                <td><strong>Memory address</strong></td>\n",
       "                <td>0x01fadc908040</td>\n",
       "            </tr><tr>\n",
       "                <td><strong>Functional</strong></td><td>True</td>\n",
       "            </tr><tr>\n",
       "                <td><strong>In 1 reaction(s)</strong></td><td>\n",
       "                    PSSA160</td>\n",
       "            </tr>\n",
       "        </table>"
      ],
      "text/plain": [
       "<Gene Rv0436c at 0x1fadc908040>"
      ]
     },
     "execution_count": 157,
     "metadata": {},
     "output_type": "execute_result"
    }
   ],
   "source": [
    "base_mod.genes.get_by_id(L6_impGrwth[9])"
   ]
  },
  {
   "cell_type": "code",
   "execution_count": 158,
   "id": "e5f35e3e",
   "metadata": {},
   "outputs": [
    {
     "data": {
      "text/html": [
       "\n",
       "        <table>\n",
       "            <tr>\n",
       "                <td><strong>Gene identifier</strong></td><td>Rv1296</td>\n",
       "            </tr><tr>\n",
       "                <td><strong>Name</strong></td><td></td>\n",
       "            </tr><tr>\n",
       "                <td><strong>Memory address</strong></td>\n",
       "                <td>0x01fadc908970</td>\n",
       "            </tr><tr>\n",
       "                <td><strong>Functional</strong></td><td>True</td>\n",
       "            </tr><tr>\n",
       "                <td><strong>In 1 reaction(s)</strong></td><td>\n",
       "                    HSK</td>\n",
       "            </tr>\n",
       "        </table>"
      ],
      "text/plain": [
       "<Gene Rv1296 at 0x1fadc908970>"
      ]
     },
     "execution_count": 158,
     "metadata": {},
     "output_type": "execute_result"
    }
   ],
   "source": [
    "base_mod.genes.get_by_id(L6_impGrwth[10])"
   ]
  },
  {
   "cell_type": "code",
   "execution_count": 159,
   "id": "d86bbc88",
   "metadata": {},
   "outputs": [
    {
     "data": {
      "text/html": [
       "\n",
       "        <table>\n",
       "            <tr>\n",
       "                <td><strong>Gene identifier</strong></td><td>Rv1605</td>\n",
       "            </tr><tr>\n",
       "                <td><strong>Name</strong></td><td></td>\n",
       "            </tr><tr>\n",
       "                <td><strong>Memory address</strong></td>\n",
       "                <td>0x01fadbb46130</td>\n",
       "            </tr><tr>\n",
       "                <td><strong>Functional</strong></td><td>True</td>\n",
       "            </tr><tr>\n",
       "                <td><strong>In 1 reaction(s)</strong></td><td>\n",
       "                    IG3PS</td>\n",
       "            </tr>\n",
       "        </table>"
      ],
      "text/plain": [
       "<Gene Rv1605 at 0x1fadbb46130>"
      ]
     },
     "execution_count": 159,
     "metadata": {},
     "output_type": "execute_result"
    }
   ],
   "source": [
    "base_mod.genes.get_by_id(L6_impGrwth[11])"
   ]
  },
  {
   "cell_type": "code",
   "execution_count": 160,
   "id": "5bec2545",
   "metadata": {},
   "outputs": [
    {
     "data": {
      "text/html": [
       "\n",
       "        <table>\n",
       "            <tr>\n",
       "                <td><strong>Gene identifier</strong></td><td>Rv0644c</td>\n",
       "            </tr><tr>\n",
       "                <td><strong>Name</strong></td><td></td>\n",
       "            </tr><tr>\n",
       "                <td><strong>Memory address</strong></td>\n",
       "                <td>0x01fadbb46be0</td>\n",
       "            </tr><tr>\n",
       "                <td><strong>Functional</strong></td><td>True</td>\n",
       "            </tr><tr>\n",
       "                <td><strong>In 7 reaction(s)</strong></td><td>\n",
       "                    MYC1M1, MYC2CYC2, MYC1CYC5, MYC2CYC1, MYC2CYC3, MYC1M2, MYC1CYC4</td>\n",
       "            </tr>\n",
       "        </table>"
      ],
      "text/plain": [
       "<Gene Rv0644c at 0x1fadbb46be0>"
      ]
     },
     "execution_count": 160,
     "metadata": {},
     "output_type": "execute_result"
    }
   ],
   "source": [
    "base_mod.genes.get_by_id(L6_impGrwth[12])"
   ]
  },
  {
   "cell_type": "code",
   "execution_count": 161,
   "id": "c46015a7",
   "metadata": {},
   "outputs": [
    {
     "data": {
      "text/html": [
       "\n",
       "        <table>\n",
       "            <tr>\n",
       "                <td><strong>Gene identifier</strong></td><td>Rv1449c</td>\n",
       "            </tr><tr>\n",
       "                <td><strong>Name</strong></td><td></td>\n",
       "            </tr><tr>\n",
       "                <td><strong>Memory address</strong></td>\n",
       "                <td>0x01fadbb30eb0</td>\n",
       "            </tr><tr>\n",
       "                <td><strong>Functional</strong></td><td>True</td>\n",
       "            </tr><tr>\n",
       "                <td><strong>In 2 reaction(s)</strong></td><td>\n",
       "                    TKT1, TKT2</td>\n",
       "            </tr>\n",
       "        </table>"
      ],
      "text/plain": [
       "<Gene Rv1449c at 0x1fadbb30eb0>"
      ]
     },
     "execution_count": 161,
     "metadata": {},
     "output_type": "execute_result"
    }
   ],
   "source": [
    "base_mod.genes.get_by_id(L6_impGrwth[13])"
   ]
  },
  {
   "cell_type": "code",
   "execution_count": 162,
   "id": "b86f7a83",
   "metadata": {},
   "outputs": [
    {
     "data": {
      "text/html": [
       "\n",
       "        <table>\n",
       "            <tr>\n",
       "                <td><strong>Gene identifier</strong></td><td>Rv3410c</td>\n",
       "            </tr><tr>\n",
       "                <td><strong>Name</strong></td><td></td>\n",
       "            </tr><tr>\n",
       "                <td><strong>Memory address</strong></td>\n",
       "                <td>0x01fadc915b20</td>\n",
       "            </tr><tr>\n",
       "                <td><strong>Functional</strong></td><td>True</td>\n",
       "            </tr><tr>\n",
       "                <td><strong>In 1 reaction(s)</strong></td><td>\n",
       "                    IMPD</td>\n",
       "            </tr>\n",
       "        </table>"
      ],
      "text/plain": [
       "<Gene Rv3410c at 0x1fadc915b20>"
      ]
     },
     "execution_count": 162,
     "metadata": {},
     "output_type": "execute_result"
    }
   ],
   "source": [
    "base_mod.genes.get_by_id(L6_impGrwth[14])"
   ]
  },
  {
   "cell_type": "code",
   "execution_count": 163,
   "id": "07374082",
   "metadata": {},
   "outputs": [
    {
     "data": {
      "text/html": [
       "\n",
       "        <table>\n",
       "            <tr>\n",
       "                <td><strong>Gene identifier</strong></td><td>Rv3913</td>\n",
       "            </tr><tr>\n",
       "                <td><strong>Name</strong></td><td></td>\n",
       "            </tr><tr>\n",
       "                <td><strong>Memory address</strong></td>\n",
       "                <td>0x01fadc915f70</td>\n",
       "            </tr><tr>\n",
       "                <td><strong>Functional</strong></td><td>True</td>\n",
       "            </tr><tr>\n",
       "                <td><strong>In 1 reaction(s)</strong></td><td>\n",
       "                    TRDR</td>\n",
       "            </tr>\n",
       "        </table>"
      ],
      "text/plain": [
       "<Gene Rv3913 at 0x1fadc915f70>"
      ]
     },
     "execution_count": 163,
     "metadata": {},
     "output_type": "execute_result"
    }
   ],
   "source": [
    "base_mod.genes.get_by_id(L6_impGrwth[15])"
   ]
  },
  {
   "cell_type": "code",
   "execution_count": 164,
   "id": "5d72c095",
   "metadata": {},
   "outputs": [
    {
     "data": {
      "text/html": [
       "\n",
       "        <table>\n",
       "            <tr>\n",
       "                <td><strong>Gene identifier</strong></td><td>Rv1348</td>\n",
       "            </tr><tr>\n",
       "                <td><strong>Name</strong></td><td></td>\n",
       "            </tr><tr>\n",
       "                <td><strong>Memory address</strong></td>\n",
       "                <td>0x01fadc9215b0</td>\n",
       "            </tr><tr>\n",
       "                <td><strong>Functional</strong></td><td>True</td>\n",
       "            </tr><tr>\n",
       "                <td><strong>In 3 reaction(s)</strong></td><td>\n",
       "                    CMCBTFU, VIUB, CMCBTFL</td>\n",
       "            </tr>\n",
       "        </table>"
      ],
      "text/plain": [
       "<Gene Rv1348 at 0x1fadc9215b0>"
      ]
     },
     "execution_count": 164,
     "metadata": {},
     "output_type": "execute_result"
    }
   ],
   "source": [
    "base_mod.genes.get_by_id(L6_impGrwth[16])"
   ]
  },
  {
   "cell_type": "code",
   "execution_count": 165,
   "id": "48424974",
   "metadata": {},
   "outputs": [
    {
     "data": {
      "text/html": [
       "\n",
       "        <table>\n",
       "            <tr>\n",
       "                <td><strong>Gene identifier</strong></td><td>Rv2400c</td>\n",
       "            </tr><tr>\n",
       "                <td><strong>Name</strong></td><td></td>\n",
       "            </tr><tr>\n",
       "                <td><strong>Memory address</strong></td>\n",
       "                <td>0x01fadc92db80</td>\n",
       "            </tr><tr>\n",
       "                <td><strong>Functional</strong></td><td>True</td>\n",
       "            </tr><tr>\n",
       "                <td><strong>In 2 reaction(s)</strong></td><td>\n",
       "                    SULabc, TSULabc</td>\n",
       "            </tr>\n",
       "        </table>"
      ],
      "text/plain": [
       "<Gene Rv2400c at 0x1fadc92db80>"
      ]
     },
     "execution_count": 165,
     "metadata": {},
     "output_type": "execute_result"
    }
   ],
   "source": [
    "base_mod.genes.get_by_id(L6_impGrwth[17])"
   ]
  },
  {
   "cell_type": "code",
   "execution_count": 166,
   "id": "ffdce2e0",
   "metadata": {},
   "outputs": [],
   "source": [
    "L6_toDel_cur = L6_toDelMuts.loc[L6_toDelMuts['BM'] != 0]['gene'].tolist()"
   ]
  },
  {
   "cell_type": "code",
   "execution_count": 167,
   "id": "649fa4e0",
   "metadata": {},
   "outputs": [],
   "source": [
    "L6_cur = cobra.io.load_json_model(join(mod_dir, \"iEK1011_2.0.json\"))"
   ]
  },
  {
   "cell_type": "code",
   "execution_count": 168,
   "id": "a3457952",
   "metadata": {},
   "outputs": [],
   "source": [
    "remove_genes(L6_cur, L6_toDel_cur, remove_reactions=True)"
   ]
  },
  {
   "cell_type": "code",
   "execution_count": 169,
   "id": "3977fa60",
   "metadata": {},
   "outputs": [],
   "source": [
    "L6_cur.medium = mi7H9_OADC_Med"
   ]
  },
  {
   "cell_type": "code",
   "execution_count": 170,
   "id": "7c812413",
   "metadata": {},
   "outputs": [],
   "source": [
    "L6_cur.id=str('L6')"
   ]
  },
  {
   "cell_type": "code",
   "execution_count": 171,
   "id": "1e4e2e31",
   "metadata": {},
   "outputs": [
    {
     "data": {
      "text/plain": [
       "0.36832917643405166"
      ]
     },
     "execution_count": 171,
     "metadata": {},
     "output_type": "execute_result"
    }
   ],
   "source": [
    "L6_cur.slim_optimize()"
   ]
  },
  {
   "cell_type": "code",
   "execution_count": 172,
   "id": "de95cd06",
   "metadata": {},
   "outputs": [],
   "source": [
    "cobra.io.json.save_json_model(L6_cur, str(delsAllsnps_mod_dir_cur+'L6'+'_cur.json'), pretty=False)"
   ]
  },
  {
   "cell_type": "markdown",
   "id": "a668a693",
   "metadata": {},
   "source": [
    "### L7"
   ]
  },
  {
   "cell_type": "code",
   "execution_count": 173,
   "id": "9ef8ea52",
   "metadata": {},
   "outputs": [],
   "source": [
    "L7 = cobra.io.load_json_model(join(delsAllsnps_mod_dir, \"L7_delsAllsnps.json\"))"
   ]
  },
  {
   "cell_type": "code",
   "execution_count": 174,
   "id": "34c3c644",
   "metadata": {},
   "outputs": [],
   "source": [
    "L7_dels = list(delMat.loc[delMat['L7'] == 0.0, 'L7'].index)"
   ]
  },
  {
   "cell_type": "code",
   "execution_count": 175,
   "id": "a50cd2e6",
   "metadata": {},
   "outputs": [
    {
     "name": "stdout",
     "output_type": "stream",
     "text": [
      "Growth with Rv3859c deleted: 0.36832917643405116\n",
      "Growth with Rv0234c deleted: 0.3683291764340529\n",
      "Growth with Rv3332 deleted: 0.36832917643405083\n",
      "Growth with Rv0753c deleted: 0.3676318592111623\n",
      "Growth with Rv3808c deleted: 0.0\n",
      "Growth with Rv3468c deleted: 0.3683291764340529\n",
      "Growth with Rv2174 deleted: 0.36832917643405017\n",
      "Growth with Rv0672 deleted: 0.3683291764340529\n",
      "Growth with Rv0859 deleted: 0.3683291764340526\n",
      "Growth with Rv0971c deleted: 0.3683291764340529\n",
      "Growth with Rv0889c deleted: 0.3683291764340529\n",
      "Growth with Rv0066c deleted: 0.3683291764340529\n",
      "Growth with Rv2062c deleted: 0.3683291764340529\n",
      "Growth with Rv0534c deleted: 0.0\n",
      "Growth with Rv0155 deleted: 0.3683291764340529\n",
      "Growth with Rv2847c deleted: 0.0\n",
      "Growth with Rv2291 deleted: 0.3683291764340529\n",
      "Growth with Rv0824c deleted: 0.3569494309929188\n",
      "Growth with Rv2605c deleted: 0.3683291764340529\n",
      "Growth with Rv1185c deleted: 0.3683291764340529\n",
      "Growth with Rv3801c deleted: 0.0\n",
      "Growth with Rv3513c deleted: 0.3683291764340529\n",
      "Growth with Rv3089 deleted: 0.3683291764340529\n",
      "Growth with Rv1662 deleted: 0.3683291764340529\n",
      "Growth with Rv1663 deleted: 0.3683291764340529\n",
      "Growth with Rv2940c deleted: 0.0\n",
      "Growth with Rv2188c deleted: 0.0\n",
      "Growth with Rv0112 deleted: 0.3683291764340529\n",
      "Growth with Rv2277c deleted: 0.3683291764340529\n",
      "Growth with Rv3084 deleted: 0.3683291764340529\n",
      "Growth with Rv3203 deleted: 0.3683291764340529\n",
      "Growth with Rv3817 deleted: 0.3683291764340517\n",
      "Growth with Rv0147 deleted: 0.3683291764340529\n",
      "Growth with Rv3400 deleted: 0.3683291764340529\n",
      "Growth with Rv3042c deleted: 0.0\n",
      "Growth with Rv0114 deleted: 0.36832917643404856\n",
      "Growth with Rv2952 deleted: 0.3683291764340509\n",
      "Growth with Rv2931 deleted: 0.3683291764340529\n",
      "Growth with Rv2267c deleted: 0.3683291764340529\n",
      "Growth with Rv1288 deleted: 0.3683291764340529\n",
      "Growth with Rv3199c deleted: 0.3683291764340552\n",
      "Growth with Rv1311 deleted: 0.1302016729300472\n",
      "Growth with Rv1307 deleted: 0.1302016729300472\n",
      "Growth with Rv3157 deleted: 0.3683291764340529\n",
      "Growth with Rv2435c deleted: 0.3683291764340529\n",
      "Growth with Rv3275c deleted: 0.0\n",
      "Growth with Rv0809 deleted: 0.0\n",
      "Growth with Rv3469c deleted: 0.3683291764340529\n",
      "Growth with Rv1872c deleted: 0.36832917643405283\n",
      "Growth with Rv1127c deleted: 0.3683291764340491\n",
      "Growth with Rv0911 deleted: 0.3683291764340529\n",
      "Growth with Rv1348 deleted: 0.0\n",
      "Growth with Rv2781c deleted: 0.3683291764340529\n",
      "Growth with Rv1412 deleted: 0.0\n",
      "Growth with Rv3820c deleted: 0.3683291764340509\n",
      "Growth with Rv3823c deleted: 0.3683291764340529\n",
      "Growth with Rv0107c deleted: 0.3683291764340529\n",
      "Growth with Rv1607 deleted: 0.3683291764340529\n",
      "Growth with Rv1283c deleted: 0.3683291764340544\n",
      "Growth with Rv2329c deleted: 0.3683291764340529\n",
      "Growth with Rv2920c deleted: 0.15992326242175917\n",
      "Growth with Rv0932c deleted: 0.3683291764340529\n",
      "Growth with Rv0072 deleted: 0.3683291764340529\n",
      "Growth with Rv1885c deleted: 0.3683291764340529\n",
      "Growth with Rv2601 deleted: 0.36832917643404467\n",
      "Growth with Rv3552 deleted: 0.36832917643405366\n"
     ]
    }
   ],
   "source": [
    "\"\"\"Check what are the genes that are causing the flux to be zero.\"\"\"\n",
    "L7_toDelMuts = testDelsFun(L7_dels)\n",
    "L7_impGrwth = L7_toDelMuts.loc[L7_toDelMuts['BM'] == 0]['gene'].tolist()"
   ]
  },
  {
   "cell_type": "code",
   "execution_count": 176,
   "id": "a8b0c44f",
   "metadata": {},
   "outputs": [
    {
     "data": {
      "text/html": [
       "\n",
       "        <table>\n",
       "            <tr>\n",
       "                <td><strong>Gene identifier</strong></td><td>Rv3808c</td>\n",
       "            </tr><tr>\n",
       "                <td><strong>Name</strong></td><td></td>\n",
       "            </tr><tr>\n",
       "                <td><strong>Memory address</strong></td>\n",
       "                <td>0x01fadc8d3730</td>\n",
       "            </tr><tr>\n",
       "                <td><strong>Functional</strong></td><td>True</td>\n",
       "            </tr><tr>\n",
       "                <td><strong>In 1 reaction(s)</strong></td><td>\n",
       "                    GALFT</td>\n",
       "            </tr>\n",
       "        </table>"
      ],
      "text/plain": [
       "<Gene Rv3808c at 0x1fadc8d3730>"
      ]
     },
     "execution_count": 176,
     "metadata": {},
     "output_type": "execute_result"
    }
   ],
   "source": [
    "base_mod.genes.get_by_id(L7_impGrwth[0])"
   ]
  },
  {
   "cell_type": "code",
   "execution_count": 177,
   "id": "40419522",
   "metadata": {},
   "outputs": [
    {
     "data": {
      "text/html": [
       "\n",
       "        <table>\n",
       "            <tr>\n",
       "                <td><strong>Gene identifier</strong></td><td>Rv0534c</td>\n",
       "            </tr><tr>\n",
       "                <td><strong>Name</strong></td><td></td>\n",
       "            </tr><tr>\n",
       "                <td><strong>Memory address</strong></td>\n",
       "                <td>0x01fadc8e9310</td>\n",
       "            </tr><tr>\n",
       "                <td><strong>Functional</strong></td><td>True</td>\n",
       "            </tr><tr>\n",
       "                <td><strong>In 1 reaction(s)</strong></td><td>\n",
       "                    DHNAOT</td>\n",
       "            </tr>\n",
       "        </table>"
      ],
      "text/plain": [
       "<Gene Rv0534c at 0x1fadc8e9310>"
      ]
     },
     "execution_count": 177,
     "metadata": {},
     "output_type": "execute_result"
    }
   ],
   "source": [
    "base_mod.genes.get_by_id(L7_impGrwth[1])"
   ]
  },
  {
   "cell_type": "code",
   "execution_count": 178,
   "id": "99f73c81",
   "metadata": {},
   "outputs": [
    {
     "data": {
      "text/html": [
       "\n",
       "        <table>\n",
       "            <tr>\n",
       "                <td><strong>Gene identifier</strong></td><td>Rv2847c</td>\n",
       "            </tr><tr>\n",
       "                <td><strong>Name</strong></td><td></td>\n",
       "            </tr><tr>\n",
       "                <td><strong>Memory address</strong></td>\n",
       "                <td>0x01fadc8e9a60</td>\n",
       "            </tr><tr>\n",
       "                <td><strong>Functional</strong></td><td>True</td>\n",
       "            </tr><tr>\n",
       "                <td><strong>In 4 reaction(s)</strong></td><td>\n",
       "                    UPP3MT, SHCHD2, SHCHD3, SHCHF</td>\n",
       "            </tr>\n",
       "        </table>"
      ],
      "text/plain": [
       "<Gene Rv2847c at 0x1fadc8e9a60>"
      ]
     },
     "execution_count": 178,
     "metadata": {},
     "output_type": "execute_result"
    }
   ],
   "source": [
    "base_mod.genes.get_by_id(L7_impGrwth[2])"
   ]
  },
  {
   "cell_type": "code",
   "execution_count": 179,
   "id": "066e6d19",
   "metadata": {},
   "outputs": [
    {
     "data": {
      "text/html": [
       "\n",
       "        <table>\n",
       "            <tr>\n",
       "                <td><strong>Gene identifier</strong></td><td>Rv3801c</td>\n",
       "            </tr><tr>\n",
       "                <td><strong>Name</strong></td><td></td>\n",
       "            </tr><tr>\n",
       "                <td><strong>Memory address</strong></td>\n",
       "                <td>0x01fadc900310</td>\n",
       "            </tr><tr>\n",
       "                <td><strong>Functional</strong></td><td>True</td>\n",
       "            </tr><tr>\n",
       "                <td><strong>In 9 reaction(s)</strong></td><td>\n",
       "                    FAMPL4, FAMPL5, FAMPL3, FACOAL140_1, FAMPL1, FAMPL2, FACOAL200, FACOAL161, FACOAL180</td>\n",
       "            </tr>\n",
       "        </table>"
      ],
      "text/plain": [
       "<Gene Rv3801c at 0x1fadc900310>"
      ]
     },
     "execution_count": 179,
     "metadata": {},
     "output_type": "execute_result"
    }
   ],
   "source": [
    "base_mod.genes.get_by_id(L7_impGrwth[3])"
   ]
  },
  {
   "cell_type": "code",
   "execution_count": 180,
   "id": "17ee5731",
   "metadata": {},
   "outputs": [
    {
     "data": {
      "text/html": [
       "\n",
       "        <table>\n",
       "            <tr>\n",
       "                <td><strong>Gene identifier</strong></td><td>Rv2940c</td>\n",
       "            </tr><tr>\n",
       "                <td><strong>Name</strong></td><td></td>\n",
       "            </tr><tr>\n",
       "                <td><strong>Memory address</strong></td>\n",
       "                <td>0x01fadc9006d0</td>\n",
       "            </tr><tr>\n",
       "                <td><strong>Functional</strong></td><td>True</td>\n",
       "            </tr><tr>\n",
       "                <td><strong>In 17 reaction(s)</strong></td><td>\n",
       "                    FASm2602, FASm280, MAS3, FASm2202, FASm2802, FASm3001, FASm320, FASm240, FASm220, FASm2401, FASm2402, FASm2601, FASm2201, FASm2801, FASm300, FASm260, FASm340</td>\n",
       "            </tr>\n",
       "        </table>"
      ],
      "text/plain": [
       "<Gene Rv2940c at 0x1fadc9006d0>"
      ]
     },
     "execution_count": 180,
     "metadata": {},
     "output_type": "execute_result"
    }
   ],
   "source": [
    "base_mod.genes.get_by_id(L7_impGrwth[4])"
   ]
  },
  {
   "cell_type": "code",
   "execution_count": 181,
   "id": "af1e1239",
   "metadata": {},
   "outputs": [
    {
     "data": {
      "text/html": [
       "\n",
       "        <table>\n",
       "            <tr>\n",
       "                <td><strong>Gene identifier</strong></td><td>Rv2188c</td>\n",
       "            </tr><tr>\n",
       "                <td><strong>Name</strong></td><td></td>\n",
       "            </tr><tr>\n",
       "                <td><strong>Memory address</strong></td>\n",
       "                <td>0x01fa84a313d0</td>\n",
       "            </tr><tr>\n",
       "                <td><strong>Functional</strong></td><td>True</td>\n",
       "            </tr><tr>\n",
       "                <td><strong>In 2 reaction(s)</strong></td><td>\n",
       "                    G16MTM6, G16MTM2</td>\n",
       "            </tr>\n",
       "        </table>"
      ],
      "text/plain": [
       "<Gene Rv2188c at 0x1fa84a313d0>"
      ]
     },
     "execution_count": 181,
     "metadata": {},
     "output_type": "execute_result"
    }
   ],
   "source": [
    "base_mod.genes.get_by_id(L7_impGrwth[5])"
   ]
  },
  {
   "cell_type": "code",
   "execution_count": 182,
   "id": "f4b35d63",
   "metadata": {},
   "outputs": [
    {
     "data": {
      "text/html": [
       "\n",
       "        <table>\n",
       "            <tr>\n",
       "                <td><strong>Gene identifier</strong></td><td>Rv3042c</td>\n",
       "            </tr><tr>\n",
       "                <td><strong>Name</strong></td><td></td>\n",
       "            </tr><tr>\n",
       "                <td><strong>Memory address</strong></td>\n",
       "                <td>0x01fadc908ca0</td>\n",
       "            </tr><tr>\n",
       "                <td><strong>Functional</strong></td><td>True</td>\n",
       "            </tr><tr>\n",
       "                <td><strong>In 1 reaction(s)</strong></td><td>\n",
       "                    PSP_L</td>\n",
       "            </tr>\n",
       "        </table>"
      ],
      "text/plain": [
       "<Gene Rv3042c at 0x1fadc908ca0>"
      ]
     },
     "execution_count": 182,
     "metadata": {},
     "output_type": "execute_result"
    }
   ],
   "source": [
    "base_mod.genes.get_by_id(L7_impGrwth[6])"
   ]
  },
  {
   "cell_type": "code",
   "execution_count": 183,
   "id": "0f0d6bd4",
   "metadata": {},
   "outputs": [
    {
     "data": {
      "text/html": [
       "\n",
       "        <table>\n",
       "            <tr>\n",
       "                <td><strong>Gene identifier</strong></td><td>Rv3275c</td>\n",
       "            </tr><tr>\n",
       "                <td><strong>Name</strong></td><td></td>\n",
       "            </tr><tr>\n",
       "                <td><strong>Memory address</strong></td>\n",
       "                <td>0x01fadc9157c0</td>\n",
       "            </tr><tr>\n",
       "                <td><strong>Functional</strong></td><td>True</td>\n",
       "            </tr><tr>\n",
       "                <td><strong>In 1 reaction(s)</strong></td><td>\n",
       "                    AIRCr</td>\n",
       "            </tr>\n",
       "        </table>"
      ],
      "text/plain": [
       "<Gene Rv3275c at 0x1fadc9157c0>"
      ]
     },
     "execution_count": 183,
     "metadata": {},
     "output_type": "execute_result"
    }
   ],
   "source": [
    "base_mod.genes.get_by_id(L7_impGrwth[7])"
   ]
  },
  {
   "cell_type": "code",
   "execution_count": 184,
   "id": "0df55ab4",
   "metadata": {},
   "outputs": [
    {
     "data": {
      "text/html": [
       "\n",
       "        <table>\n",
       "            <tr>\n",
       "                <td><strong>Gene identifier</strong></td><td>Rv0809</td>\n",
       "            </tr><tr>\n",
       "                <td><strong>Name</strong></td><td></td>\n",
       "            </tr><tr>\n",
       "                <td><strong>Memory address</strong></td>\n",
       "                <td>0x01fadc915d00</td>\n",
       "            </tr><tr>\n",
       "                <td><strong>Functional</strong></td><td>True</td>\n",
       "            </tr><tr>\n",
       "                <td><strong>In 1 reaction(s)</strong></td><td>\n",
       "                    PRAIS</td>\n",
       "            </tr>\n",
       "        </table>"
      ],
      "text/plain": [
       "<Gene Rv0809 at 0x1fadc915d00>"
      ]
     },
     "execution_count": 184,
     "metadata": {},
     "output_type": "execute_result"
    }
   ],
   "source": [
    "base_mod.genes.get_by_id(L7_impGrwth[8])"
   ]
  },
  {
   "cell_type": "code",
   "execution_count": 185,
   "id": "8cd51d51",
   "metadata": {},
   "outputs": [
    {
     "data": {
      "text/html": [
       "\n",
       "        <table>\n",
       "            <tr>\n",
       "                <td><strong>Gene identifier</strong></td><td>Rv1348</td>\n",
       "            </tr><tr>\n",
       "                <td><strong>Name</strong></td><td></td>\n",
       "            </tr><tr>\n",
       "                <td><strong>Memory address</strong></td>\n",
       "                <td>0x01fadc9215b0</td>\n",
       "            </tr><tr>\n",
       "                <td><strong>Functional</strong></td><td>True</td>\n",
       "            </tr><tr>\n",
       "                <td><strong>In 3 reaction(s)</strong></td><td>\n",
       "                    CMCBTFU, VIUB, CMCBTFL</td>\n",
       "            </tr>\n",
       "        </table>"
      ],
      "text/plain": [
       "<Gene Rv1348 at 0x1fadc9215b0>"
      ]
     },
     "execution_count": 185,
     "metadata": {},
     "output_type": "execute_result"
    }
   ],
   "source": [
    "base_mod.genes.get_by_id(L7_impGrwth[9])"
   ]
  },
  {
   "cell_type": "code",
   "execution_count": 186,
   "id": "8373812c",
   "metadata": {},
   "outputs": [
    {
     "data": {
      "text/html": [
       "\n",
       "        <table>\n",
       "            <tr>\n",
       "                <td><strong>Gene identifier</strong></td><td>Rv1412</td>\n",
       "            </tr><tr>\n",
       "                <td><strong>Name</strong></td><td></td>\n",
       "            </tr><tr>\n",
       "                <td><strong>Memory address</strong></td>\n",
       "                <td>0x01fadc921910</td>\n",
       "            </tr><tr>\n",
       "                <td><strong>Functional</strong></td><td>True</td>\n",
       "            </tr><tr>\n",
       "                <td><strong>In 1 reaction(s)</strong></td><td>\n",
       "                    RBFSb</td>\n",
       "            </tr>\n",
       "        </table>"
      ],
      "text/plain": [
       "<Gene Rv1412 at 0x1fadc921910>"
      ]
     },
     "execution_count": 186,
     "metadata": {},
     "output_type": "execute_result"
    }
   ],
   "source": [
    "base_mod.genes.get_by_id(L7_impGrwth[10])"
   ]
  },
  {
   "cell_type": "code",
   "execution_count": 214,
   "id": "2eb0c94b",
   "metadata": {},
   "outputs": [],
   "source": [
    "L7_toDel_cur = L7_toDelMuts.loc[L7_toDelMuts['BM'] != 0]['gene'].tolist()"
   ]
  },
  {
   "cell_type": "code",
   "execution_count": 188,
   "id": "8d08c7aa",
   "metadata": {},
   "outputs": [],
   "source": [
    "L7_cur = cobra.io.load_json_model(join(mod_dir, \"iEK1011_2.0.json\"))"
   ]
  },
  {
   "cell_type": "code",
   "execution_count": 189,
   "id": "72f0145a",
   "metadata": {},
   "outputs": [],
   "source": [
    "remove_genes(L7_cur, L7_toDel_cur, remove_reactions=True)"
   ]
  },
  {
   "cell_type": "code",
   "execution_count": 190,
   "id": "63739484",
   "metadata": {},
   "outputs": [],
   "source": [
    "L7_cur.medium = mi7H9_OADC_Med"
   ]
  },
  {
   "cell_type": "code",
   "execution_count": 191,
   "id": "07c2cc7b",
   "metadata": {},
   "outputs": [],
   "source": [
    "L7_cur.id=str('L7')"
   ]
  },
  {
   "cell_type": "code",
   "execution_count": 192,
   "id": "2da3ef2a",
   "metadata": {},
   "outputs": [
    {
     "data": {
      "text/plain": [
       "0.0"
      ]
     },
     "execution_count": 192,
     "metadata": {},
     "output_type": "execute_result"
    }
   ],
   "source": [
    "L7_cur.slim_optimize()"
   ]
  },
  {
   "cell_type": "markdown",
   "id": "6e4bd8d6",
   "metadata": {},
   "source": [
    "L7 model after removing the genes that individually block grow still doesn't grow. Must be a combination of two or more genes what is blocking growth. "
   ]
  },
  {
   "cell_type": "markdown",
   "id": "0cb4df91",
   "metadata": {},
   "source": [
    "#### L7 round 2\n",
    "L7 model is still not growing how it should. Check what else needs to be kept"
   ]
  },
  {
   "cell_type": "code",
   "execution_count": 193,
   "id": "224eb916",
   "metadata": {},
   "outputs": [
    {
     "name": "stdout",
     "output_type": "stream",
     "text": [
      "Growth with Rv3859c deleted: 0.36832917643405116\n",
      "Growth with Rv0234c deleted: 0.3683291764340529\n",
      "Growth with Rv3332 deleted: 0.36832917643405083\n",
      "Growth with Rv0753c deleted: 0.3676318592111623\n",
      "Growth with Rv3468c deleted: 0.3683291764340529\n",
      "Growth with Rv2174 deleted: 0.36832917643405017\n",
      "Growth with Rv0672 deleted: 0.3683291764340529\n",
      "Growth with Rv0859 deleted: 0.3683291764340526\n",
      "Growth with Rv0971c deleted: 0.3683291764340529\n",
      "Growth with Rv0889c deleted: 0.3683291764340529\n",
      "Growth with Rv0066c deleted: 0.3683291764340529\n",
      "Growth with Rv2062c deleted: 0.3683291764340529\n",
      "Growth with Rv0155 deleted: 0.3683291764340529\n",
      "Growth with Rv2291 deleted: 0.3683291764340529\n",
      "Growth with Rv0824c deleted: 0.3569494309929188\n",
      "Growth with Rv2605c deleted: 0.3683291764340529\n",
      "Growth with Rv1185c deleted: 0.3683291764340529\n",
      "Growth with Rv3513c deleted: 0.3683291764340529\n",
      "Growth with Rv3089 deleted: 0.3683291764340529\n",
      "Growth with Rv1662 deleted: 0.3683291764340529\n",
      "Growth with Rv1663 deleted: 0.3683291764340529\n",
      "Growth with Rv0112 deleted: 0.3683291764340529\n",
      "Growth with Rv2277c deleted: 0.3683291764340529\n",
      "Growth with Rv3084 deleted: 0.3683291764340529\n",
      "Growth with Rv3203 deleted: 0.3683291764340529\n",
      "Growth with Rv3817 deleted: 0.3683291764340517\n",
      "Growth with Rv0147 deleted: 0.3683291764340529\n",
      "Growth with Rv3400 deleted: 0.3683291764340529\n",
      "Growth with Rv0114 deleted: 0.36832917643404856\n",
      "Growth with Rv2952 deleted: 0.3683291764340509\n",
      "Growth with Rv2931 deleted: 0.3683291764340529\n",
      "Growth with Rv2267c deleted: 0.3683291764340529\n",
      "Growth with Rv1288 deleted: 0.3683291764340529\n",
      "Growth with Rv3199c deleted: 0.3683291764340552\n",
      "Growth with Rv1311 deleted: 0.1302016729300472\n",
      "Growth with Rv1307 deleted: 0.1302016729300472\n",
      "Growth with Rv3157 deleted: 0.3683291764340529\n",
      "Growth with Rv2435c deleted: 0.3683291764340529\n",
      "Growth with Rv3469c deleted: 0.3683291764340529\n",
      "Growth with Rv1872c deleted: 0.36832917643405283\n",
      "Growth with Rv1127c deleted: 0.3683291764340491\n",
      "Growth with Rv0911 deleted: 0.3683291764340529\n",
      "Growth with Rv2781c deleted: 0.3683291764340529\n",
      "Growth with Rv3820c deleted: 0.3683291764340509\n",
      "Growth with Rv3823c deleted: 0.3683291764340529\n",
      "Growth with Rv0107c deleted: 0.3683291764340529\n",
      "Growth with Rv1607 deleted: 0.3683291764340529\n",
      "Growth with Rv1283c deleted: 0.3683291764340544\n",
      "Growth with Rv2329c deleted: 0.3683291764340529\n",
      "Growth with Rv2920c deleted: 0.15992326242175917\n",
      "Growth with Rv0932c deleted: 0.3683291764340529\n",
      "Growth with Rv0072 deleted: 0.3683291764340529\n",
      "Growth with Rv1885c deleted: 0.3683291764340529\n",
      "Growth with Rv2601 deleted: 0.36832917643404467\n",
      "Growth with Rv3552 deleted: 0.36832917643405366\n"
     ]
    },
    {
     "data": {
      "text/html": [
       "<div>\n",
       "<style scoped>\n",
       "    .dataframe tbody tr th:only-of-type {\n",
       "        vertical-align: middle;\n",
       "    }\n",
       "\n",
       "    .dataframe tbody tr th {\n",
       "        vertical-align: top;\n",
       "    }\n",
       "\n",
       "    .dataframe thead th {\n",
       "        text-align: right;\n",
       "    }\n",
       "</style>\n",
       "<table border=\"1\" class=\"dataframe\">\n",
       "  <thead>\n",
       "    <tr style=\"text-align: right;\">\n",
       "      <th></th>\n",
       "      <th>gene</th>\n",
       "      <th>BM</th>\n",
       "    </tr>\n",
       "  </thead>\n",
       "  <tbody>\n",
       "    <tr>\n",
       "      <th>0</th>\n",
       "      <td>Rv3859c</td>\n",
       "      <td>0.368329</td>\n",
       "    </tr>\n",
       "    <tr>\n",
       "      <th>1</th>\n",
       "      <td>Rv0234c</td>\n",
       "      <td>0.368329</td>\n",
       "    </tr>\n",
       "    <tr>\n",
       "      <th>2</th>\n",
       "      <td>Rv3332</td>\n",
       "      <td>0.368329</td>\n",
       "    </tr>\n",
       "    <tr>\n",
       "      <th>3</th>\n",
       "      <td>Rv0753c</td>\n",
       "      <td>0.367632</td>\n",
       "    </tr>\n",
       "    <tr>\n",
       "      <th>4</th>\n",
       "      <td>Rv3468c</td>\n",
       "      <td>0.368329</td>\n",
       "    </tr>\n",
       "    <tr>\n",
       "      <th>5</th>\n",
       "      <td>Rv2174</td>\n",
       "      <td>0.368329</td>\n",
       "    </tr>\n",
       "    <tr>\n",
       "      <th>6</th>\n",
       "      <td>Rv0672</td>\n",
       "      <td>0.368329</td>\n",
       "    </tr>\n",
       "    <tr>\n",
       "      <th>7</th>\n",
       "      <td>Rv0859</td>\n",
       "      <td>0.368329</td>\n",
       "    </tr>\n",
       "    <tr>\n",
       "      <th>8</th>\n",
       "      <td>Rv0971c</td>\n",
       "      <td>0.368329</td>\n",
       "    </tr>\n",
       "    <tr>\n",
       "      <th>9</th>\n",
       "      <td>Rv0889c</td>\n",
       "      <td>0.368329</td>\n",
       "    </tr>\n",
       "    <tr>\n",
       "      <th>10</th>\n",
       "      <td>Rv0066c</td>\n",
       "      <td>0.368329</td>\n",
       "    </tr>\n",
       "    <tr>\n",
       "      <th>11</th>\n",
       "      <td>Rv2062c</td>\n",
       "      <td>0.368329</td>\n",
       "    </tr>\n",
       "    <tr>\n",
       "      <th>12</th>\n",
       "      <td>Rv0155</td>\n",
       "      <td>0.368329</td>\n",
       "    </tr>\n",
       "    <tr>\n",
       "      <th>13</th>\n",
       "      <td>Rv2291</td>\n",
       "      <td>0.368329</td>\n",
       "    </tr>\n",
       "    <tr>\n",
       "      <th>14</th>\n",
       "      <td>Rv0824c</td>\n",
       "      <td>0.356949</td>\n",
       "    </tr>\n",
       "    <tr>\n",
       "      <th>15</th>\n",
       "      <td>Rv2605c</td>\n",
       "      <td>0.368329</td>\n",
       "    </tr>\n",
       "    <tr>\n",
       "      <th>16</th>\n",
       "      <td>Rv1185c</td>\n",
       "      <td>0.368329</td>\n",
       "    </tr>\n",
       "    <tr>\n",
       "      <th>17</th>\n",
       "      <td>Rv3513c</td>\n",
       "      <td>0.368329</td>\n",
       "    </tr>\n",
       "    <tr>\n",
       "      <th>18</th>\n",
       "      <td>Rv3089</td>\n",
       "      <td>0.368329</td>\n",
       "    </tr>\n",
       "    <tr>\n",
       "      <th>19</th>\n",
       "      <td>Rv1662</td>\n",
       "      <td>0.368329</td>\n",
       "    </tr>\n",
       "    <tr>\n",
       "      <th>20</th>\n",
       "      <td>Rv1663</td>\n",
       "      <td>0.368329</td>\n",
       "    </tr>\n",
       "    <tr>\n",
       "      <th>21</th>\n",
       "      <td>Rv0112</td>\n",
       "      <td>0.368329</td>\n",
       "    </tr>\n",
       "    <tr>\n",
       "      <th>22</th>\n",
       "      <td>Rv2277c</td>\n",
       "      <td>0.368329</td>\n",
       "    </tr>\n",
       "    <tr>\n",
       "      <th>23</th>\n",
       "      <td>Rv3084</td>\n",
       "      <td>0.368329</td>\n",
       "    </tr>\n",
       "    <tr>\n",
       "      <th>24</th>\n",
       "      <td>Rv3203</td>\n",
       "      <td>0.368329</td>\n",
       "    </tr>\n",
       "    <tr>\n",
       "      <th>25</th>\n",
       "      <td>Rv3817</td>\n",
       "      <td>0.368329</td>\n",
       "    </tr>\n",
       "    <tr>\n",
       "      <th>26</th>\n",
       "      <td>Rv0147</td>\n",
       "      <td>0.368329</td>\n",
       "    </tr>\n",
       "    <tr>\n",
       "      <th>27</th>\n",
       "      <td>Rv3400</td>\n",
       "      <td>0.368329</td>\n",
       "    </tr>\n",
       "    <tr>\n",
       "      <th>28</th>\n",
       "      <td>Rv0114</td>\n",
       "      <td>0.368329</td>\n",
       "    </tr>\n",
       "    <tr>\n",
       "      <th>29</th>\n",
       "      <td>Rv2952</td>\n",
       "      <td>0.368329</td>\n",
       "    </tr>\n",
       "    <tr>\n",
       "      <th>30</th>\n",
       "      <td>Rv2931</td>\n",
       "      <td>0.368329</td>\n",
       "    </tr>\n",
       "    <tr>\n",
       "      <th>31</th>\n",
       "      <td>Rv2267c</td>\n",
       "      <td>0.368329</td>\n",
       "    </tr>\n",
       "    <tr>\n",
       "      <th>32</th>\n",
       "      <td>Rv1288</td>\n",
       "      <td>0.368329</td>\n",
       "    </tr>\n",
       "    <tr>\n",
       "      <th>33</th>\n",
       "      <td>Rv3199c</td>\n",
       "      <td>0.368329</td>\n",
       "    </tr>\n",
       "    <tr>\n",
       "      <th>34</th>\n",
       "      <td>Rv1311</td>\n",
       "      <td>0.130202</td>\n",
       "    </tr>\n",
       "    <tr>\n",
       "      <th>35</th>\n",
       "      <td>Rv1307</td>\n",
       "      <td>0.130202</td>\n",
       "    </tr>\n",
       "    <tr>\n",
       "      <th>36</th>\n",
       "      <td>Rv3157</td>\n",
       "      <td>0.368329</td>\n",
       "    </tr>\n",
       "    <tr>\n",
       "      <th>37</th>\n",
       "      <td>Rv2435c</td>\n",
       "      <td>0.368329</td>\n",
       "    </tr>\n",
       "    <tr>\n",
       "      <th>38</th>\n",
       "      <td>Rv3469c</td>\n",
       "      <td>0.368329</td>\n",
       "    </tr>\n",
       "    <tr>\n",
       "      <th>39</th>\n",
       "      <td>Rv1872c</td>\n",
       "      <td>0.368329</td>\n",
       "    </tr>\n",
       "    <tr>\n",
       "      <th>40</th>\n",
       "      <td>Rv1127c</td>\n",
       "      <td>0.368329</td>\n",
       "    </tr>\n",
       "    <tr>\n",
       "      <th>41</th>\n",
       "      <td>Rv0911</td>\n",
       "      <td>0.368329</td>\n",
       "    </tr>\n",
       "    <tr>\n",
       "      <th>42</th>\n",
       "      <td>Rv2781c</td>\n",
       "      <td>0.368329</td>\n",
       "    </tr>\n",
       "    <tr>\n",
       "      <th>43</th>\n",
       "      <td>Rv3820c</td>\n",
       "      <td>0.368329</td>\n",
       "    </tr>\n",
       "    <tr>\n",
       "      <th>44</th>\n",
       "      <td>Rv3823c</td>\n",
       "      <td>0.368329</td>\n",
       "    </tr>\n",
       "    <tr>\n",
       "      <th>45</th>\n",
       "      <td>Rv0107c</td>\n",
       "      <td>0.368329</td>\n",
       "    </tr>\n",
       "    <tr>\n",
       "      <th>46</th>\n",
       "      <td>Rv1607</td>\n",
       "      <td>0.368329</td>\n",
       "    </tr>\n",
       "    <tr>\n",
       "      <th>47</th>\n",
       "      <td>Rv1283c</td>\n",
       "      <td>0.368329</td>\n",
       "    </tr>\n",
       "    <tr>\n",
       "      <th>48</th>\n",
       "      <td>Rv2329c</td>\n",
       "      <td>0.368329</td>\n",
       "    </tr>\n",
       "    <tr>\n",
       "      <th>49</th>\n",
       "      <td>Rv2920c</td>\n",
       "      <td>0.159923</td>\n",
       "    </tr>\n",
       "    <tr>\n",
       "      <th>50</th>\n",
       "      <td>Rv0932c</td>\n",
       "      <td>0.368329</td>\n",
       "    </tr>\n",
       "    <tr>\n",
       "      <th>51</th>\n",
       "      <td>Rv0072</td>\n",
       "      <td>0.368329</td>\n",
       "    </tr>\n",
       "    <tr>\n",
       "      <th>52</th>\n",
       "      <td>Rv1885c</td>\n",
       "      <td>0.368329</td>\n",
       "    </tr>\n",
       "    <tr>\n",
       "      <th>53</th>\n",
       "      <td>Rv2601</td>\n",
       "      <td>0.368329</td>\n",
       "    </tr>\n",
       "    <tr>\n",
       "      <th>54</th>\n",
       "      <td>Rv3552</td>\n",
       "      <td>0.368329</td>\n",
       "    </tr>\n",
       "  </tbody>\n",
       "</table>\n",
       "</div>"
      ],
      "text/plain": [
       "       gene        BM\n",
       "0   Rv3859c  0.368329\n",
       "1   Rv0234c  0.368329\n",
       "2    Rv3332  0.368329\n",
       "3   Rv0753c  0.367632\n",
       "4   Rv3468c  0.368329\n",
       "5    Rv2174  0.368329\n",
       "6    Rv0672  0.368329\n",
       "7    Rv0859  0.368329\n",
       "8   Rv0971c  0.368329\n",
       "9   Rv0889c  0.368329\n",
       "10  Rv0066c  0.368329\n",
       "11  Rv2062c  0.368329\n",
       "12   Rv0155  0.368329\n",
       "13   Rv2291  0.368329\n",
       "14  Rv0824c  0.356949\n",
       "15  Rv2605c  0.368329\n",
       "16  Rv1185c  0.368329\n",
       "17  Rv3513c  0.368329\n",
       "18   Rv3089  0.368329\n",
       "19   Rv1662  0.368329\n",
       "20   Rv1663  0.368329\n",
       "21   Rv0112  0.368329\n",
       "22  Rv2277c  0.368329\n",
       "23   Rv3084  0.368329\n",
       "24   Rv3203  0.368329\n",
       "25   Rv3817  0.368329\n",
       "26   Rv0147  0.368329\n",
       "27   Rv3400  0.368329\n",
       "28   Rv0114  0.368329\n",
       "29   Rv2952  0.368329\n",
       "30   Rv2931  0.368329\n",
       "31  Rv2267c  0.368329\n",
       "32   Rv1288  0.368329\n",
       "33  Rv3199c  0.368329\n",
       "34   Rv1311  0.130202\n",
       "35   Rv1307  0.130202\n",
       "36   Rv3157  0.368329\n",
       "37  Rv2435c  0.368329\n",
       "38  Rv3469c  0.368329\n",
       "39  Rv1872c  0.368329\n",
       "40  Rv1127c  0.368329\n",
       "41   Rv0911  0.368329\n",
       "42  Rv2781c  0.368329\n",
       "43  Rv3820c  0.368329\n",
       "44  Rv3823c  0.368329\n",
       "45  Rv0107c  0.368329\n",
       "46   Rv1607  0.368329\n",
       "47  Rv1283c  0.368329\n",
       "48  Rv2329c  0.368329\n",
       "49  Rv2920c  0.159923\n",
       "50  Rv0932c  0.368329\n",
       "51   Rv0072  0.368329\n",
       "52  Rv1885c  0.368329\n",
       "53   Rv2601  0.368329\n",
       "54   Rv3552  0.368329"
      ]
     },
     "execution_count": 193,
     "metadata": {},
     "output_type": "execute_result"
    }
   ],
   "source": [
    "testDelsFun(L7_toDel_cur)"
   ]
  },
  {
   "cell_type": "markdown",
   "id": "b12697d3",
   "metadata": {},
   "source": [
    "Removing Rv2920c causes growth to fall from 0.368 to 0.15999."
   ]
  },
  {
   "cell_type": "code",
   "execution_count": 194,
   "id": "d8bc68c4",
   "metadata": {},
   "outputs": [
    {
     "data": {
      "text/html": [
       "<div>\n",
       "<style scoped>\n",
       "    .dataframe tbody tr th:only-of-type {\n",
       "        vertical-align: middle;\n",
       "    }\n",
       "\n",
       "    .dataframe tbody tr th {\n",
       "        vertical-align: top;\n",
       "    }\n",
       "\n",
       "    .dataframe thead th {\n",
       "        text-align: right;\n",
       "    }\n",
       "</style>\n",
       "<table border=\"1\" class=\"dataframe\">\n",
       "  <thead>\n",
       "    <tr style=\"text-align: right;\">\n",
       "      <th></th>\n",
       "      <th>POS</th>\n",
       "      <th>REF</th>\n",
       "      <th>ALT</th>\n",
       "      <th>LIN</th>\n",
       "      <th>ANN</th>\n",
       "      <th>LOCUS</th>\n",
       "      <th>AA_one</th>\n",
       "      <th>PROVEAN</th>\n",
       "    </tr>\n",
       "  </thead>\n",
       "  <tbody>\n",
       "    <tr>\n",
       "      <th>0</th>\n",
       "      <td>3232007.0</td>\n",
       "      <td>T</td>\n",
       "      <td>G</td>\n",
       "      <td>L7</td>\n",
       "      <td>missense_variant</td>\n",
       "      <td>Rv2920c</td>\n",
       "      <td>H167P</td>\n",
       "      <td>-10.0</td>\n",
       "    </tr>\n",
       "  </tbody>\n",
       "</table>\n",
       "</div>"
      ],
      "text/plain": [
       "         POS REF ALT LIN               ANN    LOCUS AA_one  PROVEAN\n",
       "0  3232007.0   T   G  L7  missense_variant  Rv2920c  H167P    -10.0"
      ]
     },
     "execution_count": 194,
     "metadata": {},
     "output_type": "execute_result"
    }
   ],
   "source": [
    "getProvScore('Rv2920c', 'L7')"
   ]
  },
  {
   "cell_type": "markdown",
   "id": "9cf8fa51",
   "metadata": {},
   "source": [
    "Rv2920c. Ammonium-transport integral membrane protein Amt. Ammonium transport. Non essential. PROVEAN = -10. Significative. Maybe L7 has other transporters? We need to keep it."
   ]
  },
  {
   "cell_type": "code",
   "execution_count": 195,
   "id": "6f9b426b",
   "metadata": {},
   "outputs": [
    {
     "name": "stdout",
     "output_type": "stream",
     "text": [
      "Growth without removing Rv1662 from the model restores growth: 0.08222243486618849.\n",
      "Growth without removing Rv1663 from the model restores growth: 0.08222243486618849.\n"
     ]
    }
   ],
   "source": [
    "# Remove on each round one gene from the to Rem list:\n",
    "for i in range(0, len(L7_toDel_cur)):\n",
    "    tryDels = cp.copy(L7_toDel_cur)\n",
    "    remov = tryDels[i]\n",
    "    tryDels.remove(remov)\n",
    "    testMod = base_mod.copy()\n",
    "    testMod.medium = mi7H9_OADC_Med\n",
    "    remove_genes(testMod, tryDels, remove_reactions=True)\n",
    "    result = testMod.slim_optimize()\n",
    "    if(result != 0.0):\n",
    "        print('Growth without removing %s from the model restores growth: %s.'%(remov, str(result)))"
   ]
  },
  {
   "cell_type": "code",
   "execution_count": 196,
   "id": "f28a5f37",
   "metadata": {},
   "outputs": [
    {
     "data": {
      "text/html": [
       "\n",
       "        <table>\n",
       "            <tr>\n",
       "                <td><strong>Gene identifier</strong></td><td>Rv1662</td>\n",
       "            </tr><tr>\n",
       "                <td><strong>Name</strong></td><td></td>\n",
       "            </tr><tr>\n",
       "                <td><strong>Memory address</strong></td>\n",
       "                <td>0x01fadc900670</td>\n",
       "            </tr><tr>\n",
       "                <td><strong>Functional</strong></td><td>True</td>\n",
       "            </tr><tr>\n",
       "                <td><strong>In 5 reaction(s)</strong></td><td>\n",
       "                    FASm1601, FASm1801, FASm2002, FASm2001, FASm180</td>\n",
       "            </tr>\n",
       "        </table>"
      ],
      "text/plain": [
       "<Gene Rv1662 at 0x1fadc900670>"
      ]
     },
     "execution_count": 196,
     "metadata": {},
     "output_type": "execute_result"
    }
   ],
   "source": [
    "base_mod.genes.get_by_id('Rv1662')"
   ]
  },
  {
   "cell_type": "code",
   "execution_count": 197,
   "id": "c494b439",
   "metadata": {},
   "outputs": [
    {
     "data": {
      "text/html": [
       "\n",
       "        <table>\n",
       "            <tr>\n",
       "                <td><strong>Gene identifier</strong></td><td>Rv1663</td>\n",
       "            </tr><tr>\n",
       "                <td><strong>Name</strong></td><td></td>\n",
       "            </tr><tr>\n",
       "                <td><strong>Memory address</strong></td>\n",
       "                <td>0x01fadc9006a0</td>\n",
       "            </tr><tr>\n",
       "                <td><strong>Functional</strong></td><td>True</td>\n",
       "            </tr><tr>\n",
       "                <td><strong>In 5 reaction(s)</strong></td><td>\n",
       "                    FASm1601, FASm1801, FASm2002, FASm2001, FASm180</td>\n",
       "            </tr>\n",
       "        </table>"
      ],
      "text/plain": [
       "<Gene Rv1663 at 0x1fadc9006a0>"
      ]
     },
     "execution_count": 197,
     "metadata": {},
     "output_type": "execute_result"
    }
   ],
   "source": [
    "base_mod.genes.get_by_id('Rv1663')"
   ]
  },
  {
   "cell_type": "code",
   "execution_count": 198,
   "id": "70618d24",
   "metadata": {},
   "outputs": [
    {
     "data": {
      "text/html": [
       "\n",
       "        <table>\n",
       "            <tr>\n",
       "                <td><strong>Reaction identifier</strong></td><td>FASm1601</td>\n",
       "            </tr><tr>\n",
       "                <td><strong>Name</strong></td><td>FASm1601</td>\n",
       "            </tr><tr>\n",
       "                <td><strong>Memory address</strong></td>\n",
       "                <td>0x01fadccbaa60</td>\n",
       "            </tr><tr>\n",
       "                <td><strong>Stoichiometry</strong></td>\n",
       "                <td>\n",
       "                    <p style='text-align:right'>3.0 h[c] + hdca[c] + mmcoa__S[c] + 2.0 nadph[c] --> co2[c] + coa[c] + h2o[c] + m1ocdca[c] + 2.0 nadp[c]</p>\n",
       "                    <p style='text-align:right'>3.0 H+ [cytoplasm] + Hexadecanoate (n-C16:0) [cytoplasm] + (S)-Methylmalonyl-CoA [cytoplasm] + 2.0 Nicotinamide adenine dinucleotide phosphate - reduced [cytoplasm] --> CO2 CO2 [cytoplasm] +...</p>\n",
       "                </td>\n",
       "            </tr><tr>\n",
       "                <td><strong>GPR</strong></td><td>Rv1663 or Rv1662</td>\n",
       "            </tr><tr>\n",
       "                <td><strong>Lower bound</strong></td><td>0.0</td>\n",
       "            </tr><tr>\n",
       "                <td><strong>Upper bound</strong></td><td>1000.0</td>\n",
       "            </tr>\n",
       "        </table>\n",
       "        "
      ],
      "text/plain": [
       "<Reaction FASm1601 at 0x1fadccbaa60>"
      ]
     },
     "execution_count": 198,
     "metadata": {},
     "output_type": "execute_result"
    }
   ],
   "source": [
    "list(base_mod.genes.get_by_id('Rv1662').reactions)[0]"
   ]
  },
  {
   "cell_type": "code",
   "execution_count": 199,
   "id": "0546c769",
   "metadata": {},
   "outputs": [
    {
     "data": {
      "text/html": [
       "\n",
       "        <table>\n",
       "            <tr>\n",
       "                <td><strong>Reaction identifier</strong></td><td>FASm1801</td>\n",
       "            </tr><tr>\n",
       "                <td><strong>Name</strong></td><td>FASm1801</td>\n",
       "            </tr><tr>\n",
       "                <td><strong>Memory address</strong></td>\n",
       "                <td>0x01fadccba190</td>\n",
       "            </tr><tr>\n",
       "                <td><strong>Stoichiometry</strong></td>\n",
       "                <td>\n",
       "                    <p style='text-align:right'>3.0 h[c] + m1ocdca[c] + mmcoa__S[c] + 2.0 nadph[c] --> co2[c] + coa[c] + dmarach[c] + h2o[c] + 2.0 nadp[c]</p>\n",
       "                    <p style='text-align:right'>3.0 H+ [cytoplasm] + Methyl octadecanoate [cytoplasm] + (S)-Methylmalonyl-CoA [cytoplasm] + 2.0 Nicotinamide adenine dinucleotide phosphate - reduced [cytoplasm] --> CO2 CO2 [cytoplasm] + Coenzyme...</p>\n",
       "                </td>\n",
       "            </tr><tr>\n",
       "                <td><strong>GPR</strong></td><td>Rv1663 or Rv1662</td>\n",
       "            </tr><tr>\n",
       "                <td><strong>Lower bound</strong></td><td>0.0</td>\n",
       "            </tr><tr>\n",
       "                <td><strong>Upper bound</strong></td><td>1000.0</td>\n",
       "            </tr>\n",
       "        </table>\n",
       "        "
      ],
      "text/plain": [
       "<Reaction FASm1801 at 0x1fadccba190>"
      ]
     },
     "execution_count": 199,
     "metadata": {},
     "output_type": "execute_result"
    }
   ],
   "source": [
    "list(base_mod.genes.get_by_id('Rv1662').reactions)[1]"
   ]
  },
  {
   "cell_type": "code",
   "execution_count": 200,
   "id": "9cd6e1b4",
   "metadata": {},
   "outputs": [
    {
     "data": {
      "text/html": [
       "\n",
       "        <table>\n",
       "            <tr>\n",
       "                <td><strong>Reaction identifier</strong></td><td>FASm2002</td>\n",
       "            </tr><tr>\n",
       "                <td><strong>Name</strong></td><td>FASm2002</td>\n",
       "            </tr><tr>\n",
       "                <td><strong>Memory address</strong></td>\n",
       "                <td>0x01fadcb13fa0</td>\n",
       "            </tr><tr>\n",
       "                <td><strong>Stoichiometry</strong></td>\n",
       "                <td>\n",
       "                    <p style='text-align:right'>3.0 h[c] + mmcoa__S[c] + 2.0 nadph[c] + ocdca[c] --> co2[c] + coa[c] + h2o[c] + marach[c] + 2.0 nadp[c]</p>\n",
       "                    <p style='text-align:right'>3.0 H+ [cytoplasm] + (S)-Methylmalonyl-CoA [cytoplasm] + 2.0 Nicotinamide adenine dinucleotide phosphate - reduced [cytoplasm] + Octadecanoate (n-C18:0) [cytoplasm] --> CO2 CO2 [cytoplasm] +...</p>\n",
       "                </td>\n",
       "            </tr><tr>\n",
       "                <td><strong>GPR</strong></td><td>Rv1663 or Rv1662</td>\n",
       "            </tr><tr>\n",
       "                <td><strong>Lower bound</strong></td><td>0.0</td>\n",
       "            </tr><tr>\n",
       "                <td><strong>Upper bound</strong></td><td>1000.0</td>\n",
       "            </tr>\n",
       "        </table>\n",
       "        "
      ],
      "text/plain": [
       "<Reaction FASm2002 at 0x1fadcb13fa0>"
      ]
     },
     "execution_count": 200,
     "metadata": {},
     "output_type": "execute_result"
    }
   ],
   "source": [
    "list(base_mod.genes.get_by_id('Rv1662').reactions)[2]"
   ]
  },
  {
   "cell_type": "code",
   "execution_count": 201,
   "id": "d1b49e50",
   "metadata": {},
   "outputs": [
    {
     "data": {
      "text/html": [
       "\n",
       "        <table>\n",
       "            <tr>\n",
       "                <td><strong>Reaction identifier</strong></td><td>FASm2001</td>\n",
       "            </tr><tr>\n",
       "                <td><strong>Name</strong></td><td>FASm2001</td>\n",
       "            </tr><tr>\n",
       "                <td><strong>Memory address</strong></td>\n",
       "                <td>0x01fadccbabb0</td>\n",
       "            </tr><tr>\n",
       "                <td><strong>Stoichiometry</strong></td>\n",
       "                <td>\n",
       "                    <p style='text-align:right'>dmarach[c] + 3.0 h[c] + mmcoa__S[c] + 2.0 nadph[c] --> co2[c] + coa[c] + h2o[c] + 2.0 nadp[c] + tmbhn[c]</p>\n",
       "                    <p style='text-align:right'>Di-methyl arachic acid [cytoplasm] + 3.0 H+ [cytoplasm] + (S)-Methylmalonyl-CoA [cytoplasm] + 2.0 Nicotinamide adenine dinucleotide phosphate - reduced [cytoplasm] --> CO2 CO2 [cytoplasm] +...</p>\n",
       "                </td>\n",
       "            </tr><tr>\n",
       "                <td><strong>GPR</strong></td><td>Rv1663 or Rv1662</td>\n",
       "            </tr><tr>\n",
       "                <td><strong>Lower bound</strong></td><td>0.0</td>\n",
       "            </tr><tr>\n",
       "                <td><strong>Upper bound</strong></td><td>1000.0</td>\n",
       "            </tr>\n",
       "        </table>\n",
       "        "
      ],
      "text/plain": [
       "<Reaction FASm2001 at 0x1fadccbabb0>"
      ]
     },
     "execution_count": 201,
     "metadata": {},
     "output_type": "execute_result"
    }
   ],
   "source": [
    "list(base_mod.genes.get_by_id('Rv1662').reactions)[3]"
   ]
  },
  {
   "cell_type": "code",
   "execution_count": 202,
   "id": "094e1bb2",
   "metadata": {},
   "outputs": [
    {
     "data": {
      "text/html": [
       "\n",
       "        <table>\n",
       "            <tr>\n",
       "                <td><strong>Reaction identifier</strong></td><td>FASm180</td>\n",
       "            </tr><tr>\n",
       "                <td><strong>Name</strong></td><td>FASm180</td>\n",
       "            </tr><tr>\n",
       "                <td><strong>Memory address</strong></td>\n",
       "                <td>0x01fadcb13d90</td>\n",
       "            </tr><tr>\n",
       "                <td><strong>Stoichiometry</strong></td>\n",
       "                <td>\n",
       "                    <p style='text-align:right'>15.0 h[c] + 4.0 malcoa[c] + mmcoa__S[c] + 10.0 nadph[c] + octa[c] --> 5.0 co2[c] + 5.0 coa[c] + 5.0 h2o[c] + mocdca[c] + 10.0 nadp[c]</p>\n",
       "                    <p style='text-align:right'>15.0 H+ [cytoplasm] + 4.0 Malonyl CoA C24H33N7O19P3S [cytoplasm] + (S)-Methylmalonyl-CoA [cytoplasm] + 10.0 Nicotinamide adenine dinucleotide phosphate - reduced [cytoplasm] + Octanoate (n-C8:0)...</p>\n",
       "                </td>\n",
       "            </tr><tr>\n",
       "                <td><strong>GPR</strong></td><td>Rv1663 or Rv1662</td>\n",
       "            </tr><tr>\n",
       "                <td><strong>Lower bound</strong></td><td>0.0</td>\n",
       "            </tr><tr>\n",
       "                <td><strong>Upper bound</strong></td><td>1000.0</td>\n",
       "            </tr>\n",
       "        </table>\n",
       "        "
      ],
      "text/plain": [
       "<Reaction FASm180 at 0x1fadcb13d90>"
      ]
     },
     "execution_count": 202,
     "metadata": {},
     "output_type": "execute_result"
    }
   ],
   "source": [
    "list(base_mod.genes.get_by_id('Rv1662').reactions)[4]"
   ]
  },
  {
   "cell_type": "code",
   "execution_count": 203,
   "id": "8f8c8ffe",
   "metadata": {},
   "outputs": [
    {
     "data": {
      "text/html": [
       "<div>\n",
       "<style scoped>\n",
       "    .dataframe tbody tr th:only-of-type {\n",
       "        vertical-align: middle;\n",
       "    }\n",
       "\n",
       "    .dataframe tbody tr th {\n",
       "        vertical-align: top;\n",
       "    }\n",
       "\n",
       "    .dataframe thead th {\n",
       "        text-align: right;\n",
       "    }\n",
       "</style>\n",
       "<table border=\"1\" class=\"dataframe\">\n",
       "  <thead>\n",
       "    <tr style=\"text-align: right;\">\n",
       "      <th></th>\n",
       "      <th>POS</th>\n",
       "      <th>REF</th>\n",
       "      <th>ALT</th>\n",
       "      <th>LIN</th>\n",
       "      <th>ANN</th>\n",
       "      <th>LOCUS</th>\n",
       "      <th>AA_one</th>\n",
       "      <th>PROVEAN</th>\n",
       "    </tr>\n",
       "  </thead>\n",
       "  <tbody>\n",
       "    <tr>\n",
       "      <th>0</th>\n",
       "      <td>1882533.0</td>\n",
       "      <td>G</td>\n",
       "      <td>A</td>\n",
       "      <td>L7</td>\n",
       "      <td>missense_variant</td>\n",
       "      <td>Rv1662</td>\n",
       "      <td>R277Q</td>\n",
       "      <td>-3.492</td>\n",
       "    </tr>\n",
       "    <tr>\n",
       "      <th>1</th>\n",
       "      <td>1882799.0</td>\n",
       "      <td>T</td>\n",
       "      <td>G</td>\n",
       "      <td>L7</td>\n",
       "      <td>missense_variant</td>\n",
       "      <td>Rv1662</td>\n",
       "      <td>W366G</td>\n",
       "      <td>-10.431</td>\n",
       "    </tr>\n",
       "    <tr>\n",
       "      <th>2</th>\n",
       "      <td>1885131.0</td>\n",
       "      <td>A</td>\n",
       "      <td>G</td>\n",
       "      <td>L7</td>\n",
       "      <td>missense_variant</td>\n",
       "      <td>Rv1662</td>\n",
       "      <td>H1143R</td>\n",
       "      <td>-6.478</td>\n",
       "    </tr>\n",
       "  </tbody>\n",
       "</table>\n",
       "</div>"
      ],
      "text/plain": [
       "         POS REF ALT LIN               ANN   LOCUS  AA_one  PROVEAN\n",
       "0  1882533.0   G   A  L7  missense_variant  Rv1662   R277Q   -3.492\n",
       "1  1882799.0   T   G  L7  missense_variant  Rv1662   W366G  -10.431\n",
       "2  1885131.0   A   G  L7  missense_variant  Rv1662  H1143R   -6.478"
      ]
     },
     "execution_count": 203,
     "metadata": {},
     "output_type": "execute_result"
    }
   ],
   "source": [
    "getProvScore('Rv1662', 'L7')"
   ]
  },
  {
   "cell_type": "markdown",
   "id": "93068dde",
   "metadata": {},
   "source": [
    "R277Q is present in the 100% of L7 isolates. W366G and H1143R in the 5.6%. "
   ]
  },
  {
   "cell_type": "code",
   "execution_count": 204,
   "id": "85d5c7fb",
   "metadata": {},
   "outputs": [
    {
     "data": {
      "text/html": [
       "<div>\n",
       "<style scoped>\n",
       "    .dataframe tbody tr th:only-of-type {\n",
       "        vertical-align: middle;\n",
       "    }\n",
       "\n",
       "    .dataframe tbody tr th {\n",
       "        vertical-align: top;\n",
       "    }\n",
       "\n",
       "    .dataframe thead th {\n",
       "        text-align: right;\n",
       "    }\n",
       "</style>\n",
       "<table border=\"1\" class=\"dataframe\">\n",
       "  <thead>\n",
       "    <tr style=\"text-align: right;\">\n",
       "      <th></th>\n",
       "      <th>POS</th>\n",
       "      <th>REF</th>\n",
       "      <th>ALT</th>\n",
       "      <th>LIN</th>\n",
       "      <th>ANN</th>\n",
       "      <th>LOCUS</th>\n",
       "      <th>AA_one</th>\n",
       "      <th>PROVEAN</th>\n",
       "    </tr>\n",
       "  </thead>\n",
       "  <tbody>\n",
       "    <tr>\n",
       "      <th>0</th>\n",
       "      <td>1886993.0</td>\n",
       "      <td>C</td>\n",
       "      <td>T</td>\n",
       "      <td>L7</td>\n",
       "      <td>missense_variant</td>\n",
       "      <td>Rv1663</td>\n",
       "      <td>T161M</td>\n",
       "      <td>-5.375</td>\n",
       "    </tr>\n",
       "    <tr>\n",
       "      <th>1</th>\n",
       "      <td>1886953.0</td>\n",
       "      <td>G</td>\n",
       "      <td>C</td>\n",
       "      <td>L7</td>\n",
       "      <td>missense_variant</td>\n",
       "      <td>Rv1663</td>\n",
       "      <td>A148P</td>\n",
       "      <td>-3.607</td>\n",
       "    </tr>\n",
       "  </tbody>\n",
       "</table>\n",
       "</div>"
      ],
      "text/plain": [
       "         POS REF ALT LIN               ANN   LOCUS AA_one  PROVEAN\n",
       "0  1886993.0   C   T  L7  missense_variant  Rv1663  T161M   -5.375\n",
       "1  1886953.0   G   C  L7  missense_variant  Rv1663  A148P   -3.607"
      ]
     },
     "execution_count": 204,
     "metadata": {},
     "output_type": "execute_result"
    }
   ],
   "source": [
    "getProvScore('Rv1663', 'L7')"
   ]
  },
  {
   "cell_type": "markdown",
   "id": "b6555fb3",
   "metadata": {},
   "source": [
    "T161M is present in the 100% of L7 isolates. A148P in the 5.6%."
   ]
  },
  {
   "cell_type": "markdown",
   "id": "2841c008",
   "metadata": {},
   "source": [
    "Rv1662 and Rv1663 are poliketide synthases Pks8 and Pks17, respectively. In the model catalyze 5 reactions related with lipid synthesis, where just one of them is needed. Keep the one with a higher PROVEAN score: Rv1662, -3.492."
   ]
  },
  {
   "cell_type": "code",
   "execution_count": 205,
   "id": "f7ed5a62",
   "metadata": {},
   "outputs": [
    {
     "name": "stdout",
     "output_type": "stream",
     "text": [
      "Growth without removing Rv3859c and Rv1662 from the model restores growth: 0.08222243486618849.\n",
      "Growth without removing Rv3859c and Rv1663 from the model restores growth: 0.08222243486618849.\n",
      "Growth without removing Rv0234c and Rv1662 from the model restores growth: 0.08222243486618849.\n",
      "Growth without removing Rv0234c and Rv1663 from the model restores growth: 0.08222243486618849.\n",
      "Growth without removing Rv3332 and Rv1662 from the model restores growth: 0.0822224348661894.\n",
      "Growth without removing Rv3332 and Rv1663 from the model restores growth: 0.0822224348661894.\n",
      "Growth without removing Rv0753c and Rv1662 from the model restores growth: 0.0824359164824687.\n",
      "Growth without removing Rv0753c and Rv1663 from the model restores growth: 0.0824359164824687.\n",
      "Growth without removing Rv3468c and Rv1662 from the model restores growth: 0.08222243486618849.\n",
      "Growth without removing Rv3468c and Rv1663 from the model restores growth: 0.08222243486618849.\n",
      "Growth without removing Rv2174 and Rv1662 from the model restores growth: 0.08222243486618849.\n",
      "Growth without removing Rv2174 and Rv1663 from the model restores growth: 0.08222243486618849.\n",
      "Growth without removing Rv0672 and Rv1662 from the model restores growth: 0.08222243486618849.\n",
      "Growth without removing Rv0672 and Rv1663 from the model restores growth: 0.08222243486618849.\n",
      "Growth without removing Rv0859 and Rv1662 from the model restores growth: 0.12244747510093816.\n",
      "Growth without removing Rv0859 and Rv1663 from the model restores growth: 0.12244747510093816.\n",
      "Growth without removing Rv0971c and Rv1662 from the model restores growth: 0.08222243486618849.\n",
      "Growth without removing Rv0971c and Rv1663 from the model restores growth: 0.08222243486618849.\n",
      "Growth without removing Rv0889c and Rv1662 from the model restores growth: 0.08222243486618849.\n",
      "Growth without removing Rv0889c and Rv1663 from the model restores growth: 0.08222243486618849.\n",
      "Growth without removing Rv0066c and Rv1662 from the model restores growth: 0.08222243486618849.\n",
      "Growth without removing Rv0066c and Rv1663 from the model restores growth: 0.08222243486618849.\n",
      "Growth without removing Rv2062c and Rv1662 from the model restores growth: 0.08222243486618849.\n",
      "Growth without removing Rv2062c and Rv1663 from the model restores growth: 0.08222243486618849.\n",
      "Growth without removing Rv0155 and Rv1662 from the model restores growth: 0.08222243486618849.\n",
      "Growth without removing Rv0155 and Rv1663 from the model restores growth: 0.08222243486618849.\n",
      "Growth without removing Rv2291 and Rv1662 from the model restores growth: 0.08222243486618849.\n",
      "Growth without removing Rv2291 and Rv1663 from the model restores growth: 0.08222243486618849.\n",
      "Growth without removing Rv0824c and Rv1662 from the model restores growth: 0.12725415774502852.\n",
      "Growth without removing Rv0824c and Rv1663 from the model restores growth: 0.12725415774502852.\n",
      "Growth without removing Rv2605c and Rv1662 from the model restores growth: 0.08222243486618849.\n",
      "Growth without removing Rv2605c and Rv1663 from the model restores growth: 0.08222243486618849.\n",
      "Growth without removing Rv1185c and Rv1662 from the model restores growth: 0.08222243486618849.\n",
      "Growth without removing Rv1185c and Rv1663 from the model restores growth: 0.08222243486618849.\n",
      "Growth without removing Rv3513c and Rv1662 from the model restores growth: 0.08222243486618849.\n",
      "Growth without removing Rv3513c and Rv1663 from the model restores growth: 0.08222243486618849.\n",
      "Growth without removing Rv3089 and Rv1662 from the model restores growth: 0.08222243486618849.\n",
      "Growth without removing Rv3089 and Rv1663 from the model restores growth: 0.08222243486618849.\n",
      "Growth without removing Rv1662 and Rv1663 from the model restores growth: 0.08222243486618849.\n",
      "Growth without removing Rv1662 and Rv0112 from the model restores growth: 0.08222243486618849.\n",
      "Growth without removing Rv1662 and Rv2277c from the model restores growth: 0.08222243486618849.\n",
      "Growth without removing Rv1662 and Rv3084 from the model restores growth: 0.08222243486618849.\n",
      "Growth without removing Rv1662 and Rv3203 from the model restores growth: 0.08222243486618849.\n",
      "Growth without removing Rv1662 and Rv3817 from the model restores growth: 0.08222243486619185.\n",
      "Growth without removing Rv1662 and Rv0147 from the model restores growth: 0.08222243486618849.\n",
      "Growth without removing Rv1662 and Rv3400 from the model restores growth: 0.08222243486618849.\n",
      "Growth without removing Rv1662 and Rv0114 from the model restores growth: 0.08222243486618655.\n",
      "Growth without removing Rv1662 and Rv2952 from the model restores growth: 0.08222243486618888.\n",
      "Growth without removing Rv1662 and Rv2931 from the model restores growth: 0.08222243486618849.\n",
      "Growth without removing Rv1662 and Rv2267c from the model restores growth: 0.08222243486618849.\n",
      "Growth without removing Rv1662 and Rv1288 from the model restores growth: 0.08222243486618849.\n",
      "Growth without removing Rv1662 and Rv3199c from the model restores growth: 0.08222243486618849.\n",
      "Growth without removing Rv1662 and Rv1311 from the model restores growth: 0.08222243486618849.\n",
      "Growth without removing Rv1662 and Rv1307 from the model restores growth: 0.08222243486618849.\n",
      "Growth without removing Rv1662 and Rv3157 from the model restores growth: 0.08222243486618916.\n",
      "Growth without removing Rv1662 and Rv2435c from the model restores growth: 0.08222243486618849.\n",
      "Growth without removing Rv1662 and Rv3469c from the model restores growth: 0.08222243486618849.\n",
      "Growth without removing Rv1662 and Rv1872c from the model restores growth: 0.08222243486618837.\n",
      "Growth without removing Rv1662 and Rv1127c from the model restores growth: 0.08222243486618849.\n",
      "Growth without removing Rv1662 and Rv0911 from the model restores growth: 0.08222243486618849.\n",
      "Growth without removing Rv1662 and Rv2781c from the model restores growth: 0.08222243486618849.\n",
      "Growth without removing Rv1662 and Rv3820c from the model restores growth: 0.08222243486618849.\n",
      "Growth without removing Rv1662 and Rv3823c from the model restores growth: 0.08222243486618849.\n",
      "Growth without removing Rv1662 and Rv0107c from the model restores growth: 0.08222243486618849.\n",
      "Growth without removing Rv1662 and Rv1607 from the model restores growth: 0.08222243486618694.\n",
      "Growth without removing Rv1662 and Rv1283c from the model restores growth: 0.08222243486618892.\n",
      "Growth without removing Rv1662 and Rv2329c from the model restores growth: 0.08222243486618849.\n",
      "Growth without removing Rv1662 and Rv2920c from the model restores growth: 0.08691449655064333.\n",
      "Growth without removing Rv1662 and Rv0932c from the model restores growth: 0.08222243486618849.\n",
      "Growth without removing Rv1662 and Rv0072 from the model restores growth: 0.08222243486618849.\n",
      "Growth without removing Rv1662 and Rv1885c from the model restores growth: 0.08222243486618849.\n",
      "Growth without removing Rv1662 and Rv2601 from the model restores growth: 0.08222243486618849.\n",
      "Growth without removing Rv1662 and Rv3552 from the model restores growth: 0.08222243486615258.\n",
      "Growth without removing Rv1663 and Rv0112 from the model restores growth: 0.08222243486618849.\n",
      "Growth without removing Rv1663 and Rv2277c from the model restores growth: 0.08222243486618849.\n",
      "Growth without removing Rv1663 and Rv3084 from the model restores growth: 0.08222243486618849.\n",
      "Growth without removing Rv1663 and Rv3203 from the model restores growth: 0.08222243486618849.\n",
      "Growth without removing Rv1663 and Rv3817 from the model restores growth: 0.08222243486619185.\n",
      "Growth without removing Rv1663 and Rv0147 from the model restores growth: 0.08222243486618849.\n",
      "Growth without removing Rv1663 and Rv3400 from the model restores growth: 0.08222243486618849.\n",
      "Growth without removing Rv1663 and Rv0114 from the model restores growth: 0.08222243486618655.\n",
      "Growth without removing Rv1663 and Rv2952 from the model restores growth: 0.08222243486618888.\n",
      "Growth without removing Rv1663 and Rv2931 from the model restores growth: 0.08222243486618849.\n",
      "Growth without removing Rv1663 and Rv2267c from the model restores growth: 0.08222243486618849.\n",
      "Growth without removing Rv1663 and Rv1288 from the model restores growth: 0.08222243486618849.\n",
      "Growth without removing Rv1663 and Rv3199c from the model restores growth: 0.08222243486618849.\n"
     ]
    },
    {
     "name": "stdout",
     "output_type": "stream",
     "text": [
      "Growth without removing Rv1663 and Rv1311 from the model restores growth: 0.08222243486618849.\n",
      "Growth without removing Rv1663 and Rv1307 from the model restores growth: 0.08222243486618849.\n",
      "Growth without removing Rv1663 and Rv3157 from the model restores growth: 0.08222243486618916.\n",
      "Growth without removing Rv1663 and Rv2435c from the model restores growth: 0.08222243486618849.\n",
      "Growth without removing Rv1663 and Rv3469c from the model restores growth: 0.08222243486618849.\n",
      "Growth without removing Rv1663 and Rv1872c from the model restores growth: 0.08222243486618837.\n",
      "Growth without removing Rv1663 and Rv1127c from the model restores growth: 0.08222243486618849.\n",
      "Growth without removing Rv1663 and Rv0911 from the model restores growth: 0.08222243486618849.\n",
      "Growth without removing Rv1663 and Rv2781c from the model restores growth: 0.08222243486618849.\n",
      "Growth without removing Rv1663 and Rv3820c from the model restores growth: 0.08222243486618849.\n",
      "Growth without removing Rv1663 and Rv3823c from the model restores growth: 0.08222243486618849.\n",
      "Growth without removing Rv1663 and Rv0107c from the model restores growth: 0.08222243486618849.\n",
      "Growth without removing Rv1663 and Rv1607 from the model restores growth: 0.08222243486618694.\n",
      "Growth without removing Rv1663 and Rv1283c from the model restores growth: 0.08222243486618892.\n",
      "Growth without removing Rv1663 and Rv2329c from the model restores growth: 0.08222243486618849.\n",
      "Growth without removing Rv1663 and Rv2920c from the model restores growth: 0.08691449655064333.\n",
      "Growth without removing Rv1663 and Rv0932c from the model restores growth: 0.08222243486618849.\n",
      "Growth without removing Rv1663 and Rv0072 from the model restores growth: 0.08222243486618849.\n",
      "Growth without removing Rv1663 and Rv1885c from the model restores growth: 0.08222243486618849.\n",
      "Growth without removing Rv1663 and Rv2601 from the model restores growth: 0.08222243486618849.\n",
      "Growth without removing Rv1663 and Rv3552 from the model restores growth: 0.08222243486615258.\n"
     ]
    }
   ],
   "source": [
    "for i in range(0, len(L7_toDel_cur)):\n",
    "    remov1 = L7_toDel_cur[i]\n",
    "    for j in range(i + 1, len(L7_toDel_cur)):\n",
    "        tryDels = cp.copy(L7_toDel_cur)\n",
    "        remov2 = L7_toDel_cur[j]\n",
    "        tryDels.remove(remov1)\n",
    "        tryDels.remove(remov2)\n",
    "        testMod = base_mod.copy()\n",
    "        testMod.medium = mi7H9_OADC_Med\n",
    "        #testMod = cobra.io.load_json_model(join(data_dir, \"iEK1011_2.0.json\"))\n",
    "        remove_genes(testMod, tryDels, remove_reactions=True)\n",
    "        result = testMod.slim_optimize()\n",
    "        if(result > 0.02):\n",
    "            print('Growth without removing %s and %s from the model restores growth: %s.'%(remov1, remov2, str(result)))"
   ]
  },
  {
   "cell_type": "markdown",
   "id": "3dbb1b44",
   "metadata": {},
   "source": [
    "At this step when using only btw snps by keeping Rv1662 and Rv1311 growth was restored to 0.159 (half than the rest). It's been shown that L7 strains grow more or lest half as fast compared to the other strains, in particular Central Asian (CAS, L3) (https://pubmed.ncbi.nlm.nih.gov/25673798/), tested in 7H9. This is coherent with this prediction. <br>\n",
    "Now that we added intra SNPs present in more than the 85% of the lineage, we have Rv2605c and Rv1307 deleted too, which migh be causing problems. "
   ]
  },
  {
   "cell_type": "code",
   "execution_count": 206,
   "id": "d480a7a2",
   "metadata": {},
   "outputs": [
    {
     "data": {
      "text/html": [
       "\n",
       "        <table>\n",
       "            <tr>\n",
       "                <td><strong>Gene identifier</strong></td><td>Rv2605c</td>\n",
       "            </tr><tr>\n",
       "                <td><strong>Name</strong></td><td></td>\n",
       "            </tr><tr>\n",
       "                <td><strong>Memory address</strong></td>\n",
       "                <td>0x01fadc8f4e50</td>\n",
       "            </tr><tr>\n",
       "                <td><strong>Functional</strong></td><td>True</td>\n",
       "            </tr><tr>\n",
       "                <td><strong>In 4 reaction(s)</strong></td><td>\n",
       "                    FACOAE140_1, FACOAE160, FACOAE180, FCOAH2</td>\n",
       "            </tr>\n",
       "        </table>"
      ],
      "text/plain": [
       "<Gene Rv2605c at 0x1fadc8f4e50>"
      ]
     },
     "execution_count": 206,
     "metadata": {},
     "output_type": "execute_result"
    }
   ],
   "source": [
    "base_mod.genes.get_by_id('Rv2605c')"
   ]
  },
  {
   "cell_type": "code",
   "execution_count": 207,
   "id": "04878330",
   "metadata": {},
   "outputs": [
    {
     "data": {
      "text/html": [
       "\n",
       "        <table>\n",
       "            <tr>\n",
       "                <td><strong>Gene identifier</strong></td><td>Rv1307</td>\n",
       "            </tr><tr>\n",
       "                <td><strong>Name</strong></td><td></td>\n",
       "            </tr><tr>\n",
       "                <td><strong>Memory address</strong></td>\n",
       "                <td>0x01fadbb305e0</td>\n",
       "            </tr><tr>\n",
       "                <td><strong>Functional</strong></td><td>True</td>\n",
       "            </tr><tr>\n",
       "                <td><strong>In 1 reaction(s)</strong></td><td>\n",
       "                    ATPS4r</td>\n",
       "            </tr>\n",
       "        </table>"
      ],
      "text/plain": [
       "<Gene Rv1307 at 0x1fadbb305e0>"
      ]
     },
     "execution_count": 207,
     "metadata": {},
     "output_type": "execute_result"
    }
   ],
   "source": [
    "base_mod.genes.get_by_id('Rv1307')"
   ]
  },
  {
   "cell_type": "code",
   "execution_count": 208,
   "id": "5f589e97",
   "metadata": {},
   "outputs": [
    {
     "data": {
      "text/html": [
       "<div>\n",
       "<style scoped>\n",
       "    .dataframe tbody tr th:only-of-type {\n",
       "        vertical-align: middle;\n",
       "    }\n",
       "\n",
       "    .dataframe tbody tr th {\n",
       "        vertical-align: top;\n",
       "    }\n",
       "\n",
       "    .dataframe thead th {\n",
       "        text-align: right;\n",
       "    }\n",
       "</style>\n",
       "<table border=\"1\" class=\"dataframe\">\n",
       "  <thead>\n",
       "    <tr style=\"text-align: right;\">\n",
       "      <th></th>\n",
       "      <th>POS</th>\n",
       "      <th>REF</th>\n",
       "      <th>ALT</th>\n",
       "      <th>LIN</th>\n",
       "      <th>ANN</th>\n",
       "      <th>LOCUS</th>\n",
       "      <th>AA_one</th>\n",
       "      <th>PROVEAN</th>\n",
       "    </tr>\n",
       "  </thead>\n",
       "  <tbody>\n",
       "    <tr>\n",
       "      <th>0</th>\n",
       "      <td>2932343.0</td>\n",
       "      <td>T</td>\n",
       "      <td>C</td>\n",
       "      <td>L7</td>\n",
       "      <td>missense_variant</td>\n",
       "      <td>Rv2605c</td>\n",
       "      <td>E267G</td>\n",
       "      <td>-6.687</td>\n",
       "    </tr>\n",
       "  </tbody>\n",
       "</table>\n",
       "</div>"
      ],
      "text/plain": [
       "         POS REF ALT LIN               ANN    LOCUS AA_one  PROVEAN\n",
       "0  2932343.0   T   C  L7  missense_variant  Rv2605c  E267G   -6.687"
      ]
     },
     "execution_count": 208,
     "metadata": {},
     "output_type": "execute_result"
    }
   ],
   "source": [
    "getProvScore('Rv2605c', 'L7')"
   ]
  },
  {
   "cell_type": "code",
   "execution_count": 209,
   "id": "56677a5e",
   "metadata": {},
   "outputs": [
    {
     "data": {
      "text/html": [
       "<div>\n",
       "<style scoped>\n",
       "    .dataframe tbody tr th:only-of-type {\n",
       "        vertical-align: middle;\n",
       "    }\n",
       "\n",
       "    .dataframe tbody tr th {\n",
       "        vertical-align: top;\n",
       "    }\n",
       "\n",
       "    .dataframe thead th {\n",
       "        text-align: right;\n",
       "    }\n",
       "</style>\n",
       "<table border=\"1\" class=\"dataframe\">\n",
       "  <thead>\n",
       "    <tr style=\"text-align: right;\">\n",
       "      <th></th>\n",
       "      <th>POS</th>\n",
       "      <th>REF</th>\n",
       "      <th>ALT</th>\n",
       "      <th>LIN</th>\n",
       "      <th>ANN</th>\n",
       "      <th>LOCUS</th>\n",
       "      <th>AA_one</th>\n",
       "      <th>PROVEAN</th>\n",
       "    </tr>\n",
       "  </thead>\n",
       "  <tbody>\n",
       "    <tr>\n",
       "      <th>0</th>\n",
       "      <td>1462713.0</td>\n",
       "      <td>G</td>\n",
       "      <td>A</td>\n",
       "      <td>L7</td>\n",
       "      <td>missense_variant</td>\n",
       "      <td>Rv1307</td>\n",
       "      <td>E291K</td>\n",
       "      <td>-2.502</td>\n",
       "    </tr>\n",
       "  </tbody>\n",
       "</table>\n",
       "</div>"
      ],
      "text/plain": [
       "         POS REF ALT LIN               ANN   LOCUS AA_one  PROVEAN\n",
       "0  1462713.0   G   A  L7  missense_variant  Rv1307  E291K   -2.502"
      ]
     },
     "execution_count": 209,
     "metadata": {},
     "output_type": "execute_result"
    }
   ],
   "source": [
    "getProvScore('Rv1307', 'L7')"
   ]
  },
  {
   "cell_type": "markdown",
   "id": "ffe9cafc",
   "metadata": {},
   "source": [
    "Rv1307 is a subunit of the ATP synthase. The score is in the threshold, so function might not be affected, at least very strongly. This gene was causing trouble in L5 model too. On the other hand, Rv2605c has a score of -6.687, much more significative. <br>\n",
    "Try to keep Rv1307 and Rv1662 to see if there is any gene that restores growth. "
   ]
  },
  {
   "cell_type": "code",
   "execution_count": 210,
   "id": "d03dcbf0",
   "metadata": {},
   "outputs": [
    {
     "name": "stdout",
     "output_type": "stream",
     "text": [
      "Growth without removing Rv1662, Rv1307 and Rv1311 from the model restores growth: 0.1599232624217458.\n"
     ]
    }
   ],
   "source": [
    "tryDelsNoTwo = cp.copy(L7_toDel_cur)\n",
    "tryDelsNoTwo.remove('Rv1662')\n",
    "tryDelsNoTwo.remove('Rv1307')\n",
    "for i in range(0, len(tryDelsNoTwo)):\n",
    "    tryDels = cp.copy(tryDelsNoTwo)\n",
    "    remov = tryDels[i]\n",
    "    tryDels.remove(remov)\n",
    "    testMod = base_mod.copy()\n",
    "    testMod.medium = mi7H9_OADC_Med\n",
    "    remove_genes(testMod, tryDels, remove_reactions=True)\n",
    "    result = testMod.slim_optimize()\n",
    "    if(result > 0.15):\n",
    "        print('Growth without removing Rv1662, Rv1307 and %s from the model restores growth: %s.'%(remov, str(result)))"
   ]
  },
  {
   "cell_type": "code",
   "execution_count": 211,
   "id": "13872cef",
   "metadata": {},
   "outputs": [
    {
     "name": "stdout",
     "output_type": "stream",
     "text": [
      "Growth without removing Rv1662, Rv1307, Rv1311 and Rv2920c from the model restores growth: 0.2128554916617162.\n"
     ]
    }
   ],
   "source": [
    "tryDelsNoThree = cp.copy(L7_toDel_cur)\n",
    "tryDelsNoThree.remove('Rv1662')\n",
    "tryDelsNoThree.remove('Rv1307')\n",
    "tryDelsNoThree.remove('Rv1311')\n",
    "for i in range(0, len(tryDelsNoThree)):\n",
    "    tryDels = cp.copy(tryDelsNoThree)\n",
    "    remov = tryDels[i]\n",
    "    tryDels.remove(remov)\n",
    "    testMod = base_mod.copy()\n",
    "    testMod.medium = mi7H9_OADC_Med\n",
    "    remove_genes(testMod, tryDels, remove_reactions=True)\n",
    "    result = testMod.slim_optimize()\n",
    "    if(result > 0.16):\n",
    "        print('Growth without removing Rv1662, Rv1307, Rv1311 and %s from the model restores growth: %s.'%(remov, str(result)))"
   ]
  },
  {
   "cell_type": "markdown",
   "id": "d1f3f4fc",
   "metadata": {},
   "source": [
    "Growth is \"completely\" restored by keeping Rv1662, Rv1307, Rv1311 and Rv2920. "
   ]
  },
  {
   "cell_type": "markdown",
   "id": "56e85d81",
   "metadata": {},
   "source": [
    "Rv1311. ATP synthase epsilon chain AtpC. Essential (Mycobrowser). The model doesn't predict it to be essential. PROVEAN = -3.722. Not super low, so let's keep it. <b> Update the L7 model and save it.</b>"
   ]
  },
  {
   "cell_type": "code",
   "execution_count": 215,
   "id": "3168c855",
   "metadata": {},
   "outputs": [],
   "source": [
    "L7_cur=base_mod.copy()\n",
    "L7_toDel_cur.remove('Rv1662')\n",
    "L7_toDel_cur.remove('Rv1307')\n",
    "L7_toDel_cur.remove('Rv1311')\n",
    "L7_toDel_cur.remove('Rv2920c')\n",
    "remove_genes(L7_cur, L7_toDel_cur, remove_reactions=True)\n",
    "L7_cur.id=str('L7')"
   ]
  },
  {
   "cell_type": "code",
   "execution_count": 216,
   "id": "62e14de3",
   "metadata": {},
   "outputs": [],
   "source": [
    "L7_cur.medium = mi7H9_OADC_Med"
   ]
  },
  {
   "cell_type": "code",
   "execution_count": 217,
   "id": "3d389ca6",
   "metadata": {},
   "outputs": [
    {
     "data": {
      "text/plain": [
       "0.2128554916617162"
      ]
     },
     "execution_count": 217,
     "metadata": {},
     "output_type": "execute_result"
    }
   ],
   "source": [
    "L7_cur.slim_optimize()"
   ]
  },
  {
   "cell_type": "code",
   "execution_count": 218,
   "id": "e9a5377d",
   "metadata": {},
   "outputs": [],
   "source": [
    "cobra.io.json.save_json_model(L7_cur, str(delsAllsnps_mod_dir_cur+'L7'+'_cur.json'), pretty=False)"
   ]
  },
  {
   "cell_type": "markdown",
   "id": "68fb91f6",
   "metadata": {},
   "source": [
    "### L8"
   ]
  },
  {
   "cell_type": "code",
   "execution_count": 219,
   "id": "173ad19d",
   "metadata": {},
   "outputs": [],
   "source": [
    "L8 = cobra.io.load_json_model(join(delsAllsnps_mod_dir, \"L8_delsAllsnps.json\"))"
   ]
  },
  {
   "cell_type": "code",
   "execution_count": 220,
   "id": "cf3add2a",
   "metadata": {},
   "outputs": [],
   "source": [
    "L8_dels = list(delMat.loc[delMat['L8'] == 0.0, 'L8'].index)"
   ]
  },
  {
   "cell_type": "code",
   "execution_count": 221,
   "id": "16cac67e",
   "metadata": {},
   "outputs": [
    {
     "name": "stdout",
     "output_type": "stream",
     "text": [
      "Growth with Rv2531c deleted: 0.3683291764340493\n",
      "Growth with Rv2201 deleted: 0.0\n",
      "Growth with Rv2860c deleted: 0.3683291764340529\n",
      "Growth with Rv1731 deleted: 0.3683291764340529\n",
      "Growth with Rv1714 deleted: 0.3683291764340529\n",
      "Growth with Rv0244c deleted: 0.3683291764340529\n",
      "Growth with Rv0905 deleted: 0.3683291764340529\n",
      "Growth with Rv1912c deleted: 0.3683291764340529\n",
      "Growth with Rv3075c deleted: 0.3683291764340529\n",
      "Growth with Rv3339c deleted: 0.3683291764340529\n",
      "Growth with Rv0211 deleted: 0.3683291764340505\n",
      "Growth with Rv1940 deleted: 0.0\n",
      "Growth with Rv2713 deleted: 0.3683291764340529\n",
      "Growth with Rv2066 deleted: 0.368329176434056\n",
      "Growth with Rv2291 deleted: 0.3683291764340529\n",
      "Growth with Rv2294 deleted: 0.3683291764340529\n",
      "Growth with Rv0075 deleted: 0.3683291764340529\n",
      "Growth with Rv3088 deleted: 0.3683291764340529\n",
      "Growth with Rv2484c deleted: 0.3683291764340529\n",
      "Growth with Rv1425 deleted: 0.3683291764340529\n",
      "Growth with Rv2605c deleted: 0.3683291764340529\n",
      "Growth with Rv2187 deleted: 0.3683291764340529\n",
      "Growth with Rv1750c deleted: 0.3683291764340529\n",
      "Growth with Rv2950c deleted: 0.3683291764340529\n",
      "Growth with Rv1185c deleted: 0.3683291764340529\n",
      "Growth with Rv2505c deleted: 0.3683291764340529\n",
      "Growth with Rv2948c deleted: 0.3683291764340529\n",
      "Growth with Rv1143 deleted: 0.3683291764340529\n",
      "Growth with Rv2504c deleted: 0.3683291764340493\n",
      "Growth with Rv2964 deleted: 0.36832917643404917\n",
      "Growth with Rv1511 deleted: 0.3683291764340529\n",
      "Growth with Rv2349c deleted: 0.3683291764340529\n",
      "Growth with Rv0768 deleted: 0.3683291764340529\n",
      "Growth with Rv0946c deleted: 0.3617057204864811\n",
      "Growth with Rv2048c deleted: 0.36832917643405055\n",
      "Growth with Rv0114 deleted: 0.36832917643404856\n",
      "Growth with Rv2949c deleted: 0.0\n",
      "Growth with Rv2934 deleted: 0.3683291764340529\n",
      "Growth with Rv2931 deleted: 0.3683291764340529\n",
      "Growth with Rv3490 deleted: 0.0\n",
      "Growth with Rv0113 deleted: 0.3683291764340507\n",
      "Growth with Rv0774c deleted: 0.3683291764340529\n",
      "Growth with Rv1886c deleted: 0.36832917643404756\n",
      "Growth with Rv3378c deleted: 0.36832917643405716\n",
      "Growth with Rv3147 deleted: 0.3683291764340529\n",
      "Growth with Rv1447c deleted: 0.3683291764340529\n",
      "Growth with Rv1328 deleted: 0.36832917643405\n",
      "Growth with Rv0107c deleted: 0.3683291764340529\n",
      "Growth with Rv1704c deleted: 0.36832917643404905\n",
      "Growth with Rv1030 deleted: 0.3683291764340529\n",
      "Growth with Rv0267 deleted: 0.3683291764340529\n",
      "Growth with Rv0545c deleted: 0.3683291764340529\n",
      "Growth with Rv0932c deleted: 0.3683291764340529\n",
      "Growth with Rv1739c deleted: 0.0\n",
      "Growth with Rv1885c deleted: 0.3683291764340529\n",
      "Growth with Rv1820 deleted: 0.3683291764340529\n",
      "Growth with Rv0189c deleted: 0.0\n"
     ]
    }
   ],
   "source": [
    "\"\"\"Check what are the genes that are causing the flux to be zero.\"\"\"\n",
    "L8_toDelMuts = testDelsFun(L8_dels)\n",
    "L8_impGrwth = L8_toDelMuts.loc[L8_toDelMuts['BM'] == 0]['gene'].tolist()"
   ]
  },
  {
   "cell_type": "markdown",
   "id": "29188383",
   "metadata": {},
   "source": [
    "In 7H10 Rv0946c is required for growth, while in 7H9 OADC not. "
   ]
  },
  {
   "cell_type": "code",
   "execution_count": 222,
   "id": "800eb17d",
   "metadata": {},
   "outputs": [
    {
     "data": {
      "text/html": [
       "\n",
       "        <table>\n",
       "            <tr>\n",
       "                <td><strong>Gene identifier</strong></td><td>Rv2201</td>\n",
       "            </tr><tr>\n",
       "                <td><strong>Name</strong></td><td></td>\n",
       "            </tr><tr>\n",
       "                <td><strong>Memory address</strong></td>\n",
       "                <td>0x01fadc8c4d30</td>\n",
       "            </tr><tr>\n",
       "                <td><strong>Functional</strong></td><td>True</td>\n",
       "            </tr><tr>\n",
       "                <td><strong>In 1 reaction(s)</strong></td><td>\n",
       "                    ASNS1</td>\n",
       "            </tr>\n",
       "        </table>"
      ],
      "text/plain": [
       "<Gene Rv2201 at 0x1fadc8c4d30>"
      ]
     },
     "execution_count": 222,
     "metadata": {},
     "output_type": "execute_result"
    }
   ],
   "source": [
    "base_mod.genes.get_by_id(L8_impGrwth[0])"
   ]
  },
  {
   "cell_type": "code",
   "execution_count": 223,
   "id": "eb067d94",
   "metadata": {},
   "outputs": [
    {
     "data": {
      "text/html": [
       "\n",
       "        <table>\n",
       "            <tr>\n",
       "                <td><strong>Reaction identifier</strong></td><td>ASNS1</td>\n",
       "            </tr><tr>\n",
       "                <td><strong>Name</strong></td><td>Asparagine synthase (glutamine-hydrolysing)</td>\n",
       "            </tr><tr>\n",
       "                <td><strong>Memory address</strong></td>\n",
       "                <td>0x01fadc949f10</td>\n",
       "            </tr><tr>\n",
       "                <td><strong>Stoichiometry</strong></td>\n",
       "                <td>\n",
       "                    <p style='text-align:right'>asp__L[c] + atp[c] + gln__L[c] + h2o[c] --> amp[c] + asn__L[c] + glu__L[c] + h[c] + ppi[c]</p>\n",
       "                    <p style='text-align:right'>L-Aspartate [cytoplasm] + ATP C10H12N5O13P3 [cytoplasm] + L-Glutamine [cytoplasm] + H2O H2O [cytoplasm] --> AMP C10H12N5O7P [cytoplasm] + L-Asparagine [cytoplasm] + L-Glutamate [cytoplasm] + H+...</p>\n",
       "                </td>\n",
       "            </tr><tr>\n",
       "                <td><strong>GPR</strong></td><td>Rv2201</td>\n",
       "            </tr><tr>\n",
       "                <td><strong>Lower bound</strong></td><td>0.0</td>\n",
       "            </tr><tr>\n",
       "                <td><strong>Upper bound</strong></td><td>1000.0</td>\n",
       "            </tr>\n",
       "        </table>\n",
       "        "
      ],
      "text/plain": [
       "<Reaction ASNS1 at 0x1fadc949f10>"
      ]
     },
     "execution_count": 223,
     "metadata": {},
     "output_type": "execute_result"
    }
   ],
   "source": [
    "list(base_mod.genes.get_by_id(L8_impGrwth[0]).reactions)[0]"
   ]
  },
  {
   "cell_type": "code",
   "execution_count": 224,
   "id": "b5cb0468",
   "metadata": {},
   "outputs": [
    {
     "data": {
      "text/html": [
       "\n",
       "        <table>\n",
       "            <tr>\n",
       "                <td><strong>Gene identifier</strong></td><td>Rv1940</td>\n",
       "            </tr><tr>\n",
       "                <td><strong>Name</strong></td><td></td>\n",
       "            </tr><tr>\n",
       "                <td><strong>Memory address</strong></td>\n",
       "                <td>0x01fadc8e92b0</td>\n",
       "            </tr><tr>\n",
       "                <td><strong>Functional</strong></td><td>True</td>\n",
       "            </tr><tr>\n",
       "                <td><strong>In 3 reaction(s)</strong></td><td>\n",
       "                    GTPCII, GTPCII2, DB4PS</td>\n",
       "            </tr>\n",
       "        </table>"
      ],
      "text/plain": [
       "<Gene Rv1940 at 0x1fadc8e92b0>"
      ]
     },
     "execution_count": 224,
     "metadata": {},
     "output_type": "execute_result"
    }
   ],
   "source": [
    "base_mod.genes.get_by_id(L8_impGrwth[1])"
   ]
  },
  {
   "cell_type": "code",
   "execution_count": 225,
   "id": "9562d622",
   "metadata": {},
   "outputs": [
    {
     "data": {
      "text/html": [
       "\n",
       "        <table>\n",
       "            <tr>\n",
       "                <td><strong>Reaction identifier</strong></td><td>GTPCII</td>\n",
       "            </tr><tr>\n",
       "                <td><strong>Name</strong></td><td>GTP cyclohydrolase II</td>\n",
       "            </tr><tr>\n",
       "                <td><strong>Memory address</strong></td>\n",
       "                <td>0x01fadce61b80</td>\n",
       "            </tr><tr>\n",
       "                <td><strong>Stoichiometry</strong></td>\n",
       "                <td>\n",
       "                    <p style='text-align:right'>gtp[c] + 3.0 h2o[c] --> 25dhpp[c] + for[c] + 2.0 h[c] + ppi[c]</p>\n",
       "                    <p style='text-align:right'>GTP C10H12N5O14P3 [cytoplasm] + 3.0 H2O H2O [cytoplasm] --> 2-5 Diamino 6 hydroxy 4 5 phosphoribosylamino pyrimidine C9H14N5O8P [cytoplasm] + Formate [cytoplasm] + 2.0 H+ [cytoplasm] + Diphosphate...</p>\n",
       "                </td>\n",
       "            </tr><tr>\n",
       "                <td><strong>GPR</strong></td><td>Rv1415 or Rv1940</td>\n",
       "            </tr><tr>\n",
       "                <td><strong>Lower bound</strong></td><td>0.0</td>\n",
       "            </tr><tr>\n",
       "                <td><strong>Upper bound</strong></td><td>1000.0</td>\n",
       "            </tr>\n",
       "        </table>\n",
       "        "
      ],
      "text/plain": [
       "<Reaction GTPCII at 0x1fadce61b80>"
      ]
     },
     "execution_count": 225,
     "metadata": {},
     "output_type": "execute_result"
    }
   ],
   "source": [
    "list(base_mod.genes.get_by_id(L8_impGrwth[1]).reactions)[0]"
   ]
  },
  {
   "cell_type": "code",
   "execution_count": 226,
   "id": "8c422f02",
   "metadata": {},
   "outputs": [
    {
     "data": {
      "text/html": [
       "\n",
       "        <table>\n",
       "            <tr>\n",
       "                <td><strong>Reaction identifier</strong></td><td>GTPCII2</td>\n",
       "            </tr><tr>\n",
       "                <td><strong>Name</strong></td><td>GTP cyclohydrolase II (25drapp)</td>\n",
       "            </tr><tr>\n",
       "                <td><strong>Memory address</strong></td>\n",
       "                <td>0x01fadca2a430</td>\n",
       "            </tr><tr>\n",
       "                <td><strong>Stoichiometry</strong></td>\n",
       "                <td>\n",
       "                    <p style='text-align:right'>gtp[c] + 3.0 h2o[c] --> 25drapp[c] + for[c] + 2.0 h[c] + ppi[c]</p>\n",
       "                    <p style='text-align:right'>GTP C10H12N5O14P3 [cytoplasm] + 3.0 H2O H2O [cytoplasm] --> 2,5-Diamino-6-(ribosylamino)-4-(3H)-pyrimidinone 5'-phosphate [cytoplasm] + Formate [cytoplasm] + 2.0 H+ [cytoplasm] + Diphosphate...</p>\n",
       "                </td>\n",
       "            </tr><tr>\n",
       "                <td><strong>GPR</strong></td><td>Rv1415 or Rv1940</td>\n",
       "            </tr><tr>\n",
       "                <td><strong>Lower bound</strong></td><td>0.0</td>\n",
       "            </tr><tr>\n",
       "                <td><strong>Upper bound</strong></td><td>1000.0</td>\n",
       "            </tr>\n",
       "        </table>\n",
       "        "
      ],
      "text/plain": [
       "<Reaction GTPCII2 at 0x1fadca2a430>"
      ]
     },
     "execution_count": 226,
     "metadata": {},
     "output_type": "execute_result"
    }
   ],
   "source": [
    "list(base_mod.genes.get_by_id(L8_impGrwth[1]).reactions)[1]"
   ]
  },
  {
   "cell_type": "code",
   "execution_count": 227,
   "id": "d497c065",
   "metadata": {},
   "outputs": [
    {
     "data": {
      "text/html": [
       "\n",
       "        <table>\n",
       "            <tr>\n",
       "                <td><strong>Reaction identifier</strong></td><td>DB4PS</td>\n",
       "            </tr><tr>\n",
       "                <td><strong>Name</strong></td><td>3,4-Dihydroxy-2-butanone-4-phosphate synthase</td>\n",
       "            </tr><tr>\n",
       "                <td><strong>Memory address</strong></td>\n",
       "                <td>0x01fadca1e040</td>\n",
       "            </tr><tr>\n",
       "                <td><strong>Stoichiometry</strong></td>\n",
       "                <td>\n",
       "                    <p style='text-align:right'>ru5p__D[c] --> db4p[c] + for[c] + h[c]</p>\n",
       "                    <p style='text-align:right'>D-Ribulose 5-phosphate [cytoplasm] --> 3,4-dihydroxy-2-butanone 4-phosphate [cytoplasm] + Formate [cytoplasm] + H+ [cytoplasm]</p>\n",
       "                </td>\n",
       "            </tr><tr>\n",
       "                <td><strong>GPR</strong></td><td>Rv1940</td>\n",
       "            </tr><tr>\n",
       "                <td><strong>Lower bound</strong></td><td>0.0</td>\n",
       "            </tr><tr>\n",
       "                <td><strong>Upper bound</strong></td><td>1000.0</td>\n",
       "            </tr>\n",
       "        </table>\n",
       "        "
      ],
      "text/plain": [
       "<Reaction DB4PS at 0x1fadca1e040>"
      ]
     },
     "execution_count": 227,
     "metadata": {},
     "output_type": "execute_result"
    }
   ],
   "source": [
    "list(base_mod.genes.get_by_id(L8_impGrwth[1]).reactions)[2]"
   ]
  },
  {
   "cell_type": "code",
   "execution_count": 228,
   "id": "deb246b1",
   "metadata": {},
   "outputs": [
    {
     "data": {
      "text/html": [
       "\n",
       "        <table>\n",
       "            <tr>\n",
       "                <td><strong>Gene identifier</strong></td><td>Rv2949c</td>\n",
       "            </tr><tr>\n",
       "                <td><strong>Name</strong></td><td></td>\n",
       "            </tr><tr>\n",
       "                <td><strong>Memory address</strong></td>\n",
       "                <td>0x01fadbb464c0</td>\n",
       "            </tr><tr>\n",
       "                <td><strong>Functional</strong></td><td>True</td>\n",
       "            </tr><tr>\n",
       "                <td><strong>In 1 reaction(s)</strong></td><td>\n",
       "                    CHRPL</td>\n",
       "            </tr>\n",
       "        </table>"
      ],
      "text/plain": [
       "<Gene Rv2949c at 0x1fadbb464c0>"
      ]
     },
     "execution_count": 228,
     "metadata": {},
     "output_type": "execute_result"
    }
   ],
   "source": [
    "base_mod.genes.get_by_id(L8_impGrwth[2])"
   ]
  },
  {
   "cell_type": "code",
   "execution_count": 229,
   "id": "6a490e77",
   "metadata": {},
   "outputs": [
    {
     "data": {
      "text/html": [
       "\n",
       "        <table>\n",
       "            <tr>\n",
       "                <td><strong>Gene identifier</strong></td><td>Rv3490</td>\n",
       "            </tr><tr>\n",
       "                <td><strong>Name</strong></td><td></td>\n",
       "            </tr><tr>\n",
       "                <td><strong>Memory address</strong></td>\n",
       "                <td>0x01fadbb46880</td>\n",
       "            </tr><tr>\n",
       "                <td><strong>Functional</strong></td><td>True</td>\n",
       "            </tr><tr>\n",
       "                <td><strong>In 1 reaction(s)</strong></td><td>\n",
       "                    TRE6PS</td>\n",
       "            </tr>\n",
       "        </table>"
      ],
      "text/plain": [
       "<Gene Rv3490 at 0x1fadbb46880>"
      ]
     },
     "execution_count": 229,
     "metadata": {},
     "output_type": "execute_result"
    }
   ],
   "source": [
    "base_mod.genes.get_by_id(L8_impGrwth[3])"
   ]
  },
  {
   "cell_type": "code",
   "execution_count": 230,
   "id": "3421e872",
   "metadata": {},
   "outputs": [
    {
     "data": {
      "text/html": [
       "\n",
       "        <table>\n",
       "            <tr>\n",
       "                <td><strong>Gene identifier</strong></td><td>Rv1739c</td>\n",
       "            </tr><tr>\n",
       "                <td><strong>Name</strong></td><td></td>\n",
       "            </tr><tr>\n",
       "                <td><strong>Memory address</strong></td>\n",
       "                <td>0x01fadc92db50</td>\n",
       "            </tr><tr>\n",
       "                <td><strong>Functional</strong></td><td>True</td>\n",
       "            </tr><tr>\n",
       "                <td><strong>In 2 reaction(s)</strong></td><td>\n",
       "                    SULabc, TSULabc</td>\n",
       "            </tr>\n",
       "        </table>"
      ],
      "text/plain": [
       "<Gene Rv1739c at 0x1fadc92db50>"
      ]
     },
     "execution_count": 230,
     "metadata": {},
     "output_type": "execute_result"
    }
   ],
   "source": [
    "base_mod.genes.get_by_id(L8_impGrwth[4])"
   ]
  },
  {
   "cell_type": "code",
   "execution_count": 231,
   "id": "8831329a",
   "metadata": {},
   "outputs": [
    {
     "data": {
      "text/html": [
       "\n",
       "        <table>\n",
       "            <tr>\n",
       "                <td><strong>Gene identifier</strong></td><td>Rv0189c</td>\n",
       "            </tr><tr>\n",
       "                <td><strong>Name</strong></td><td></td>\n",
       "            </tr><tr>\n",
       "                <td><strong>Memory address</strong></td>\n",
       "                <td>0x01fadc937580</td>\n",
       "            </tr><tr>\n",
       "                <td><strong>Functional</strong></td><td>True</td>\n",
       "            </tr><tr>\n",
       "                <td><strong>In 2 reaction(s)</strong></td><td>\n",
       "                    DHAD2, DHAD1</td>\n",
       "            </tr>\n",
       "        </table>"
      ],
      "text/plain": [
       "<Gene Rv0189c at 0x1fadc937580>"
      ]
     },
     "execution_count": 231,
     "metadata": {},
     "output_type": "execute_result"
    }
   ],
   "source": [
    "base_mod.genes.get_by_id(L8_impGrwth[5])"
   ]
  },
  {
   "cell_type": "code",
   "execution_count": 233,
   "id": "a0d43553",
   "metadata": {},
   "outputs": [],
   "source": [
    "L8_toDel_cur = L8_toDelMuts.loc[L8_toDelMuts['BM'] != 0]['gene'].tolist()"
   ]
  },
  {
   "cell_type": "code",
   "execution_count": 234,
   "id": "018465a7",
   "metadata": {},
   "outputs": [],
   "source": [
    "L8_cur = cobra.io.load_json_model(join(mod_dir, \"iEK1011_2.0.json\"))"
   ]
  },
  {
   "cell_type": "code",
   "execution_count": 235,
   "id": "8848379a",
   "metadata": {},
   "outputs": [],
   "source": [
    "remove_genes(L8_cur, L8_toDel_cur, remove_reactions=True)"
   ]
  },
  {
   "cell_type": "code",
   "execution_count": 236,
   "id": "f047e483",
   "metadata": {},
   "outputs": [],
   "source": [
    "L8_cur.medium = mi7H9_OADC_Med"
   ]
  },
  {
   "cell_type": "code",
   "execution_count": 237,
   "id": "11104302",
   "metadata": {},
   "outputs": [],
   "source": [
    "L8_cur.id=str('L8')"
   ]
  },
  {
   "cell_type": "code",
   "execution_count": 238,
   "id": "123733b5",
   "metadata": {},
   "outputs": [
    {
     "data": {
      "text/plain": [
       "0.3617057204864494"
      ]
     },
     "execution_count": 238,
     "metadata": {},
     "output_type": "execute_result"
    }
   ],
   "source": [
    "L8_cur.slim_optimize()"
   ]
  },
  {
   "cell_type": "code",
   "execution_count": 239,
   "id": "92349a9e",
   "metadata": {},
   "outputs": [],
   "source": [
    "cobra.io.json.save_json_model(L8_cur, str(delsAllsnps_mod_dir_cur+'L8'+'_cur.json'), pretty=False)"
   ]
  },
  {
   "cell_type": "markdown",
   "id": "117224b9",
   "metadata": {},
   "source": [
    "### L9"
   ]
  },
  {
   "cell_type": "code",
   "execution_count": 240,
   "id": "338098f9",
   "metadata": {},
   "outputs": [],
   "source": [
    "L9 = cobra.io.load_json_model(join(delsAllsnps_mod_dir, \"L9_delsAllsnps.json\"))"
   ]
  },
  {
   "cell_type": "code",
   "execution_count": 241,
   "id": "7af431e2",
   "metadata": {},
   "outputs": [],
   "source": [
    "L9_dels = list(delMat.loc[delMat['L9'] == 0.0, 'L9'].index)"
   ]
  },
  {
   "cell_type": "code",
   "execution_count": 242,
   "id": "ae19fdad",
   "metadata": {},
   "outputs": [
    {
     "name": "stdout",
     "output_type": "stream",
     "text": [
      "Growth with Rv1595 deleted: 0.0\n",
      "Growth with Rv2860c deleted: 0.3683291764340529\n",
      "Growth with Rv2438c deleted: 0.0\n",
      "Growth with Rv1248c deleted: 0.36832917643405105\n",
      "Growth with Rv0729 deleted: 0.36832917643405805\n",
      "Growth with Rv3807c deleted: 0.0\n",
      "Growth with Rv0222 deleted: 0.3683291764340529\n",
      "Growth with Rv0672 deleted: 0.3683291764340529\n",
      "Growth with Rv2724c deleted: 0.3683291764340529\n",
      "Growth with Rv0231 deleted: 0.3683291764340529\n",
      "Growth with Rv3111 deleted: 0.3683291764340529\n",
      "Growth with Rv0206c deleted: 0.3683291764340529\n",
      "Growth with Rv1451 deleted: 0.0\n",
      "Growth with Rv2194 deleted: 0.0\n",
      "Growth with Rv2124c deleted: 0.0\n",
      "Growth with Rv3617 deleted: 0.3683291764340529\n",
      "Growth with Rv0221 deleted: 0.3683291764340529\n",
      "Growth with Rv1550 deleted: 0.3683291764340529\n",
      "Growth with Rv1484 deleted: 0.0\n",
      "Growth with Rv2524c deleted: 0.0\n",
      "Growth with Rv2351c deleted: 0.3683291764340529\n",
      "Growth with Rv0070c deleted: 0.3683291764340529\n",
      "Growth with Rv1605 deleted: 0.0\n",
      "Growth with Rv2933 deleted: 0.3683291764340529\n",
      "Growth with Rv0644c deleted: 0.0\n",
      "Growth with Rv0904c deleted: 0.3683291764340538\n",
      "Growth with Rv3199c deleted: 0.3683291764340552\n",
      "Growth with Rv0223c deleted: 0.3683291764340529\n",
      "Growth with Rv0137c deleted: 0.3683291764340562\n",
      "Growth with Rv3148 deleted: 0.3683291764340529\n",
      "Growth with Rv0392c deleted: 0.3683291764340529\n",
      "Growth with Rv1155 deleted: 0.3683291764340529\n",
      "Growth with Rv2074 deleted: 0.3683291764340529\n",
      "Growth with Rv1625c deleted: 0.3683291764340529\n",
      "Growth with Rv3410c deleted: 0.0\n",
      "Growth with Rv3314c deleted: 0.3683291764340513\n",
      "Growth with Rv3913 deleted: 0.0\n",
      "Growth with Rv0021c deleted: 0.3683291764340529\n",
      "Growth with Rv1327c deleted: 0.3683291764340525\n",
      "Growth with Rv1562c deleted: 0.3683291764340531\n",
      "Growth with Rv3031 deleted: 0.0\n",
      "Growth with Rv0143c deleted: 0.3683291764340529\n",
      "Growth with Rv0103c deleted: 0.3683291764340529\n",
      "Growth with Rv1030 deleted: 0.3683291764340529\n",
      "Growth with Rv0267 deleted: 0.3683291764340529\n",
      "Growth with Rv2942 deleted: 0.3683291764340509\n",
      "Growth with Rv2400c deleted: 0.0\n",
      "Growth with Rv1672c deleted: 0.3683291764340539\n",
      "Growth with Rv1819c deleted: 0.3683291764340503\n",
      "Growth with Rv2537c deleted: 0.0\n",
      "Growth with Rv3518c deleted: 0.3683291764340529\n"
     ]
    }
   ],
   "source": [
    "\"\"\"Check what are the genes that are causing the flux to be zero.\"\"\"\n",
    "L9_toDelMuts = testDelsFun(L9_dels)\n",
    "L9_impGrwth = L9_toDelMuts.loc[L9_toDelMuts['BM'] == 0]['gene'].tolist()"
   ]
  },
  {
   "cell_type": "code",
   "execution_count": 243,
   "id": "c09759d7",
   "metadata": {},
   "outputs": [
    {
     "data": {
      "text/html": [
       "\n",
       "        <table>\n",
       "            <tr>\n",
       "                <td><strong>Gene identifier</strong></td><td>Rv1595</td>\n",
       "            </tr><tr>\n",
       "                <td><strong>Name</strong></td><td></td>\n",
       "            </tr><tr>\n",
       "                <td><strong>Memory address</strong></td>\n",
       "                <td>0x01fadc8c4d90</td>\n",
       "            </tr><tr>\n",
       "                <td><strong>Functional</strong></td><td>True</td>\n",
       "            </tr><tr>\n",
       "                <td><strong>In 2 reaction(s)</strong></td><td>\n",
       "                    ASPO5, ASPO6</td>\n",
       "            </tr>\n",
       "        </table>"
      ],
      "text/plain": [
       "<Gene Rv1595 at 0x1fadc8c4d90>"
      ]
     },
     "execution_count": 243,
     "metadata": {},
     "output_type": "execute_result"
    }
   ],
   "source": [
    "base_mod.genes.get_by_id(L9_impGrwth[0])"
   ]
  },
  {
   "cell_type": "code",
   "execution_count": 244,
   "id": "ca09a2a2",
   "metadata": {},
   "outputs": [
    {
     "data": {
      "text/html": [
       "\n",
       "        <table>\n",
       "            <tr>\n",
       "                <td><strong>Gene identifier</strong></td><td>Rv2438c</td>\n",
       "            </tr><tr>\n",
       "                <td><strong>Name</strong></td><td></td>\n",
       "            </tr><tr>\n",
       "                <td><strong>Memory address</strong></td>\n",
       "                <td>0x01fadc8d3070</td>\n",
       "            </tr><tr>\n",
       "                <td><strong>Functional</strong></td><td>True</td>\n",
       "            </tr><tr>\n",
       "                <td><strong>In 1 reaction(s)</strong></td><td>\n",
       "                    NADS2</td>\n",
       "            </tr>\n",
       "        </table>"
      ],
      "text/plain": [
       "<Gene Rv2438c at 0x1fadc8d3070>"
      ]
     },
     "execution_count": 244,
     "metadata": {},
     "output_type": "execute_result"
    }
   ],
   "source": [
    "base_mod.genes.get_by_id(L9_impGrwth[1])"
   ]
  },
  {
   "cell_type": "code",
   "execution_count": 245,
   "id": "94583967",
   "metadata": {},
   "outputs": [
    {
     "data": {
      "text/html": [
       "\n",
       "        <table>\n",
       "            <tr>\n",
       "                <td><strong>Gene identifier</strong></td><td>Rv3807c</td>\n",
       "            </tr><tr>\n",
       "                <td><strong>Name</strong></td><td></td>\n",
       "            </tr><tr>\n",
       "                <td><strong>Memory address</strong></td>\n",
       "                <td>0x01fadc8d3640</td>\n",
       "            </tr><tr>\n",
       "                <td><strong>Functional</strong></td><td>True</td>\n",
       "            </tr><tr>\n",
       "                <td><strong>In 1 reaction(s)</strong></td><td>\n",
       "                    DCPDPP</td>\n",
       "            </tr>\n",
       "        </table>"
      ],
      "text/plain": [
       "<Gene Rv3807c at 0x1fadc8d3640>"
      ]
     },
     "execution_count": 245,
     "metadata": {},
     "output_type": "execute_result"
    }
   ],
   "source": [
    "base_mod.genes.get_by_id(L9_impGrwth[2])"
   ]
  },
  {
   "cell_type": "code",
   "execution_count": 246,
   "id": "954c59a7",
   "metadata": {},
   "outputs": [
    {
     "data": {
      "text/html": [
       "\n",
       "        <table>\n",
       "            <tr>\n",
       "                <td><strong>Gene identifier</strong></td><td>Rv1451</td>\n",
       "            </tr><tr>\n",
       "                <td><strong>Name</strong></td><td></td>\n",
       "            </tr><tr>\n",
       "                <td><strong>Memory address</strong></td>\n",
       "                <td>0x01fadc8f40a0</td>\n",
       "            </tr><tr>\n",
       "                <td><strong>Functional</strong></td><td>True</td>\n",
       "            </tr><tr>\n",
       "                <td><strong>In 2 reaction(s)</strong></td><td>\n",
       "                    CYO1b, HEMEOS</td>\n",
       "            </tr>\n",
       "        </table>"
      ],
      "text/plain": [
       "<Gene Rv1451 at 0x1fadc8f40a0>"
      ]
     },
     "execution_count": 246,
     "metadata": {},
     "output_type": "execute_result"
    }
   ],
   "source": [
    "base_mod.genes.get_by_id(L9_impGrwth[3])"
   ]
  },
  {
   "cell_type": "code",
   "execution_count": 247,
   "id": "592df7bd",
   "metadata": {},
   "outputs": [
    {
     "data": {
      "text/html": [
       "\n",
       "        <table>\n",
       "            <tr>\n",
       "                <td><strong>Gene identifier</strong></td><td>Rv2194</td>\n",
       "            </tr><tr>\n",
       "                <td><strong>Name</strong></td><td></td>\n",
       "            </tr><tr>\n",
       "                <td><strong>Memory address</strong></td>\n",
       "                <td>0x01fadc8f4190</td>\n",
       "            </tr><tr>\n",
       "                <td><strong>Functional</strong></td><td>True</td>\n",
       "            </tr><tr>\n",
       "                <td><strong>In 2 reaction(s)</strong></td><td>\n",
       "                    HEMEAS, CYO1a</td>\n",
       "            </tr>\n",
       "        </table>"
      ],
      "text/plain": [
       "<Gene Rv2194 at 0x1fadc8f4190>"
      ]
     },
     "execution_count": 247,
     "metadata": {},
     "output_type": "execute_result"
    }
   ],
   "source": [
    "base_mod.genes.get_by_id(L9_impGrwth[4])"
   ]
  },
  {
   "cell_type": "code",
   "execution_count": 248,
   "id": "31991069",
   "metadata": {},
   "outputs": [
    {
     "data": {
      "text/html": [
       "\n",
       "        <table>\n",
       "            <tr>\n",
       "                <td><strong>Gene identifier</strong></td><td>Rv2124c</td>\n",
       "            </tr><tr>\n",
       "                <td><strong>Name</strong></td><td></td>\n",
       "            </tr><tr>\n",
       "                <td><strong>Memory address</strong></td>\n",
       "                <td>0x01fadc8f4610</td>\n",
       "            </tr><tr>\n",
       "                <td><strong>Functional</strong></td><td>True</td>\n",
       "            </tr><tr>\n",
       "                <td><strong>In 1 reaction(s)</strong></td><td>\n",
       "                    METS</td>\n",
       "            </tr>\n",
       "        </table>"
      ],
      "text/plain": [
       "<Gene Rv2124c at 0x1fadc8f4610>"
      ]
     },
     "execution_count": 248,
     "metadata": {},
     "output_type": "execute_result"
    }
   ],
   "source": [
    "base_mod.genes.get_by_id(L9_impGrwth[5])"
   ]
  },
  {
   "cell_type": "code",
   "execution_count": 249,
   "id": "ba53c59a",
   "metadata": {},
   "outputs": [
    {
     "data": {
      "text/html": [
       "\n",
       "        <table>\n",
       "            <tr>\n",
       "                <td><strong>Gene identifier</strong></td><td>Rv1484</td>\n",
       "            </tr><tr>\n",
       "                <td><strong>Name</strong></td><td></td>\n",
       "            </tr><tr>\n",
       "                <td><strong>Memory address</strong></td>\n",
       "                <td>0x01fadc9005b0</td>\n",
       "            </tr><tr>\n",
       "                <td><strong>Functional</strong></td><td>True</td>\n",
       "            </tr><tr>\n",
       "                <td><strong>In 11 reaction(s)</strong></td><td>\n",
       "                    FAS161, FAS160, FAS120, FAS260, FAS100, FAS200, FAS80_L, FAS180, FAS140, FAS240_L, FAS181</td>\n",
       "            </tr>\n",
       "        </table>"
      ],
      "text/plain": [
       "<Gene Rv1484 at 0x1fadc9005b0>"
      ]
     },
     "execution_count": 249,
     "metadata": {},
     "output_type": "execute_result"
    }
   ],
   "source": [
    "base_mod.genes.get_by_id(L9_impGrwth[6])"
   ]
  },
  {
   "cell_type": "code",
   "execution_count": 250,
   "id": "eb9d9148",
   "metadata": {},
   "outputs": [
    {
     "data": {
      "text/html": [
       "\n",
       "        <table>\n",
       "            <tr>\n",
       "                <td><strong>Gene identifier</strong></td><td>Rv2524c</td>\n",
       "            </tr><tr>\n",
       "                <td><strong>Name</strong></td><td></td>\n",
       "            </tr><tr>\n",
       "                <td><strong>Memory address</strong></td>\n",
       "                <td>0x01fadc900610</td>\n",
       "            </tr><tr>\n",
       "                <td><strong>Functional</strong></td><td>True</td>\n",
       "            </tr><tr>\n",
       "                <td><strong>In 11 reaction(s)</strong></td><td>\n",
       "                    FAS161, FAS160, FAS120, FAS260, FAS100, FAS200, FAS80_L, FAS180, FAS140, FAS240_L, FAS181</td>\n",
       "            </tr>\n",
       "        </table>"
      ],
      "text/plain": [
       "<Gene Rv2524c at 0x1fadc900610>"
      ]
     },
     "execution_count": 250,
     "metadata": {},
     "output_type": "execute_result"
    }
   ],
   "source": [
    "base_mod.genes.get_by_id(L9_impGrwth[7])"
   ]
  },
  {
   "cell_type": "code",
   "execution_count": 251,
   "id": "bf9f3a7c",
   "metadata": {},
   "outputs": [
    {
     "data": {
      "text/html": [
       "\n",
       "        <table>\n",
       "            <tr>\n",
       "                <td><strong>Gene identifier</strong></td><td>Rv1605</td>\n",
       "            </tr><tr>\n",
       "                <td><strong>Name</strong></td><td></td>\n",
       "            </tr><tr>\n",
       "                <td><strong>Memory address</strong></td>\n",
       "                <td>0x01fadbb46130</td>\n",
       "            </tr><tr>\n",
       "                <td><strong>Functional</strong></td><td>True</td>\n",
       "            </tr><tr>\n",
       "                <td><strong>In 1 reaction(s)</strong></td><td>\n",
       "                    IG3PS</td>\n",
       "            </tr>\n",
       "        </table>"
      ],
      "text/plain": [
       "<Gene Rv1605 at 0x1fadbb46130>"
      ]
     },
     "execution_count": 251,
     "metadata": {},
     "output_type": "execute_result"
    }
   ],
   "source": [
    "base_mod.genes.get_by_id(L9_impGrwth[8])"
   ]
  },
  {
   "cell_type": "code",
   "execution_count": 252,
   "id": "a5aa721a",
   "metadata": {},
   "outputs": [
    {
     "data": {
      "text/html": [
       "\n",
       "        <table>\n",
       "            <tr>\n",
       "                <td><strong>Gene identifier</strong></td><td>Rv0644c</td>\n",
       "            </tr><tr>\n",
       "                <td><strong>Name</strong></td><td></td>\n",
       "            </tr><tr>\n",
       "                <td><strong>Memory address</strong></td>\n",
       "                <td>0x01fadbb46be0</td>\n",
       "            </tr><tr>\n",
       "                <td><strong>Functional</strong></td><td>True</td>\n",
       "            </tr><tr>\n",
       "                <td><strong>In 7 reaction(s)</strong></td><td>\n",
       "                    MYC1M1, MYC2CYC2, MYC1CYC5, MYC2CYC1, MYC2CYC3, MYC1M2, MYC1CYC4</td>\n",
       "            </tr>\n",
       "        </table>"
      ],
      "text/plain": [
       "<Gene Rv0644c at 0x1fadbb46be0>"
      ]
     },
     "execution_count": 252,
     "metadata": {},
     "output_type": "execute_result"
    }
   ],
   "source": [
    "base_mod.genes.get_by_id(L9_impGrwth[9])"
   ]
  },
  {
   "cell_type": "code",
   "execution_count": 253,
   "id": "7b09438b",
   "metadata": {},
   "outputs": [
    {
     "data": {
      "text/html": [
       "\n",
       "        <table>\n",
       "            <tr>\n",
       "                <td><strong>Gene identifier</strong></td><td>Rv3410c</td>\n",
       "            </tr><tr>\n",
       "                <td><strong>Name</strong></td><td></td>\n",
       "            </tr><tr>\n",
       "                <td><strong>Memory address</strong></td>\n",
       "                <td>0x01fadc915b20</td>\n",
       "            </tr><tr>\n",
       "                <td><strong>Functional</strong></td><td>True</td>\n",
       "            </tr><tr>\n",
       "                <td><strong>In 1 reaction(s)</strong></td><td>\n",
       "                    IMPD</td>\n",
       "            </tr>\n",
       "        </table>"
      ],
      "text/plain": [
       "<Gene Rv3410c at 0x1fadc915b20>"
      ]
     },
     "execution_count": 253,
     "metadata": {},
     "output_type": "execute_result"
    }
   ],
   "source": [
    "base_mod.genes.get_by_id(L9_impGrwth[10])"
   ]
  },
  {
   "cell_type": "code",
   "execution_count": 254,
   "id": "88cd9fe4",
   "metadata": {},
   "outputs": [
    {
     "data": {
      "text/html": [
       "\n",
       "        <table>\n",
       "            <tr>\n",
       "                <td><strong>Gene identifier</strong></td><td>Rv3913</td>\n",
       "            </tr><tr>\n",
       "                <td><strong>Name</strong></td><td></td>\n",
       "            </tr><tr>\n",
       "                <td><strong>Memory address</strong></td>\n",
       "                <td>0x01fadc915f70</td>\n",
       "            </tr><tr>\n",
       "                <td><strong>Functional</strong></td><td>True</td>\n",
       "            </tr><tr>\n",
       "                <td><strong>In 1 reaction(s)</strong></td><td>\n",
       "                    TRDR</td>\n",
       "            </tr>\n",
       "        </table>"
      ],
      "text/plain": [
       "<Gene Rv3913 at 0x1fadc915f70>"
      ]
     },
     "execution_count": 254,
     "metadata": {},
     "output_type": "execute_result"
    }
   ],
   "source": [
    "base_mod.genes.get_by_id(L9_impGrwth[11])"
   ]
  },
  {
   "cell_type": "code",
   "execution_count": 255,
   "id": "287a60a3",
   "metadata": {},
   "outputs": [
    {
     "data": {
      "text/html": [
       "\n",
       "        <table>\n",
       "            <tr>\n",
       "                <td><strong>Gene identifier</strong></td><td>Rv3031</td>\n",
       "            </tr><tr>\n",
       "                <td><strong>Name</strong></td><td></td>\n",
       "            </tr><tr>\n",
       "                <td><strong>Memory address</strong></td>\n",
       "                <td>0x01fadc921a30</td>\n",
       "            </tr><tr>\n",
       "                <td><strong>Functional</strong></td><td>True</td>\n",
       "            </tr><tr>\n",
       "                <td><strong>In 1 reaction(s)</strong></td><td>\n",
       "                    GLGB</td>\n",
       "            </tr>\n",
       "        </table>"
      ],
      "text/plain": [
       "<Gene Rv3031 at 0x1fadc921a30>"
      ]
     },
     "execution_count": 255,
     "metadata": {},
     "output_type": "execute_result"
    }
   ],
   "source": [
    "base_mod.genes.get_by_id(L9_impGrwth[12])"
   ]
  },
  {
   "cell_type": "code",
   "execution_count": 256,
   "id": "9be2c541",
   "metadata": {},
   "outputs": [
    {
     "data": {
      "text/html": [
       "\n",
       "        <table>\n",
       "            <tr>\n",
       "                <td><strong>Gene identifier</strong></td><td>Rv2400c</td>\n",
       "            </tr><tr>\n",
       "                <td><strong>Name</strong></td><td></td>\n",
       "            </tr><tr>\n",
       "                <td><strong>Memory address</strong></td>\n",
       "                <td>0x01fadc92db80</td>\n",
       "            </tr><tr>\n",
       "                <td><strong>Functional</strong></td><td>True</td>\n",
       "            </tr><tr>\n",
       "                <td><strong>In 2 reaction(s)</strong></td><td>\n",
       "                    SULabc, TSULabc</td>\n",
       "            </tr>\n",
       "        </table>"
      ],
      "text/plain": [
       "<Gene Rv2400c at 0x1fadc92db80>"
      ]
     },
     "execution_count": 256,
     "metadata": {},
     "output_type": "execute_result"
    }
   ],
   "source": [
    "base_mod.genes.get_by_id(L9_impGrwth[13])"
   ]
  },
  {
   "cell_type": "code",
   "execution_count": 257,
   "id": "c300bb5e",
   "metadata": {},
   "outputs": [
    {
     "data": {
      "text/html": [
       "\n",
       "        <table>\n",
       "            <tr>\n",
       "                <td><strong>Gene identifier</strong></td><td>Rv2537c</td>\n",
       "            </tr><tr>\n",
       "                <td><strong>Name</strong></td><td></td>\n",
       "            </tr><tr>\n",
       "                <td><strong>Memory address</strong></td>\n",
       "                <td>0x01fadc9371c0</td>\n",
       "            </tr><tr>\n",
       "                <td><strong>Functional</strong></td><td>True</td>\n",
       "            </tr><tr>\n",
       "                <td><strong>In 1 reaction(s)</strong></td><td>\n",
       "                    DHQTi</td>\n",
       "            </tr>\n",
       "        </table>"
      ],
      "text/plain": [
       "<Gene Rv2537c at 0x1fadc9371c0>"
      ]
     },
     "execution_count": 257,
     "metadata": {},
     "output_type": "execute_result"
    }
   ],
   "source": [
    "base_mod.genes.get_by_id(L9_impGrwth[14])"
   ]
  },
  {
   "cell_type": "code",
   "execution_count": 258,
   "id": "a3d0ec6f",
   "metadata": {},
   "outputs": [],
   "source": [
    "L9_toDel_cur = L9_toDelMuts.loc[L9_toDelMuts['BM'] != 0]['gene'].tolist()"
   ]
  },
  {
   "cell_type": "code",
   "execution_count": 259,
   "id": "9eab00e5",
   "metadata": {},
   "outputs": [],
   "source": [
    "L9_cur = cobra.io.load_json_model(join(mod_dir, \"iEK1011_2.0.json\"))"
   ]
  },
  {
   "cell_type": "code",
   "execution_count": 260,
   "id": "1f3e163f",
   "metadata": {},
   "outputs": [],
   "source": [
    "remove_genes(L9_cur, L9_toDel_cur, remove_reactions=True)"
   ]
  },
  {
   "cell_type": "code",
   "execution_count": 261,
   "id": "9a5891b0",
   "metadata": {},
   "outputs": [],
   "source": [
    "L9_cur.medium = mi7H9_OADC_Med"
   ]
  },
  {
   "cell_type": "code",
   "execution_count": 262,
   "id": "fe0cc17c",
   "metadata": {},
   "outputs": [],
   "source": [
    "L9_cur.id=str('L9')"
   ]
  },
  {
   "cell_type": "code",
   "execution_count": 263,
   "id": "2c8bd50e",
   "metadata": {},
   "outputs": [
    {
     "data": {
      "text/plain": [
       "0.3683291764340538"
      ]
     },
     "execution_count": 263,
     "metadata": {},
     "output_type": "execute_result"
    }
   ],
   "source": [
    "L9_cur.slim_optimize()"
   ]
  },
  {
   "cell_type": "code",
   "execution_count": 264,
   "id": "938a9ae0",
   "metadata": {},
   "outputs": [],
   "source": [
    "cobra.io.json.save_json_model(L9_cur, str(delsAllsnps_mod_dir_cur+'L9'+'_cur.json'), pretty=False)"
   ]
  },
  {
   "cell_type": "markdown",
   "id": "98904d5c",
   "metadata": {},
   "source": [
    "### A1"
   ]
  },
  {
   "cell_type": "code",
   "execution_count": 265,
   "id": "2977abe8",
   "metadata": {},
   "outputs": [],
   "source": [
    "A1 = cobra.io.load_json_model(join(delsAllsnps_mod_dir, \"A1_delsAllsnps.json\"))"
   ]
  },
  {
   "cell_type": "code",
   "execution_count": 266,
   "id": "b20e784a",
   "metadata": {},
   "outputs": [],
   "source": [
    "A1_dels = list(delMat.loc[delMat['A1'] == 0.0, 'A1'].index)"
   ]
  },
  {
   "cell_type": "code",
   "execution_count": 267,
   "id": "d44afadc",
   "metadata": {},
   "outputs": [
    {
     "name": "stdout",
     "output_type": "stream",
     "text": [
      "Growth with Rv2222c deleted: 0.3683291764340529\n",
      "Growth with Rv2471 deleted: 0.3683291764340529\n",
      "Growth with Rv0222 deleted: 0.3683291764340529\n",
      "Growth with Rv1933c deleted: 0.3683291764340529\n",
      "Growth with Rv0896 deleted: 0.3683291764340529\n",
      "Growth with Rv0512 deleted: 0.0\n",
      "Growth with Rv0206c deleted: 0.3683291764340529\n",
      "Growth with Rv1451 deleted: 0.0\n",
      "Growth with Rv2194 deleted: 0.0\n",
      "Growth with Rv0091 deleted: 0.36832917643405655\n",
      "Growth with Rv3617 deleted: 0.3683291764340529\n",
      "Growth with Rv0221 deleted: 0.3683291764340529\n",
      "Growth with Rv3801c deleted: 0.0\n",
      "Growth with Rv2349c deleted: 0.3683291764340529\n",
      "Growth with Rv2350c deleted: 0.3683291764340529\n",
      "Growth with Rv2351c deleted: 0.3683291764340529\n",
      "Growth with Rv1023 deleted: 0.3577076990179915\n",
      "Growth with Rv0070c deleted: 0.3683291764340529\n",
      "Growth with Rv1605 deleted: 0.0\n",
      "Growth with Rv0644c deleted: 0.0\n",
      "Growth with Rv0223c deleted: 0.3683291764340529\n",
      "Growth with Rv0127 deleted: 0.36832917643405333\n",
      "Growth with Rv2074 deleted: 0.3683291764340529\n",
      "Growth with Rv3382c deleted: 0.3683291764340498\n",
      "Growth with Rv0803 deleted: 0.0\n",
      "Growth with Rv3314c deleted: 0.3683291764340513\n",
      "Growth with Rv3913 deleted: 0.0\n",
      "Growth with Rv0021c deleted: 0.3683291764340529\n",
      "Growth with Rv3758c deleted: 0.3683291764340529\n",
      "Growth with Rv2833c deleted: 0.3683291764340544\n",
      "Growth with Rv3737 deleted: 0.3683291764340522\n",
      "Growth with Rv2747 deleted: 0.3683291764340529\n"
     ]
    }
   ],
   "source": [
    "\"\"\"Check what are the genes that are causing the flux to be zero.\"\"\"\n",
    "A1_toDelMuts = testDelsFun(A1_dels)\n",
    "A1_impGrwth = A1_toDelMuts.loc[A1_toDelMuts['BM'] == 0]['gene'].tolist()"
   ]
  },
  {
   "cell_type": "markdown",
   "id": "aa68c98a",
   "metadata": {},
   "source": [
    "in 7H10 Rv1023 is required for growth, however in 7H9 OADC not"
   ]
  },
  {
   "cell_type": "code",
   "execution_count": 268,
   "id": "c7659c98",
   "metadata": {},
   "outputs": [
    {
     "data": {
      "text/html": [
       "\n",
       "        <table>\n",
       "            <tr>\n",
       "                <td><strong>Gene identifier</strong></td><td>Rv0512</td>\n",
       "            </tr><tr>\n",
       "                <td><strong>Name</strong></td><td></td>\n",
       "            </tr><tr>\n",
       "                <td><strong>Memory address</strong></td>\n",
       "                <td>0x01fadc8e98e0</td>\n",
       "            </tr><tr>\n",
       "                <td><strong>Functional</strong></td><td>True</td>\n",
       "            </tr><tr>\n",
       "                <td><strong>In 1 reaction(s)</strong></td><td>\n",
       "                    PPBNGS</td>\n",
       "            </tr>\n",
       "        </table>"
      ],
      "text/plain": [
       "<Gene Rv0512 at 0x1fadc8e98e0>"
      ]
     },
     "execution_count": 268,
     "metadata": {},
     "output_type": "execute_result"
    }
   ],
   "source": [
    "base_mod.genes.get_by_id(A1_impGrwth[0])"
   ]
  },
  {
   "cell_type": "code",
   "execution_count": 269,
   "id": "49e0f65d",
   "metadata": {},
   "outputs": [
    {
     "data": {
      "text/html": [
       "\n",
       "        <table>\n",
       "            <tr>\n",
       "                <td><strong>Gene identifier</strong></td><td>Rv1451</td>\n",
       "            </tr><tr>\n",
       "                <td><strong>Name</strong></td><td></td>\n",
       "            </tr><tr>\n",
       "                <td><strong>Memory address</strong></td>\n",
       "                <td>0x01fadc8f40a0</td>\n",
       "            </tr><tr>\n",
       "                <td><strong>Functional</strong></td><td>True</td>\n",
       "            </tr><tr>\n",
       "                <td><strong>In 2 reaction(s)</strong></td><td>\n",
       "                    CYO1b, HEMEOS</td>\n",
       "            </tr>\n",
       "        </table>"
      ],
      "text/plain": [
       "<Gene Rv1451 at 0x1fadc8f40a0>"
      ]
     },
     "execution_count": 269,
     "metadata": {},
     "output_type": "execute_result"
    }
   ],
   "source": [
    "base_mod.genes.get_by_id(A1_impGrwth[1])"
   ]
  },
  {
   "cell_type": "code",
   "execution_count": 270,
   "id": "bb783c6b",
   "metadata": {},
   "outputs": [
    {
     "data": {
      "text/html": [
       "\n",
       "        <table>\n",
       "            <tr>\n",
       "                <td><strong>Gene identifier</strong></td><td>Rv2194</td>\n",
       "            </tr><tr>\n",
       "                <td><strong>Name</strong></td><td></td>\n",
       "            </tr><tr>\n",
       "                <td><strong>Memory address</strong></td>\n",
       "                <td>0x01fadc8f4190</td>\n",
       "            </tr><tr>\n",
       "                <td><strong>Functional</strong></td><td>True</td>\n",
       "            </tr><tr>\n",
       "                <td><strong>In 2 reaction(s)</strong></td><td>\n",
       "                    HEMEAS, CYO1a</td>\n",
       "            </tr>\n",
       "        </table>"
      ],
      "text/plain": [
       "<Gene Rv2194 at 0x1fadc8f4190>"
      ]
     },
     "execution_count": 270,
     "metadata": {},
     "output_type": "execute_result"
    }
   ],
   "source": [
    "base_mod.genes.get_by_id(A1_impGrwth[2])"
   ]
  },
  {
   "cell_type": "code",
   "execution_count": 271,
   "id": "059fef7d",
   "metadata": {},
   "outputs": [
    {
     "data": {
      "text/html": [
       "\n",
       "        <table>\n",
       "            <tr>\n",
       "                <td><strong>Gene identifier</strong></td><td>Rv3801c</td>\n",
       "            </tr><tr>\n",
       "                <td><strong>Name</strong></td><td></td>\n",
       "            </tr><tr>\n",
       "                <td><strong>Memory address</strong></td>\n",
       "                <td>0x01fadc900310</td>\n",
       "            </tr><tr>\n",
       "                <td><strong>Functional</strong></td><td>True</td>\n",
       "            </tr><tr>\n",
       "                <td><strong>In 9 reaction(s)</strong></td><td>\n",
       "                    FAMPL4, FAMPL5, FAMPL3, FACOAL140_1, FAMPL1, FAMPL2, FACOAL200, FACOAL161, FACOAL180</td>\n",
       "            </tr>\n",
       "        </table>"
      ],
      "text/plain": [
       "<Gene Rv3801c at 0x1fadc900310>"
      ]
     },
     "execution_count": 271,
     "metadata": {},
     "output_type": "execute_result"
    }
   ],
   "source": [
    "base_mod.genes.get_by_id(A1_impGrwth[3])"
   ]
  },
  {
   "cell_type": "code",
   "execution_count": 272,
   "id": "82cd4571",
   "metadata": {},
   "outputs": [
    {
     "data": {
      "text/html": [
       "\n",
       "        <table>\n",
       "            <tr>\n",
       "                <td><strong>Gene identifier</strong></td><td>Rv1605</td>\n",
       "            </tr><tr>\n",
       "                <td><strong>Name</strong></td><td></td>\n",
       "            </tr><tr>\n",
       "                <td><strong>Memory address</strong></td>\n",
       "                <td>0x01fadbb46130</td>\n",
       "            </tr><tr>\n",
       "                <td><strong>Functional</strong></td><td>True</td>\n",
       "            </tr><tr>\n",
       "                <td><strong>In 1 reaction(s)</strong></td><td>\n",
       "                    IG3PS</td>\n",
       "            </tr>\n",
       "        </table>"
      ],
      "text/plain": [
       "<Gene Rv1605 at 0x1fadbb46130>"
      ]
     },
     "execution_count": 272,
     "metadata": {},
     "output_type": "execute_result"
    }
   ],
   "source": [
    "base_mod.genes.get_by_id(A1_impGrwth[4])"
   ]
  },
  {
   "cell_type": "code",
   "execution_count": 273,
   "id": "794304b7",
   "metadata": {},
   "outputs": [
    {
     "data": {
      "text/html": [
       "\n",
       "        <table>\n",
       "            <tr>\n",
       "                <td><strong>Gene identifier</strong></td><td>Rv0644c</td>\n",
       "            </tr><tr>\n",
       "                <td><strong>Name</strong></td><td></td>\n",
       "            </tr><tr>\n",
       "                <td><strong>Memory address</strong></td>\n",
       "                <td>0x01fadbb46be0</td>\n",
       "            </tr><tr>\n",
       "                <td><strong>Functional</strong></td><td>True</td>\n",
       "            </tr><tr>\n",
       "                <td><strong>In 7 reaction(s)</strong></td><td>\n",
       "                    MYC1M1, MYC2CYC2, MYC1CYC5, MYC2CYC1, MYC2CYC3, MYC1M2, MYC1CYC4</td>\n",
       "            </tr>\n",
       "        </table>"
      ],
      "text/plain": [
       "<Gene Rv0644c at 0x1fadbb46be0>"
      ]
     },
     "execution_count": 273,
     "metadata": {},
     "output_type": "execute_result"
    }
   ],
   "source": [
    "base_mod.genes.get_by_id(A1_impGrwth[5])"
   ]
  },
  {
   "cell_type": "code",
   "execution_count": 274,
   "id": "94235db5",
   "metadata": {},
   "outputs": [
    {
     "data": {
      "text/html": [
       "\n",
       "        <table>\n",
       "            <tr>\n",
       "                <td><strong>Gene identifier</strong></td><td>Rv0803</td>\n",
       "            </tr><tr>\n",
       "                <td><strong>Name</strong></td><td></td>\n",
       "            </tr><tr>\n",
       "                <td><strong>Memory address</strong></td>\n",
       "                <td>0x01fadc915d90</td>\n",
       "            </tr><tr>\n",
       "                <td><strong>Functional</strong></td><td>True</td>\n",
       "            </tr><tr>\n",
       "                <td><strong>In 1 reaction(s)</strong></td><td>\n",
       "                    PRFGS</td>\n",
       "            </tr>\n",
       "        </table>"
      ],
      "text/plain": [
       "<Gene Rv0803 at 0x1fadc915d90>"
      ]
     },
     "execution_count": 274,
     "metadata": {},
     "output_type": "execute_result"
    }
   ],
   "source": [
    "base_mod.genes.get_by_id(A1_impGrwth[6])"
   ]
  },
  {
   "cell_type": "code",
   "execution_count": 275,
   "id": "e4271b29",
   "metadata": {},
   "outputs": [
    {
     "data": {
      "text/html": [
       "\n",
       "        <table>\n",
       "            <tr>\n",
       "                <td><strong>Gene identifier</strong></td><td>Rv3913</td>\n",
       "            </tr><tr>\n",
       "                <td><strong>Name</strong></td><td></td>\n",
       "            </tr><tr>\n",
       "                <td><strong>Memory address</strong></td>\n",
       "                <td>0x01fadc915f70</td>\n",
       "            </tr><tr>\n",
       "                <td><strong>Functional</strong></td><td>True</td>\n",
       "            </tr><tr>\n",
       "                <td><strong>In 1 reaction(s)</strong></td><td>\n",
       "                    TRDR</td>\n",
       "            </tr>\n",
       "        </table>"
      ],
      "text/plain": [
       "<Gene Rv3913 at 0x1fadc915f70>"
      ]
     },
     "execution_count": 275,
     "metadata": {},
     "output_type": "execute_result"
    }
   ],
   "source": [
    "base_mod.genes.get_by_id(A1_impGrwth[7])"
   ]
  },
  {
   "cell_type": "code",
   "execution_count": 277,
   "id": "554bfb7f",
   "metadata": {},
   "outputs": [],
   "source": [
    "A1_toDel_cur = A1_toDelMuts.loc[A1_toDelMuts['BM'] != 0]['gene'].tolist()"
   ]
  },
  {
   "cell_type": "code",
   "execution_count": 278,
   "id": "77bc80b4",
   "metadata": {},
   "outputs": [],
   "source": [
    "A1_cur = cobra.io.load_json_model(join(mod_dir, \"iEK1011_2.0.json\"))"
   ]
  },
  {
   "cell_type": "code",
   "execution_count": 279,
   "id": "ba7dda20",
   "metadata": {},
   "outputs": [],
   "source": [
    "remove_genes(A1_cur, A1_toDel_cur, remove_reactions=True)"
   ]
  },
  {
   "cell_type": "code",
   "execution_count": 280,
   "id": "80f50caf",
   "metadata": {},
   "outputs": [],
   "source": [
    "A1_cur.medium = mi7H9_OADC_Med"
   ]
  },
  {
   "cell_type": "code",
   "execution_count": 281,
   "id": "13320c35",
   "metadata": {},
   "outputs": [],
   "source": [
    "A1_cur.id=str('A1')"
   ]
  },
  {
   "cell_type": "code",
   "execution_count": 282,
   "id": "b1e27bb7",
   "metadata": {},
   "outputs": [
    {
     "data": {
      "text/plain": [
       "0.35770769901798255"
      ]
     },
     "execution_count": 282,
     "metadata": {},
     "output_type": "execute_result"
    }
   ],
   "source": [
    "A1_cur.slim_optimize()"
   ]
  },
  {
   "cell_type": "code",
   "execution_count": 283,
   "id": "2b1e6ab9",
   "metadata": {},
   "outputs": [],
   "source": [
    "cobra.io.json.save_json_model(A1_cur, str(delsAllsnps_mod_dir_cur+'A1'+'_cur.json'), pretty=False)"
   ]
  },
  {
   "cell_type": "markdown",
   "id": "9080e444",
   "metadata": {},
   "source": [
    "### A2"
   ]
  },
  {
   "cell_type": "code",
   "execution_count": 284,
   "id": "2bbbc1e1",
   "metadata": {},
   "outputs": [],
   "source": [
    "A2 = cobra.io.load_json_model(join(delsAllsnps_mod_dir, \"A2_delsAllsnps.json\"))"
   ]
  },
  {
   "cell_type": "code",
   "execution_count": 285,
   "id": "00cca3e4",
   "metadata": {},
   "outputs": [],
   "source": [
    "A2_dels = list(delMat.loc[delMat['A2'] == 0.0, 'A2'].index)"
   ]
  },
  {
   "cell_type": "code",
   "execution_count": 286,
   "id": "5b30166c",
   "metadata": {},
   "outputs": [
    {
     "name": "stdout",
     "output_type": "stream",
     "text": [
      "Growth with Rv0222 deleted: 0.3683291764340529\n",
      "Growth with Rv3516 deleted: 0.3683291764340529\n",
      "Growth with Rv1161 deleted: 0.3683291764340529\n",
      "Growth with Rv0206c deleted: 0.3683291764340529\n",
      "Growth with Rv1451 deleted: 0.0\n",
      "Growth with Rv3617 deleted: 0.3683291764340529\n",
      "Growth with Rv3740c deleted: 0.3683291764340529\n",
      "Growth with Rv0221 deleted: 0.3683291764340529\n",
      "Growth with Rv1521 deleted: 0.3683291764340529\n",
      "Growth with Rv3561 deleted: 0.3683291764340529\n",
      "Growth with Rv2351c deleted: 0.3683291764340529\n",
      "Growth with Rv0070c deleted: 0.3683291764340529\n",
      "Growth with Rv0505c deleted: 0.0\n",
      "Growth with Rv1617 deleted: 0.36832917643405105\n",
      "Growth with Rv3772 deleted: 0.3683291764340529\n",
      "Growth with Rv1605 deleted: 0.0\n",
      "Growth with Rv0644c deleted: 0.0\n",
      "Growth with Rv0223c deleted: 0.3683291764340529\n",
      "Growth with Rv1309 deleted: 0.1302016729300472\n",
      "Growth with Rv2074 deleted: 0.3683291764340529\n",
      "Growth with Rv3314c deleted: 0.3683291764340513\n",
      "Growth with Rv3913 deleted: 0.0\n",
      "Growth with Rv1908c deleted: 0.3683291764340555\n",
      "Growth with Rv0021c deleted: 0.3683291764340529\n",
      "Growth with Rv1563c deleted: 0.3683291764340531\n",
      "Growth with Rv3498c deleted: 0.3683291764340541\n"
     ]
    }
   ],
   "source": [
    "\"\"\"Check what are the genes that are causing the flux to be zero.\"\"\"\n",
    "A2_toDelMuts = testDelsFun(A2_dels)\n",
    "A2_impGrwth = A2_toDelMuts.loc[A2_toDelMuts['BM'] == 0]['gene'].tolist()"
   ]
  },
  {
   "cell_type": "code",
   "execution_count": 287,
   "id": "c0c7050e",
   "metadata": {},
   "outputs": [
    {
     "data": {
      "text/html": [
       "\n",
       "        <table>\n",
       "            <tr>\n",
       "                <td><strong>Gene identifier</strong></td><td>Rv1451</td>\n",
       "            </tr><tr>\n",
       "                <td><strong>Name</strong></td><td></td>\n",
       "            </tr><tr>\n",
       "                <td><strong>Memory address</strong></td>\n",
       "                <td>0x01fadc8f40a0</td>\n",
       "            </tr><tr>\n",
       "                <td><strong>Functional</strong></td><td>True</td>\n",
       "            </tr><tr>\n",
       "                <td><strong>In 2 reaction(s)</strong></td><td>\n",
       "                    CYO1b, HEMEOS</td>\n",
       "            </tr>\n",
       "        </table>"
      ],
      "text/plain": [
       "<Gene Rv1451 at 0x1fadc8f40a0>"
      ]
     },
     "execution_count": 287,
     "metadata": {},
     "output_type": "execute_result"
    }
   ],
   "source": [
    "base_mod.genes.get_by_id(A2_impGrwth[0])"
   ]
  },
  {
   "cell_type": "code",
   "execution_count": 288,
   "id": "0a3c0735",
   "metadata": {},
   "outputs": [
    {
     "data": {
      "text/html": [
       "\n",
       "        <table>\n",
       "            <tr>\n",
       "                <td><strong>Gene identifier</strong></td><td>Rv0505c</td>\n",
       "            </tr><tr>\n",
       "                <td><strong>Name</strong></td><td></td>\n",
       "            </tr><tr>\n",
       "                <td><strong>Memory address</strong></td>\n",
       "                <td>0x01fadc908c40</td>\n",
       "            </tr><tr>\n",
       "                <td><strong>Functional</strong></td><td>True</td>\n",
       "            </tr><tr>\n",
       "                <td><strong>In 1 reaction(s)</strong></td><td>\n",
       "                    PSP_L</td>\n",
       "            </tr>\n",
       "        </table>"
      ],
      "text/plain": [
       "<Gene Rv0505c at 0x1fadc908c40>"
      ]
     },
     "execution_count": 288,
     "metadata": {},
     "output_type": "execute_result"
    }
   ],
   "source": [
    "base_mod.genes.get_by_id(A2_impGrwth[1])"
   ]
  },
  {
   "cell_type": "code",
   "execution_count": 289,
   "id": "e1ce9363",
   "metadata": {},
   "outputs": [
    {
     "data": {
      "text/html": [
       "\n",
       "        <table>\n",
       "            <tr>\n",
       "                <td><strong>Gene identifier</strong></td><td>Rv1605</td>\n",
       "            </tr><tr>\n",
       "                <td><strong>Name</strong></td><td></td>\n",
       "            </tr><tr>\n",
       "                <td><strong>Memory address</strong></td>\n",
       "                <td>0x01fadbb46130</td>\n",
       "            </tr><tr>\n",
       "                <td><strong>Functional</strong></td><td>True</td>\n",
       "            </tr><tr>\n",
       "                <td><strong>In 1 reaction(s)</strong></td><td>\n",
       "                    IG3PS</td>\n",
       "            </tr>\n",
       "        </table>"
      ],
      "text/plain": [
       "<Gene Rv1605 at 0x1fadbb46130>"
      ]
     },
     "execution_count": 289,
     "metadata": {},
     "output_type": "execute_result"
    }
   ],
   "source": [
    "base_mod.genes.get_by_id(A2_impGrwth[2])"
   ]
  },
  {
   "cell_type": "code",
   "execution_count": 290,
   "id": "9b0c3df3",
   "metadata": {},
   "outputs": [
    {
     "data": {
      "text/html": [
       "\n",
       "        <table>\n",
       "            <tr>\n",
       "                <td><strong>Gene identifier</strong></td><td>Rv0644c</td>\n",
       "            </tr><tr>\n",
       "                <td><strong>Name</strong></td><td></td>\n",
       "            </tr><tr>\n",
       "                <td><strong>Memory address</strong></td>\n",
       "                <td>0x01fadbb46be0</td>\n",
       "            </tr><tr>\n",
       "                <td><strong>Functional</strong></td><td>True</td>\n",
       "            </tr><tr>\n",
       "                <td><strong>In 7 reaction(s)</strong></td><td>\n",
       "                    MYC1M1, MYC2CYC2, MYC1CYC5, MYC2CYC1, MYC2CYC3, MYC1M2, MYC1CYC4</td>\n",
       "            </tr>\n",
       "        </table>"
      ],
      "text/plain": [
       "<Gene Rv0644c at 0x1fadbb46be0>"
      ]
     },
     "execution_count": 290,
     "metadata": {},
     "output_type": "execute_result"
    }
   ],
   "source": [
    "base_mod.genes.get_by_id(A2_impGrwth[3])"
   ]
  },
  {
   "cell_type": "code",
   "execution_count": 291,
   "id": "6427dc0e",
   "metadata": {},
   "outputs": [
    {
     "data": {
      "text/html": [
       "\n",
       "        <table>\n",
       "            <tr>\n",
       "                <td><strong>Gene identifier</strong></td><td>Rv3913</td>\n",
       "            </tr><tr>\n",
       "                <td><strong>Name</strong></td><td></td>\n",
       "            </tr><tr>\n",
       "                <td><strong>Memory address</strong></td>\n",
       "                <td>0x01fadc915f70</td>\n",
       "            </tr><tr>\n",
       "                <td><strong>Functional</strong></td><td>True</td>\n",
       "            </tr><tr>\n",
       "                <td><strong>In 1 reaction(s)</strong></td><td>\n",
       "                    TRDR</td>\n",
       "            </tr>\n",
       "        </table>"
      ],
      "text/plain": [
       "<Gene Rv3913 at 0x1fadc915f70>"
      ]
     },
     "execution_count": 291,
     "metadata": {},
     "output_type": "execute_result"
    }
   ],
   "source": [
    "base_mod.genes.get_by_id(A2_impGrwth[4])"
   ]
  },
  {
   "cell_type": "code",
   "execution_count": 292,
   "id": "0aff9914",
   "metadata": {},
   "outputs": [],
   "source": [
    "A2_toDel_cur = A2_toDelMuts.loc[A2_toDelMuts['BM'] != 0]['gene'].tolist()"
   ]
  },
  {
   "cell_type": "code",
   "execution_count": 293,
   "id": "36032ab0",
   "metadata": {},
   "outputs": [],
   "source": [
    "A2_cur = cobra.io.load_json_model(join(mod_dir, \"iEK1011_2.0.json\"))"
   ]
  },
  {
   "cell_type": "code",
   "execution_count": 294,
   "id": "3f49ddf5",
   "metadata": {},
   "outputs": [],
   "source": [
    "remove_genes(A2_cur, A2_toDel_cur, remove_reactions=True)"
   ]
  },
  {
   "cell_type": "code",
   "execution_count": 295,
   "id": "818e47b9",
   "metadata": {},
   "outputs": [],
   "source": [
    "A2_cur.medium = mi7H9_OADC_Med"
   ]
  },
  {
   "cell_type": "code",
   "execution_count": 296,
   "id": "42d4a1cd",
   "metadata": {},
   "outputs": [],
   "source": [
    "A2_cur.id=str('A2')"
   ]
  },
  {
   "cell_type": "code",
   "execution_count": 297,
   "id": "99120c52",
   "metadata": {},
   "outputs": [
    {
     "data": {
      "text/plain": [
       "0.13020167293004659"
      ]
     },
     "execution_count": 297,
     "metadata": {},
     "output_type": "execute_result"
    }
   ],
   "source": [
    "A2_cur.slim_optimize()"
   ]
  },
  {
   "cell_type": "markdown",
   "id": "c1516581",
   "metadata": {},
   "source": [
    "#### A2 round 2\n",
    "A2 model doesn't grow despite keeping genes that individually block growth. Should be a combination of more than 2 genes."
   ]
  },
  {
   "cell_type": "markdown",
   "id": "2d34e4ad",
   "metadata": {},
   "source": [
    "Let's try combinations of 2 genes"
   ]
  },
  {
   "cell_type": "code",
   "execution_count": 299,
   "id": "775df956",
   "metadata": {},
   "outputs": [
    {
     "name": "stdout",
     "output_type": "stream",
     "text": [
      "Growth without removing Rv0222 and Rv1309 from the model restores growth: 0.36832917643395485.\n",
      "Growth without removing Rv3516 and Rv1309 from the model restores growth: 0.36832917643395485.\n",
      "Growth without removing Rv1161 and Rv1309 from the model restores growth: 0.36832917643395485.\n",
      "Growth without removing Rv0206c and Rv1309 from the model restores growth: 0.36832917643395485.\n",
      "Growth without removing Rv3617 and Rv1309 from the model restores growth: 0.36832917643395485.\n",
      "Growth without removing Rv3740c and Rv1309 from the model restores growth: 0.36832917643395485.\n",
      "Growth without removing Rv0221 and Rv1309 from the model restores growth: 0.36832917643395485.\n",
      "Growth without removing Rv1521 and Rv1309 from the model restores growth: 0.36832917643395485.\n",
      "Growth without removing Rv3561 and Rv1309 from the model restores growth: 0.36832917643395485.\n",
      "Growth without removing Rv2351c and Rv1309 from the model restores growth: 0.36832917643395485.\n",
      "Growth without removing Rv0070c and Rv1309 from the model restores growth: 0.36832917643395485.\n",
      "Growth without removing Rv1617 and Rv1309 from the model restores growth: 0.36832917643400565.\n",
      "Growth without removing Rv3772 and Rv1309 from the model restores growth: 0.36832917643395485.\n",
      "Growth without removing Rv0223c and Rv1309 from the model restores growth: 0.36832917643395485.\n",
      "Growth without removing Rv1309 and Rv2074 from the model restores growth: 0.36832917643395485.\n",
      "Growth without removing Rv1309 and Rv3314c from the model restores growth: 0.3683291764340694.\n",
      "Growth without removing Rv1309 and Rv1908c from the model restores growth: 0.36832917643395485.\n",
      "Growth without removing Rv1309 and Rv0021c from the model restores growth: 0.36832917643395485.\n",
      "Growth without removing Rv1309 and Rv1563c from the model restores growth: 0.36832917643395485.\n",
      "Growth without removing Rv1309 and Rv3498c from the model restores growth: 0.36832917643405383.\n"
     ]
    }
   ],
   "source": [
    "keeperGenes = []\n",
    "for i in range(0, len(A2_toDel_cur)):\n",
    "    remov1 = A2_toDel_cur[i]\n",
    "    for j in range(i + 1, len(A2_toDel_cur)):\n",
    "        tryDels = cp.copy(A2_toDel_cur)\n",
    "        remov2 = A2_toDel_cur[j]\n",
    "        tryDels.remove(remov1)\n",
    "        tryDels.remove(remov2)\n",
    "        testMod = base_mod.copy()\n",
    "        testMod.medium = mi7H9_OADC_Med\n",
    "        #testMod = cobra.io.load_json_model(join(data_dir, \"iEK1011_2.0.json\"))\n",
    "        remove_genes(testMod, tryDels, remove_reactions=True)\n",
    "        result = testMod.slim_optimize()\n",
    "        if(result > 0.131):\n",
    "            print('Growth without removing %s and %s from the model restores growth: %s.'%(remov1, remov2, str(result)))\n",
    "            if(remov1 != 'Rv1309'):\n",
    "                keeperGenes.append(remov1)\n",
    "            if(remov2 != 'Rv1309'):\n",
    "                keeperGenes.append(remov2)"
   ]
  },
  {
   "cell_type": "code",
   "execution_count": 300,
   "id": "4436105a",
   "metadata": {},
   "outputs": [
    {
     "data": {
      "text/plain": [
       "['Rv0222',\n",
       " 'Rv3516',\n",
       " 'Rv1161',\n",
       " 'Rv0206c',\n",
       " 'Rv3617',\n",
       " 'Rv3740c',\n",
       " 'Rv0221',\n",
       " 'Rv1521',\n",
       " 'Rv3561',\n",
       " 'Rv2351c',\n",
       " 'Rv0070c',\n",
       " 'Rv1617',\n",
       " 'Rv3772',\n",
       " 'Rv0223c',\n",
       " 'Rv2074',\n",
       " 'Rv3314c',\n",
       " 'Rv1908c',\n",
       " 'Rv0021c',\n",
       " 'Rv1563c',\n",
       " 'Rv3498c']"
      ]
     },
     "execution_count": 300,
     "metadata": {},
     "output_type": "execute_result"
    }
   ],
   "source": [
    "keeperGenes"
   ]
  },
  {
   "cell_type": "markdown",
   "id": "4df2979d",
   "metadata": {},
   "source": [
    "keeping Rv1309 (ATP synthase gamma chain AtpG, PROVEAN = -3.696) and any of 17 genes in a list restores growth. Look provean scores and priorityze not keeping genes that are deleted."
   ]
  },
  {
   "cell_type": "code",
   "execution_count": 301,
   "id": "49b8ae7e",
   "metadata": {},
   "outputs": [
    {
     "name": "stdout",
     "output_type": "stream",
     "text": [
      "Rv0222\n",
      "Empty DataFrame\n",
      "Columns: [POS, REF, ALT, LIN, ANN, LOCUS, AA_one, PROVEAN]\n",
      "Index: []\n",
      "Rv3516\n",
      "         POS REF ALT LIN               ANN   LOCUS AA_one  PROVEAN\n",
      "0  3952929.0   A   C  A2  missense_variant  Rv3516  E129A   -3.642\n",
      "Rv1161\n",
      "         POS REF ALT LIN               ANN   LOCUS AA_one  PROVEAN\n",
      "0  1287919.0   G   T  A2  missense_variant  Rv1161  G198C   -8.585\n",
      "Rv0206c\n",
      "        POS REF ALT LIN               ANN    LOCUS AA_one  PROVEAN\n",
      "0  246169.0   A   T  A2  missense_variant  Rv0206c  F384I   -3.139\n",
      "Rv3617\n",
      "Empty DataFrame\n",
      "Columns: [POS, REF, ALT, LIN, ANN, LOCUS, AA_one, PROVEAN]\n",
      "Index: []\n",
      "Rv3740c\n",
      "         POS REF ALT LIN               ANN    LOCUS AA_one  PROVEAN\n",
      "0  4190916.0   G   A  A2  missense_variant  Rv3740c  R422C   -7.778\n",
      "1  4191537.0   A   C  A2  missense_variant  Rv3740c  F215V   -3.228\n",
      "Rv0221\n",
      "Empty DataFrame\n",
      "Columns: [POS, REF, ALT, LIN, ANN, LOCUS, AA_one, PROVEAN]\n",
      "Index: []\n",
      "Rv1521\n",
      "         POS REF ALT LIN               ANN   LOCUS AA_one  PROVEAN\n",
      "0  1712419.0   A   C  A2  missense_variant  Rv1521   T40P   -4.576\n",
      "1  1712419.0   A   C  A2  missense_variant  Rv1521   T40P   -4.576\n",
      "Rv3561\n",
      "         POS REF ALT LIN               ANN   LOCUS AA_one  PROVEAN\n",
      "0  4002847.0   C   A  A2  missense_variant  Rv3561  T404N   -4.914\n",
      "Rv2351c\n",
      "         POS REF ALT LIN               ANN    LOCUS AA_one  PROVEAN\n",
      "0  2631424.0   T   G  A2  missense_variant  Rv2351c  S218R   -2.892\n",
      "Rv0070c\n",
      "       POS REF ALT LIN               ANN    LOCUS AA_one  PROVEAN\n",
      "0  78103.0   T   C  A2  missense_variant  Rv0070c  E265G   -2.649\n",
      "Rv1617\n",
      "         POS REF ALT LIN               ANN   LOCUS AA_one  PROVEAN\n",
      "0  1816848.0   G   T  A2  missense_variant  Rv1617  E220D   -2.983\n",
      "Rv3772\n",
      "         POS REF ALT LIN               ANN   LOCUS AA_one  PROVEAN\n",
      "0  4217456.0   G   A  A2  missense_variant  Rv3772  R108H     -5.0\n",
      "Rv0223c\n",
      "        POS REF ALT LIN               ANN    LOCUS AA_one  PROVEAN\n",
      "0  267071.0   C   A  A2  missense_variant  Rv0223c  G232C   -9.000\n",
      "1  267395.0   C   T  A2  missense_variant  Rv0223c  A124T   -3.198\n",
      "Rv2074\n",
      "Empty DataFrame\n",
      "Columns: [POS, REF, ALT, LIN, ANN, LOCUS, AA_one, PROVEAN]\n",
      "Index: []\n",
      "Rv3314c\n",
      "         POS REF ALT LIN               ANN    LOCUS AA_one  PROVEAN\n",
      "0  3702543.0   G   A  A2  missense_variant  Rv3314c  R309W   -4.311\n",
      "Rv1908c\n",
      "         POS REF ALT LIN               ANN    LOCUS AA_one  PROVEAN\n",
      "0  2156056.0   C   A  A2  missense_variant  Rv1908c   G19V   -2.505\n",
      "Rv0021c\n",
      "       POS REF ALT LIN               ANN    LOCUS AA_one  PROVEAN\n",
      "0  26053.0   C   G  A2  missense_variant  Rv0021c  A277P    -2.85\n",
      "Rv1563c\n",
      "         POS REF ALT LIN               ANN    LOCUS AA_one  PROVEAN\n",
      "0  1768141.0   A   G  A2  missense_variant  Rv1563c  V431A     -3.1\n",
      "Rv3498c\n",
      "         POS REF ALT LIN               ANN    LOCUS AA_one  PROVEAN\n",
      "0  3917241.0   G   A  A2  missense_variant  Rv3498c  T253M   -3.667\n"
     ]
    }
   ],
   "source": [
    "for g in keeperGenes:\n",
    "    print(g)\n",
    "    print(getProvScore(g, 'A2'))"
   ]
  },
  {
   "cell_type": "markdown",
   "id": "496bc05c",
   "metadata": {},
   "source": [
    "Rv1908c has a score of -2.505 in the SNP in A2. So it's in threshold, so we can keep it. Update A2 model and save it."
   ]
  },
  {
   "cell_type": "code",
   "execution_count": 302,
   "id": "d705e11a",
   "metadata": {},
   "outputs": [
    {
     "data": {
      "text/html": [
       "\n",
       "        <table>\n",
       "            <tr>\n",
       "                <td><strong>Gene identifier</strong></td><td>Rv1908c</td>\n",
       "            </tr><tr>\n",
       "                <td><strong>Name</strong></td><td></td>\n",
       "            </tr><tr>\n",
       "                <td><strong>Memory address</strong></td>\n",
       "                <td>0x01fadc921550</td>\n",
       "            </tr><tr>\n",
       "                <td><strong>Functional</strong></td><td>True</td>\n",
       "            </tr><tr>\n",
       "                <td><strong>In 1 reaction(s)</strong></td><td>\n",
       "                    CAT</td>\n",
       "            </tr>\n",
       "        </table>"
      ],
      "text/plain": [
       "<Gene Rv1908c at 0x1fadc921550>"
      ]
     },
     "execution_count": 302,
     "metadata": {},
     "output_type": "execute_result"
    }
   ],
   "source": [
    "base_mod.genes.get_by_id('Rv1908c')"
   ]
  },
  {
   "cell_type": "code",
   "execution_count": 303,
   "id": "16682abb",
   "metadata": {},
   "outputs": [
    {
     "data": {
      "text/html": [
       "\n",
       "        <table>\n",
       "            <tr>\n",
       "                <td><strong>Reaction identifier</strong></td><td>CAT</td>\n",
       "            </tr><tr>\n",
       "                <td><strong>Name</strong></td><td>Catalase</td>\n",
       "            </tr><tr>\n",
       "                <td><strong>Memory address</strong></td>\n",
       "                <td>0x01fadce47a00</td>\n",
       "            </tr><tr>\n",
       "                <td><strong>Stoichiometry</strong></td>\n",
       "                <td>\n",
       "                    <p style='text-align:right'>2.0 h2o2[c] --> 2.0 h2o[c] + o2[c]</p>\n",
       "                    <p style='text-align:right'>2.0 Hydrogen peroxide [cytoplasm] --> 2.0 H2O H2O [cytoplasm] + O2 O2 [cytoplasm]</p>\n",
       "                </td>\n",
       "            </tr><tr>\n",
       "                <td><strong>GPR</strong></td><td>Rv1908c</td>\n",
       "            </tr><tr>\n",
       "                <td><strong>Lower bound</strong></td><td>0.0</td>\n",
       "            </tr><tr>\n",
       "                <td><strong>Upper bound</strong></td><td>1000.0</td>\n",
       "            </tr>\n",
       "        </table>\n",
       "        "
      ],
      "text/plain": [
       "<Reaction CAT at 0x1fadce47a00>"
      ]
     },
     "execution_count": 303,
     "metadata": {},
     "output_type": "execute_result"
    }
   ],
   "source": [
    "list(base_mod.genes.get_by_id('Rv1908c').reactions)[0]"
   ]
  },
  {
   "cell_type": "markdown",
   "id": "1fe30186",
   "metadata": {},
   "source": [
    "Rv1908c. Catalase KatG. Only essential in griffin set. Deleted in many isolates. Involved in INH resitance (https://www.ncbi.nlm.nih.gov/pmc/articles/PMC5310937/)"
   ]
  },
  {
   "cell_type": "code",
   "execution_count": 304,
   "id": "43bed206",
   "metadata": {},
   "outputs": [],
   "source": [
    "A2_cur=base_mod.copy()\n",
    "A2_toDel_cur.remove('Rv1908c')\n",
    "A2_toDel_cur.remove('Rv1309')\n",
    "remove_genes(A2_cur, A2_toDel_cur, remove_reactions=True)\n",
    "A2_cur.id=str('A2')"
   ]
  },
  {
   "cell_type": "code",
   "execution_count": 305,
   "id": "7f8061c2",
   "metadata": {},
   "outputs": [],
   "source": [
    "A2_cur.medium = mi7H9_OADC_Med"
   ]
  },
  {
   "cell_type": "code",
   "execution_count": 306,
   "id": "7789fc0e",
   "metadata": {},
   "outputs": [
    {
     "data": {
      "text/plain": [
       "0.36832917643395485"
      ]
     },
     "execution_count": 306,
     "metadata": {},
     "output_type": "execute_result"
    }
   ],
   "source": [
    "A2_cur.slim_optimize()"
   ]
  },
  {
   "cell_type": "code",
   "execution_count": 307,
   "id": "cddbb5a5",
   "metadata": {},
   "outputs": [],
   "source": [
    "cobra.io.json.save_json_model(A2_cur, str(delsAllsnps_mod_dir_cur+'A2'+'_cur.json'), pretty=False)"
   ]
  },
  {
   "cell_type": "markdown",
   "id": "69e7ed91",
   "metadata": {},
   "source": [
    "### A3"
   ]
  },
  {
   "cell_type": "code",
   "execution_count": 308,
   "id": "3ab835f5",
   "metadata": {},
   "outputs": [],
   "source": [
    "A3 = cobra.io.load_json_model(join(delsAllsnps_mod_dir, \"A3_delsAllsnps.json\"))"
   ]
  },
  {
   "cell_type": "code",
   "execution_count": 309,
   "id": "7fcdeecc",
   "metadata": {},
   "outputs": [],
   "source": [
    "A3_dels = list(delMat.loc[delMat['A3'] == 0.0, 'A3'].index)"
   ]
  },
  {
   "cell_type": "code",
   "execution_count": 310,
   "id": "69815144",
   "metadata": {},
   "outputs": [
    {
     "name": "stdout",
     "output_type": "stream",
     "text": [
      "Growth with Rv2476c deleted: 0.3648884753617285\n",
      "Growth with Rv2438c deleted: 0.0\n",
      "Growth with Rv1731 deleted: 0.3683291764340529\n",
      "Growth with Rv3667 deleted: 0.3683291764340529\n",
      "Growth with Rv2471 deleted: 0.3683291764340529\n",
      "Growth with Rv3401 deleted: 0.36832917643405255\n",
      "Growth with Rv1302 deleted: 0.0\n",
      "Growth with Rv3468c deleted: 0.3683291764340529\n",
      "Growth with Rv1652 deleted: 0.0\n",
      "Growth with Rv0975c deleted: 0.3683291764340529\n",
      "Growth with Rv0456c deleted: 0.3683291764340529\n",
      "Growth with Rv3061c deleted: 0.3683291764340529\n",
      "Growth with Rv0222 deleted: 0.3683291764340529\n",
      "Growth with Rv3797 deleted: 0.3683291764340529\n",
      "Growth with Rv1467c deleted: 0.3683291764340529\n",
      "Growth with Rv1475c deleted: 0.19065847113837578\n",
      "Growth with Rv1552 deleted: 0.3683291764340529\n",
      "Growth with Rv0255c deleted: 0.3683291764340529\n",
      "Growth with Rv0423c deleted: 0.0\n",
      "Growth with Rv0032 deleted: 0.3683291764340502\n",
      "Growth with Rv1589 deleted: 0.36832917643405266\n",
      "Growth with Rv2070c deleted: 0.3683291764340503\n",
      "Growth with Rv3383c deleted: 0.3683291764340529\n",
      "Growth with Rv2713 deleted: 0.3683291764340529\n",
      "Growth with Rv0512 deleted: 0.0\n",
      "Growth with Rv1391 deleted: 0.0\n",
      "Growth with Rv3113 deleted: 0.3683291764340529\n",
      "Growth with Rv3262 deleted: 0.36832917643405266\n",
      "Growth with Rv3116 deleted: 0.3683291764340529\n",
      "Growth with Rv3119 deleted: 0.3683291764340529\n",
      "Growth with Rv0206c deleted: 0.3683291764340529\n",
      "Growth with Rv1451 deleted: 0.0\n",
      "Growth with Rv2200c deleted: 0.0\n",
      "Growth with Rv3028c deleted: 0.0\n",
      "Growth with Rv2196 deleted: 0.0\n",
      "Growth with Rv3117 deleted: 0.3683291764340529\n",
      "Growth with Rv2334 deleted: 0.3683291764340529\n",
      "Growth with Rv3340 deleted: 0.3683291764340517\n",
      "Growth with Rv1938 deleted: 0.3683291764340529\n",
      "Growth with Rv3617 deleted: 0.3683291764340529\n",
      "Growth with Rv3740c deleted: 0.3683291764340529\n",
      "Growth with Rv1760 deleted: 0.3683291764340529\n",
      "Growth with Rv0221 deleted: 0.3683291764340529\n",
      "Growth with Rv2187 deleted: 0.3683291764340529\n",
      "Growth with Rv0166 deleted: 0.3683291764340529\n",
      "Growth with Rv0270 deleted: 0.3683291764340529\n",
      "Growth with Rv0119 deleted: 0.3683291764340529\n",
      "Growth with Rv2930 deleted: 0.3683291764340552\n",
      "Growth with Rv2505c deleted: 0.3683291764340529\n",
      "Growth with Rv3826 deleted: 0.3683291764340529\n",
      "Growth with Rv1159 deleted: 0.0\n",
      "Growth with Rv1143 deleted: 0.3683291764340529\n",
      "Growth with Rv1755c deleted: 0.368329176434048\n",
      "Growth with Rv2447c deleted: 0.0\n",
      "Growth with Rv2964 deleted: 0.36832917643404917\n",
      "Growth with Rv2350c deleted: 0.3683291764340529\n",
      "Growth with Rv2351c deleted: 0.3683291764340529\n",
      "Growth with Rv0070c deleted: 0.3683291764340529\n",
      "Growth with Rv2029c deleted: 0.3581461655891178\n",
      "Growth with Rv2996c deleted: 0.0\n",
      "Growth with Rv1617 deleted: 0.36832917643405105\n",
      "Growth with Rv2259 deleted: 0.3683291764340497\n",
      "Growth with Rv1605 deleted: 0.0\n",
      "Growth with Rv3290c deleted: 0.3683291764340553\n",
      "Growth with Rv2048c deleted: 0.36832917643405055\n",
      "Growth with Rv1373 deleted: 0.3683291764340529\n",
      "Growth with Rv0644c deleted: 0.0\n",
      "Growth with Rv0642c deleted: 0.3683291764340529\n",
      "Growth with Rv1483 deleted: 0.3683291764340529\n",
      "Growth with Rv3804c deleted: 0.36832917643404756\n",
      "Growth with Rv0322 deleted: 0.3683291764340522\n",
      "Growth with Rv0223c deleted: 0.3683291764340529\n",
      "Growth with Rv1306 deleted: 0.1302016729300472\n",
      "Growth with Rv1309 deleted: 0.1302016729300472\n",
      "Growth with Rv0392c deleted: 0.3683291764340529\n",
      "Growth with Rv2074 deleted: 0.3683291764340529\n",
      "Growth with Rv0132c deleted: 0.36832917643405766\n",
      "Growth with Rv1086 deleted: 0.0\n",
      "Growth with Rv1745c deleted: 0.3683291764340529\n",
      "Growth with Rv0321 deleted: 0.3683291764340519\n",
      "Growth with Rv1389 deleted: 0.0\n",
      "Growth with Rv1843c deleted: 0.0\n",
      "Growth with Rv3411c deleted: 0.0\n",
      "Growth with Rv2344c deleted: 0.368329176434051\n",
      "Growth with Rv0772 deleted: 0.0\n",
      "Growth with Rv3314c deleted: 0.3683291764340513\n",
      "Growth with Rv3913 deleted: 0.0\n",
      "Growth with Rv1850 deleted: 0.3683291764340565\n",
      "Growth with Rv3469c deleted: 0.3683291764340529\n",
      "Growth with Rv1349 deleted: 0.0\n",
      "Growth with Rv2895c deleted: 0.0\n",
      "Growth with Rv1533 deleted: 0.3683291764340529\n",
      "Growth with Rv0021c deleted: 0.3683291764340529\n",
      "Growth with Rv3820c deleted: 0.3683291764340509\n",
      "Growth with Rv3823c deleted: 0.3683291764340529\n",
      "Growth with Rv0346c deleted: 0.3683291764340529\n",
      "Growth with Rv1737c deleted: 0.3683291764340529\n",
      "Growth with Rv2920c deleted: 0.15992326242175917\n",
      "Growth with Rv1739c deleted: 0.0\n",
      "Growth with Rv0073 deleted: 0.3683291764340529\n",
      "Growth with Rv1859 deleted: 0.3683291764340529\n",
      "Growth with Rv1885c deleted: 0.3683291764340529\n",
      "Growth with Rv3509c deleted: 0.3683291764340529\n",
      "Growth with Rv0189c deleted: 0.0\n"
     ]
    }
   ],
   "source": [
    "\"\"\"Check what are the genes that are causing the flux to be zero.\"\"\"\n",
    "A3_toDelMuts = testDelsFun(A3_dels)\n",
    "A3_impGrwth = A3_toDelMuts.loc[A3_toDelMuts['BM'] == 0]['gene'].tolist()"
   ]
  },
  {
   "cell_type": "code",
   "execution_count": 311,
   "id": "57c23d7b",
   "metadata": {},
   "outputs": [
    {
     "data": {
      "text/html": [
       "\n",
       "        <table>\n",
       "            <tr>\n",
       "                <td><strong>Gene identifier</strong></td><td>Rv2438c</td>\n",
       "            </tr><tr>\n",
       "                <td><strong>Name</strong></td><td></td>\n",
       "            </tr><tr>\n",
       "                <td><strong>Memory address</strong></td>\n",
       "                <td>0x01fadc8d3070</td>\n",
       "            </tr><tr>\n",
       "                <td><strong>Functional</strong></td><td>True</td>\n",
       "            </tr><tr>\n",
       "                <td><strong>In 1 reaction(s)</strong></td><td>\n",
       "                    NADS2</td>\n",
       "            </tr>\n",
       "        </table>"
      ],
      "text/plain": [
       "<Gene Rv2438c at 0x1fadc8d3070>"
      ]
     },
     "execution_count": 311,
     "metadata": {},
     "output_type": "execute_result"
    }
   ],
   "source": [
    "base_mod.genes.get_by_id(A3_impGrwth[0])"
   ]
  },
  {
   "cell_type": "code",
   "execution_count": 312,
   "id": "e33e2c90",
   "metadata": {},
   "outputs": [
    {
     "data": {
      "text/html": [
       "\n",
       "        <table>\n",
       "            <tr>\n",
       "                <td><strong>Gene identifier</strong></td><td>Rv1302</td>\n",
       "            </tr><tr>\n",
       "                <td><strong>Name</strong></td><td></td>\n",
       "            </tr><tr>\n",
       "                <td><strong>Memory address</strong></td>\n",
       "                <td>0x01fadc8d3580</td>\n",
       "            </tr><tr>\n",
       "                <td><strong>Functional</strong></td><td>True</td>\n",
       "            </tr><tr>\n",
       "                <td><strong>In 1 reaction(s)</strong></td><td>\n",
       "                    ACGAMT</td>\n",
       "            </tr>\n",
       "        </table>"
      ],
      "text/plain": [
       "<Gene Rv1302 at 0x1fadc8d3580>"
      ]
     },
     "execution_count": 312,
     "metadata": {},
     "output_type": "execute_result"
    }
   ],
   "source": [
    "base_mod.genes.get_by_id(A3_impGrwth[1])"
   ]
  },
  {
   "cell_type": "code",
   "execution_count": 313,
   "id": "32d7bc12",
   "metadata": {},
   "outputs": [
    {
     "data": {
      "text/html": [
       "\n",
       "        <table>\n",
       "            <tr>\n",
       "                <td><strong>Gene identifier</strong></td><td>Rv1652</td>\n",
       "            </tr><tr>\n",
       "                <td><strong>Name</strong></td><td></td>\n",
       "            </tr><tr>\n",
       "                <td><strong>Memory address</strong></td>\n",
       "                <td>0x01fadc8d3af0</td>\n",
       "            </tr><tr>\n",
       "                <td><strong>Functional</strong></td><td>True</td>\n",
       "            </tr><tr>\n",
       "                <td><strong>In 1 reaction(s)</strong></td><td>\n",
       "                    AGPR</td>\n",
       "            </tr>\n",
       "        </table>"
      ],
      "text/plain": [
       "<Gene Rv1652 at 0x1fadc8d3af0>"
      ]
     },
     "execution_count": 313,
     "metadata": {},
     "output_type": "execute_result"
    }
   ],
   "source": [
    "base_mod.genes.get_by_id(A3_impGrwth[2])"
   ]
  },
  {
   "cell_type": "code",
   "execution_count": 314,
   "id": "e62e061f",
   "metadata": {},
   "outputs": [
    {
     "data": {
      "text/html": [
       "\n",
       "        <table>\n",
       "            <tr>\n",
       "                <td><strong>Gene identifier</strong></td><td>Rv0423c</td>\n",
       "            </tr><tr>\n",
       "                <td><strong>Name</strong></td><td></td>\n",
       "            </tr><tr>\n",
       "                <td><strong>Memory address</strong></td>\n",
       "                <td>0x01fadc8e90d0</td>\n",
       "            </tr><tr>\n",
       "                <td><strong>Functional</strong></td><td>True</td>\n",
       "            </tr><tr>\n",
       "                <td><strong>In 1 reaction(s)</strong></td><td>\n",
       "                    AHMMPS</td>\n",
       "            </tr>\n",
       "        </table>"
      ],
      "text/plain": [
       "<Gene Rv0423c at 0x1fadc8e90d0>"
      ]
     },
     "execution_count": 314,
     "metadata": {},
     "output_type": "execute_result"
    }
   ],
   "source": [
    "base_mod.genes.get_by_id(A3_impGrwth[3])"
   ]
  },
  {
   "cell_type": "code",
   "execution_count": 315,
   "id": "8a0a0b62",
   "metadata": {},
   "outputs": [
    {
     "data": {
      "text/html": [
       "\n",
       "        <table>\n",
       "            <tr>\n",
       "                <td><strong>Gene identifier</strong></td><td>Rv0512</td>\n",
       "            </tr><tr>\n",
       "                <td><strong>Name</strong></td><td></td>\n",
       "            </tr><tr>\n",
       "                <td><strong>Memory address</strong></td>\n",
       "                <td>0x01fadc8e98e0</td>\n",
       "            </tr><tr>\n",
       "                <td><strong>Functional</strong></td><td>True</td>\n",
       "            </tr><tr>\n",
       "                <td><strong>In 1 reaction(s)</strong></td><td>\n",
       "                    PPBNGS</td>\n",
       "            </tr>\n",
       "        </table>"
      ],
      "text/plain": [
       "<Gene Rv0512 at 0x1fadc8e98e0>"
      ]
     },
     "execution_count": 315,
     "metadata": {},
     "output_type": "execute_result"
    }
   ],
   "source": [
    "base_mod.genes.get_by_id(A3_impGrwth[4])"
   ]
  },
  {
   "cell_type": "code",
   "execution_count": 316,
   "id": "55f64078",
   "metadata": {},
   "outputs": [
    {
     "data": {
      "text/html": [
       "\n",
       "        <table>\n",
       "            <tr>\n",
       "                <td><strong>Gene identifier</strong></td><td>Rv1391</td>\n",
       "            </tr><tr>\n",
       "                <td><strong>Name</strong></td><td></td>\n",
       "            </tr><tr>\n",
       "                <td><strong>Memory address</strong></td>\n",
       "                <td>0x01fadc8e9910</td>\n",
       "            </tr><tr>\n",
       "                <td><strong>Functional</strong></td><td>True</td>\n",
       "            </tr><tr>\n",
       "                <td><strong>In 2 reaction(s)</strong></td><td>\n",
       "                    PPNCL3, PPCDC</td>\n",
       "            </tr>\n",
       "        </table>"
      ],
      "text/plain": [
       "<Gene Rv1391 at 0x1fadc8e9910>"
      ]
     },
     "execution_count": 316,
     "metadata": {},
     "output_type": "execute_result"
    }
   ],
   "source": [
    "base_mod.genes.get_by_id(A3_impGrwth[5])"
   ]
  },
  {
   "cell_type": "code",
   "execution_count": 317,
   "id": "49475648",
   "metadata": {},
   "outputs": [
    {
     "data": {
      "text/html": [
       "\n",
       "        <table>\n",
       "            <tr>\n",
       "                <td><strong>Gene identifier</strong></td><td>Rv1451</td>\n",
       "            </tr><tr>\n",
       "                <td><strong>Name</strong></td><td></td>\n",
       "            </tr><tr>\n",
       "                <td><strong>Memory address</strong></td>\n",
       "                <td>0x01fadc8f40a0</td>\n",
       "            </tr><tr>\n",
       "                <td><strong>Functional</strong></td><td>True</td>\n",
       "            </tr><tr>\n",
       "                <td><strong>In 2 reaction(s)</strong></td><td>\n",
       "                    CYO1b, HEMEOS</td>\n",
       "            </tr>\n",
       "        </table>"
      ],
      "text/plain": [
       "<Gene Rv1451 at 0x1fadc8f40a0>"
      ]
     },
     "execution_count": 317,
     "metadata": {},
     "output_type": "execute_result"
    }
   ],
   "source": [
    "base_mod.genes.get_by_id(A3_impGrwth[6])"
   ]
  },
  {
   "cell_type": "code",
   "execution_count": 318,
   "id": "4838045c",
   "metadata": {},
   "outputs": [
    {
     "data": {
      "text/html": [
       "\n",
       "        <table>\n",
       "            <tr>\n",
       "                <td><strong>Gene identifier</strong></td><td>Rv2200c</td>\n",
       "            </tr><tr>\n",
       "                <td><strong>Name</strong></td><td></td>\n",
       "            </tr><tr>\n",
       "                <td><strong>Memory address</strong></td>\n",
       "                <td>0x01fadc8f4100</td>\n",
       "            </tr><tr>\n",
       "                <td><strong>Functional</strong></td><td>True</td>\n",
       "            </tr><tr>\n",
       "                <td><strong>In 2 reaction(s)</strong></td><td>\n",
       "                    HEMEAS, CYO1b</td>\n",
       "            </tr>\n",
       "        </table>"
      ],
      "text/plain": [
       "<Gene Rv2200c at 0x1fadc8f4100>"
      ]
     },
     "execution_count": 318,
     "metadata": {},
     "output_type": "execute_result"
    }
   ],
   "source": [
    "base_mod.genes.get_by_id(A3_impGrwth[7])"
   ]
  },
  {
   "cell_type": "code",
   "execution_count": 319,
   "id": "e2ca0ed8",
   "metadata": {},
   "outputs": [
    {
     "data": {
      "text/html": [
       "\n",
       "        <table>\n",
       "            <tr>\n",
       "                <td><strong>Gene identifier</strong></td><td>Rv3028c</td>\n",
       "            </tr><tr>\n",
       "                <td><strong>Name</strong></td><td></td>\n",
       "            </tr><tr>\n",
       "                <td><strong>Memory address</strong></td>\n",
       "                <td>0x01fadc8f4130</td>\n",
       "            </tr><tr>\n",
       "                <td><strong>Functional</strong></td><td>True</td>\n",
       "            </tr><tr>\n",
       "                <td><strong>In 1 reaction(s)</strong></td><td>\n",
       "                    HEMEAS</td>\n",
       "            </tr>\n",
       "        </table>"
      ],
      "text/plain": [
       "<Gene Rv3028c at 0x1fadc8f4130>"
      ]
     },
     "execution_count": 319,
     "metadata": {},
     "output_type": "execute_result"
    }
   ],
   "source": [
    "base_mod.genes.get_by_id(A3_impGrwth[8])"
   ]
  },
  {
   "cell_type": "code",
   "execution_count": 320,
   "id": "85873e22",
   "metadata": {},
   "outputs": [
    {
     "data": {
      "text/html": [
       "\n",
       "        <table>\n",
       "            <tr>\n",
       "                <td><strong>Gene identifier</strong></td><td>Rv2196</td>\n",
       "            </tr><tr>\n",
       "                <td><strong>Name</strong></td><td></td>\n",
       "            </tr><tr>\n",
       "                <td><strong>Memory address</strong></td>\n",
       "                <td>0x01fadc8f4280</td>\n",
       "            </tr><tr>\n",
       "                <td><strong>Functional</strong></td><td>True</td>\n",
       "            </tr><tr>\n",
       "                <td><strong>In 2 reaction(s)</strong></td><td>\n",
       "                    HEMEAS, CYO1a</td>\n",
       "            </tr>\n",
       "        </table>"
      ],
      "text/plain": [
       "<Gene Rv2196 at 0x1fadc8f4280>"
      ]
     },
     "execution_count": 320,
     "metadata": {},
     "output_type": "execute_result"
    }
   ],
   "source": [
    "base_mod.genes.get_by_id(A3_impGrwth[9])"
   ]
  },
  {
   "cell_type": "code",
   "execution_count": 321,
   "id": "854c82a0",
   "metadata": {},
   "outputs": [
    {
     "data": {
      "text/html": [
       "\n",
       "        <table>\n",
       "            <tr>\n",
       "                <td><strong>Gene identifier</strong></td><td>Rv1159</td>\n",
       "            </tr><tr>\n",
       "                <td><strong>Name</strong></td><td></td>\n",
       "            </tr><tr>\n",
       "                <td><strong>Memory address</strong></td>\n",
       "                <td>0x01fadbe17f70</td>\n",
       "            </tr><tr>\n",
       "                <td><strong>Functional</strong></td><td>True</td>\n",
       "            </tr><tr>\n",
       "                <td><strong>In 1 reaction(s)</strong></td><td>\n",
       "                    G16MTM9</td>\n",
       "            </tr>\n",
       "        </table>"
      ],
      "text/plain": [
       "<Gene Rv1159 at 0x1fadbe17f70>"
      ]
     },
     "execution_count": 321,
     "metadata": {},
     "output_type": "execute_result"
    }
   ],
   "source": [
    "base_mod.genes.get_by_id(A3_impGrwth[10])"
   ]
  },
  {
   "cell_type": "code",
   "execution_count": 322,
   "id": "7aa05da2",
   "metadata": {},
   "outputs": [
    {
     "data": {
      "text/html": [
       "\n",
       "        <table>\n",
       "            <tr>\n",
       "                <td><strong>Gene identifier</strong></td><td>Rv2447c</td>\n",
       "            </tr><tr>\n",
       "                <td><strong>Name</strong></td><td></td>\n",
       "            </tr><tr>\n",
       "                <td><strong>Memory address</strong></td>\n",
       "                <td>0x01fadc900970</td>\n",
       "            </tr><tr>\n",
       "                <td><strong>Functional</strong></td><td>True</td>\n",
       "            </tr><tr>\n",
       "                <td><strong>In 2 reaction(s)</strong></td><td>\n",
       "                    THFGLUS, DHFS</td>\n",
       "            </tr>\n",
       "        </table>"
      ],
      "text/plain": [
       "<Gene Rv2447c at 0x1fadc900970>"
      ]
     },
     "execution_count": 322,
     "metadata": {},
     "output_type": "execute_result"
    }
   ],
   "source": [
    "base_mod.genes.get_by_id(A3_impGrwth[11])"
   ]
  },
  {
   "cell_type": "code",
   "execution_count": 323,
   "id": "bf090795",
   "metadata": {},
   "outputs": [
    {
     "data": {
      "text/html": [
       "\n",
       "        <table>\n",
       "            <tr>\n",
       "                <td><strong>Gene identifier</strong></td><td>Rv2996c</td>\n",
       "            </tr><tr>\n",
       "                <td><strong>Name</strong></td><td></td>\n",
       "            </tr><tr>\n",
       "                <td><strong>Memory address</strong></td>\n",
       "                <td>0x01fadc908a90</td>\n",
       "            </tr><tr>\n",
       "                <td><strong>Functional</strong></td><td>True</td>\n",
       "            </tr><tr>\n",
       "                <td><strong>In 1 reaction(s)</strong></td><td>\n",
       "                    PGCD</td>\n",
       "            </tr>\n",
       "        </table>"
      ],
      "text/plain": [
       "<Gene Rv2996c at 0x1fadc908a90>"
      ]
     },
     "execution_count": 323,
     "metadata": {},
     "output_type": "execute_result"
    }
   ],
   "source": [
    "base_mod.genes.get_by_id(A3_impGrwth[12])"
   ]
  },
  {
   "cell_type": "code",
   "execution_count": 324,
   "id": "81f26424",
   "metadata": {},
   "outputs": [
    {
     "data": {
      "text/html": [
       "\n",
       "        <table>\n",
       "            <tr>\n",
       "                <td><strong>Gene identifier</strong></td><td>Rv1605</td>\n",
       "            </tr><tr>\n",
       "                <td><strong>Name</strong></td><td></td>\n",
       "            </tr><tr>\n",
       "                <td><strong>Memory address</strong></td>\n",
       "                <td>0x01fadbb46130</td>\n",
       "            </tr><tr>\n",
       "                <td><strong>Functional</strong></td><td>True</td>\n",
       "            </tr><tr>\n",
       "                <td><strong>In 1 reaction(s)</strong></td><td>\n",
       "                    IG3PS</td>\n",
       "            </tr>\n",
       "        </table>"
      ],
      "text/plain": [
       "<Gene Rv1605 at 0x1fadbb46130>"
      ]
     },
     "execution_count": 324,
     "metadata": {},
     "output_type": "execute_result"
    }
   ],
   "source": [
    "base_mod.genes.get_by_id(A3_impGrwth[13])"
   ]
  },
  {
   "cell_type": "code",
   "execution_count": 325,
   "id": "764412a4",
   "metadata": {},
   "outputs": [
    {
     "data": {
      "text/html": [
       "\n",
       "        <table>\n",
       "            <tr>\n",
       "                <td><strong>Gene identifier</strong></td><td>Rv0644c</td>\n",
       "            </tr><tr>\n",
       "                <td><strong>Name</strong></td><td></td>\n",
       "            </tr><tr>\n",
       "                <td><strong>Memory address</strong></td>\n",
       "                <td>0x01fadbb46be0</td>\n",
       "            </tr><tr>\n",
       "                <td><strong>Functional</strong></td><td>True</td>\n",
       "            </tr><tr>\n",
       "                <td><strong>In 7 reaction(s)</strong></td><td>\n",
       "                    MYC1M1, MYC2CYC2, MYC1CYC5, MYC2CYC1, MYC2CYC3, MYC1M2, MYC1CYC4</td>\n",
       "            </tr>\n",
       "        </table>"
      ],
      "text/plain": [
       "<Gene Rv0644c at 0x1fadbb46be0>"
      ]
     },
     "execution_count": 325,
     "metadata": {},
     "output_type": "execute_result"
    }
   ],
   "source": [
    "base_mod.genes.get_by_id(A3_impGrwth[14])"
   ]
  },
  {
   "cell_type": "code",
   "execution_count": 326,
   "id": "501ecbe6",
   "metadata": {},
   "outputs": [
    {
     "data": {
      "text/html": [
       "\n",
       "        <table>\n",
       "            <tr>\n",
       "                <td><strong>Gene identifier</strong></td><td>Rv1086</td>\n",
       "            </tr><tr>\n",
       "                <td><strong>Name</strong></td><td></td>\n",
       "            </tr><tr>\n",
       "                <td><strong>Memory address</strong></td>\n",
       "                <td>0x01fadc915280</td>\n",
       "            </tr><tr>\n",
       "                <td><strong>Functional</strong></td><td>True</td>\n",
       "            </tr><tr>\n",
       "                <td><strong>In 1 reaction(s)</strong></td><td>\n",
       "                    GRTT</td>\n",
       "            </tr>\n",
       "        </table>"
      ],
      "text/plain": [
       "<Gene Rv1086 at 0x1fadc915280>"
      ]
     },
     "execution_count": 326,
     "metadata": {},
     "output_type": "execute_result"
    }
   ],
   "source": [
    "base_mod.genes.get_by_id(A3_impGrwth[15])"
   ]
  },
  {
   "cell_type": "code",
   "execution_count": 327,
   "id": "8c0e29a1",
   "metadata": {},
   "outputs": [
    {
     "data": {
      "text/html": [
       "\n",
       "        <table>\n",
       "            <tr>\n",
       "                <td><strong>Gene identifier</strong></td><td>Rv1389</td>\n",
       "            </tr><tr>\n",
       "                <td><strong>Name</strong></td><td></td>\n",
       "            </tr><tr>\n",
       "                <td><strong>Memory address</strong></td>\n",
       "                <td>0x01fadc915940</td>\n",
       "            </tr><tr>\n",
       "                <td><strong>Functional</strong></td><td>True</td>\n",
       "            </tr><tr>\n",
       "                <td><strong>In 2 reaction(s)</strong></td><td>\n",
       "                    DGK1, GK1</td>\n",
       "            </tr>\n",
       "        </table>"
      ],
      "text/plain": [
       "<Gene Rv1389 at 0x1fadc915940>"
      ]
     },
     "execution_count": 327,
     "metadata": {},
     "output_type": "execute_result"
    }
   ],
   "source": [
    "base_mod.genes.get_by_id(A3_impGrwth[16])"
   ]
  },
  {
   "cell_type": "code",
   "execution_count": 328,
   "id": "5139fb60",
   "metadata": {},
   "outputs": [
    {
     "data": {
      "text/html": [
       "\n",
       "        <table>\n",
       "            <tr>\n",
       "                <td><strong>Gene identifier</strong></td><td>Rv1843c</td>\n",
       "            </tr><tr>\n",
       "                <td><strong>Name</strong></td><td></td>\n",
       "            </tr><tr>\n",
       "                <td><strong>Memory address</strong></td>\n",
       "                <td>0x01fadc915ac0</td>\n",
       "            </tr><tr>\n",
       "                <td><strong>Functional</strong></td><td>True</td>\n",
       "            </tr><tr>\n",
       "                <td><strong>In 1 reaction(s)</strong></td><td>\n",
       "                    IMPD</td>\n",
       "            </tr>\n",
       "        </table>"
      ],
      "text/plain": [
       "<Gene Rv1843c at 0x1fadc915ac0>"
      ]
     },
     "execution_count": 328,
     "metadata": {},
     "output_type": "execute_result"
    }
   ],
   "source": [
    "base_mod.genes.get_by_id(A3_impGrwth[17])"
   ]
  },
  {
   "cell_type": "code",
   "execution_count": 329,
   "id": "8b4ca493",
   "metadata": {},
   "outputs": [
    {
     "data": {
      "text/html": [
       "\n",
       "        <table>\n",
       "            <tr>\n",
       "                <td><strong>Gene identifier</strong></td><td>Rv3411c</td>\n",
       "            </tr><tr>\n",
       "                <td><strong>Name</strong></td><td></td>\n",
       "            </tr><tr>\n",
       "                <td><strong>Memory address</strong></td>\n",
       "                <td>0x01fadc915af0</td>\n",
       "            </tr><tr>\n",
       "                <td><strong>Functional</strong></td><td>True</td>\n",
       "            </tr><tr>\n",
       "                <td><strong>In 1 reaction(s)</strong></td><td>\n",
       "                    IMPD</td>\n",
       "            </tr>\n",
       "        </table>"
      ],
      "text/plain": [
       "<Gene Rv3411c at 0x1fadc915af0>"
      ]
     },
     "execution_count": 329,
     "metadata": {},
     "output_type": "execute_result"
    }
   ],
   "source": [
    "base_mod.genes.get_by_id(A3_impGrwth[18])"
   ]
  },
  {
   "cell_type": "code",
   "execution_count": 330,
   "id": "5083548e",
   "metadata": {},
   "outputs": [
    {
     "data": {
      "text/html": [
       "\n",
       "        <table>\n",
       "            <tr>\n",
       "                <td><strong>Gene identifier</strong></td><td>Rv0772</td>\n",
       "            </tr><tr>\n",
       "                <td><strong>Name</strong></td><td></td>\n",
       "            </tr><tr>\n",
       "                <td><strong>Memory address</strong></td>\n",
       "                <td>0x01fadc915cd0</td>\n",
       "            </tr><tr>\n",
       "                <td><strong>Functional</strong></td><td>True</td>\n",
       "            </tr><tr>\n",
       "                <td><strong>In 1 reaction(s)</strong></td><td>\n",
       "                    PRAGSr</td>\n",
       "            </tr>\n",
       "        </table>"
      ],
      "text/plain": [
       "<Gene Rv0772 at 0x1fadc915cd0>"
      ]
     },
     "execution_count": 330,
     "metadata": {},
     "output_type": "execute_result"
    }
   ],
   "source": [
    "base_mod.genes.get_by_id(A3_impGrwth[19])"
   ]
  },
  {
   "cell_type": "code",
   "execution_count": 331,
   "id": "6078f342",
   "metadata": {},
   "outputs": [
    {
     "data": {
      "text/html": [
       "\n",
       "        <table>\n",
       "            <tr>\n",
       "                <td><strong>Gene identifier</strong></td><td>Rv3913</td>\n",
       "            </tr><tr>\n",
       "                <td><strong>Name</strong></td><td></td>\n",
       "            </tr><tr>\n",
       "                <td><strong>Memory address</strong></td>\n",
       "                <td>0x01fadc915f70</td>\n",
       "            </tr><tr>\n",
       "                <td><strong>Functional</strong></td><td>True</td>\n",
       "            </tr><tr>\n",
       "                <td><strong>In 1 reaction(s)</strong></td><td>\n",
       "                    TRDR</td>\n",
       "            </tr>\n",
       "        </table>"
      ],
      "text/plain": [
       "<Gene Rv3913 at 0x1fadc915f70>"
      ]
     },
     "execution_count": 331,
     "metadata": {},
     "output_type": "execute_result"
    }
   ],
   "source": [
    "base_mod.genes.get_by_id(A3_impGrwth[20])"
   ]
  },
  {
   "cell_type": "code",
   "execution_count": 332,
   "id": "d81ee772",
   "metadata": {},
   "outputs": [
    {
     "data": {
      "text/html": [
       "\n",
       "        <table>\n",
       "            <tr>\n",
       "                <td><strong>Gene identifier</strong></td><td>Rv1349</td>\n",
       "            </tr><tr>\n",
       "                <td><strong>Name</strong></td><td></td>\n",
       "            </tr><tr>\n",
       "                <td><strong>Memory address</strong></td>\n",
       "                <td>0x01fadc9215e0</td>\n",
       "            </tr><tr>\n",
       "                <td><strong>Functional</strong></td><td>True</td>\n",
       "            </tr><tr>\n",
       "                <td><strong>In 3 reaction(s)</strong></td><td>\n",
       "                    CMCBTFU, VIUB, CMCBTFL</td>\n",
       "            </tr>\n",
       "        </table>"
      ],
      "text/plain": [
       "<Gene Rv1349 at 0x1fadc9215e0>"
      ]
     },
     "execution_count": 332,
     "metadata": {},
     "output_type": "execute_result"
    }
   ],
   "source": [
    "base_mod.genes.get_by_id(A3_impGrwth[21])"
   ]
  },
  {
   "cell_type": "code",
   "execution_count": 333,
   "id": "4ea47736",
   "metadata": {},
   "outputs": [
    {
     "data": {
      "text/html": [
       "\n",
       "        <table>\n",
       "            <tr>\n",
       "                <td><strong>Gene identifier</strong></td><td>Rv2895c</td>\n",
       "            </tr><tr>\n",
       "                <td><strong>Name</strong></td><td></td>\n",
       "            </tr><tr>\n",
       "                <td><strong>Memory address</strong></td>\n",
       "                <td>0x01fadc921610</td>\n",
       "            </tr><tr>\n",
       "                <td><strong>Functional</strong></td><td>True</td>\n",
       "            </tr><tr>\n",
       "                <td><strong>In 3 reaction(s)</strong></td><td>\n",
       "                    CMCBTFU, VIUB, CMCBTFL</td>\n",
       "            </tr>\n",
       "        </table>"
      ],
      "text/plain": [
       "<Gene Rv2895c at 0x1fadc921610>"
      ]
     },
     "execution_count": 333,
     "metadata": {},
     "output_type": "execute_result"
    }
   ],
   "source": [
    "base_mod.genes.get_by_id(A3_impGrwth[22])"
   ]
  },
  {
   "cell_type": "code",
   "execution_count": 334,
   "id": "785d4891",
   "metadata": {},
   "outputs": [
    {
     "data": {
      "text/html": [
       "\n",
       "        <table>\n",
       "            <tr>\n",
       "                <td><strong>Gene identifier</strong></td><td>Rv1739c</td>\n",
       "            </tr><tr>\n",
       "                <td><strong>Name</strong></td><td></td>\n",
       "            </tr><tr>\n",
       "                <td><strong>Memory address</strong></td>\n",
       "                <td>0x01fadc92db50</td>\n",
       "            </tr><tr>\n",
       "                <td><strong>Functional</strong></td><td>True</td>\n",
       "            </tr><tr>\n",
       "                <td><strong>In 2 reaction(s)</strong></td><td>\n",
       "                    SULabc, TSULabc</td>\n",
       "            </tr>\n",
       "        </table>"
      ],
      "text/plain": [
       "<Gene Rv1739c at 0x1fadc92db50>"
      ]
     },
     "execution_count": 334,
     "metadata": {},
     "output_type": "execute_result"
    }
   ],
   "source": [
    "base_mod.genes.get_by_id(A3_impGrwth[23])"
   ]
  },
  {
   "cell_type": "code",
   "execution_count": 335,
   "id": "e8b01fdf",
   "metadata": {},
   "outputs": [
    {
     "data": {
      "text/html": [
       "\n",
       "        <table>\n",
       "            <tr>\n",
       "                <td><strong>Gene identifier</strong></td><td>Rv0189c</td>\n",
       "            </tr><tr>\n",
       "                <td><strong>Name</strong></td><td></td>\n",
       "            </tr><tr>\n",
       "                <td><strong>Memory address</strong></td>\n",
       "                <td>0x01fadc937580</td>\n",
       "            </tr><tr>\n",
       "                <td><strong>Functional</strong></td><td>True</td>\n",
       "            </tr><tr>\n",
       "                <td><strong>In 2 reaction(s)</strong></td><td>\n",
       "                    DHAD2, DHAD1</td>\n",
       "            </tr>\n",
       "        </table>"
      ],
      "text/plain": [
       "<Gene Rv0189c at 0x1fadc937580>"
      ]
     },
     "execution_count": 335,
     "metadata": {},
     "output_type": "execute_result"
    }
   ],
   "source": [
    "base_mod.genes.get_by_id(A3_impGrwth[24])"
   ]
  },
  {
   "cell_type": "code",
   "execution_count": 336,
   "id": "ddb3ae77",
   "metadata": {},
   "outputs": [],
   "source": [
    "A3_toDel_cur = A3_toDelMuts.loc[A3_toDelMuts['BM'] != 0]['gene'].tolist()"
   ]
  },
  {
   "cell_type": "code",
   "execution_count": 337,
   "id": "d8a74ce2",
   "metadata": {},
   "outputs": [],
   "source": [
    "A3_cur = cobra.io.load_json_model(join(mod_dir, \"iEK1011_2.0.json\"))"
   ]
  },
  {
   "cell_type": "code",
   "execution_count": 338,
   "id": "a4c95d7a",
   "metadata": {},
   "outputs": [],
   "source": [
    "remove_genes(A3_cur, A3_toDel_cur, remove_reactions=True)"
   ]
  },
  {
   "cell_type": "code",
   "execution_count": 339,
   "id": "536ac1c5",
   "metadata": {},
   "outputs": [],
   "source": [
    "A3_cur.medium = mi7H9_OADC_Med"
   ]
  },
  {
   "cell_type": "code",
   "execution_count": 340,
   "id": "843bafbf",
   "metadata": {},
   "outputs": [],
   "source": [
    "A3_cur.id=str('A3')"
   ]
  },
  {
   "cell_type": "code",
   "execution_count": 341,
   "id": "5576f1cd",
   "metadata": {},
   "outputs": [
    {
     "data": {
      "text/plain": [
       "0.03565873407619101"
      ]
     },
     "execution_count": 341,
     "metadata": {},
     "output_type": "execute_result"
    }
   ],
   "source": [
    "A3_cur.slim_optimize()"
   ]
  },
  {
   "cell_type": "markdown",
   "id": "2f488375",
   "metadata": {},
   "source": [
    "#### A3 round 2\n",
    "A3 doesn't grow enough in 7H9 medium. Try combinations of genes to keep"
   ]
  },
  {
   "cell_type": "code",
   "execution_count": 343,
   "id": "f34cc9f7",
   "metadata": {},
   "outputs": [
    {
     "name": "stdout",
     "output_type": "stream",
     "text": [
      "Growth without removing Rv1475c from the model restores growth: 0.10778994994151335.\n",
      "Growth without removing Rv2029c from the model restores growth: 0.046575097127707736.\n"
     ]
    }
   ],
   "source": [
    "for i in range(0, len(A3_toDel_cur)):\n",
    "    tryDels = cp.copy(A3_toDel_cur)\n",
    "    remov = tryDels[i]\n",
    "    tryDels.remove(remov)\n",
    "    testMod = base_mod.copy()\n",
    "    testMod.medium = mi7H9_OADC_Med\n",
    "    remove_genes(testMod, tryDels, remove_reactions=True)\n",
    "    result = testMod.slim_optimize()\n",
    "    if(result > 0.04):\n",
    "        print('Growth without removing %s from the model restores growth: %s.'%(remov, str(result)))"
   ]
  },
  {
   "cell_type": "markdown",
   "id": "dd18bf7b",
   "metadata": {},
   "source": [
    "Rv1475c increases growth rate from 0.035 to 0.11. Still not enough. Try pairs of genes.<br>\n",
    "Rv1475c. Iron-regulated aconitate hydratase Acn (citrate hydro-lyase). TCA cycle (central carbon metabolism). Essential. PROVEAN = -4.552. Significative, but we need to keep it."
   ]
  },
  {
   "cell_type": "code",
   "execution_count": 344,
   "id": "3f6c1e94",
   "metadata": {},
   "outputs": [
    {
     "data": {
      "text/html": [
       "\n",
       "        <table>\n",
       "            <tr>\n",
       "                <td><strong>Gene identifier</strong></td><td>Rv1475c</td>\n",
       "            </tr><tr>\n",
       "                <td><strong>Name</strong></td><td></td>\n",
       "            </tr><tr>\n",
       "                <td><strong>Memory address</strong></td>\n",
       "                <td>0x01fadc8de9d0</td>\n",
       "            </tr><tr>\n",
       "                <td><strong>Functional</strong></td><td>True</td>\n",
       "            </tr><tr>\n",
       "                <td><strong>In 2 reaction(s)</strong></td><td>\n",
       "                    ACONT, MICITDr</td>\n",
       "            </tr>\n",
       "        </table>"
      ],
      "text/plain": [
       "<Gene Rv1475c at 0x1fadc8de9d0>"
      ]
     },
     "execution_count": 344,
     "metadata": {},
     "output_type": "execute_result"
    }
   ],
   "source": [
    "base_mod.genes.get_by_id('Rv1475c')"
   ]
  },
  {
   "cell_type": "code",
   "execution_count": 345,
   "id": "54bd4775",
   "metadata": {},
   "outputs": [
    {
     "data": {
      "text/html": [
       "\n",
       "        <table>\n",
       "            <tr>\n",
       "                <td><strong>Reaction identifier</strong></td><td>ACONT</td>\n",
       "            </tr><tr>\n",
       "                <td><strong>Name</strong></td><td>Aconitate hydratase</td>\n",
       "            </tr><tr>\n",
       "                <td><strong>Memory address</strong></td>\n",
       "                <td>0x01fadc9e5940</td>\n",
       "            </tr><tr>\n",
       "                <td><strong>Stoichiometry</strong></td>\n",
       "                <td>\n",
       "                    <p style='text-align:right'>cit[c] <=> icit[c]</p>\n",
       "                    <p style='text-align:right'>Citrate [cytoplasm] <=> Isocitrate [cytoplasm]</p>\n",
       "                </td>\n",
       "            </tr><tr>\n",
       "                <td><strong>GPR</strong></td><td>Rv1475c</td>\n",
       "            </tr><tr>\n",
       "                <td><strong>Lower bound</strong></td><td>-1000.0</td>\n",
       "            </tr><tr>\n",
       "                <td><strong>Upper bound</strong></td><td>1000.0</td>\n",
       "            </tr>\n",
       "        </table>\n",
       "        "
      ],
      "text/plain": [
       "<Reaction ACONT at 0x1fadc9e5940>"
      ]
     },
     "execution_count": 345,
     "metadata": {},
     "output_type": "execute_result"
    }
   ],
   "source": [
    "list(base_mod.genes.get_by_id('Rv1475c').reactions)[0]"
   ]
  },
  {
   "cell_type": "code",
   "execution_count": 346,
   "id": "6aac9818",
   "metadata": {},
   "outputs": [
    {
     "data": {
      "text/html": [
       "\n",
       "        <table>\n",
       "            <tr>\n",
       "                <td><strong>Reaction identifier</strong></td><td>MICITDr</td>\n",
       "            </tr><tr>\n",
       "                <td><strong>Name</strong></td><td>2-methylisocitrate dehydratase</td>\n",
       "            </tr><tr>\n",
       "                <td><strong>Memory address</strong></td>\n",
       "                <td>0x01fadcdd73d0</td>\n",
       "            </tr><tr>\n",
       "                <td><strong>Stoichiometry</strong></td>\n",
       "                <td>\n",
       "                    <p style='text-align:right'>2mcacn[c] + h2o[c] --> micit[c]</p>\n",
       "                    <p style='text-align:right'>Cis-2-Methylaconitate [cytoplasm] + H2O H2O [cytoplasm] --> Methylisocitrate [cytoplasm]</p>\n",
       "                </td>\n",
       "            </tr><tr>\n",
       "                <td><strong>GPR</strong></td><td>Rv1475c</td>\n",
       "            </tr><tr>\n",
       "                <td><strong>Lower bound</strong></td><td>0.0</td>\n",
       "            </tr><tr>\n",
       "                <td><strong>Upper bound</strong></td><td>1000.0</td>\n",
       "            </tr>\n",
       "        </table>\n",
       "        "
      ],
      "text/plain": [
       "<Reaction MICITDr at 0x1fadcdd73d0>"
      ]
     },
     "execution_count": 346,
     "metadata": {},
     "output_type": "execute_result"
    }
   ],
   "source": [
    "list(base_mod.genes.get_by_id('Rv1475c').reactions)[1]"
   ]
  },
  {
   "cell_type": "code",
   "execution_count": 347,
   "id": "4bc045a0",
   "metadata": {},
   "outputs": [
    {
     "data": {
      "text/html": [
       "<div>\n",
       "<style scoped>\n",
       "    .dataframe tbody tr th:only-of-type {\n",
       "        vertical-align: middle;\n",
       "    }\n",
       "\n",
       "    .dataframe tbody tr th {\n",
       "        vertical-align: top;\n",
       "    }\n",
       "\n",
       "    .dataframe thead th {\n",
       "        text-align: right;\n",
       "    }\n",
       "</style>\n",
       "<table border=\"1\" class=\"dataframe\">\n",
       "  <thead>\n",
       "    <tr style=\"text-align: right;\">\n",
       "      <th></th>\n",
       "      <th>POS</th>\n",
       "      <th>REF</th>\n",
       "      <th>ALT</th>\n",
       "      <th>LIN</th>\n",
       "      <th>ANN</th>\n",
       "      <th>LOCUS</th>\n",
       "      <th>AA_one</th>\n",
       "      <th>PROVEAN</th>\n",
       "    </tr>\n",
       "  </thead>\n",
       "  <tbody>\n",
       "    <tr>\n",
       "      <th>0</th>\n",
       "      <td>1665634.0</td>\n",
       "      <td>T</td>\n",
       "      <td>C</td>\n",
       "      <td>A3</td>\n",
       "      <td>missense_variant</td>\n",
       "      <td>Rv1475c</td>\n",
       "      <td>D138G</td>\n",
       "      <td>-4.552</td>\n",
       "    </tr>\n",
       "    <tr>\n",
       "      <th>1</th>\n",
       "      <td>1663921.0</td>\n",
       "      <td>A</td>\n",
       "      <td>G</td>\n",
       "      <td>A3</td>\n",
       "      <td>missense_variant</td>\n",
       "      <td>Rv1475c</td>\n",
       "      <td>V709A</td>\n",
       "      <td>-3.538</td>\n",
       "    </tr>\n",
       "    <tr>\n",
       "      <th>2</th>\n",
       "      <td>1665964.0</td>\n",
       "      <td>T</td>\n",
       "      <td>G</td>\n",
       "      <td>A3</td>\n",
       "      <td>missense_variant</td>\n",
       "      <td>Rv1475c</td>\n",
       "      <td>D28A</td>\n",
       "      <td>-4.530</td>\n",
       "    </tr>\n",
       "  </tbody>\n",
       "</table>\n",
       "</div>"
      ],
      "text/plain": [
       "         POS REF ALT LIN               ANN    LOCUS AA_one  PROVEAN\n",
       "0  1665634.0   T   C  A3  missense_variant  Rv1475c  D138G   -4.552\n",
       "1  1663921.0   A   G  A3  missense_variant  Rv1475c  V709A   -3.538\n",
       "2  1665964.0   T   G  A3  missense_variant  Rv1475c   D28A   -4.530"
      ]
     },
     "execution_count": 347,
     "metadata": {},
     "output_type": "execute_result"
    }
   ],
   "source": [
    "getProvScore('Rv1475c', 'A3')"
   ]
  },
  {
   "cell_type": "markdown",
   "id": "f4961127",
   "metadata": {},
   "source": [
    "V709 and D28A are present in just the 1.4% of A4 isolates. D138G is present in the 100% of the isolates. "
   ]
  },
  {
   "cell_type": "markdown",
   "id": "c51aaa78",
   "metadata": {},
   "source": [
    "Try to keep pairs of genes"
   ]
  },
  {
   "cell_type": "code",
   "execution_count": 348,
   "id": "9efd2f89",
   "metadata": {},
   "outputs": [
    {
     "name": "stdout",
     "output_type": "stream",
     "text": [
      "Growth without removing Rv1475c and Rv2029c from the model restores growth: 0.12940018436693604.\n",
      "Growth without removing Rv1306 and Rv1309 from the model restores growth: 0.1599232624217307.\n"
     ]
    }
   ],
   "source": [
    "for i in range(0, len(A3_toDel_cur)):\n",
    "    remov1 = A3_toDel_cur[i]\n",
    "    for j in range(i + 1, len(A3_toDel_cur)):\n",
    "        tryDels = cp.copy(A3_toDel_cur)\n",
    "        remov2 = A3_toDel_cur[j]\n",
    "        tryDels.remove(remov1)\n",
    "        tryDels.remove(remov2)\n",
    "        testMod = base_mod.copy()\n",
    "        testMod.medium = mi7H9_OADC_Med\n",
    "        #testMod = cobra.io.load_json_model(join(data_dir, \"iEK1011_2.0.json\"))\n",
    "        remove_genes(testMod, tryDels, remove_reactions=True)\n",
    "        result = testMod.slim_optimize()\n",
    "        if(result > 0.11):\n",
    "            print('Growth without removing %s and %s from the model restores growth: %s.'%(remov1, remov2, str(result)))"
   ]
  },
  {
   "cell_type": "markdown",
   "id": "d2d014ed",
   "metadata": {},
   "source": [
    "#### Keeping Rv1475c and Rv2029c increase growth from 0.11 to 0.13. <br>\n",
    "Keeping Rv1306 and Rv1309 increases growth from 0.11 to 0.15. <br>\n",
    "Rv1306:  ATP synthase B chain AtpF. Essential. PROVEAN = -2.657<br>\n",
    "Rv1309:  ATP synthase gamma chain AtpG. Essential. PROVEAN = -10<br>\n",
    "Rv2029c:  ammonium-transport integral membrane protein Amt. Essential. PROVEAN = -3.348<br>\n",
    "\n",
    "In 7H10 was Rv2920c instead od Rv2029c"
   ]
  },
  {
   "cell_type": "code",
   "execution_count": 349,
   "id": "2f0bcb28",
   "metadata": {},
   "outputs": [
    {
     "data": {
      "text/html": [
       "<div>\n",
       "<style scoped>\n",
       "    .dataframe tbody tr th:only-of-type {\n",
       "        vertical-align: middle;\n",
       "    }\n",
       "\n",
       "    .dataframe tbody tr th {\n",
       "        vertical-align: top;\n",
       "    }\n",
       "\n",
       "    .dataframe thead th {\n",
       "        text-align: right;\n",
       "    }\n",
       "</style>\n",
       "<table border=\"1\" class=\"dataframe\">\n",
       "  <thead>\n",
       "    <tr style=\"text-align: right;\">\n",
       "      <th></th>\n",
       "      <th>POS</th>\n",
       "      <th>REF</th>\n",
       "      <th>ALT</th>\n",
       "      <th>LIN</th>\n",
       "      <th>ANN</th>\n",
       "      <th>LOCUS</th>\n",
       "      <th>AA_one</th>\n",
       "      <th>PROVEAN</th>\n",
       "    </tr>\n",
       "  </thead>\n",
       "  <tbody>\n",
       "    <tr>\n",
       "      <th>0</th>\n",
       "      <td>1461451.0</td>\n",
       "      <td>T</td>\n",
       "      <td>C</td>\n",
       "      <td>A3</td>\n",
       "      <td>missense_variant</td>\n",
       "      <td>Rv1306</td>\n",
       "      <td>V44A</td>\n",
       "      <td>-2.657</td>\n",
       "    </tr>\n",
       "  </tbody>\n",
       "</table>\n",
       "</div>"
      ],
      "text/plain": [
       "         POS REF ALT LIN               ANN   LOCUS AA_one  PROVEAN\n",
       "0  1461451.0   T   C  A3  missense_variant  Rv1306   V44A   -2.657"
      ]
     },
     "execution_count": 349,
     "metadata": {},
     "output_type": "execute_result"
    }
   ],
   "source": [
    "getProvScore('Rv1306', 'A3')"
   ]
  },
  {
   "cell_type": "code",
   "execution_count": 350,
   "id": "0d21f6d7",
   "metadata": {},
   "outputs": [
    {
     "data": {
      "text/html": [
       "<div>\n",
       "<style scoped>\n",
       "    .dataframe tbody tr th:only-of-type {\n",
       "        vertical-align: middle;\n",
       "    }\n",
       "\n",
       "    .dataframe tbody tr th {\n",
       "        vertical-align: top;\n",
       "    }\n",
       "\n",
       "    .dataframe thead th {\n",
       "        text-align: right;\n",
       "    }\n",
       "</style>\n",
       "<table border=\"1\" class=\"dataframe\">\n",
       "  <thead>\n",
       "    <tr style=\"text-align: right;\">\n",
       "      <th></th>\n",
       "      <th>POS</th>\n",
       "      <th>REF</th>\n",
       "      <th>ALT</th>\n",
       "      <th>LIN</th>\n",
       "      <th>ANN</th>\n",
       "      <th>LOCUS</th>\n",
       "      <th>AA_one</th>\n",
       "      <th>PROVEAN</th>\n",
       "    </tr>\n",
       "  </thead>\n",
       "  <tbody>\n",
       "    <tr>\n",
       "      <th>0</th>\n",
       "      <td>1465317.0</td>\n",
       "      <td>C</td>\n",
       "      <td>T</td>\n",
       "      <td>A3</td>\n",
       "      <td>missense_variant</td>\n",
       "      <td>Rv1309</td>\n",
       "      <td>P145L</td>\n",
       "      <td>-10.0</td>\n",
       "    </tr>\n",
       "  </tbody>\n",
       "</table>\n",
       "</div>"
      ],
      "text/plain": [
       "         POS REF ALT LIN               ANN   LOCUS AA_one  PROVEAN\n",
       "0  1465317.0   C   T  A3  missense_variant  Rv1309  P145L    -10.0"
      ]
     },
     "execution_count": 350,
     "metadata": {},
     "output_type": "execute_result"
    }
   ],
   "source": [
    "getProvScore('Rv1309', 'A3')"
   ]
  },
  {
   "cell_type": "code",
   "execution_count": 351,
   "id": "bdbf35af",
   "metadata": {},
   "outputs": [
    {
     "data": {
      "text/html": [
       "<div>\n",
       "<style scoped>\n",
       "    .dataframe tbody tr th:only-of-type {\n",
       "        vertical-align: middle;\n",
       "    }\n",
       "\n",
       "    .dataframe tbody tr th {\n",
       "        vertical-align: top;\n",
       "    }\n",
       "\n",
       "    .dataframe thead th {\n",
       "        text-align: right;\n",
       "    }\n",
       "</style>\n",
       "<table border=\"1\" class=\"dataframe\">\n",
       "  <thead>\n",
       "    <tr style=\"text-align: right;\">\n",
       "      <th></th>\n",
       "      <th>POS</th>\n",
       "      <th>REF</th>\n",
       "      <th>ALT</th>\n",
       "      <th>LIN</th>\n",
       "      <th>ANN</th>\n",
       "      <th>LOCUS</th>\n",
       "      <th>AA_one</th>\n",
       "      <th>PROVEAN</th>\n",
       "    </tr>\n",
       "  </thead>\n",
       "  <tbody>\n",
       "    <tr>\n",
       "      <th>0</th>\n",
       "      <td>2275820.0</td>\n",
       "      <td>T</td>\n",
       "      <td>G</td>\n",
       "      <td>A3</td>\n",
       "      <td>missense_variant</td>\n",
       "      <td>Rv2029c</td>\n",
       "      <td>E202A</td>\n",
       "      <td>-3.348</td>\n",
       "    </tr>\n",
       "    <tr>\n",
       "      <th>1</th>\n",
       "      <td>2275820.0</td>\n",
       "      <td>T</td>\n",
       "      <td>G</td>\n",
       "      <td>A3</td>\n",
       "      <td>missense_variant</td>\n",
       "      <td>Rv2029c</td>\n",
       "      <td>E202A</td>\n",
       "      <td>-3.348</td>\n",
       "    </tr>\n",
       "  </tbody>\n",
       "</table>\n",
       "</div>"
      ],
      "text/plain": [
       "         POS REF ALT LIN               ANN    LOCUS AA_one  PROVEAN\n",
       "0  2275820.0   T   G  A3  missense_variant  Rv2029c  E202A   -3.348\n",
       "1  2275820.0   T   G  A3  missense_variant  Rv2029c  E202A   -3.348"
      ]
     },
     "execution_count": 351,
     "metadata": {},
     "output_type": "execute_result"
    }
   ],
   "source": [
    "getProvScore('Rv2029c', 'A3')"
   ]
  },
  {
   "cell_type": "markdown",
   "id": "787ce44a",
   "metadata": {},
   "source": [
    "L410S. Present in 100% of the isolates"
   ]
  },
  {
   "cell_type": "code",
   "execution_count": 352,
   "id": "72f7a508",
   "metadata": {},
   "outputs": [
    {
     "data": {
      "text/html": [
       "\n",
       "        <table>\n",
       "            <tr>\n",
       "                <td><strong>Gene identifier</strong></td><td>Rv2029c</td>\n",
       "            </tr><tr>\n",
       "                <td><strong>Name</strong></td><td></td>\n",
       "            </tr><tr>\n",
       "                <td><strong>Memory address</strong></td>\n",
       "                <td>0x01fadc908a30</td>\n",
       "            </tr><tr>\n",
       "                <td><strong>Functional</strong></td><td>True</td>\n",
       "            </tr><tr>\n",
       "                <td><strong>In 1 reaction(s)</strong></td><td>\n",
       "                    PFK</td>\n",
       "            </tr>\n",
       "        </table>"
      ],
      "text/plain": [
       "<Gene Rv2029c at 0x1fadc908a30>"
      ]
     },
     "execution_count": 352,
     "metadata": {},
     "output_type": "execute_result"
    }
   ],
   "source": [
    "base_mod.genes.get_by_id('Rv2029c')"
   ]
  },
  {
   "cell_type": "code",
   "execution_count": 353,
   "id": "e08f19ff",
   "metadata": {},
   "outputs": [
    {
     "data": {
      "text/html": [
       "\n",
       "        <table>\n",
       "            <tr>\n",
       "                <td><strong>Reaction identifier</strong></td><td>PFK</td>\n",
       "            </tr><tr>\n",
       "                <td><strong>Name</strong></td><td>Phosphofructokinase</td>\n",
       "            </tr><tr>\n",
       "                <td><strong>Memory address</strong></td>\n",
       "                <td>0x01fadcc6bc70</td>\n",
       "            </tr><tr>\n",
       "                <td><strong>Stoichiometry</strong></td>\n",
       "                <td>\n",
       "                    <p style='text-align:right'>atp[c] + f6p[c] --> adp[c] + fdp[c] + h[c]</p>\n",
       "                    <p style='text-align:right'>ATP C10H12N5O13P3 [cytoplasm] + D-Fructose 6-phosphate [cytoplasm] --> ADP C10H12N5O10P2 [cytoplasm] + D-Fructose 1,6-bisphosphate [cytoplasm] + H+ [cytoplasm]</p>\n",
       "                </td>\n",
       "            </tr><tr>\n",
       "                <td><strong>GPR</strong></td><td>Rv2029c and Rv3010c</td>\n",
       "            </tr><tr>\n",
       "                <td><strong>Lower bound</strong></td><td>0.0</td>\n",
       "            </tr><tr>\n",
       "                <td><strong>Upper bound</strong></td><td>1000.0</td>\n",
       "            </tr>\n",
       "        </table>\n",
       "        "
      ],
      "text/plain": [
       "<Reaction PFK at 0x1fadcc6bc70>"
      ]
     },
     "execution_count": 353,
     "metadata": {},
     "output_type": "execute_result"
    }
   ],
   "source": [
    "base_mod.reactions.get_by_id('PFK')"
   ]
  },
  {
   "cell_type": "markdown",
   "id": "7529ff25",
   "metadata": {},
   "source": [
    "Try to look for a third gene to keep besides Rv1306 and Rv1309 to restore growth. "
   ]
  },
  {
   "cell_type": "code",
   "execution_count": 354,
   "id": "0b4cfbd1",
   "metadata": {},
   "outputs": [
    {
     "name": "stdout",
     "output_type": "stream",
     "text": [
      "Growth without removing Rv1306, Rv1309 and Rv2920c from the model restores growth: 0.1847288361440334.\n"
     ]
    }
   ],
   "source": [
    "tryDelsNoTwo = cp.copy(A3_toDel_cur)\n",
    "tryDelsNoTwo.remove('Rv1306')\n",
    "tryDelsNoTwo.remove('Rv1309')\n",
    "for i in range(0, len(tryDelsNoTwo)):\n",
    "    tryDels = cp.copy(tryDelsNoTwo)\n",
    "    remov = tryDels[i]\n",
    "    tryDels.remove(remov)\n",
    "    testMod = base_mod.copy()\n",
    "    testMod.medium = mi7H9_OADC_Med\n",
    "    remove_genes(testMod, tryDels, remove_reactions=True)\n",
    "    result = testMod.slim_optimize()\n",
    "    if(result > 0.16):\n",
    "        print('Growth without removing Rv1306, Rv1309 and %s from the model restores growth: %s.'%(remov, str(result)))"
   ]
  },
  {
   "cell_type": "markdown",
   "id": "6bffa5ed",
   "metadata": {},
   "source": [
    "Try to look for a third gene to keep besides Rv1475c and Rv2029c"
   ]
  },
  {
   "cell_type": "code",
   "execution_count": 355,
   "id": "91e0ea0e",
   "metadata": {},
   "outputs": [
    {
     "name": "stdout",
     "output_type": "stream",
     "text": [
      "Growth without removing Rv1475c, Rv2029c and Rv2920c from the model restores growth: 0.1301096940022535.\n"
     ]
    }
   ],
   "source": [
    "tryDelsNoTwo = cp.copy(A3_toDel_cur)\n",
    "tryDelsNoTwo.remove('Rv1475c')\n",
    "tryDelsNoTwo.remove('Rv2029c')\n",
    "for i in range(0, len(tryDelsNoTwo)):\n",
    "    tryDels = cp.copy(tryDelsNoTwo)\n",
    "    remov = tryDels[i]\n",
    "    tryDels.remove(remov)\n",
    "    testMod = base_mod.copy()\n",
    "    testMod.medium = mi7H9_OADC_Med\n",
    "    remove_genes(testMod, tryDels, remove_reactions=True)\n",
    "    result = testMod.slim_optimize()\n",
    "    if(result > 0.13):\n",
    "        print('Growth without removing Rv1475c, Rv2029c and %s from the model restores growth: %s.'%(remov, str(result)))"
   ]
  },
  {
   "cell_type": "markdown",
   "id": "e893e280",
   "metadata": {},
   "source": [
    "Keeping  Rv1306, Rv1309 and Rv1475c restores growth to 0.18. With Rv1475c and Rv2920c is restored to 0.13 <br>Let's leave out of to remove list Rv1306, Rv1309 and Rv1475c and see if leaving out any other gene fully restores growth."
   ]
  },
  {
   "cell_type": "code",
   "execution_count": null,
   "id": "4b1780cd",
   "metadata": {},
   "outputs": [],
   "source": [
    "tryDelsNoTwo = cp.copy(A3_toDel_cur)\n",
    "tryDelsNoTwo.remove('Rv1306')\n",
    "tryDelsNoTwo.remove('Rv1309')\n",
    "tryDelsNoTwo.remove('Rv1475c')\n",
    "for i in range(0, len(tryDelsNoTwo)):\n",
    "    tryDels = cp.copy(tryDelsNoTwo)\n",
    "    remov = tryDels[i]\n",
    "    tryDels.remove(remov)\n",
    "    testMod = base_mod.copy()\n",
    "    testMod.medium = mi7H9_OADC_Med\n",
    "    remove_genes(testMod, tryDels, remove_reactions=True)\n",
    "    result = testMod.slim_optimize()\n",
    "    if(result > 0.16):\n",
    "        print('Growth without removing Rv1306, Rv1309, Rv1475c and %s from the model restores growth: %s.'%(remov, str(result)))"
   ]
  },
  {
   "cell_type": "code",
   "execution_count": 298,
   "id": "a4452fdb",
   "metadata": {},
   "outputs": [],
   "source": [
    "A3_cur=base_mod.copy()\n",
    "A3_toDel_cur.remove('Rv1306')\n",
    "A3_toDel_cur.remove('Rv1309')\n",
    "A3_toDel_cur.remove('Rv1475c')\n",
    "A3_toDel_cur.remove('Rv2920c')\n",
    "remove_genes(A3_cur, A3_toDel_cur, remove_reactions=True)\n",
    "A3_cur.id=str('A3')"
   ]
  },
  {
   "cell_type": "code",
   "execution_count": 299,
   "id": "2c1c7c08",
   "metadata": {},
   "outputs": [],
   "source": [
    "A3_cur.medium = mi7H10Med"
   ]
  },
  {
   "cell_type": "code",
   "execution_count": 300,
   "id": "b04bbb94",
   "metadata": {},
   "outputs": [
    {
     "data": {
      "text/plain": [
       "0.2827395308181616"
      ]
     },
     "execution_count": 300,
     "metadata": {},
     "output_type": "execute_result"
    }
   ],
   "source": [
    "A3_cur.slim_optimize()"
   ]
  },
  {
   "cell_type": "code",
   "execution_count": 301,
   "id": "ff248b61",
   "metadata": {},
   "outputs": [],
   "source": [
    "cobra.io.json.save_json_model(A3_cur, str(delsAllsnps_mod_dir_cur+'A3'+'_cur.json'), pretty=False)"
   ]
  },
  {
   "cell_type": "markdown",
   "id": "81a186c0",
   "metadata": {},
   "source": [
    "### A4"
   ]
  },
  {
   "cell_type": "code",
   "execution_count": 302,
   "id": "335ad96a",
   "metadata": {},
   "outputs": [],
   "source": [
    "A4 = cobra.io.load_json_model(join(delsAllsnps_mod_dir, \"A4_delsAllsnps.json\"))"
   ]
  },
  {
   "cell_type": "code",
   "execution_count": 303,
   "id": "8c604c6f",
   "metadata": {},
   "outputs": [],
   "source": [
    "A4_dels = list(delMat.loc[delMat['A4'] == 0.0, 'A4'].index)"
   ]
  },
  {
   "cell_type": "code",
   "execution_count": 304,
   "id": "53738e4a",
   "metadata": {},
   "outputs": [
    {
     "name": "stdout",
     "output_type": "stream",
     "text": [
      "Growth with Rv1248c deleted: 0.2827395308181656\n",
      "Growth with Rv2471 deleted: 0.28273953081815884\n",
      "Growth with Rv0648 deleted: 0.2827395308181602\n",
      "Growth with Rv0222 deleted: 0.28273953081815884\n",
      "Growth with Rv0972c deleted: 0.28273953081815884\n",
      "Growth with Rv2062c deleted: 0.28273953081815884\n",
      "Growth with Rv2850c deleted: 0.28273953081815884\n",
      "Growth with Rv1736c deleted: 0.28273953081815884\n",
      "Growth with Rv1161 deleted: 0.28273953081815884\n",
      "Growth with Rv0512 deleted: 0.0\n",
      "Growth with Rv3113 deleted: 0.28273953081815884\n",
      "Growth with Rv3119 deleted: 0.28273953081815884\n",
      "Growth with Rv0206c deleted: 0.28273953081815884\n",
      "Growth with Rv1451 deleted: 0.0\n",
      "Growth with Rv3117 deleted: 0.28273953081815884\n",
      "Growth with Rv3617 deleted: 0.28273953081815884\n",
      "Growth with Rv0221 deleted: 0.28273953081815884\n",
      "Growth with Rv3280 deleted: 0.0\n",
      "Growth with Rv2605c deleted: 0.28273953081815884\n",
      "Growth with Rv1662 deleted: 0.28273953081815884\n",
      "Growth with Rv1512 deleted: 0.28273953081816106\n",
      "Growth with Rv1511 deleted: 0.28273953081815884\n",
      "Growth with Rv2349c deleted: 0.28273953081815884\n",
      "Growth with Rv2350c deleted: 0.28273953081815884\n",
      "Growth with Rv2351c deleted: 0.28273953081815884\n",
      "Growth with Rv0070c deleted: 0.28273953081815884\n",
      "Growth with Rv2495c deleted: 0.0\n",
      "Growth with Rv1617 deleted: 0.28273953081816133\n",
      "Growth with Rv1257c deleted: 0.28273096590166175\n",
      "Growth with Rv1605 deleted: 0.0\n",
      "Growth with Rv1604 deleted: 0.28273953081815884\n",
      "Growth with Rv2931 deleted: 0.28273953081815884\n",
      "Growth with Rv0644c deleted: 0.0\n",
      "Growth with Rv2421c deleted: 0.0\n",
      "Growth with Rv0223c deleted: 0.28273953081815884\n",
      "Growth with Rv0392c deleted: 0.28273953081815884\n",
      "Growth with Rv2043c deleted: 0.2827395308181582\n",
      "Growth with Rv2074 deleted: 0.28273953081815884\n",
      "Growth with Rv2436 deleted: 0.2827395308181623\n",
      "Growth with Rv2958c deleted: 0.28273953081815806\n",
      "Growth with Rv1745c deleted: 0.28273953081815884\n",
      "Growth with Rv1264 deleted: 0.28273953081815884\n",
      "Growth with Rv1383 deleted: 0.0\n",
      "Growth with Rv0321 deleted: 0.2827395308182309\n",
      "Growth with Rv3314c deleted: 0.28273953081816006\n",
      "Growth with Rv3913 deleted: 0.0\n",
      "Growth with Rv0021c deleted: 0.28273953081815884\n",
      "Growth with Rv1328 deleted: 0.2827395308181623\n",
      "Growth with Rv2773c deleted: 0.0\n",
      "Growth with Rv2127 deleted: 0.28273953081815884\n",
      "Growth with Rv2833c deleted: 0.28273953081815767\n"
     ]
    }
   ],
   "source": [
    "\"\"\"Check what are the genes that are causing the flux to be zero.\"\"\"\n",
    "A4_toDelMuts = testDelsFun(A4_dels)\n",
    "A4_impGrwth = A4_toDelMuts.loc[A4_toDelMuts['BM'] == 0]['gene'].tolist()"
   ]
  },
  {
   "cell_type": "code",
   "execution_count": 305,
   "id": "16c54cd7",
   "metadata": {},
   "outputs": [
    {
     "data": {
      "text/html": [
       "\n",
       "        <table>\n",
       "            <tr>\n",
       "                <td><strong>Gene identifier</strong></td><td>Rv0512</td>\n",
       "            </tr><tr>\n",
       "                <td><strong>Name</strong></td><td></td>\n",
       "            </tr><tr>\n",
       "                <td><strong>Memory address</strong></td>\n",
       "                <td>0x01e9e3bf9490</td>\n",
       "            </tr><tr>\n",
       "                <td><strong>Functional</strong></td><td>True</td>\n",
       "            </tr><tr>\n",
       "                <td><strong>In 1 reaction(s)</strong></td><td>\n",
       "                    PPBNGS</td>\n",
       "            </tr>\n",
       "        </table>"
      ],
      "text/plain": [
       "<Gene Rv0512 at 0x1e9e3bf9490>"
      ]
     },
     "execution_count": 305,
     "metadata": {},
     "output_type": "execute_result"
    }
   ],
   "source": [
    "base_mod.genes.get_by_id(A4_impGrwth[0])"
   ]
  },
  {
   "cell_type": "code",
   "execution_count": 306,
   "id": "031b40a0",
   "metadata": {},
   "outputs": [
    {
     "data": {
      "text/html": [
       "\n",
       "        <table>\n",
       "            <tr>\n",
       "                <td><strong>Gene identifier</strong></td><td>Rv1451</td>\n",
       "            </tr><tr>\n",
       "                <td><strong>Name</strong></td><td></td>\n",
       "            </tr><tr>\n",
       "                <td><strong>Memory address</strong></td>\n",
       "                <td>0x01e9e3bf9c10</td>\n",
       "            </tr><tr>\n",
       "                <td><strong>Functional</strong></td><td>True</td>\n",
       "            </tr><tr>\n",
       "                <td><strong>In 2 reaction(s)</strong></td><td>\n",
       "                    HEMEOS, CYO1b</td>\n",
       "            </tr>\n",
       "        </table>"
      ],
      "text/plain": [
       "<Gene Rv1451 at 0x1e9e3bf9c10>"
      ]
     },
     "execution_count": 306,
     "metadata": {},
     "output_type": "execute_result"
    }
   ],
   "source": [
    "base_mod.genes.get_by_id(A4_impGrwth[1])"
   ]
  },
  {
   "cell_type": "code",
   "execution_count": 307,
   "id": "887781d2",
   "metadata": {},
   "outputs": [
    {
     "data": {
      "text/html": [
       "\n",
       "        <table>\n",
       "            <tr>\n",
       "                <td><strong>Gene identifier</strong></td><td>Rv3280</td>\n",
       "            </tr><tr>\n",
       "                <td><strong>Name</strong></td><td></td>\n",
       "            </tr><tr>\n",
       "                <td><strong>Memory address</strong></td>\n",
       "                <td>0x01e9e3c058b0</td>\n",
       "            </tr><tr>\n",
       "                <td><strong>Functional</strong></td><td>True</td>\n",
       "            </tr><tr>\n",
       "                <td><strong>In 4 reaction(s)</strong></td><td>\n",
       "                    ACChex_1, PPCOAC, MCD, ACCC</td>\n",
       "            </tr>\n",
       "        </table>"
      ],
      "text/plain": [
       "<Gene Rv3280 at 0x1e9e3c058b0>"
      ]
     },
     "execution_count": 307,
     "metadata": {},
     "output_type": "execute_result"
    }
   ],
   "source": [
    "base_mod.genes.get_by_id(A4_impGrwth[2])"
   ]
  },
  {
   "cell_type": "code",
   "execution_count": 308,
   "id": "e6628295",
   "metadata": {},
   "outputs": [
    {
     "data": {
      "text/html": [
       "\n",
       "        <table>\n",
       "            <tr>\n",
       "                <td><strong>Gene identifier</strong></td><td>Rv2495c</td>\n",
       "            </tr><tr>\n",
       "                <td><strong>Name</strong></td><td></td>\n",
       "            </tr><tr>\n",
       "                <td><strong>Memory address</strong></td>\n",
       "                <td>0x01e9e3c1b040</td>\n",
       "            </tr><tr>\n",
       "                <td><strong>Functional</strong></td><td>True</td>\n",
       "            </tr><tr>\n",
       "                <td><strong>In 3 reaction(s)</strong></td><td>\n",
       "                    BKDC1, PDHbr, BKDC</td>\n",
       "            </tr>\n",
       "        </table>"
      ],
      "text/plain": [
       "<Gene Rv2495c at 0x1e9e3c1b040>"
      ]
     },
     "execution_count": 308,
     "metadata": {},
     "output_type": "execute_result"
    }
   ],
   "source": [
    "base_mod.genes.get_by_id(A4_impGrwth[3])"
   ]
  },
  {
   "cell_type": "code",
   "execution_count": 309,
   "id": "566db185",
   "metadata": {},
   "outputs": [
    {
     "data": {
      "text/html": [
       "\n",
       "        <table>\n",
       "            <tr>\n",
       "                <td><strong>Gene identifier</strong></td><td>Rv1605</td>\n",
       "            </tr><tr>\n",
       "                <td><strong>Name</strong></td><td></td>\n",
       "            </tr><tr>\n",
       "                <td><strong>Memory address</strong></td>\n",
       "                <td>0x01e9e3c1b730</td>\n",
       "            </tr><tr>\n",
       "                <td><strong>Functional</strong></td><td>True</td>\n",
       "            </tr><tr>\n",
       "                <td><strong>In 1 reaction(s)</strong></td><td>\n",
       "                    IG3PS</td>\n",
       "            </tr>\n",
       "        </table>"
      ],
      "text/plain": [
       "<Gene Rv1605 at 0x1e9e3c1b730>"
      ]
     },
     "execution_count": 309,
     "metadata": {},
     "output_type": "execute_result"
    }
   ],
   "source": [
    "base_mod.genes.get_by_id(A4_impGrwth[4])"
   ]
  },
  {
   "cell_type": "code",
   "execution_count": 310,
   "id": "085a703d",
   "metadata": {},
   "outputs": [
    {
     "data": {
      "text/html": [
       "\n",
       "        <table>\n",
       "            <tr>\n",
       "                <td><strong>Gene identifier</strong></td><td>Rv0644c</td>\n",
       "            </tr><tr>\n",
       "                <td><strong>Name</strong></td><td></td>\n",
       "            </tr><tr>\n",
       "                <td><strong>Memory address</strong></td>\n",
       "                <td>0x01e9e2e8f220</td>\n",
       "            </tr><tr>\n",
       "                <td><strong>Functional</strong></td><td>True</td>\n",
       "            </tr><tr>\n",
       "                <td><strong>In 7 reaction(s)</strong></td><td>\n",
       "                    MYC1M2, MYC2CYC2, MYC2CYC1, MYC2CYC3, MYC1M1, MYC1CYC5, MYC1CYC4</td>\n",
       "            </tr>\n",
       "        </table>"
      ],
      "text/plain": [
       "<Gene Rv0644c at 0x1e9e2e8f220>"
      ]
     },
     "execution_count": 310,
     "metadata": {},
     "output_type": "execute_result"
    }
   ],
   "source": [
    "base_mod.genes.get_by_id(A4_impGrwth[5])"
   ]
  },
  {
   "cell_type": "code",
   "execution_count": 311,
   "id": "052427d8",
   "metadata": {},
   "outputs": [
    {
     "data": {
      "text/html": [
       "\n",
       "        <table>\n",
       "            <tr>\n",
       "                <td><strong>Gene identifier</strong></td><td>Rv2421c</td>\n",
       "            </tr><tr>\n",
       "                <td><strong>Name</strong></td><td></td>\n",
       "            </tr><tr>\n",
       "                <td><strong>Memory address</strong></td>\n",
       "                <td>0x01e9e2e8f580</td>\n",
       "            </tr><tr>\n",
       "                <td><strong>Functional</strong></td><td>True</td>\n",
       "            </tr><tr>\n",
       "                <td><strong>In 2 reaction(s)</strong></td><td>\n",
       "                    NMNAT_1, NNATr</td>\n",
       "            </tr>\n",
       "        </table>"
      ],
      "text/plain": [
       "<Gene Rv2421c at 0x1e9e2e8f580>"
      ]
     },
     "execution_count": 311,
     "metadata": {},
     "output_type": "execute_result"
    }
   ],
   "source": [
    "base_mod.genes.get_by_id(A4_impGrwth[6])"
   ]
  },
  {
   "cell_type": "code",
   "execution_count": 312,
   "id": "d03dabd4",
   "metadata": {},
   "outputs": [
    {
     "data": {
      "text/html": [
       "\n",
       "        <table>\n",
       "            <tr>\n",
       "                <td><strong>Gene identifier</strong></td><td>Rv1383</td>\n",
       "            </tr><tr>\n",
       "                <td><strong>Name</strong></td><td></td>\n",
       "            </tr><tr>\n",
       "                <td><strong>Memory address</strong></td>\n",
       "                <td>0x01e9e2e7be50</td>\n",
       "            </tr><tr>\n",
       "                <td><strong>Functional</strong></td><td>True</td>\n",
       "            </tr><tr>\n",
       "                <td><strong>In 1 reaction(s)</strong></td><td>\n",
       "                    CBPS</td>\n",
       "            </tr>\n",
       "        </table>"
      ],
      "text/plain": [
       "<Gene Rv1383 at 0x1e9e2e7be50>"
      ]
     },
     "execution_count": 312,
     "metadata": {},
     "output_type": "execute_result"
    }
   ],
   "source": [
    "base_mod.genes.get_by_id(A4_impGrwth[7])"
   ]
  },
  {
   "cell_type": "code",
   "execution_count": 313,
   "id": "07fc7644",
   "metadata": {},
   "outputs": [
    {
     "data": {
      "text/html": [
       "\n",
       "        <table>\n",
       "            <tr>\n",
       "                <td><strong>Gene identifier</strong></td><td>Rv3913</td>\n",
       "            </tr><tr>\n",
       "                <td><strong>Name</strong></td><td></td>\n",
       "            </tr><tr>\n",
       "                <td><strong>Memory address</strong></td>\n",
       "                <td>0x01e9e3c295b0</td>\n",
       "            </tr><tr>\n",
       "                <td><strong>Functional</strong></td><td>True</td>\n",
       "            </tr><tr>\n",
       "                <td><strong>In 1 reaction(s)</strong></td><td>\n",
       "                    TRDR</td>\n",
       "            </tr>\n",
       "        </table>"
      ],
      "text/plain": [
       "<Gene Rv3913 at 0x1e9e3c295b0>"
      ]
     },
     "execution_count": 313,
     "metadata": {},
     "output_type": "execute_result"
    }
   ],
   "source": [
    "base_mod.genes.get_by_id(A4_impGrwth[8])"
   ]
  },
  {
   "cell_type": "code",
   "execution_count": 314,
   "id": "80998219",
   "metadata": {},
   "outputs": [
    {
     "data": {
      "text/html": [
       "\n",
       "        <table>\n",
       "            <tr>\n",
       "                <td><strong>Gene identifier</strong></td><td>Rv2773c</td>\n",
       "            </tr><tr>\n",
       "                <td><strong>Name</strong></td><td></td>\n",
       "            </tr><tr>\n",
       "                <td><strong>Memory address</strong></td>\n",
       "                <td>0x01e9e3c35340</td>\n",
       "            </tr><tr>\n",
       "                <td><strong>Functional</strong></td><td>True</td>\n",
       "            </tr><tr>\n",
       "                <td><strong>In 1 reaction(s)</strong></td><td>\n",
       "                    DHDPRy</td>\n",
       "            </tr>\n",
       "        </table>"
      ],
      "text/plain": [
       "<Gene Rv2773c at 0x1e9e3c35340>"
      ]
     },
     "execution_count": 314,
     "metadata": {},
     "output_type": "execute_result"
    }
   ],
   "source": [
    "base_mod.genes.get_by_id(A4_impGrwth[9])"
   ]
  },
  {
   "cell_type": "code",
   "execution_count": 315,
   "id": "25078515",
   "metadata": {},
   "outputs": [],
   "source": [
    "A4_toDel_cur = A4_toDelMuts.loc[A4_toDelMuts['BM'] != 0]['gene'].tolist()"
   ]
  },
  {
   "cell_type": "code",
   "execution_count": 316,
   "id": "88e0febb",
   "metadata": {},
   "outputs": [],
   "source": [
    "A4_cur = cobra.io.load_json_model(join(mod_dir, \"iEK1011_2.0.json\"))"
   ]
  },
  {
   "cell_type": "code",
   "execution_count": 317,
   "id": "432ae377",
   "metadata": {},
   "outputs": [],
   "source": [
    "remove_genes(A4_cur, A4_toDel_cur, remove_reactions=True)"
   ]
  },
  {
   "cell_type": "code",
   "execution_count": 318,
   "id": "3df44874",
   "metadata": {},
   "outputs": [],
   "source": [
    "A4_cur.medium = mi7H10Med"
   ]
  },
  {
   "cell_type": "code",
   "execution_count": 319,
   "id": "51253b18",
   "metadata": {},
   "outputs": [],
   "source": [
    "A4_cur.id=str('A4')"
   ]
  },
  {
   "cell_type": "code",
   "execution_count": 320,
   "id": "6d5a3606",
   "metadata": {},
   "outputs": [
    {
     "data": {
      "text/plain": [
       "0.2827309659016606"
      ]
     },
     "execution_count": 320,
     "metadata": {},
     "output_type": "execute_result"
    }
   ],
   "source": [
    "A4_cur.slim_optimize()"
   ]
  },
  {
   "cell_type": "code",
   "execution_count": 321,
   "id": "f165cb0a",
   "metadata": {},
   "outputs": [],
   "source": [
    "cobra.io.json.save_json_model(A4_cur, str(delsAllsnps_mod_dir_cur+'A4'+'_cur.json'), pretty=False)"
   ]
  },
  {
   "cell_type": "markdown",
   "id": "f3b81946",
   "metadata": {},
   "source": [
    "### Create a version of delMat, accounting for genes to remove, with the definitive genes that were removed from each model"
   ]
  },
  {
   "cell_type": "code",
   "execution_count": 322,
   "id": "8ef49fa8",
   "metadata": {},
   "outputs": [],
   "source": [
    "toDelCur = {'A1':A1_toDel_cur, 'A2':A2_toDel_cur, 'A3':A3_toDel_cur, 'A4':A4_toDel_cur, 'L1':L1_toDel_cur, 'L2':L2_toDel_cur, 'L3':L3_toDel_cur, 'L4':[], 'L5':L5_toDel_cur, 'L6':L6_toDel_cur, 'L7':L7_toDel_cur, 'L8':L8_toDel_cur, 'L9':L9_toDel_cur}"
   ]
  },
  {
   "cell_type": "code",
   "execution_count": 323,
   "id": "d4a4a673",
   "metadata": {},
   "outputs": [],
   "source": [
    "delMat_cur = cp.copy(delMat)"
   ]
  },
  {
   "cell_type": "code",
   "execution_count": 324,
   "id": "ee5e5618",
   "metadata": {},
   "outputs": [],
   "source": [
    "# Change zeros to ones of the genes that are blocking growth.\n",
    "for l in delMat_cur.columns:\n",
    "    delMat_cur.loc[[x not in toDelCur[l] for x in delMat_cur.index], l] = 1.0"
   ]
  },
  {
   "cell_type": "code",
   "execution_count": 325,
   "id": "f6983a76",
   "metadata": {},
   "outputs": [],
   "source": [
    "delMat_cur.to_csv(res_dir + 'del_AllSNPs_mat_cur.csv')"
   ]
  }
 ],
 "metadata": {
  "kernelspec": {
   "display_name": "Python 3",
   "language": "python",
   "name": "python3"
  },
  "language_info": {
   "codemirror_mode": {
    "name": "ipython",
    "version": 3
   },
   "file_extension": ".py",
   "mimetype": "text/x-python",
   "name": "python",
   "nbconvert_exporter": "python",
   "pygments_lexer": "ipython3",
   "version": "3.9.5"
  }
 },
 "nbformat": 4,
 "nbformat_minor": 5
}
