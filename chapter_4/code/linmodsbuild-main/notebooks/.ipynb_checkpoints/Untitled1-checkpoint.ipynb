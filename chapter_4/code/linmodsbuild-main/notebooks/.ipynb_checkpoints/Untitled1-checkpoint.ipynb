{
 "cells": [
  {
   "cell_type": "markdown",
   "id": "c63191c4",
   "metadata": {},
   "source": [
    "# Add extracellular stresses to models to see if we can see separation with FBA"
   ]
  },
  {
   "cell_type": "code",
   "execution_count": 1,
   "id": "c3b54216",
   "metadata": {},
   "outputs": [],
   "source": [
    "import cobra\n",
    "import pandas as pd\n",
    "import os\n",
    "from os.path import join\n",
    "from cobra.io import load_json_model\n",
    "import numpy as np\n",
    "from cobra import Model, Reaction, Metabolite\n",
    "import copy as cp"
   ]
  },
  {
   "cell_type": "code",
   "execution_count": 2,
   "id": "d37485b6",
   "metadata": {},
   "outputs": [],
   "source": [
    "# Set pandas to display all rows\n",
    "pd.set_option('display.max_rows', None)"
   ]
  },
  {
   "cell_type": "code",
   "execution_count": 3,
   "id": "f1d2d218",
   "metadata": {},
   "outputs": [],
   "source": [
    "# Directory stuff\n",
    "mod_dir = '../data/models/'\n",
    "res_dir = '../results/'\n",
    "del_dir = '../data/deletions/'\n",
    "snp_dir = '../data/snps/'\n",
    "built_mod_dir = res_dir + 'built_models/'\n",
    "delsSGsnps_mod_dir = built_mod_dir + 'delsSGsnps_mods/'\n",
    "delsAllsnps_mod_dir = built_mod_dir + 'delsAllsnps_mods/'\n",
    "delsAllsnps_mod_dir_cur = delsAllsnps_mod_dir + 'cur/'"
   ]
  },
  {
   "cell_type": "code",
   "execution_count": 4,
   "id": "66e0a23f",
   "metadata": {},
   "outputs": [],
   "source": [
    "# Create 7H9 OADC medium, obtained from S8 file matlab scripts from iEK1011 2.0 paper\n",
    "mi7H9_OADC_Med = {'EX_glu__L_e':1,'EX_cu2_e':1000,'EX_btn_e':1,'EX_pydxn_e':1,'EX_ca2_e':1000, 'EX_mg2_e':1000, 'EX_h_e':1000, 'EX_k_e':1000,\n",
    "'EX_nh4_e':10, 'EX_h2o_e':1000,'EX_pi_e':1, 'EX_cl_e':1000, 'EX_o2_e':20,\n",
    "'EX_na1_e':1000, 'EX_so4_e':1000,'EX_cit_e':1,'EX_fe3_e':5, 'EX_glyc_e':1,\n",
    "'EX_glc__D_e':1,'EX_ocdca_e':1}"
   ]
  },
  {
   "cell_type": "code",
   "execution_count": 5,
   "id": "7ba430a2",
   "metadata": {},
   "outputs": [],
   "source": [
    "# Create 7H9 OADC medium with h2o2\n",
    "mi7H9_OADC_h2o2_Med = cp.deepcopy(mi7H9_OADC_Med)\n",
    "mi7H9_OADC_h2o2_Med['EX_h2o2[e]'] = 1000"
   ]
  },
  {
   "cell_type": "code",
   "execution_count": 6,
   "id": "bfa1908f",
   "metadata": {},
   "outputs": [],
   "source": [
    "# Load different iEK1011 models (in different mediums) to retrieve mediums \n",
    "inVivoMed = cobra.io.load_json_model('C:/Users/Guillem/Documents/PhD/comput/models/MTBC/iEK1011_inVivo_media.json').medium\n",
    "deJesuMed = cobra.io.load_json_model('C:/Users/Guillem/Documents/PhD/comput/models/MTBC/iEK1011_deJesusEssen_media.json').medium\n",
    "drugTsMed = cobra.io.load_json_model('C:/Users/Guillem/Documents/PhD/comput/models/MTBC/iEK1011_drugTesting_media.json').medium\n",
    "grifEsMed = cobra.io.load_json_model('C:/Users/Guillem/Documents/PhD/comput/models/MTBC/iEK1011_griffinEssen_media.json').medium\n",
    "mi7H10Med = cobra.io.load_json_model('C:/Users/Guillem/Documents/PhD/comput/models/MTBC/iEK1011_m7H10_media.json').medium"
   ]
  },
  {
   "cell_type": "code",
   "execution_count": 7,
   "id": "90343c44",
   "metadata": {},
   "outputs": [],
   "source": [
    "# Exchange reactions have different names in old model than in new, so change the keys to make mediums compatible with models. \n",
    "\n",
    "for m in list(inVivoMed.keys()):\n",
    "    if 'L' in m or 'D' in m:\n",
    "        k = m[0:(len(m)-1)] + '_' + m[len(m)-1] + '_e'\n",
    "    else:\n",
    "        k = m + '_e'\n",
    "    inVivoMed[k] = inVivoMed.pop(m)\n",
    "\n",
    "for m in list(deJesuMed.keys()):\n",
    "    if 'L' in m or 'D' in m:\n",
    "        k = m[0:(len(m)-1)] + '_' + m[len(m)-1] + '_e'\n",
    "    else:\n",
    "        k = m + '_e'\n",
    "    deJesuMed[k] = deJesuMed.pop(m)\n",
    "\n",
    "for m in list(drugTsMed.keys()):\n",
    "    if 'L' in m or 'D' in m:\n",
    "        k = m[0:(len(m)-1)] + '_' + m[len(m)-1] + '_e'\n",
    "    else:\n",
    "        k = m + '_e'\n",
    "    drugTsMed[k] = drugTsMed.pop(m)\n",
    "\n",
    "for m in list(grifEsMed.keys()):\n",
    "    if 'L' in m or 'D' in m:\n",
    "        k = m[0:(len(m)-1)] + '_' + m[len(m)-1] + '_e'\n",
    "    else:\n",
    "        k = m + '_e'\n",
    "    grifEsMed[k] = grifEsMed.pop(m)\n",
    "\n",
    "for m in list(mi7H10Med.keys()):\n",
    "    if 'L' in m or 'D' in m:\n",
    "        k = m[0:(len(m)-1)] + '_' + m[len(m)-1] + '_e'\n",
    "    else:\n",
    "        k = m + '_e'\n",
    "    mi7H10Med[k] = mi7H10Med.pop(m)"
   ]
  },
  {
   "cell_type": "code",
   "execution_count": 8,
   "id": "66cce164",
   "metadata": {},
   "outputs": [],
   "source": [
    "modList = [cobra.io.load_json_model(delsAllsnps_mod_dir_cur + x) for x in os.listdir(delsAllsnps_mod_dir_cur)]"
   ]
  },
  {
   "cell_type": "code",
   "execution_count": 9,
   "id": "79b597ba",
   "metadata": {},
   "outputs": [],
   "source": [
    "h2o2_e = Metabolite(\n",
    "    'h2o2[e]',\n",
    "    formula='H2O2',\n",
    "    name='Hydrogen peroxyde [extracellular]',\n",
    "    compartment='e')"
   ]
  },
  {
   "cell_type": "code",
   "execution_count": 10,
   "id": "7865477d",
   "metadata": {},
   "outputs": [],
   "source": [
    "# Set the bounds to force h2o2 entry\n",
    "H2O2t = Reaction('H2O2t')\n",
    "H2O2t.name = 'H2O2 transport diffusion'\n",
    "H2O2t.subsystem = 'Extracellular exchange'\n",
    "H2O2t.lower_bound = 1000.\n",
    "H2O2t.upper_bound = 1000."
   ]
  },
  {
   "cell_type": "code",
   "execution_count": 11,
   "id": "f1b234d5",
   "metadata": {},
   "outputs": [],
   "source": [
    "h2o2_c = cp.copy(modList[0].metabolites.get_by_id('h2o2[c]'))"
   ]
  },
  {
   "cell_type": "code",
   "execution_count": 12,
   "id": "efb270f1",
   "metadata": {},
   "outputs": [
    {
     "data": {
      "text/html": [
       "\n",
       "        <table>\n",
       "            <tr>\n",
       "                <td><strong>Metabolite identifier</strong></td><td>h2o2[c]</td>\n",
       "            </tr><tr>\n",
       "                <td><strong>Name</strong></td><td>Hydrogen peroxide [cytoplasm]</td>\n",
       "            </tr><tr>\n",
       "                <td><strong>Memory address</strong></td>\n",
       "                <td>0x01782e22cee0</td>\n",
       "            </tr><tr>\n",
       "                <td><strong>Formula</strong></td><td>H2O2</td>\n",
       "            </tr><tr>\n",
       "                <td><strong>Compartment</strong></td><td>c</td>\n",
       "            </tr><tr>\n",
       "                <td><strong>In 0 reaction(s)</strong></td><td>\n",
       "                    </td>\n",
       "            </tr>\n",
       "        </table>"
      ],
      "text/plain": [
       "<Metabolite h2o2[c] at 0x1782e22cee0>"
      ]
     },
     "execution_count": 12,
     "metadata": {},
     "output_type": "execute_result"
    }
   ],
   "source": [
    "h2o2_c"
   ]
  },
  {
   "cell_type": "code",
   "execution_count": 13,
   "id": "076c277f",
   "metadata": {},
   "outputs": [
    {
     "data": {
      "text/html": [
       "\n",
       "        <table>\n",
       "            <tr>\n",
       "                <td><strong>Metabolite identifier</strong></td><td>h2o2[e]</td>\n",
       "            </tr><tr>\n",
       "                <td><strong>Name</strong></td><td>Hydrogen peroxyde [extracellular]</td>\n",
       "            </tr><tr>\n",
       "                <td><strong>Memory address</strong></td>\n",
       "                <td>0x01782e734d60</td>\n",
       "            </tr><tr>\n",
       "                <td><strong>Formula</strong></td><td>H2O2</td>\n",
       "            </tr><tr>\n",
       "                <td><strong>Compartment</strong></td><td>e</td>\n",
       "            </tr><tr>\n",
       "                <td><strong>In 0 reaction(s)</strong></td><td>\n",
       "                    </td>\n",
       "            </tr>\n",
       "        </table>"
      ],
      "text/plain": [
       "<Metabolite h2o2[e] at 0x1782e734d60>"
      ]
     },
     "execution_count": 13,
     "metadata": {},
     "output_type": "execute_result"
    }
   ],
   "source": [
    "h2o2_e"
   ]
  },
  {
   "cell_type": "code",
   "execution_count": 14,
   "id": "97556002",
   "metadata": {},
   "outputs": [],
   "source": [
    "# Add exchange reaction\n",
    "for i in range(0, len(modList)):\n",
    "    model = modList[i]\n",
    "    model.add_metabolites([cp.copy(h2o2_e)])\n",
    "    model.add_boundary(model.metabolites.get_by_id(\"h2o2[e]\"), type=\"exchange\")\n",
    "    H2O2t_mod = cp.deepcopy(H2O2t)\n",
    "    H2O2t_mod.add_metabolites({model.metabolites.get_by_id('h2o2[e]'): -1.0,\n",
    "                             model.metabolites.get_by_id('h2o2[c]'): 1.0})\n",
    "    model.add_reactions([H2O2t_mod])\n",
    "    #model.medium = mi7H9_OADC_Med\n",
    "    model.medium = mi7H9_OADC_h2o2_Med\n",
    "    #model.medium = grifEsMed\n",
    "    #model.add_reactions([cp.copy(H2O2t)])"
   ]
  },
  {
   "cell_type": "code",
   "execution_count": 15,
   "id": "4df1e748",
   "metadata": {},
   "outputs": [
    {
     "data": {
      "text/html": [
       "\n",
       "        <table>\n",
       "            <tr>\n",
       "                <td><strong>Metabolite identifier</strong></td><td>h2o2[e]</td>\n",
       "            </tr><tr>\n",
       "                <td><strong>Name</strong></td><td>Hydrogen peroxyde [extracellular]</td>\n",
       "            </tr><tr>\n",
       "                <td><strong>Memory address</strong></td>\n",
       "                <td>0x017835de8520</td>\n",
       "            </tr><tr>\n",
       "                <td><strong>Formula</strong></td><td>H2O2</td>\n",
       "            </tr><tr>\n",
       "                <td><strong>Compartment</strong></td><td>e</td>\n",
       "            </tr><tr>\n",
       "                <td><strong>In 2 reaction(s)</strong></td><td>\n",
       "                    H2O2t, EX_h2o2[e]</td>\n",
       "            </tr>\n",
       "        </table>"
      ],
      "text/plain": [
       "<Metabolite h2o2[e] at 0x17835de8520>"
      ]
     },
     "execution_count": 15,
     "metadata": {},
     "output_type": "execute_result"
    }
   ],
   "source": [
    "modList[0].metabolites.get_by_id('h2o2[e]')"
   ]
  },
  {
   "cell_type": "code",
   "execution_count": 16,
   "id": "38b9a77d",
   "metadata": {},
   "outputs": [
    {
     "data": {
      "text/html": [
       "\n",
       "        <table>\n",
       "            <tr>\n",
       "                <td><strong>Reaction identifier</strong></td><td>H2O2t</td>\n",
       "            </tr><tr>\n",
       "                <td><strong>Name</strong></td><td>H2O2 transport diffusion</td>\n",
       "            </tr><tr>\n",
       "                <td><strong>Memory address</strong></td>\n",
       "                <td>0x017835de8640</td>\n",
       "            </tr><tr>\n",
       "                <td><strong>Stoichiometry</strong></td>\n",
       "                <td>\n",
       "                    <p style='text-align:right'>h2o2[e] --> h2o2[c]</p>\n",
       "                    <p style='text-align:right'>Hydrogen peroxyde [extracellular] --> Hydrogen peroxide [cytoplasm]</p>\n",
       "                </td>\n",
       "            </tr><tr>\n",
       "                <td><strong>GPR</strong></td><td></td>\n",
       "            </tr><tr>\n",
       "                <td><strong>Lower bound</strong></td><td>0.0</td>\n",
       "            </tr><tr>\n",
       "                <td><strong>Upper bound</strong></td><td>100.0</td>\n",
       "            </tr>\n",
       "        </table>\n",
       "        "
      ],
      "text/plain": [
       "<Reaction H2O2t at 0x17835de8640>"
      ]
     },
     "execution_count": 16,
     "metadata": {},
     "output_type": "execute_result"
    }
   ],
   "source": [
    "modList[0].reactions.get_by_id('H2O2t')"
   ]
  },
  {
   "cell_type": "code",
   "execution_count": 17,
   "id": "822769c3",
   "metadata": {
    "scrolled": true
   },
   "outputs": [],
   "source": [
    "solL4 = modList[3].optimize()"
   ]
  },
  {
   "cell_type": "code",
   "execution_count": 18,
   "id": "c6a3794d",
   "metadata": {},
   "outputs": [],
   "source": [
    "h2o2Rxns = [x.id for x in list(modList[3].metabolites.get_by_id('h2o2[c]').reactions)]"
   ]
  },
  {
   "cell_type": "code",
   "execution_count": 19,
   "id": "dddc7130",
   "metadata": {},
   "outputs": [
    {
     "data": {
      "text/html": [
       "\n",
       "        <table>\n",
       "            <tr>\n",
       "                <td><strong>Reaction identifier</strong></td><td>CAT</td>\n",
       "            </tr><tr>\n",
       "                <td><strong>Name</strong></td><td>Catalase</td>\n",
       "            </tr><tr>\n",
       "                <td><strong>Memory address</strong></td>\n",
       "                <td>0x0178307f3610</td>\n",
       "            </tr><tr>\n",
       "                <td><strong>Stoichiometry</strong></td>\n",
       "                <td>\n",
       "                    <p style='text-align:right'>2.0 h2o2[c] --> 2.0 h2o[c] + o2[c]</p>\n",
       "                    <p style='text-align:right'>2.0 Hydrogen peroxide [cytoplasm] --> 2.0 H2O H2O [cytoplasm] + O2 O2 [cytoplasm]</p>\n",
       "                </td>\n",
       "            </tr><tr>\n",
       "                <td><strong>GPR</strong></td><td>Rv1908c</td>\n",
       "            </tr><tr>\n",
       "                <td><strong>Lower bound</strong></td><td>0.0</td>\n",
       "            </tr><tr>\n",
       "                <td><strong>Upper bound</strong></td><td>1000.0</td>\n",
       "            </tr>\n",
       "        </table>\n",
       "        "
      ],
      "text/plain": [
       "<Reaction CAT at 0x178307f3610>"
      ]
     },
     "execution_count": 19,
     "metadata": {},
     "output_type": "execute_result"
    }
   ],
   "source": [
    "modList[3].reactions.get_by_id('CAT')"
   ]
  },
  {
   "cell_type": "code",
   "execution_count": 20,
   "id": "9f45edc1",
   "metadata": {},
   "outputs": [
    {
     "data": {
      "text/plain": [
       "['PYDXNO',\n",
       " 'SPODM',\n",
       " 'METOX2s',\n",
       " 'ASPO6',\n",
       " 'ROSFE',\n",
       " 'PYAM5PO',\n",
       " 'PYDXO',\n",
       " 'DALAOX',\n",
       " 'PEAMNO',\n",
       " 'CAT',\n",
       " 'DHORDi',\n",
       " 'PRDX',\n",
       " 'H2O2t',\n",
       " 'PDX5POi',\n",
       " 'METOX1s',\n",
       " 'CHOD']"
      ]
     },
     "execution_count": 20,
     "metadata": {},
     "output_type": "execute_result"
    }
   ],
   "source": [
    "h2o2Rxns"
   ]
  },
  {
   "cell_type": "code",
   "execution_count": 22,
   "id": "018758ff",
   "metadata": {},
   "outputs": [
    {
     "data": {
      "text/html": [
       "<strong><em>Optimal</em> solution with objective value 0.447</strong><br><div>\n",
       "<style scoped>\n",
       "    .dataframe tbody tr th:only-of-type {\n",
       "        vertical-align: middle;\n",
       "    }\n",
       "\n",
       "    .dataframe tbody tr th {\n",
       "        vertical-align: top;\n",
       "    }\n",
       "\n",
       "    .dataframe thead th {\n",
       "        text-align: right;\n",
       "    }\n",
       "</style>\n",
       "<table border=\"1\" class=\"dataframe\">\n",
       "  <thead>\n",
       "    <tr style=\"text-align: right;\">\n",
       "      <th></th>\n",
       "      <th>fluxes</th>\n",
       "      <th>reduced_costs</th>\n",
       "    </tr>\n",
       "  </thead>\n",
       "  <tbody>\n",
       "    <tr>\n",
       "      <th>ABTA</th>\n",
       "      <td>0.000000</td>\n",
       "      <td>-1.387779e-17</td>\n",
       "    </tr>\n",
       "    <tr>\n",
       "      <th>AGMT</th>\n",
       "      <td>0.000000</td>\n",
       "      <td>0.000000e+00</td>\n",
       "    </tr>\n",
       "    <tr>\n",
       "      <th>ALAD_L</th>\n",
       "      <td>0.000000</td>\n",
       "      <td>-2.220446e-16</td>\n",
       "    </tr>\n",
       "    <tr>\n",
       "      <th>ARGDC</th>\n",
       "      <td>0.000000</td>\n",
       "      <td>-5.773836e-02</td>\n",
       "    </tr>\n",
       "    <tr>\n",
       "      <th>ARGSL</th>\n",
       "      <td>0.053885</td>\n",
       "      <td>0.000000e+00</td>\n",
       "    </tr>\n",
       "    <tr>\n",
       "      <th>...</th>\n",
       "      <td>...</td>\n",
       "      <td>...</td>\n",
       "    </tr>\n",
       "    <tr>\n",
       "      <th>QRr</th>\n",
       "      <td>18.633252</td>\n",
       "      <td>2.775558e-17</td>\n",
       "    </tr>\n",
       "    <tr>\n",
       "      <th>NADH2r</th>\n",
       "      <td>0.000000</td>\n",
       "      <td>5.551115e-17</td>\n",
       "    </tr>\n",
       "    <tr>\n",
       "      <th>ADK2</th>\n",
       "      <td>0.000000</td>\n",
       "      <td>0.000000e+00</td>\n",
       "    </tr>\n",
       "    <tr>\n",
       "      <th>EX_h2o2[e]</th>\n",
       "      <td>0.000000</td>\n",
       "      <td>0.000000e+00</td>\n",
       "    </tr>\n",
       "    <tr>\n",
       "      <th>H2O2t</th>\n",
       "      <td>0.000000</td>\n",
       "      <td>-1.249001e-16</td>\n",
       "    </tr>\n",
       "  </tbody>\n",
       "</table>\n",
       "<p>1215 rows × 2 columns</p>\n",
       "</div>"
      ],
      "text/plain": [
       "<Solution 0.447 at 0x17835de8dc0>"
      ]
     },
     "execution_count": 22,
     "metadata": {},
     "output_type": "execute_result"
    }
   ],
   "source": [
    "solL4"
   ]
  },
  {
   "cell_type": "code",
   "execution_count": 21,
   "id": "476f6485",
   "metadata": {},
   "outputs": [
    {
     "data": {
      "text/plain": [
       "ASPO6      0.0\n",
       "PYDXNO     0.0\n",
       "PYDXO      0.0\n",
       "SPODM      0.0\n",
       "METOX1s    0.0\n",
       "METOX2s    0.0\n",
       "DALAOX     0.0\n",
       "ROSFE      0.0\n",
       "PDX5POi    0.0\n",
       "PYAM5PO    0.0\n",
       "DHORDi     0.0\n",
       "CAT        0.0\n",
       "PRDX       0.0\n",
       "PEAMNO     0.0\n",
       "CHOD       0.0\n",
       "H2O2t      0.0\n",
       "Name: fluxes, dtype: float64"
      ]
     },
     "execution_count": 21,
     "metadata": {},
     "output_type": "execute_result"
    }
   ],
   "source": [
    "solL4.fluxes.loc[[x in h2o2Rxns for x in solL4.fluxes.index]]"
   ]
  }
 ],
 "metadata": {
  "kernelspec": {
   "display_name": "Python 3",
   "language": "python",
   "name": "python3"
  },
  "language_info": {
   "codemirror_mode": {
    "name": "ipython",
    "version": 3
   },
   "file_extension": ".py",
   "mimetype": "text/x-python",
   "name": "python",
   "nbconvert_exporter": "python",
   "pygments_lexer": "ipython3",
   "version": "3.9.5"
  }
 },
 "nbformat": 4,
 "nbformat_minor": 5
}
