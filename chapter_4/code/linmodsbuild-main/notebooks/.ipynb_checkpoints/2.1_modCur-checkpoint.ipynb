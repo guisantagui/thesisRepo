{
 "cells": [
  {
   "cell_type": "markdown",
   "id": "7b11b9be",
   "metadata": {},
   "source": [
    "# Notebook 2.1: Check if the lineage-specific GSMMs can grow and, if not, check what's stoping the growth and fix them. - models built based on deletion data and stop gain SNPs"
   ]
  },
  {
   "cell_type": "code",
   "execution_count": 1,
   "id": "75f5d939",
   "metadata": {},
   "outputs": [],
   "source": [
    "import cobra\n",
    "import pandas as pd\n",
    "import seaborn as sns\n",
    "import os\n",
    "from os.path import join\n",
    "from cobra.io import load_json_model\n",
    "from glob import glob\n",
    "from Bio import SeqIO\n",
    "import numpy as np\n",
    "from cobra import Model, Reaction, Metabolite\n",
    "import copy as cp\n",
    "import itertools as it\n",
    "from cobra.manipulation.delete import delete_model_genes, remove_genes\n",
    "from cobra.medium import minimal_medium\n",
    "from scipy.io import loadmat"
   ]
  },
  {
   "cell_type": "code",
   "execution_count": 2,
   "id": "c6ce0ddf",
   "metadata": {},
   "outputs": [],
   "source": [
    "# Set pandas to display all rows\n",
    "pd.set_option('display.max_rows', None)"
   ]
  },
  {
   "cell_type": "code",
   "execution_count": 3,
   "id": "e692b0cf",
   "metadata": {},
   "outputs": [],
   "source": [
    "# Directory stuff\n",
    "mod_dir = '../data/models/'\n",
    "res_dir = '../results/'\n",
    "del_dir = '../data/deletions/'\n",
    "snp_dir = '../data/snps/'\n",
    "med_dir = '../data/mediums/'\n",
    "built_mod_dir = res_dir + 'built_models/'\n",
    "delsSGsnps_mod_dir = built_mod_dir + 'delsSGsnps_mods/'\n",
    "delsSGsnps_mod_dir_cur = delsSGsnps_mod_dir + 'cur/'\n",
    "delsAllsnps_mod_dir = built_mod_dir + 'delsAllsnps_mods/'"
   ]
  },
  {
   "cell_type": "code",
   "execution_count": 4,
   "id": "af02b829",
   "metadata": {},
   "outputs": [],
   "source": [
    "if not os.path.exists(delsSGsnps_mod_dir_cur):\n",
    "    os.mkdir(delsSGsnps_mod_dir_cur)"
   ]
  },
  {
   "cell_type": "markdown",
   "id": "df1c6658",
   "metadata": {},
   "source": [
    "### Load matrix of genes to delete (the one with deletions and stop gain SNPs)"
   ]
  },
  {
   "cell_type": "code",
   "execution_count": 5,
   "id": "9460d044",
   "metadata": {},
   "outputs": [],
   "source": [
    "delMat = pd.read_csv('%sdel_sgSNPs_mat.csv'%res_dir, index_col = 0)"
   ]
  },
  {
   "cell_type": "markdown",
   "id": "06a731a5",
   "metadata": {},
   "source": [
    "### Load base reconstruction, built models and different medium compositions for start running simulations"
   ]
  },
  {
   "cell_type": "code",
   "execution_count": 6,
   "id": "b0e79ce3",
   "metadata": {},
   "outputs": [],
   "source": [
    "base_mod = cobra.io.load_json_model(join(mod_dir, \"iEK1011_2.0.json\"))"
   ]
  },
  {
   "cell_type": "code",
   "execution_count": 7,
   "id": "91830696",
   "metadata": {},
   "outputs": [
    {
     "data": {
      "text/plain": [
       "['../results/built_models/delsSGsnps_mods\\\\A1_delsSGsnps.json',\n",
       " '../results/built_models/delsSGsnps_mods\\\\A2_delsSGsnps.json',\n",
       " '../results/built_models/delsSGsnps_mods\\\\A3_delsSGsnps.json',\n",
       " '../results/built_models/delsSGsnps_mods\\\\A4_delsSGsnps.json',\n",
       " '../results/built_models/delsSGsnps_mods\\\\L1_delsSGsnps.json',\n",
       " '../results/built_models/delsSGsnps_mods\\\\L2_delsSGsnps.json',\n",
       " '../results/built_models/delsSGsnps_mods\\\\L3_delsSGsnps.json',\n",
       " '../results/built_models/delsSGsnps_mods\\\\L4_delsSGsnps.json',\n",
       " '../results/built_models/delsSGsnps_mods\\\\L5_delsSGsnps.json',\n",
       " '../results/built_models/delsSGsnps_mods\\\\L6_delsSGsnps.json',\n",
       " '../results/built_models/delsSGsnps_mods\\\\L7_delsSGsnps.json',\n",
       " '../results/built_models/delsSGsnps_mods\\\\L8_delsSGsnps.json',\n",
       " '../results/built_models/delsSGsnps_mods\\\\L9_delsSGsnps.json']"
      ]
     },
     "execution_count": 7,
     "metadata": {},
     "output_type": "execute_result"
    }
   ],
   "source": [
    "#load the draft models including deletions and stop gained SNPs created from Notebook 1\n",
    "mod_files_delsSGsnps=glob('%s/*.json'%delsSGsnps_mod_dir)\n",
    "mod_files_delsSGsnps"
   ]
  },
  {
   "cell_type": "code",
   "execution_count": 8,
   "id": "c8571050",
   "metadata": {},
   "outputs": [],
   "source": [
    "# Create 7H9 OADC medium, obtained from S8 file matlab scripts from iEK1011 2.0 paper\n",
    "mi7H9_OADC_Med = {'EX_glu__L_e':1,'EX_cu2_e':1000,'EX_btn_e':1,'EX_pydxn_e':1,'EX_ca2_e':1000, 'EX_mg2_e':1000, 'EX_h_e':1000, 'EX_k_e':1000,\n",
    "'EX_nh4_e':10, 'EX_h2o_e':1000,'EX_pi_e':1, 'EX_cl_e':1000, 'EX_o2_e':20,\n",
    "'EX_na1_e':1000, 'EX_so4_e':1000,'EX_cit_e':1,'EX_fe3_e':5, 'EX_glyc_e':1,\n",
    "'EX_glc__D_e':1,'EX_ocdca_e':1}"
   ]
  },
  {
   "cell_type": "code",
   "execution_count": 9,
   "id": "164cbd44",
   "metadata": {},
   "outputs": [],
   "source": [
    "# Load different iEK1011 models (in different mediums) to retrieve mediums \n",
    "inVivoMed = cobra.io.load_json_model('C:/Users/Guillem/Documents/PhD/comput/models/MTBC/iEK1011_inVivo_media.json').medium\n",
    "deJesuMed = cobra.io.load_json_model('C:/Users/Guillem/Documents/PhD/comput/models/MTBC/iEK1011_deJesusEssen_media.json').medium\n",
    "drugTsMed = cobra.io.load_json_model('C:/Users/Guillem/Documents/PhD/comput/models/MTBC/iEK1011_drugTesting_media.json').medium\n",
    "grifEsMed = cobra.io.load_json_model('C:/Users/Guillem/Documents/PhD/comput/models/MTBC/iEK1011_griffinEssen_media.json').medium\n",
    "mi7H10Med = cobra.io.load_json_model('C:/Users/Guillem/Documents/PhD/comput/models/MTBC/iEK1011_m7H10_media.json').medium"
   ]
  },
  {
   "cell_type": "code",
   "execution_count": 10,
   "id": "fd7c6645",
   "metadata": {},
   "outputs": [],
   "source": [
    "# Exchange reactions have different names in old model than in new, so change the keys to make mediums compatible with models. \n",
    "\n",
    "for m in list(inVivoMed.keys()):\n",
    "    if 'L' in m or 'D' in m:\n",
    "        k = m[0:(len(m)-1)] + '_' + m[len(m)-1] + '_e'\n",
    "    else:\n",
    "        k = m + '_e'\n",
    "    inVivoMed[k] = inVivoMed.pop(m)\n",
    "\n",
    "for m in list(deJesuMed.keys()):\n",
    "    if 'L' in m or 'D' in m:\n",
    "        k = m[0:(len(m)-1)] + '_' + m[len(m)-1] + '_e'\n",
    "    else:\n",
    "        k = m + '_e'\n",
    "    deJesuMed[k] = deJesuMed.pop(m)\n",
    "\n",
    "for m in list(drugTsMed.keys()):\n",
    "    if 'L' in m or 'D' in m:\n",
    "        k = m[0:(len(m)-1)] + '_' + m[len(m)-1] + '_e'\n",
    "    else:\n",
    "        k = m + '_e'\n",
    "    drugTsMed[k] = drugTsMed.pop(m)\n",
    "\n",
    "for m in list(grifEsMed.keys()):\n",
    "    if 'L' in m or 'D' in m:\n",
    "        k = m[0:(len(m)-1)] + '_' + m[len(m)-1] + '_e'\n",
    "    else:\n",
    "        k = m + '_e'\n",
    "    grifEsMed[k] = grifEsMed.pop(m)\n",
    "\n",
    "for m in list(mi7H10Med.keys()):\n",
    "    if 'L' in m or 'D' in m:\n",
    "        k = m[0:(len(m)-1)] + '_' + m[len(m)-1] + '_e'\n",
    "    else:\n",
    "        k = m + '_e'\n",
    "    mi7H10Med[k] = mi7H10Med.pop(m)"
   ]
  },
  {
   "cell_type": "code",
   "execution_count": 11,
   "id": "103af286",
   "metadata": {},
   "outputs": [],
   "source": [
    "base_mod.medium = mi7H9_OADC_Med"
   ]
  },
  {
   "cell_type": "markdown",
   "id": "e751329e",
   "metadata": {},
   "source": [
    "### Load built models and test if they grow in Middlebrock 7H10 medium"
   ]
  },
  {
   "cell_type": "code",
   "execution_count": 12,
   "id": "9f63d158",
   "metadata": {},
   "outputs": [
    {
     "name": "stdout",
     "output_type": "stream",
     "text": [
      "A1 growth, BIOMASS__2 as objective: 0.3683291764340522\n",
      "A2 growth, BIOMASS__2 as objective: 0.3683291764340529\n",
      "A3 growth, BIOMASS__2 as objective: 0.368329176434056\n",
      "A4 growth, BIOMASS__2 as objective: 0.36832315571784013\n",
      "L1 growth, BIOMASS__2 as objective: 0.0\n",
      "L2 growth, BIOMASS__2 as objective: 0.36832917643405555\n",
      "L3 growth, BIOMASS__2 as objective: 0.3683291764340529\n",
      "L4 growth, BIOMASS__2 as objective: 0.3683291764340529\n",
      "L5 growth, BIOMASS__2 as objective: 0.3683291764340529\n",
      "L6 growth, BIOMASS__2 as objective: 0.3683291764340529\n",
      "L7 growth, BIOMASS__2 as objective: 0.3683291764340529\n",
      "L8 growth, BIOMASS__2 as objective: 0.0\n",
      "L9 growth, BIOMASS__2 as objective: 0.3683291764340529\n"
     ]
    }
   ],
   "source": [
    "#Load each target lineage model, initialize it to Middlebrock 7H10 media and see if the model can optimize for\n",
    "# biomass production\n",
    "for model in mod_files_delsSGsnps:\n",
    "    mod=cobra.io.load_json_model(model)\n",
    "    mod.medium = mi7H9_OADC_Med\n",
    "    mod.objective = 'BIOMASS__2'\n",
    "    print ('%s growth, BIOMASS__2 as objective: %s'%(mod.id, str(mod.slim_optimize())))\n",
    "    #mod.objective = 'BIOMASS__2.1'\n",
    "    #print ('%s growth, BIOMASS__2.1 as objective: %s'%(mod.id, str(mod.slim_optimize())))"
   ]
  },
  {
   "cell_type": "markdown",
   "id": "600765c0",
   "metadata": {},
   "source": [
    "### Check what's causing the growth to stop"
   ]
  },
  {
   "cell_type": "code",
   "execution_count": 13,
   "id": "ddf751ae",
   "metadata": {},
   "outputs": [],
   "source": [
    "# Define a function to, given a vector of genes to delete, outputs the effect of the mutation of each one, \n",
    "# with the aim of identifying what's causing the growth to stop. \n",
    "def testDelsFun(dels, medium = mi7H9_OADC_Med):\n",
    "    BMs = []\n",
    "    for g in dels:\n",
    "        testDel = cobra.io.load_json_model(join(mod_dir, \"iEK1011_2.0.json\"))\n",
    "        testDel.medium = medium\n",
    "        testDel.genes.get_by_id(g).knock_out()\n",
    "        growth = testDel.slim_optimize()\n",
    "        BMs.append(growth)\n",
    "        print('Growth with ' + g + ' deleted: ' + str(growth))\n",
    "    toDelMuts = pd.DataFrame({'gene':dels, 'BM':BMs})\n",
    "    return toDelMuts"
   ]
  },
  {
   "cell_type": "markdown",
   "id": "f2cf3c60",
   "metadata": {},
   "source": [
    "#### L1"
   ]
  },
  {
   "cell_type": "code",
   "execution_count": 14,
   "id": "80fdf876",
   "metadata": {},
   "outputs": [],
   "source": [
    "L1 = cobra.io.load_json_model(join(delsSGsnps_mod_dir, \"L1_delsSGsnps.json\"))"
   ]
  },
  {
   "cell_type": "code",
   "execution_count": 15,
   "id": "bd3c8669",
   "metadata": {},
   "outputs": [],
   "source": [
    "L1_dels = list(delMat.loc[delMat['L1'] == 0.0, 'L1'].index)"
   ]
  },
  {
   "cell_type": "code",
   "execution_count": 16,
   "id": "3a110214",
   "metadata": {},
   "outputs": [
    {
     "name": "stdout",
     "output_type": "stream",
     "text": [
      "Growth with Rv1525 deleted: 0.0\n"
     ]
    }
   ],
   "source": [
    "\"\"\"Check what are the genes that are causing the flux to be zero.\"\"\"\n",
    "L1_toDelMuts = testDelsFun(L1_dels)\n",
    "L1_impGrwth = L1_toDelMuts.loc[L1_toDelMuts['BM'] == 0]['gene'].tolist()"
   ]
  },
  {
   "cell_type": "code",
   "execution_count": 17,
   "id": "c2ef32dc",
   "metadata": {},
   "outputs": [
    {
     "data": {
      "text/html": [
       "\n",
       "        <table>\n",
       "            <tr>\n",
       "                <td><strong>Gene identifier</strong></td><td>Rv1525</td>\n",
       "            </tr><tr>\n",
       "                <td><strong>Name</strong></td><td></td>\n",
       "            </tr><tr>\n",
       "                <td><strong>Memory address</strong></td>\n",
       "                <td>0x01ece1c4c340</td>\n",
       "            </tr><tr>\n",
       "                <td><strong>Functional</strong></td><td>True</td>\n",
       "            </tr><tr>\n",
       "                <td><strong>In 1 reaction(s)</strong></td><td>\n",
       "                    O16RHAT</td>\n",
       "            </tr>\n",
       "        </table>"
      ],
      "text/plain": [
       "<Gene Rv1525 at 0x1ece1c4c340>"
      ]
     },
     "execution_count": 17,
     "metadata": {},
     "output_type": "execute_result"
    }
   ],
   "source": [
    "base_mod.genes.get_by_id(L1_impGrwth[0])"
   ]
  },
  {
   "cell_type": "code",
   "execution_count": 18,
   "id": "e3f5ad8e",
   "metadata": {},
   "outputs": [
    {
     "data": {
      "text/html": [
       "\n",
       "        <table>\n",
       "            <tr>\n",
       "                <td><strong>Reaction identifier</strong></td><td>O16RHAT</td>\n",
       "            </tr><tr>\n",
       "                <td><strong>Name</strong></td><td>Rhamnosyltransferase (LPS O16 antigen biosynthesis)</td>\n",
       "            </tr><tr>\n",
       "                <td><strong>Memory address</strong></td>\n",
       "                <td>0x01ece1d12f40</td>\n",
       "            </tr><tr>\n",
       "                <td><strong>Stoichiometry</strong></td>\n",
       "                <td>\n",
       "                    <p style='text-align:right'>dtdprmn[c] + unaga[c] --> dtdp[c] + h[c] + ragund[c]</p>\n",
       "                    <p style='text-align:right'>DTDP-L-rhamnose [cytoplasm] + Undecaprenyl diphospho N-acetyl-glucosamine [cytoplasm] --> DTDP C10H13N2O11P2 [cytoplasm] + H+ [cytoplasm] + Rhamanosyl-N-acetylglucosamyl-undecaprenyl diphosphate...</p>\n",
       "                </td>\n",
       "            </tr><tr>\n",
       "                <td><strong>GPR</strong></td><td>Rv3265c and Rv1525</td>\n",
       "            </tr><tr>\n",
       "                <td><strong>Lower bound</strong></td><td>0.0</td>\n",
       "            </tr><tr>\n",
       "                <td><strong>Upper bound</strong></td><td>1000.0</td>\n",
       "            </tr>\n",
       "        </table>\n",
       "        "
      ],
      "text/plain": [
       "<Reaction O16RHAT at 0x1ece1d12f40>"
      ]
     },
     "execution_count": 18,
     "metadata": {},
     "output_type": "execute_result"
    }
   ],
   "source": [
    "list(base_mod.genes.get_by_id(L1_impGrwth[0]).reactions)[0]"
   ]
  },
  {
   "cell_type": "code",
   "execution_count": 19,
   "id": "91bcc9aa",
   "metadata": {},
   "outputs": [
    {
     "data": {
      "text/html": [
       "\n",
       "        <table>\n",
       "            <tr>\n",
       "                <td><strong>Reaction identifier</strong></td><td>GALFT</td>\n",
       "            </tr><tr>\n",
       "                <td><strong>Name</strong></td><td>Galactofuranose transferse (M tb)</td>\n",
       "            </tr><tr>\n",
       "                <td><strong>Memory address</strong></td>\n",
       "                <td>0x01ece1d12be0</td>\n",
       "            </tr><tr>\n",
       "                <td><strong>Stoichiometry</strong></td>\n",
       "                <td>\n",
       "                    <p style='text-align:right'>h2o[c] + ragund[c] + 30.0 udpgalfur[c] --> galfragund[c] + 30.0 h[c] + 30.0 udp[c]</p>\n",
       "                    <p style='text-align:right'>H2O H2O [cytoplasm] + Rhamanosyl-N-acetylglucosamyl-undecaprenyl diphosphate [cytoplasm] + 30.0 UDP-D-galacto-1,4-furanose [cytoplasm] --> Galactofuranosyl(30)-rhamanosyl-N-acetylglucosamyl-...</p>\n",
       "                </td>\n",
       "            </tr><tr>\n",
       "                <td><strong>GPR</strong></td><td>Rv3808c and Rv3782</td>\n",
       "            </tr><tr>\n",
       "                <td><strong>Lower bound</strong></td><td>0.0</td>\n",
       "            </tr><tr>\n",
       "                <td><strong>Upper bound</strong></td><td>1000.0</td>\n",
       "            </tr>\n",
       "        </table>\n",
       "        "
      ],
      "text/plain": [
       "<Reaction GALFT at 0x1ece1d12be0>"
      ]
     },
     "execution_count": 19,
     "metadata": {},
     "output_type": "execute_result"
    }
   ],
   "source": [
    "base_mod.reactions.get_by_id('GALFT')"
   ]
  },
  {
   "cell_type": "code",
   "execution_count": 20,
   "id": "913d1335",
   "metadata": {},
   "outputs": [
    {
     "data": {
      "text/html": [
       "\n",
       "        <table>\n",
       "            <tr>\n",
       "                <td><strong>Reaction identifier</strong></td><td>AFTA</td>\n",
       "            </tr><tr>\n",
       "                <td><strong>Name</strong></td><td>Arabinofuranosyl transferase (M tb)</td>\n",
       "            </tr><tr>\n",
       "                <td><strong>Memory address</strong></td>\n",
       "                <td>0x01ece1d0ca60</td>\n",
       "            </tr><tr>\n",
       "                <td><strong>Stoichiometry</strong></td>\n",
       "                <td>\n",
       "                    <p style='text-align:right'>decda_tb[c] + galfragund[c] --> agalfragund[c] + decd_tb[c]</p>\n",
       "                    <p style='text-align:right'>Decaprenylphosphoryl-beta-D-arabinofuranose [cytoplasm] + Galactofuranosyl(30)-rhamanosyl-N-acetylglucosamyl-undecaprenyl diphosphate (M tb) [cytoplasm] --> Arabinofuranose-...</p>\n",
       "                </td>\n",
       "            </tr><tr>\n",
       "                <td><strong>GPR</strong></td><td>Rv3792</td>\n",
       "            </tr><tr>\n",
       "                <td><strong>Lower bound</strong></td><td>0.0</td>\n",
       "            </tr><tr>\n",
       "                <td><strong>Upper bound</strong></td><td>1000.0</td>\n",
       "            </tr>\n",
       "        </table>\n",
       "        "
      ],
      "text/plain": [
       "<Reaction AFTA at 0x1ece1d0ca60>"
      ]
     },
     "execution_count": 20,
     "metadata": {},
     "output_type": "execute_result"
    }
   ],
   "source": [
    "base_mod.reactions.get_by_id('AFTA')"
   ]
  },
  {
   "cell_type": "code",
   "execution_count": 21,
   "id": "2244527d",
   "metadata": {},
   "outputs": [
    {
     "data": {
      "text/html": [
       "\n",
       "        <table>\n",
       "            <tr>\n",
       "                <td><strong>Reaction identifier</strong></td><td>EMB</td>\n",
       "            </tr><tr>\n",
       "                <td><strong>Name</strong></td><td>EMB</td>\n",
       "            </tr><tr>\n",
       "                <td><strong>Memory address</strong></td>\n",
       "                <td>0x01ece1d19f40</td>\n",
       "            </tr><tr>\n",
       "                <td><strong>Stoichiometry</strong></td>\n",
       "                <td>\n",
       "                    <p style='text-align:right'>agalfragund[c] + 70.0 decda_tb[c] <=> arabinanagalfragund[c] + 70.0 decd_tb[c]</p>\n",
       "                    <p style='text-align:right'>Arabinofuranose-galactofuranosyl(30)-rhamanosyl-N-acetylglucosamyl-undecaprenyl diphosphate (M tb) [cytoplasm] + 70.0 Decaprenylphosphoryl-beta-D-arabinofuranose [cytoplasm] <=> Arabinan-...</p>\n",
       "                </td>\n",
       "            </tr><tr>\n",
       "                <td><strong>GPR</strong></td><td>Rv3794 and Rv3795 and Rv3793 and Rv2673 and Rv3805c</td>\n",
       "            </tr><tr>\n",
       "                <td><strong>Lower bound</strong></td><td>-1000.0</td>\n",
       "            </tr><tr>\n",
       "                <td><strong>Upper bound</strong></td><td>1000.0</td>\n",
       "            </tr>\n",
       "        </table>\n",
       "        "
      ],
      "text/plain": [
       "<Reaction EMB at 0x1ece1d19f40>"
      ]
     },
     "execution_count": 21,
     "metadata": {},
     "output_type": "execute_result"
    }
   ],
   "source": [
    "base_mod.reactions.get_by_id('EMB')"
   ]
  },
  {
   "cell_type": "markdown",
   "id": "5eada66d",
   "metadata": {},
   "source": [
    "**L1) Rv1525:** probable rhamnosyl transferase WbbL2. Not essential in rich medium in h37Rv. Essential in in vitro growth of h37Rv by Himar1 transposon lybrary. It is found to be deleted -partially or completely- in many clinical isolates. So there should be some gene in these isolates that is not present in h37Rv. Possibly involved in cell wall arabinogalactan linker formation: Uses dTDP-L-rhamnose as substrate to insert the rhamnosyl residue into the cell wall (Mycobrowser). This is the deletion that is causing L1 to not grow. First step in arabinogalactan biosynthesis. Only gene in this pathway that is not essential in H37Rv. 3 reactions upstream EMB (arabinogalactan production), which when mutated has been linked to ethambutol resistance (https://journals.asm.org/doi/10.1128/AAC.04933-14#T2). In this paper they see differences in SNPs related to ethambutol resistance in L1 isolates, but the isolates are sensitive to ethambutol (https://www.ncbi.nlm.nih.gov/pmc/articles/PMC4841212/)."
   ]
  },
  {
   "cell_type": "code",
   "execution_count": 22,
   "id": "5ae404a3",
   "metadata": {},
   "outputs": [
    {
     "name": "stderr",
     "output_type": "stream",
     "text": [
      "Minimization of medium was infeasible.\n"
     ]
    }
   ],
   "source": [
    "minimal_medium(L1, 0.28)"
   ]
  },
  {
   "cell_type": "markdown",
   "id": "68428ae2",
   "metadata": {},
   "source": [
    "#### L8"
   ]
  },
  {
   "cell_type": "code",
   "execution_count": 23,
   "id": "f2517820",
   "metadata": {},
   "outputs": [],
   "source": [
    "L8 = cobra.io.load_json_model(join(delsSGsnps_mod_dir, \"L8_delsSGsnps.json\"))"
   ]
  },
  {
   "cell_type": "code",
   "execution_count": 24,
   "id": "41f191ad",
   "metadata": {},
   "outputs": [],
   "source": [
    "L8_dels = list(delMat.loc[delMat['L8'] == 0.0, 'L8'].index)"
   ]
  },
  {
   "cell_type": "code",
   "execution_count": 25,
   "id": "d82c93c9",
   "metadata": {},
   "outputs": [
    {
     "name": "stdout",
     "output_type": "stream",
     "text": [
      "Growth with Rv2860c deleted: 0.3683291764340529\n",
      "Growth with Rv2713 deleted: 0.3683291764340529\n",
      "Growth with Rv0075 deleted: 0.3683291764340529\n",
      "Growth with Rv2505c deleted: 0.3683291764340529\n",
      "Growth with Rv2948c deleted: 0.3683291764340529\n",
      "Growth with Rv3281 deleted: 0.0\n",
      "Growth with Rv2349c deleted: 0.3683291764340529\n",
      "Growth with Rv0114 deleted: 0.36832917643404856\n",
      "Growth with Rv0113 deleted: 0.3683291764340507\n",
      "Growth with Rv3378c deleted: 0.36832917643405716\n",
      "Growth with Rv1820 deleted: 0.3683291764340529\n"
     ]
    }
   ],
   "source": [
    "\"\"\"Check what are the genes that are causing the flux to be zero.\"\"\"\n",
    "L8_toDelMuts = testDelsFun(L8_dels)\n",
    "L8_impGrwth = L8_toDelMuts.loc[L8_toDelMuts['BM'] == 0]['gene'].tolist()"
   ]
  },
  {
   "cell_type": "markdown",
   "id": "bee3053f",
   "metadata": {},
   "source": [
    "**L2)</b> Rv3281:** It is essential for \n",
    "in vitro growth of h37Rv in different media. Probable bifunctional protein \n",
    "acetyl-/propionyl-coenzyme A carboxylase (epsilon chain) AccE5Involved in \n",
    "long-chain fatty acid synthesis (Mycobrowser). This is the deletion that is causing L2 to not grow. The rest are SNPs."
   ]
  },
  {
   "cell_type": "code",
   "execution_count": 26,
   "id": "3a012603",
   "metadata": {},
   "outputs": [
    {
     "data": {
      "text/html": [
       "\n",
       "        <table>\n",
       "            <tr>\n",
       "                <td><strong>Gene identifier</strong></td><td>Rv3281</td>\n",
       "            </tr><tr>\n",
       "                <td><strong>Name</strong></td><td></td>\n",
       "            </tr><tr>\n",
       "                <td><strong>Memory address</strong></td>\n",
       "                <td>0x01ece1c7a3a0</td>\n",
       "            </tr><tr>\n",
       "                <td><strong>Functional</strong></td><td>True</td>\n",
       "            </tr><tr>\n",
       "                <td><strong>In 2 reaction(s)</strong></td><td>\n",
       "                    MCD, PPCOAC</td>\n",
       "            </tr>\n",
       "        </table>"
      ],
      "text/plain": [
       "<Gene Rv3281 at 0x1ece1c7a3a0>"
      ]
     },
     "execution_count": 26,
     "metadata": {},
     "output_type": "execute_result"
    }
   ],
   "source": [
    "base_mod.genes.get_by_id(L8_impGrwth[0])"
   ]
  },
  {
   "cell_type": "code",
   "execution_count": 27,
   "id": "1b04115a",
   "metadata": {},
   "outputs": [
    {
     "data": {
      "text/html": [
       "\n",
       "        <table>\n",
       "            <tr>\n",
       "                <td><strong>Reaction identifier</strong></td><td>MCD</td>\n",
       "            </tr><tr>\n",
       "                <td><strong>Name</strong></td><td>Malonyl-CoA Decarboxylase cytoplasmic</td>\n",
       "            </tr><tr>\n",
       "                <td><strong>Memory address</strong></td>\n",
       "                <td>0x01ece1ebb730</td>\n",
       "            </tr><tr>\n",
       "                <td><strong>Stoichiometry</strong></td>\n",
       "                <td>\n",
       "                    <p style='text-align:right'>h[c] + malcoa[c] --> accoa[c] + co2[c]</p>\n",
       "                    <p style='text-align:right'>H+ [cytoplasm] + Malonyl CoA C24H33N7O19P3S [cytoplasm] --> Acetyl-CoA [cytoplasm] + CO2 CO2 [cytoplasm]</p>\n",
       "                </td>\n",
       "            </tr><tr>\n",
       "                <td><strong>GPR</strong></td><td>Rv2247 and Rv3799c and Rv3280 and Rv3281 and Rv3285</td>\n",
       "            </tr><tr>\n",
       "                <td><strong>Lower bound</strong></td><td>0.0</td>\n",
       "            </tr><tr>\n",
       "                <td><strong>Upper bound</strong></td><td>1000.0</td>\n",
       "            </tr>\n",
       "        </table>\n",
       "        "
      ],
      "text/plain": [
       "<Reaction MCD at 0x1ece1ebb730>"
      ]
     },
     "execution_count": 27,
     "metadata": {},
     "output_type": "execute_result"
    }
   ],
   "source": [
    "list(base_mod.genes.get_by_id(L8_impGrwth[0]).reactions)[0]"
   ]
  },
  {
   "cell_type": "code",
   "execution_count": 28,
   "id": "d9b5866c",
   "metadata": {},
   "outputs": [
    {
     "data": {
      "text/html": [
       "\n",
       "        <table>\n",
       "            <tr>\n",
       "                <td><strong>Reaction identifier</strong></td><td>PPCOAC</td>\n",
       "            </tr><tr>\n",
       "                <td><strong>Name</strong></td><td>Propionyl-CoA carboxylase</td>\n",
       "            </tr><tr>\n",
       "                <td><strong>Memory address</strong></td>\n",
       "                <td>0x01ece2143af0</td>\n",
       "            </tr><tr>\n",
       "                <td><strong>Stoichiometry</strong></td>\n",
       "                <td>\n",
       "                    <p style='text-align:right'>atp[c] + hco3[c] + ppcoa[c] --> adp[c] + h[c] + mmcoa__S[c] + pi[c]</p>\n",
       "                    <p style='text-align:right'>ATP C10H12N5O13P3 [cytoplasm] + Bicarbonate [cytoplasm] + Propanoyl-CoA [cytoplasm] --> ADP C10H12N5O10P2 [cytoplasm] + H+ [cytoplasm] + (S)-Methylmalonyl-CoA [cytoplasm] + Phosphate [cytoplasm]</p>\n",
       "                </td>\n",
       "            </tr><tr>\n",
       "                <td><strong>GPR</strong></td><td>Rv3285 and Rv3280 and Rv3281</td>\n",
       "            </tr><tr>\n",
       "                <td><strong>Lower bound</strong></td><td>0.0</td>\n",
       "            </tr><tr>\n",
       "                <td><strong>Upper bound</strong></td><td>1000.0</td>\n",
       "            </tr>\n",
       "        </table>\n",
       "        "
      ],
      "text/plain": [
       "<Reaction PPCOAC at 0x1ece2143af0>"
      ]
     },
     "execution_count": 28,
     "metadata": {},
     "output_type": "execute_result"
    }
   ],
   "source": [
    "list(base_mod.genes.get_by_id(L8_impGrwth[0]).reactions)[1]"
   ]
  },
  {
   "cell_type": "markdown",
   "id": "3ff15dad",
   "metadata": {},
   "source": [
    "### Re-build models keeping Rv1525 in L1 and Rv3281 in L8"
   ]
  },
  {
   "cell_type": "code",
   "execution_count": 29,
   "id": "f93014ef",
   "metadata": {},
   "outputs": [],
   "source": [
    "delMat.loc[delMat.index == 'Rv1525', 'L1'] = 1"
   ]
  },
  {
   "cell_type": "code",
   "execution_count": 30,
   "id": "aba8a921",
   "metadata": {},
   "outputs": [],
   "source": [
    "delMat.loc[delMat.index == 'Rv3281', 'L8'] = 1"
   ]
  },
  {
   "cell_type": "markdown",
   "id": "d488eaa1",
   "metadata": {},
   "source": [
    "##### Create a version of delMat, accounting for genes to remove, with the definitive genes that were removed from each model (only accounting for deletions and stop gain SNPs"
   ]
  },
  {
   "cell_type": "code",
   "execution_count": 31,
   "id": "42ef9259",
   "metadata": {},
   "outputs": [],
   "source": [
    "delMat.to_csv(res_dir + 'del_SGSNPs_mat_cur.csv')"
   ]
  },
  {
   "cell_type": "code",
   "execution_count": 32,
   "id": "4bc4fb3a",
   "metadata": {},
   "outputs": [
    {
     "name": "stdout",
     "output_type": "stream",
     "text": [
      "A1_cur.json saved at ../results/built_models/delsSGsnps_mods/cur/.\n",
      "A2_cur.json saved at ../results/built_models/delsSGsnps_mods/cur/.\n",
      "A3_cur.json saved at ../results/built_models/delsSGsnps_mods/cur/.\n",
      "A4_cur.json saved at ../results/built_models/delsSGsnps_mods/cur/.\n",
      "L1_cur.json saved at ../results/built_models/delsSGsnps_mods/cur/.\n",
      "L2_cur.json saved at ../results/built_models/delsSGsnps_mods/cur/.\n",
      "L3_cur.json saved at ../results/built_models/delsSGsnps_mods/cur/.\n",
      "L4_cur.json saved at ../results/built_models/delsSGsnps_mods/cur/.\n",
      "L5_cur.json saved at ../results/built_models/delsSGsnps_mods/cur/.\n",
      "L6_cur.json saved at ../results/built_models/delsSGsnps_mods/cur/.\n",
      "L7_cur.json saved at ../results/built_models/delsSGsnps_mods/cur/.\n",
      "L8_cur.json saved at ../results/built_models/delsSGsnps_mods/cur/.\n",
      "L9_cur.json saved at ../results/built_models/delsSGsnps_mods/cur/.\n"
     ]
    }
   ],
   "source": [
    "#create lineage-specific draft models and save them\n",
    "for lin in delMat.columns:\n",
    "    \n",
    "    #Get the list of Gene IDs from the homology matrix dataframe for the current strain without a homolog\n",
    "    currentStrain=delMat[lin]\n",
    "    nonHomologous=currentStrain[currentStrain==0.0]\n",
    "    nonHomologous=nonHomologous.index.tolist()\n",
    "    \n",
    "    #Define a list of Gene objects from the base reconstruction to be deleted from the current strain\n",
    "    toDelete=[]\n",
    "    for gene in nonHomologous:\n",
    "        toDelete.append(base_mod.genes.get_by_id(gene))\n",
    "\n",
    "    #Establish a model copy and use the COBRApy function to remove the appropriate content and save this model\n",
    "    modelCopy=base_mod.copy()\n",
    "    remove_genes(modelCopy, toDelete, remove_reactions=True)\n",
    "    modelCopy.id=str(lin)\n",
    "    cobra.io.json.save_json_model(modelCopy, str(delsSGsnps_mod_dir_cur+lin+'_cur.json'), pretty=False)\n",
    "    print('%s_cur.json saved at %s.'%(lin, delsSGsnps_mod_dir_cur))"
   ]
  },
  {
   "cell_type": "code",
   "execution_count": 33,
   "id": "ebd05869",
   "metadata": {},
   "outputs": [],
   "source": [
    "mod_files_delsSGsnps_cur = os.listdir(delsSGsnps_mod_dir_cur)"
   ]
  },
  {
   "cell_type": "code",
   "execution_count": 34,
   "id": "c8ceedae",
   "metadata": {},
   "outputs": [
    {
     "name": "stdout",
     "output_type": "stream",
     "text": [
      "A1 growth, BIOMASS__2 as objective: 0.28273953081815817\n",
      "A2 growth, BIOMASS__2 as objective: 0.28273953081815884\n",
      "A3 growth, BIOMASS__2 as objective: 0.28273953081816244\n",
      "A4 growth, BIOMASS__2 as objective: 0.2827309659014642\n",
      "L1 growth, BIOMASS__2 as objective: 0.28273953081815884\n",
      "L2 growth, BIOMASS__2 as objective: 0.2827395308181594\n",
      "L3 growth, BIOMASS__2 as objective: 0.28273953081815884\n",
      "L4 growth, BIOMASS__2 as objective: 0.28273953081815884\n",
      "L5 growth, BIOMASS__2 as objective: 0.28273953081815884\n",
      "L6 growth, BIOMASS__2 as objective: 0.28273953081815884\n",
      "L7 growth, BIOMASS__2 as objective: 0.28273953081815884\n",
      "L8 growth, BIOMASS__2 as objective: 0.28273953081816183\n",
      "L9 growth, BIOMASS__2 as objective: 0.28273953081815884\n"
     ]
    }
   ],
   "source": [
    "#Load each target lineage model, initialize it to Middlebrock 7H10 media and see if the model can optimize for\n",
    "# biomass production\n",
    "for model in mod_files_delsSGsnps_cur:\n",
    "    mod=cobra.io.load_json_model(delsSGsnps_mod_dir_cur + model)\n",
    "    mod.medium = mi7H10Med\n",
    "    mod.objective = 'BIOMASS__2'\n",
    "    print ('%s growth, BIOMASS__2 as objective: %s'%(mod.id, str(mod.slim_optimize())))\n",
    "    #mod.objective = 'BIOMASS__2.1'\n",
    "    #print ('%s growth, BIOMASS__2.1 as objective: %s'%(mod.id, str(mod.slim_optimize())))"
   ]
  },
  {
   "cell_type": "markdown",
   "id": "1c92bbd8",
   "metadata": {},
   "source": [
    "### Test the effect of pykA mutation.\n",
    "pikA mutation is in all M. bovis strains and causes that it needs a supplement of pyruvate to grow in 7H9 ADC medium. See if removing it from A4 model we can mimick this behaviour"
   ]
  },
  {
   "cell_type": "code",
   "execution_count": 31,
   "id": "3be6f03f",
   "metadata": {},
   "outputs": [],
   "source": [
    "# Load the A4 model\n",
    "A4 = cobra.io.load_json_model(join(delsSGsnps_mod_dir, \"A4_delsSGsnps.json\"))"
   ]
  },
  {
   "cell_type": "code",
   "execution_count": 32,
   "id": "b14606b0",
   "metadata": {},
   "outputs": [
    {
     "data": {
      "text/plain": [
       "0.3715514850777688"
      ]
     },
     "execution_count": 32,
     "metadata": {},
     "output_type": "execute_result"
    }
   ],
   "source": [
    "A4.slim_optimize()"
   ]
  },
  {
   "cell_type": "code",
   "execution_count": 33,
   "id": "b19bafcb",
   "metadata": {},
   "outputs": [
    {
     "data": {
      "text/html": [
       "\n",
       "        <table>\n",
       "            <tr>\n",
       "                <td><strong>Gene identifier</strong></td><td>Rv1617</td>\n",
       "            </tr><tr>\n",
       "                <td><strong>Name</strong></td><td></td>\n",
       "            </tr><tr>\n",
       "                <td><strong>Memory address</strong></td>\n",
       "                <td>0x0297050244c0</td>\n",
       "            </tr><tr>\n",
       "                <td><strong>Functional</strong></td><td>True</td>\n",
       "            </tr><tr>\n",
       "                <td><strong>In 1 reaction(s)</strong></td><td>\n",
       "                    PYK</td>\n",
       "            </tr>\n",
       "        </table>"
      ],
      "text/plain": [
       "<Gene Rv1617 at 0x297050244c0>"
      ]
     },
     "execution_count": 33,
     "metadata": {},
     "output_type": "execute_result"
    }
   ],
   "source": [
    "A4.genes.get_by_id('Rv1617')"
   ]
  },
  {
   "cell_type": "code",
   "execution_count": 34,
   "id": "d0934106",
   "metadata": {},
   "outputs": [],
   "source": [
    "# Switch off PYK reaction\n",
    "A4.reactions.get_by_id('PYK').bounds = (0.0, 0.0)"
   ]
  },
  {
   "cell_type": "code",
   "execution_count": 35,
   "id": "43b7048e",
   "metadata": {},
   "outputs": [
    {
     "data": {
      "text/html": [
       "\n",
       "        <table>\n",
       "            <tr>\n",
       "                <td><strong>Reaction identifier</strong></td><td>PYK</td>\n",
       "            </tr><tr>\n",
       "                <td><strong>Name</strong></td><td>Pyruvate kinase</td>\n",
       "            </tr><tr>\n",
       "                <td><strong>Memory address</strong></td>\n",
       "                <td>0x029705193a60</td>\n",
       "            </tr><tr>\n",
       "                <td><strong>Stoichiometry</strong></td>\n",
       "                <td>\n",
       "                    <p style='text-align:right'>adp[c] + h[c] + pep[c] --> atp[c] + pyr[c]</p>\n",
       "                    <p style='text-align:right'>ADP C10H12N5O10P2 [cytoplasm] + H+ [cytoplasm] + Phosphoenolpyruvate [cytoplasm] --> ATP C10H12N5O13P3 [cytoplasm] + Pyruvate [cytoplasm]</p>\n",
       "                </td>\n",
       "            </tr><tr>\n",
       "                <td><strong>GPR</strong></td><td>Rv1617</td>\n",
       "            </tr><tr>\n",
       "                <td><strong>Lower bound</strong></td><td>0.0</td>\n",
       "            </tr><tr>\n",
       "                <td><strong>Upper bound</strong></td><td>0.0</td>\n",
       "            </tr>\n",
       "        </table>\n",
       "        "
      ],
      "text/plain": [
       "<Reaction PYK at 0x29705193a60>"
      ]
     },
     "execution_count": 35,
     "metadata": {},
     "output_type": "execute_result"
    }
   ],
   "source": [
    "A4.reactions.get_by_id('PYK')"
   ]
  },
  {
   "cell_type": "code",
   "execution_count": 36,
   "id": "b767bef5",
   "metadata": {},
   "outputs": [],
   "source": [
    "# Create 7H9 ADC glycerol medium from 7H9 OADC\n",
    "mi7H9_ADC_Med_glyc = cp.copy(mi7H9_OADC_Med)"
   ]
  },
  {
   "cell_type": "code",
   "execution_count": 37,
   "id": "91bf48c0",
   "metadata": {},
   "outputs": [],
   "source": [
    "mi7H9_ADC_Med_glyc['EX_ocdca_e'] = 0"
   ]
  },
  {
   "cell_type": "code",
   "execution_count": 38,
   "id": "e4ef6fec",
   "metadata": {},
   "outputs": [],
   "source": [
    "mi7H9_ADC_Med_glyc['EX_glyc_e'] = 1000"
   ]
  },
  {
   "cell_type": "markdown",
   "id": "9ba91464",
   "metadata": {},
   "source": [
    "Put base model and A4 model with pykA switched off in 7H9 ADC glycerol medium"
   ]
  },
  {
   "cell_type": "code",
   "execution_count": 39,
   "id": "c7b29bf7",
   "metadata": {},
   "outputs": [],
   "source": [
    "A4.medium = mi7H9_ADC_Med_glyc\n",
    "base_mod.medium = mi7H9_ADC_Med_glyc"
   ]
  },
  {
   "cell_type": "code",
   "execution_count": 40,
   "id": "70442356",
   "metadata": {},
   "outputs": [
    {
     "data": {
      "text/plain": [
       "1.5027368595053046"
      ]
     },
     "execution_count": 40,
     "metadata": {},
     "output_type": "execute_result"
    }
   ],
   "source": [
    "A4.slim_optimize()"
   ]
  },
  {
   "cell_type": "code",
   "execution_count": 41,
   "id": "4484d540",
   "metadata": {},
   "outputs": [
    {
     "data": {
      "text/plain": [
       "1.5027368595053945"
      ]
     },
     "execution_count": 41,
     "metadata": {},
     "output_type": "execute_result"
    }
   ],
   "source": [
    "base_mod.slim_optimize()"
   ]
  },
  {
   "cell_type": "markdown",
   "id": "11ffe1c8",
   "metadata": {},
   "source": [
    "Despite having pykA removed, a mutation in bovis known to produce strains unable to grow in glycerol, both models grow the same. Examine fluxes"
   ]
  },
  {
   "cell_type": "code",
   "execution_count": 42,
   "id": "22b74919",
   "metadata": {},
   "outputs": [],
   "source": [
    "A4_sol = A4.optimize()"
   ]
  },
  {
   "cell_type": "code",
   "execution_count": 43,
   "id": "6f49f4ac",
   "metadata": {},
   "outputs": [
    {
     "data": {
      "text/plain": [
       "EX_acysbmn_e     0.000000e+00\n",
       "EX_ala_B_e       0.000000e+00\n",
       "EX_ala__D_e      0.000000e+00\n",
       "EX_ala__L_e      0.000000e+00\n",
       "EX_arab__D_e     0.000000e+00\n",
       "EX_arab__L_e     0.000000e+00\n",
       "EX_arg__L_e      0.000000e+00\n",
       "EX_asn__L_e      0.000000e+00\n",
       "EX_asp__L_e      0.000000e+00\n",
       "EX_atp_e         0.000000e+00\n",
       "EX_bmn_e         0.000000e+00\n",
       "EX_ca2_e         0.000000e+00\n",
       "EX_chol_e        0.000000e+00\n",
       "EX_cit_e        -1.000000e+00\n",
       "EX_cl_e          0.000000e+00\n",
       "EX_co2_e         0.000000e+00\n",
       "EX_coa_e         0.000000e+00\n",
       "EX_cobalt2_e     0.000000e+00\n",
       "EX_crn_e         0.000000e+00\n",
       "EX_cu2_e         0.000000e+00\n",
       "EX_cytd_e        5.357400e-01\n",
       "EX_etha_e        0.000000e+00\n",
       "EX_fe2_e         0.000000e+00\n",
       "EX_fe3_e        -8.415326e-03\n",
       "EX_fum_e         0.000000e+00\n",
       "EX_gal_e         0.000000e+00\n",
       "EX_glc__D_e     -1.000000e+00\n",
       "EX_glu__L_e     -1.000000e+00\n",
       "EX_gly_e         0.000000e+00\n",
       "EX_glyb_e        0.000000e+00\n",
       "EX_glyc3p_e      0.000000e+00\n",
       "EX_glyc_e       -9.598947e+02\n",
       "EX_gthrd_e       0.000000e+00\n",
       "EX_h2_e          3.434574e+02\n",
       "EX_h2co3_e       0.000000e+00\n",
       "EX_h2o_e         1.000000e+03\n",
       "EX_h2s_e         0.000000e+00\n",
       "EX_h_e           9.881172e+02\n",
       "EX_hdca_e        0.000000e+00\n",
       "EX_his__L_e      0.000000e+00\n",
       "EX_id3acald_e    0.000000e+00\n",
       "EX_ile__L_e      0.000000e+00\n",
       "EX_k_e           0.000000e+00\n",
       "EX_lac__L_e      3.631725e+01\n",
       "EX_lcts_e        0.000000e+00\n",
       "EX_leu__L_e      0.000000e+00\n",
       "EX_lys__L_e      4.503672e-01\n",
       "EX_mal__L_e      0.000000e+00\n",
       "EX_malt_e        0.000000e+00\n",
       "EX_malthp_e      0.000000e+00\n",
       "EX_meoh_e        0.000000e+00\n",
       "EX_met__L_e      0.000000e+00\n",
       "EX_mg2_e         0.000000e+00\n",
       "EX_na1_e         0.000000e+00\n",
       "EX_nh4_e        -1.000000e+01\n",
       "EX_no2_e         0.000000e+00\n",
       "EX_no3_e         0.000000e+00\n",
       "EX_no_e          0.000000e+00\n",
       "EX_o2_e         -2.000000e+01\n",
       "EX_ocdca_e       0.000000e+00\n",
       "EX_orn_e         0.000000e+00\n",
       "EX_pac_e         6.959159e-01\n",
       "EX_pdima_e       3.859327e+00\n",
       "EX_phdca_e       0.000000e+00\n",
       "EX_phe__L_e      1.669135e-01\n",
       "EX_pi_e         -1.000000e+00\n",
       "EX_ppa_e         0.000000e+00\n",
       "EX_ppdima_e      0.000000e+00\n",
       "EX_pro__L_e      0.000000e+00\n",
       "EX_pyr_e         0.000000e+00\n",
       "EX_rib__D_e      0.000000e+00\n",
       "EX_ser__D_e      0.000000e+00\n",
       "EX_ser__L_e      0.000000e+00\n",
       "EX_skm_e         0.000000e+00\n",
       "EX_so4_e        -2.001089e-01\n",
       "EX_succ_e        4.254897e+02\n",
       "EX_tartr__L_e    0.000000e+00\n",
       "EX_thr__L_e      0.000000e+00\n",
       "EX_tre_e         0.000000e+00\n",
       "EX_trp__L_e      0.000000e+00\n",
       "EX_tsul_e        0.000000e+00\n",
       "EX_ttdca_e       0.000000e+00\n",
       "EX_tyr__L_e      0.000000e+00\n",
       "EX_val__L_e      0.000000e+00\n",
       "EX_ac_e          7.265462e-01\n",
       "EX_4abz_e        0.000000e+00\n",
       "EX_for_e         0.000000e+00\n",
       "EX_akg_e         0.000000e+00\n",
       "EX_gua_e         0.000000e+00\n",
       "EX_ad_e          0.000000e+00\n",
       "EX_urea_e        0.000000e+00\n",
       "EX_ni2_e         0.000000e+00\n",
       "EX_mn2_e         0.000000e+00\n",
       "EX_chsterol_e    0.000000e+00\n",
       "EX_4hba_e        1.202189e-03\n",
       "EX_pydxn_e       0.000000e+00\n",
       "EX_glyclt_e      2.404379e-03\n",
       "EX_co_e          0.000000e+00\n",
       "EX_pheme_e       6.855526e-16\n",
       "EX_hia_e        -2.025934e-16\n",
       "EX_acald_e       0.000000e+00\n",
       "EX_ocdcea_e      2.741489e+01\n",
       "EX_gln__L_e      0.000000e+00\n",
       "EX_etoh_e        1.925333e+01\n",
       "EX_adocbl_e      0.000000e+00\n",
       "EX_mobd_e        0.000000e+00\n",
       "EX_btn_e         0.000000e+00\n",
       "EX_nodcoa_e      0.000000e+00\n",
       "EX_octscoa_e     0.000000e+00\n",
       "EX_pc_TB_e       0.000000e+00\n",
       "HEX1             0.000000e+00\n",
       "HEXTT            1.773229e-02\n",
       "EX_cbi_e         0.000000e+00\n",
       "Name: fluxes, dtype: float64"
      ]
     },
     "execution_count": 43,
     "metadata": {},
     "output_type": "execute_result"
    }
   ],
   "source": [
    "A4_sol.fluxes.loc[['EX' in x for x in A4_sol.fluxes.index]]"
   ]
  },
  {
   "cell_type": "markdown",
   "id": "0fa6b148",
   "metadata": {},
   "source": [
    "Try to remove glycerol from BIOMASS__2 equation"
   ]
  },
  {
   "cell_type": "code",
   "execution_count": 44,
   "id": "dd2f6e92",
   "metadata": {},
   "outputs": [],
   "source": [
    "bmMets = list(base_mod.reactions.get_by_id('BIOMASS__2').metabolites.keys())\n",
    "bmCustDict = {}\n",
    "for m in bmMets:\n",
    "    if m.id != 'glyc[c]':\n",
    "        bmCustDict[m] = base_mod.reactions.get_by_id('BIOMASS__2').metabolites[m]"
   ]
  },
  {
   "cell_type": "code",
   "execution_count": 45,
   "id": "be42d237",
   "metadata": {},
   "outputs": [],
   "source": [
    "bm = Reaction('BIOMASS__2')\n",
    "bm.name = '_R_BIOMASS_2 without glyc[c]'\n",
    "bm.subsystem = 'Biomass and maintenance functions'\n",
    "bm.lower_bound = 0.\n",
    "bm.upper_bound = 1000.\n",
    "bm.add_metabolites(bmCustDict)"
   ]
  },
  {
   "cell_type": "code",
   "execution_count": 46,
   "id": "69e0dc12",
   "metadata": {},
   "outputs": [],
   "source": [
    "A4.remove_reactions(['BIOMASS__2'])"
   ]
  },
  {
   "cell_type": "code",
   "execution_count": 47,
   "id": "e4f42736",
   "metadata": {},
   "outputs": [],
   "source": [
    "A4.add_reactions([bm])"
   ]
  },
  {
   "cell_type": "code",
   "execution_count": 48,
   "id": "7c097f25",
   "metadata": {},
   "outputs": [],
   "source": [
    "A4.objective = 'BIOMASS__2'"
   ]
  },
  {
   "cell_type": "code",
   "execution_count": 49,
   "id": "8e82bf84",
   "metadata": {},
   "outputs": [
    {
     "data": {
      "text/html": [
       "\n",
       "        <table>\n",
       "            <tr>\n",
       "                <td><strong>Reaction identifier</strong></td><td>BIOMASS__2</td>\n",
       "            </tr><tr>\n",
       "                <td><strong>Name</strong></td><td>_R_BIOMASS_2 without glyc[c]</td>\n",
       "            </tr><tr>\n",
       "                <td><strong>Memory address</strong></td>\n",
       "                <td>0x029702c03430</td>\n",
       "            </tr><tr>\n",
       "                <td><strong>Stoichiometry</strong></td>\n",
       "                <td>\n",
       "                    <p style='text-align:right'>0.2352 14glucan[c] + 0.001681 Ac1PIM1[c] + 0.001488 Ac1PIM2[c] + 0.001335 Ac1PIM3[c] + 0.001211 Ac1PIM4[c] + 0.001274 Ac2PIM2[c] + 0.001573 PIM3[c] + 0.001403 PIM4[c] + 0.001266 PIM5[c] + 0.001154...</p>\n",
       "                    <p style='text-align:right'>0.2352 1,4-alpha-D-glucan [cytoplasm] + 0.001681 Acyl phosphatidylinositol mannoside (tuberculosis) [cytoplasm] + 0.001488 Acyl phosphatidylinositol mannoside di-mannose (tuberculosis) [cytoplasm]...</p>\n",
       "                </td>\n",
       "            </tr><tr>\n",
       "                <td><strong>GPR</strong></td><td></td>\n",
       "            </tr><tr>\n",
       "                <td><strong>Lower bound</strong></td><td>0.0</td>\n",
       "            </tr><tr>\n",
       "                <td><strong>Upper bound</strong></td><td>1000.0</td>\n",
       "            </tr>\n",
       "        </table>\n",
       "        "
      ],
      "text/plain": [
       "<Reaction BIOMASS__2 at 0x29702c03430>"
      ]
     },
     "execution_count": 49,
     "metadata": {},
     "output_type": "execute_result"
    }
   ],
   "source": [
    "A4.reactions.get_by_id('BIOMASS__2')"
   ]
  },
  {
   "cell_type": "code",
   "execution_count": 50,
   "id": "146c901e",
   "metadata": {},
   "outputs": [
    {
     "data": {
      "text/plain": [
       "1.5027368594834403"
      ]
     },
     "execution_count": 50,
     "metadata": {},
     "output_type": "execute_result"
    }
   ],
   "source": [
    "A4.slim_optimize()"
   ]
  },
  {
   "cell_type": "code",
   "execution_count": 51,
   "id": "34d5fd6c",
   "metadata": {},
   "outputs": [],
   "source": [
    "base_mod.remove_reactions(['BIOMASS__2'])"
   ]
  },
  {
   "cell_type": "code",
   "execution_count": 52,
   "id": "ce17d76c",
   "metadata": {},
   "outputs": [],
   "source": [
    "base_mod.add_reactions([bm])"
   ]
  },
  {
   "cell_type": "code",
   "execution_count": 53,
   "id": "42fec845",
   "metadata": {},
   "outputs": [],
   "source": [
    "base_mod.objective = 'BIOMASS__2'"
   ]
  },
  {
   "cell_type": "code",
   "execution_count": 54,
   "id": "3e58c334",
   "metadata": {},
   "outputs": [
    {
     "data": {
      "text/plain": [
       "1.5027368595052308"
      ]
     },
     "execution_count": 54,
     "metadata": {},
     "output_type": "execute_result"
    }
   ],
   "source": [
    "base_mod.slim_optimize()"
   ]
  },
  {
   "cell_type": "code",
   "execution_count": 55,
   "id": "ad5724b8",
   "metadata": {},
   "outputs": [],
   "source": [
    "base_mod.medium = mi7H10Med"
   ]
  },
  {
   "cell_type": "code",
   "execution_count": 56,
   "id": "ab4db26d",
   "metadata": {},
   "outputs": [],
   "source": [
    "A4_sol = A4.optimize().fluxes"
   ]
  },
  {
   "cell_type": "code",
   "execution_count": 57,
   "id": "cd328103",
   "metadata": {},
   "outputs": [
    {
     "data": {
      "text/plain": [
       "ABTA                   0.000000e+00\n",
       "AGMT                   0.000000e+00\n",
       "ALAD_L                 0.000000e+00\n",
       "ARGDC                  0.000000e+00\n",
       "ARGSL                  1.809596e-01\n",
       "ARGSS                  1.809596e-01\n",
       "ASNN                   0.000000e+00\n",
       "ASNS1                  7.167905e-02\n",
       "ASP1DC                 2.945364e-02\n",
       "ASPO5                  4.327882e-02\n",
       "ASPTA                 -3.431071e+00\n",
       "GF6PTA                 4.961466e-01\n",
       "GLNS                   2.779426e+00\n",
       "GLUCYS                 0.000000e+00\n",
       "GLUDC                  0.000000e+00\n",
       "GLUDxi                -7.824469e+00\n",
       "GLUR                  -6.263257e-02\n",
       "GLUSy                  0.000000e+00\n",
       "GTHOr                  0.000000e+00\n",
       "NADS2                  4.327882e-02\n",
       "OPAH                   0.000000e+00\n",
       "P5CD                   0.000000e+00\n",
       "SSALx                  0.000000e+00\n",
       "SSALy                  0.000000e+00\n",
       "HOAS                   0.000000e+00\n",
       "SR1                    0.000000e+00\n",
       "ASPO6                  0.000000e+00\n",
       "ACS2                   0.000000e+00\n",
       "AGDC                   0.000000e+00\n",
       "DGC3D                  0.000000e+00\n",
       "G1PACT                 4.961466e-01\n",
       "GALKr                  0.000000e+00\n",
       "GALUi                  4.413734e-01\n",
       "GLGC                   0.000000e+00\n",
       "GLYK                   2.321080e+02\n",
       "LACZ                   0.000000e+00\n",
       "MALT                   0.000000e+00\n",
       "MMSAD1                 0.000000e+00\n",
       "MN6PP                  1.428577e-01\n",
       "MTI                    3.534437e-01\n",
       "THZPSN                 1.202189e-03\n",
       "UAGCVT                 6.682971e-02\n",
       "UAGDP                  1.502466e-01\n",
       "UAPGR                  6.682971e-02\n",
       "XYLK                   0.000000e+00\n",
       "TREP                   0.000000e+00\n",
       "HIBD                  -1.476708e-12\n",
       "MANPGH                 0.000000e+00\n",
       "ACGAMPM                0.000000e+00\n",
       "ACGAMT                 1.098501e-03\n",
       "AFTA                   1.098501e-03\n",
       "ALAALAr                6.263257e-02\n",
       "ALAR                   1.252651e-01\n",
       "DCPDPP                 7.799355e-02\n",
       "DCPE                   7.799355e-02\n",
       "DCPT                   7.799355e-02\n",
       "G1PTT                  1.098501e-03\n",
       "GALFT                  1.098501e-03\n",
       "O16RHAT                1.098501e-03\n",
       "TDPDRE                 1.098501e-03\n",
       "TDPDRR                 1.098501e-03\n",
       "TDPGDH                 1.098501e-03\n",
       "UDPGALM                3.295502e-02\n",
       "ALDR                   0.000000e+00\n",
       "AL4D                   0.000000e+00\n",
       "MANT1                  0.000000e+00\n",
       "EMB                    1.098501e-03\n",
       "ARABT                  0.000000e+00\n",
       "ACGK                   1.809596e-01\n",
       "ACOTA                 -1.809596e-01\n",
       "AGPR                  -1.809596e-01\n",
       "ARGDr                  0.000000e+00\n",
       "AST                    0.000000e+00\n",
       "G5SADs                 2.074228e-01\n",
       "OCBT                   1.809596e-01\n",
       "ORNTA                  0.000000e+00\n",
       "ORNTAC                 1.809596e-01\n",
       "P5CR                   0.000000e+00\n",
       "P5CRx                  2.074228e-01\n",
       "PROD2                  0.000000e+00\n",
       "SADH                   0.000000e+00\n",
       "SGDS                   0.000000e+00\n",
       "SGSAD                  0.000000e+00\n",
       "SOTA                   0.000000e+00\n",
       "FAD_14                 9.881847e-02\n",
       "FAD_15                 0.000000e+00\n",
       "FAD_16                 0.000000e+00\n",
       "FAD_17                 0.000000e+00\n",
       "FAD_18                 0.000000e+00\n",
       "FAD_19                 0.000000e+00\n",
       "COCO2                  0.000000e+00\n",
       "ACONT                  1.000000e+00\n",
       "AKGDb                  0.000000e+00\n",
       "CITL                   0.000000e+00\n",
       "CS                     0.000000e+00\n",
       "FRD                    4.738520e-01\n",
       "FRD2                   0.000000e+00\n",
       "FRD3                   1.101724e+02\n",
       "FUM                   -1.095917e+02\n",
       "GCCc                   0.000000e+00\n",
       "ICDHyr                 2.931396e-01\n",
       "MDH                   -2.220991e+02\n",
       "OXGDC                  0.000000e+00\n",
       "PC                     0.000000e+00\n",
       "PDHcr                  3.786401e-01\n",
       "PEPCK_re              -2.255302e+02\n",
       "SUCD1                  0.000000e+00\n",
       "SUCOAS                 0.000000e+00\n",
       "KGD2                  -5.717418e-01\n",
       "AKGDa                  0.000000e+00\n",
       "AKGDH                  0.000000e+00\n",
       "MHUD1                  0.000000e+00\n",
       "ACBIPGT                0.000000e+00\n",
       "ADCPS1                 0.000000e+00\n",
       "ADCPS2                 0.000000e+00\n",
       "ADCYRS                 0.000000e+00\n",
       "ADOCBIK                0.000000e+00\n",
       "ADOCBLS                0.000000e+00\n",
       "AHMMPS                 1.202189e-03\n",
       "AMAOTr                 0.000000e+00\n",
       "AMMQT8                 0.000000e+00\n",
       "AOXSr                  0.000000e+00\n",
       "BACCL                  0.000000e+00\n",
       "BTS2                   0.000000e+00\n",
       "BTS3r                  0.000000e+00\n",
       "CBIAT                  0.000000e+00\n",
       "CBLAT                  0.000000e+00\n",
       "COCHL                  0.000000e+00\n",
       "CPC6R                  0.000000e+00\n",
       "CPPPGO                 2.404379e-03\n",
       "CYRDAAT                0.000000e+00\n",
       "CYRDAR2                0.000000e+00\n",
       "DB4PS                  1.054921e-01\n",
       "DBTS                   0.000000e+00\n",
       "DHNAOT                 1.773229e-02\n",
       "DMATT                  7.154530e-02\n",
       "DMPPS                  7.154530e-02\n",
       "FCLT                   2.404379e-03\n",
       "FCLT2                  0.000000e+00\n",
       "FOMETRi                0.000000e+00\n",
       "FTHFCL                 0.000000e+00\n",
       "G1SAT                  2.885255e-02\n",
       "GTPCII2                5.274606e-02\n",
       "HMBS                   3.606568e-03\n",
       "HMPK1                  1.202189e-03\n",
       "HMPK2                  0.000000e+00\n",
       "HMPK3                  0.000000e+00\n",
       "HMPK4                  0.000000e+00\n",
       "MPML                   0.000000e+00\n",
       "NADTRHD                0.000000e+00\n",
       "NO3R1                  0.000000e+00\n",
       "NO3R2                  0.000000e+00\n",
       "NPHS                   1.773229e-02\n",
       "NTRIRx                 0.000000e+00\n",
       "PC11M                  0.000000e+00\n",
       "PC17M                  0.000000e+00\n",
       "PC20M                  0.000000e+00\n",
       "PC6AR                  0.000000e+00\n",
       "PC6YM                  0.000000e+00\n",
       "PC8XM                  0.000000e+00\n",
       "PMDPHT                 5.274606e-02\n",
       "PNCDC                  0.000000e+00\n",
       "PPBNGS                 1.442627e-02\n",
       "PPNCL3                 2.945364e-02\n",
       "PPPGO                  2.404379e-03\n",
       "PYDXNO                 0.000000e+00\n",
       "PYDXO                  0.000000e+00\n",
       "R05217                 0.000000e+00\n",
       "R05219                 0.000000e+00\n",
       "R05224_2               0.000000e+00\n",
       "RZ5PP                  0.000000e+00\n",
       "SHCHD2                 1.202189e-03\n",
       "SHCHD3                 0.000000e+00\n",
       "SHCHF                  1.202189e-03\n",
       "SPODM                  0.000000e+00\n",
       "SUCBZL                 1.773229e-02\n",
       "SUCBZS                 1.773229e-02\n",
       "THMDP                  0.000000e+00\n",
       "TMN                    0.000000e+00\n",
       "UDCPDP                 1.080618e-01\n",
       "UDCPDPS                0.000000e+00\n",
       "UPP3MT                 1.202189e-03\n",
       "UPP3S                  3.606568e-03\n",
       "UPPDC1                 2.404379e-03\n",
       "UPPDC2                 0.000000e+00\n",
       "DTBTST                 0.000000e+00\n",
       "PYDXS                  0.000000e+00\n",
       "PLPS                   0.000000e+00\n",
       "PDBL_3                 0.000000e+00\n",
       "PDBL_4                 0.000000e+00\n",
       "2PLS                   0.000000e+00\n",
       "LPPGS                  0.000000e+00\n",
       "DMHDRFS_1              0.000000e+00\n",
       "LPFPLT                 0.000000e+00\n",
       "GF4GL_7                0.000000e+00\n",
       "GF4GL_1                0.000000e+00\n",
       "CPMPS                  0.000000e+00\n",
       "ISCS                   2.404379e-03\n",
       "MOEA1                  0.000000e+00\n",
       "MPTAT                  0.000000e+00\n",
       "MOBA                   0.000000e+00\n",
       "MOAE1                  0.000000e+00\n",
       "MOEB1                  0.000000e+00\n",
       "ADOCBIAH               0.000000e+00\n",
       "COB2                   0.000000e+00\n",
       "CBL2OR_1               0.000000e+00\n",
       "PHEMEt                 4.172444e-15\n",
       "HEMEOS                 2.404379e-03\n",
       "HEMEAS                 1.202189e-03\n",
       "GSEALD                 2.885255e-02\n",
       "CPPPGO2_1              0.000000e+00\n",
       "FPRA                   0.000000e+00\n",
       "THMP                  -1.390164e-15\n",
       "SHCHCS3                1.773229e-02\n",
       "SEPHCHCS               1.773229e-02\n",
       "APPLDHr                0.000000e+00\n",
       "AOBUTDs                0.000000e+00\n",
       "DMBI                   0.000000e+00\n",
       "HETZK                 -1.390164e-15\n",
       "ADMDC                  0.000000e+00\n",
       "AHCi                   1.617786e-01\n",
       "AHCYSNS                0.000000e+00\n",
       "CYANST                 0.000000e+00\n",
       "CYSS                   0.000000e+00\n",
       "CYSTL                  0.000000e+00\n",
       "CYSTS                  8.580627e-02\n",
       "HCYSMT                 0.000000e+00\n",
       "HSERTA                 1.903802e-01\n",
       "METAT                  2.139236e-01\n",
       "METOX1s                0.000000e+00\n",
       "METOX2s                0.000000e+00\n",
       "METS                   2.663526e-01\n",
       "MHPGLUT                0.000000e+00\n",
       "MTAN                   0.000000e+00\n",
       "SERAT                  0.000000e+00\n",
       "SERD_L                 0.000000e+00\n",
       "SHSL1                 -8.580627e-02\n",
       "SHSL4r                 5.361735e-01\n",
       "THRD_L                 1.041951e+00\n",
       "AHSERL2                1.903802e-01\n",
       "CYST_II                0.000000e+00\n",
       "SHSL2r                 0.000000e+00\n",
       "CYSK2_I                0.000000e+00\n",
       "CYSM_I                 0.000000e+00\n",
       "CYSM_II                0.000000e+00\n",
       "CYSO_I                 0.000000e+00\n",
       "CYSO_II                0.000000e+00\n",
       "MTAP                   0.000000e+00\n",
       "EPH                    0.000000e+00\n",
       "EGTB                   0.000000e+00\n",
       "EGTC                   0.000000e+00\n",
       "EGTE                   0.000000e+00\n",
       "EX_acysbmn_e           0.000000e+00\n",
       "EX_ala_B_e             0.000000e+00\n",
       "EX_ala__D_e            0.000000e+00\n",
       "EX_ala__L_e            0.000000e+00\n",
       "EX_arab__D_e           0.000000e+00\n",
       "EX_arab__L_e           0.000000e+00\n",
       "EX_arg__L_e            0.000000e+00\n",
       "EX_asn__L_e            0.000000e+00\n",
       "EX_asp__L_e            0.000000e+00\n",
       "EX_atp_e               0.000000e+00\n",
       "EX_bmn_e               0.000000e+00\n",
       "EX_ca2_e               0.000000e+00\n",
       "EX_chol_e              0.000000e+00\n",
       "EX_cit_e              -1.000000e+00\n",
       "EX_cl_e                0.000000e+00\n",
       "EX_co2_e               0.000000e+00\n",
       "EX_coa_e               0.000000e+00\n",
       "EX_cobalt2_e           0.000000e+00\n",
       "EX_crn_e               0.000000e+00\n",
       "EX_cu2_e               0.000000e+00\n",
       "EX_cytd_e              5.357400e-01\n",
       "EX_etha_e              0.000000e+00\n",
       "EX_fe2_e               0.000000e+00\n",
       "EX_fe3_e              -8.415326e-03\n",
       "EX_fum_e               0.000000e+00\n",
       "EX_gal_e               0.000000e+00\n",
       "EX_glc__D_e           -1.000000e+00\n",
       "EX_glu__L_e           -1.000000e+00\n",
       "EX_gly_e               0.000000e+00\n",
       "EX_glyb_e              0.000000e+00\n",
       "EX_glyc3p_e            0.000000e+00\n",
       "EX_glyc_e             -2.320992e+02\n",
       "EX_gthrd_e             0.000000e+00\n",
       "EX_h2_e                9.065895e+01\n",
       "EX_h2co3_e             0.000000e+00\n",
       "EX_h2o_e               2.452606e+02\n",
       "EX_h2s_e               0.000000e+00\n",
       "EX_h_e                 2.728522e+02\n",
       "EX_hdca_e              0.000000e+00\n",
       "EX_his__L_e            0.000000e+00\n",
       "EX_id3acald_e          0.000000e+00\n",
       "EX_ile__L_e            1.067648e+00\n",
       "EX_k_e                 0.000000e+00\n",
       "EX_lac__L_e            0.000000e+00\n",
       "EX_lcts_e              0.000000e+00\n",
       "EX_leu__L_e            0.000000e+00\n",
       "EX_lys__L_e            0.000000e+00\n",
       "EX_mal__L_e            0.000000e+00\n",
       "EX_malt_e              0.000000e+00\n",
       "EX_malthp_e            0.000000e+00\n",
       "EX_meoh_e              0.000000e+00\n",
       "EX_met__L_e            0.000000e+00\n",
       "EX_mg2_e               0.000000e+00\n",
       "EX_na1_e               0.000000e+00\n",
       "EX_nh4_e              -1.000000e+01\n",
       "EX_no2_e               0.000000e+00\n",
       "EX_no3_e               0.000000e+00\n",
       "EX_no_e                0.000000e+00\n",
       "EX_o2_e               -2.000000e+01\n",
       "EX_ocdca_e             0.000000e+00\n",
       "EX_orn_e               0.000000e+00\n",
       "EX_pac_e               0.000000e+00\n",
       "EX_pdima_e             0.000000e+00\n",
       "EX_phdca_e             0.000000e+00\n",
       "EX_phe__L_e            0.000000e+00\n",
       "EX_pi_e               -1.000000e+00\n",
       "EX_ppa_e               0.000000e+00\n",
       "EX_ppdima_e            0.000000e+00\n",
       "EX_pro__L_e            0.000000e+00\n",
       "EX_pyr_e               0.000000e+00\n",
       "EX_rib__D_e            0.000000e+00\n",
       "EX_ser__D_e            0.000000e+00\n",
       "EX_ser__L_e            0.000000e+00\n",
       "EX_skm_e               0.000000e+00\n",
       "EX_so4_e              -2.001089e-01\n",
       "EX_succ_e              1.119682e+02\n",
       "EX_tartr__L_e          0.000000e+00\n",
       "EX_thr__L_e            0.000000e+00\n",
       "EX_tre_e               0.000000e+00\n",
       "EX_trp__L_e            0.000000e+00\n",
       "EX_tsul_e              0.000000e+00\n",
       "EX_ttdca_e             0.000000e+00\n",
       "EX_tyr__L_e            0.000000e+00\n",
       "EX_val__L_e            0.000000e+00\n",
       "EX_ac_e                0.000000e+00\n",
       "EX_4abz_e              0.000000e+00\n",
       "EX_for_e               0.000000e+00\n",
       "EX_akg_e               0.000000e+00\n",
       "EX_gua_e               0.000000e+00\n",
       "EX_ad_e                0.000000e+00\n",
       "EX_urea_e              0.000000e+00\n",
       "EX_ni2_e               0.000000e+00\n",
       "EX_mn2_e               0.000000e+00\n",
       "EX_chsterol_e          0.000000e+00\n",
       "EX_4hba_e              1.202189e-03\n",
       "EX_pydxn_e             0.000000e+00\n",
       "EX_glyclt_e            2.404379e-03\n",
       "EX_co_e                0.000000e+00\n",
       "EX_pheme_e             0.000000e+00\n",
       "EX_hia_e               0.000000e+00\n",
       "EX_acald_e             0.000000e+00\n",
       "EX_ocdcea_e            8.762277e+00\n",
       "EX_gln__L_e            0.000000e+00\n",
       "EX_etoh_e              1.756438e+01\n",
       "EX_adocbl_e            0.000000e+00\n",
       "EX_mobd_e              0.000000e+00\n",
       "EX_btn_e               0.000000e+00\n",
       "EX_nodcoa_e            0.000000e+00\n",
       "EX_octscoa_e           0.000000e+00\n",
       "EX_pc_TB_e             0.000000e+00\n",
       "TAG                    0.000000e+00\n",
       "2AGPEAT160             0.000000e+00\n",
       "2AGPEAT180             0.000000e+00\n",
       "AACPS10                9.236572e-02\n",
       "AACPS3                 2.673068e-02\n",
       "ACCC                   7.082098e-02\n",
       "ACChex_1               7.082098e-02\n",
       "DESAT16                0.000000e+00\n",
       "DESAT18_1              8.875896e+00\n",
       "FACOAE140_1            0.000000e+00\n",
       "FACOAE160              0.000000e+00\n",
       "FACOAE180              0.000000e+00\n",
       "FACOAL140_1            0.000000e+00\n",
       "FACOAL160              2.203463e-02\n",
       "FACOAL161             -9.881847e-02\n",
       "FACOAL180              8.875896e+00\n",
       "FACOAL181_2           -8.777077e+00\n",
       "FACOAL80               0.000000e+00\n",
       "FAO1                   0.000000e+00\n",
       "FAO10                  0.000000e+00\n",
       "FAO11                  0.000000e+00\n",
       "FAO2                   0.000000e+00\n",
       "FAO3                   0.000000e+00\n",
       "FAS100                 9.629840e+00\n",
       "FAS120                 9.629840e+00\n",
       "FAS140                 9.629840e+00\n",
       "FAS160                 9.611517e+00\n",
       "FAS161                 0.000000e+00\n",
       "FAS180                 9.205849e+00\n",
       "FAS181                 0.000000e+00\n",
       "FAS200                 3.533836e-02\n",
       "FAS240_L               2.293297e-01\n",
       "FAS260                 2.293297e-01\n",
       "FAS80_L                9.866171e+00\n",
       "FASm180                2.363309e-01\n",
       "FASm2002               1.105413e-02\n",
       "FASm2202               1.105413e-02\n",
       "FASm2402               1.105413e-02\n",
       "G16MTM1                1.861140e-02\n",
       "G16MTM10               1.734158e-03\n",
       "G16MTM4                3.825968e-03\n",
       "G16MTM5                1.819814e-03\n",
       "G16MTM6                8.108768e-03\n",
       "G16MTM7                8.108768e-03\n",
       "G16MTM8                5.744963e-03\n",
       "G16MTM9                3.636623e-03\n",
       "LPLIPAL2E160           0.000000e+00\n",
       "LPLIPAL2E180           0.000000e+00\n",
       "MANAT1                 1.050263e-02\n",
       "MANAT2                 0.000000e+00\n",
       "MANAT3                 1.914487e-03\n",
       "MCD                    0.000000e+00\n",
       "MCOATA                 1.094035e+00\n",
       "MMCD                   0.000000e+00\n",
       "MME_1                  0.000000e+00\n",
       "MMM2r                  0.000000e+00\n",
       "OCOAT1                 0.000000e+00\n",
       "PAPA160                0.000000e+00\n",
       "PATS                   1.879924e-03\n",
       "PHDCATA               -9.697161e-03\n",
       "PLCD                   0.000000e+00\n",
       "PLIPA1E160             0.000000e+00\n",
       "PLIPA1E180             0.000000e+00\n",
       "TDMS1                  4.974059e-03\n",
       "TDMS2                  3.310529e-03\n",
       "TDMS3                  3.301513e-03\n",
       "TDMS4                  1.659021e-03\n",
       "TMHAS1                 1.662027e-03\n",
       "TMHAS2                 1.653011e-03\n",
       "TMHAS3                 1.659021e-03\n",
       "TMHAS4                 1.648502e-03\n",
       "HDECH                 -8.237853e-02\n",
       "FAD_1                  0.000000e+00\n",
       "FAD_2                  0.000000e+00\n",
       "FAD_3                  0.000000e+00\n",
       "FAD_4                  0.000000e+00\n",
       "FAD_5                  0.000000e+00\n",
       "FAD_6                  0.000000e+00\n",
       "FAD_7                  0.000000e+00\n",
       "FAD_8                  0.000000e+00\n",
       "FAD_9                  0.000000e+00\n",
       "FAD_10                 0.000000e+00\n",
       "FAD_11                 0.000000e+00\n",
       "FAD_12                 0.000000e+00\n",
       "FAD_13                 0.000000e+00\n",
       "FAD_20                 0.000000e+00\n",
       "FAD_21                 0.000000e+00\n",
       "FAD_22                 0.000000e+00\n",
       "FAD_23                 0.000000e+00\n",
       "FAD_24                 0.000000e+00\n",
       "FAD_25                 0.000000e+00\n",
       "FAD_26                 0.000000e+00\n",
       "FAD_27                 0.000000e+00\n",
       "ADCL                   1.202189e-03\n",
       "ADCS                   1.202189e-03\n",
       "DHFS                   1.202189e-03\n",
       "DHNPA_1                0.000000e+00\n",
       "DHNPA2r                1.202189e-03\n",
       "DHPS2                  1.202189e-03\n",
       "DNMPPA                 1.202189e-03\n",
       "DNTPPA                 1.202189e-03\n",
       "FOLD3                  0.000000e+00\n",
       "FTHFD                  0.000000e+00\n",
       "GLYCL                  6.327093e-01\n",
       "GTPCI                  1.202189e-03\n",
       "HPPK                   0.000000e+00\n",
       "HPPK2                  1.202189e-03\n",
       "MTHFC                  1.392738e+00\n",
       "MTHFD                  1.392738e+00\n",
       "MTHFR2                 2.663526e-01\n",
       "THFGLUS                0.000000e+00\n",
       "FCLPA                  0.000000e+00\n",
       "GMAND                  0.000000e+00\n",
       "MAN1PT                 0.000000e+00\n",
       "MAN1PT2                1.040480e-01\n",
       "MAN6PI                -2.469057e-01\n",
       "PMANM                 -1.040480e-01\n",
       "GLYALDDr               0.000000e+00\n",
       "ALCD19y                0.000000e+00\n",
       "AGPAT160               2.673068e-02\n",
       "AGPAT160190            5.564785e-02\n",
       "AGPAT190               1.835894e-02\n",
       "CDAPPA160              0.000000e+00\n",
       "CDAPPA160190           0.000000e+00\n",
       "CDAPPA190              0.000000e+00\n",
       "CDPPT160               0.000000e+00\n",
       "CDPPT160190            1.861140e-02\n",
       "CLPNS160190            8.804535e-03\n",
       "DAGK160                0.000000e+00\n",
       "DASYN160               1.585087e-02\n",
       "DASYN160190            4.543224e-02\n",
       "DASYN190190            8.730901e-03\n",
       "G16MTM2                7.976527e-03\n",
       "G3PAT160               0.000000e+00\n",
       "G3PAT190               1.835894e-02\n",
       "GPDDA2                 0.000000e+00\n",
       "PGSA160                9.748254e-03\n",
       "PGSA160190             2.682085e-02\n",
       "PGSA190                8.730901e-03\n",
       "PSD160                 6.102614e-03\n",
       "PSSA160                6.102614e-03\n",
       "G3PD5                  3.998504e+01\n",
       "G3PD1ir               -1.919769e+02\n",
       "G3PT                   0.000000e+00\n",
       "LIPW                   0.000000e+00\n",
       "CHOLK_1                0.000000e+00\n",
       "ACS                    0.000000e+00\n",
       "ALDD2x                 0.000000e+00\n",
       "ASAD                  -2.008010e+00\n",
       "ASPK                   2.008010e+00\n",
       "ENO                    2.259572e+02\n",
       "FBA                   -1.632711e+00\n",
       "FBP                    1.632711e+00\n",
       "GAPD                   2.275000e+02\n",
       "GCCa                   0.000000e+00\n",
       "GCCb                   0.000000e+00\n",
       "GHMT2r                 1.071163e+00\n",
       "GLYCK                  0.000000e+00\n",
       "HEX1                   0.000000e+00\n",
       "HSDy                  -1.886635e+00\n",
       "HSK                    1.245888e+00\n",
       "LDH_L                  2.773020e-12\n",
       "PDH                    0.000000e+00\n",
       "PDHa                   0.000000e+00\n",
       "PDHbr                  0.000000e+00\n",
       "PFK                    0.000000e+00\n",
       "PGCD                   1.542849e+00\n",
       "PGI                   -1.343590e-01\n",
       "PGK                   -2.275000e+02\n",
       "PGM                   -2.259572e+02\n",
       "PGMT                  -4.424719e-01\n",
       "G6PP                  -7.548285e-01\n",
       "PSERT                  1.542849e+00\n",
       "PSP_L                  1.542849e+00\n",
       "PYK                    0.000000e+00\n",
       "PYRDC                  1.756438e+01\n",
       "SERD_D                 0.000000e+00\n",
       "THRS                   1.245888e+00\n",
       "TPI                    2.302860e+02\n",
       "ALCD2ir                1.756438e+01\n",
       "THRD                   0.000000e+00\n",
       "GLXO1                  0.000000e+00\n",
       "ICL                    7.068604e-01\n",
       "OXACOAL                0.000000e+00\n",
       "OXCDC                  0.000000e+00\n",
       "PGLYCP                 0.000000e+00\n",
       "GCALDD                 2.404379e-03\n",
       "GLYDHDA_copy1         -7.068604e-01\n",
       "GLYDHDA_copy2          0.000000e+00\n",
       "ATPPRT                 1.125805e-01\n",
       "HISTD                  1.125805e-01\n",
       "HISTP                  1.125805e-01\n",
       "HSTPT                  1.125805e-01\n",
       "IG3PS                  1.125805e-01\n",
       "IGPDH                  1.125805e-01\n",
       "PRAIi                  3.024108e-02\n",
       "PRAMPC                 1.125805e-01\n",
       "PRATPP                 1.125805e-01\n",
       "PRMICI                 1.125805e-01\n",
       "MI1PP                  1.861140e-02\n",
       "MI1PS                  1.861140e-02\n",
       "MI3PP                  0.000000e+00\n",
       "MI3PS                  1.968585e-02\n",
       "NAGINSP                1.968585e-02\n",
       "DM_ergoth_c            0.000000e+00\n",
       "DM_tbsinol_c           0.000000e+00\n",
       "DM_isotbsinol_13S_c    0.000000e+00\n",
       "DM_isotbsinol_13R_c    0.000000e+00\n",
       "DM_psd5p_c            -1.000000e+00\n",
       "DM_cpppg1_c            0.000000e+00\n",
       "DM_scys__L_c           0.000000e+00\n",
       "DM_gmhep1p_c           0.000000e+00\n",
       "LAT                    0.000000e+00\n",
       "TMHAS5                 0.000000e+00\n",
       "TMHAS6                 0.000000e+00\n",
       "FADE233               -1.476708e-12\n",
       "BKDC                  -1.476708e-12\n",
       "BKDA2                 -1.476708e-12\n",
       "PKS2                   9.617516e-03\n",
       "MAS3                   9.617516e-03\n",
       "PKS122                 0.000000e+00\n",
       "PKS121                 0.000000e+00\n",
       "ACOADH1                3.786401e-01\n",
       "BKDC1                  3.786401e-01\n",
       "3M2OPLOXRD             3.786401e-01\n",
       "PTA2                   0.000000e+00\n",
       "OPP                    1.773229e-02\n",
       "HEXTT                  1.773229e-02\n",
       "PPTT                   1.773229e-02\n",
       "GGTT                   1.773229e-02\n",
       "LIPY                   0.000000e+00\n",
       "GMHEPPA                0.000000e+00\n",
       "AACPS11                9.697161e-03\n",
       "ALAALAD                0.000000e+00\n",
       "ARACHTA                0.000000e+00\n",
       "CHRPL                  9.697161e-03\n",
       "FACOAL200              0.000000e+00\n",
       "FACOALPHDCA           -9.697161e-03\n",
       "FACOALPREPH            0.000000e+00\n",
       "FAH4                   0.000000e+00\n",
       "FASPHDCA               9.697161e-03\n",
       "FASm1601               1.767219e-03\n",
       "FASm1801               1.767219e-03\n",
       "FASm2001               1.767219e-03\n",
       "FASm220                1.178146e-02\n",
       "FASm2201               1.767219e-03\n",
       "FASm240                0.000000e+00\n",
       "FASm2401               1.767219e-03\n",
       "FASm260                0.000000e+00\n",
       "FASm2601               1.767219e-03\n",
       "FASm2602               3.534437e-03\n",
       "FASm280                0.000000e+00\n",
       "FASm2801               1.767219e-03\n",
       "FASm2802               3.534437e-03\n",
       "FASm300                3.534437e-03\n",
       "FASm3001               0.000000e+00\n",
       "FASm320                3.534437e-03\n",
       "FASm340                3.534437e-03\n",
       "GGLUCT2                0.000000e+00\n",
       "GMT1                   5.645782e-03\n",
       "MCBTS_1                0.000000e+00\n",
       "MCBTS2_1               0.000000e+00\n",
       "MCBTS3                 0.000000e+00\n",
       "PDIMAS                 0.000000e+00\n",
       "PGLS                   0.000000e+00\n",
       "PGPP160                9.748254e-03\n",
       "PGPP160190             2.682085e-02\n",
       "PGPP190                8.730901e-03\n",
       "PHTHDLS                0.000000e+00\n",
       "PHTHDLS2               0.000000e+00\n",
       "PHTHS                  0.000000e+00\n",
       "PHTHS2                 0.000000e+00\n",
       "PPDIMAS                0.000000e+00\n",
       "PREPHACPH              0.000000e+00\n",
       "PREPPACPH              0.000000e+00\n",
       "PREPTHS                0.000000e+00\n",
       "PREPTHS2               0.000000e+00\n",
       "PREPTTA                0.000000e+00\n",
       "TATS                   1.767219e-03\n",
       "TRE6PP                 3.986641e-01\n",
       "TRE6PS                 4.084183e-01\n",
       "TRESULT                9.728718e-03\n",
       "TRIATS                 0.000000e+00\n",
       "UAMRH                  1.468174e-03\n",
       "S7PI                   0.000000e+00\n",
       "GMHEPK                 0.000000e+00\n",
       "CMLDC                  0.000000e+00\n",
       "H2CO3D                 0.000000e+00\n",
       "HCO3E                  8.086663e+01\n",
       "NTP3                   0.000000e+00\n",
       "MBTK3                  0.000000e+00\n",
       "MBTG                   0.000000e+00\n",
       "MBTA3                  0.000000e+00\n",
       "MBTA1                  0.000000e+00\n",
       "SALSYN                 0.000000e+00\n",
       "FAMPL1                 2.432781e-02\n",
       "FAMPL2                 1.605674e-02\n",
       "FAMPL3                 1.274171e-02\n",
       "FAMPL4                 3.310529e-03\n",
       "FAMPL5                 1.438420e-02\n",
       "MYC1CYC1               2.432781e-02\n",
       "MYC1CYC2               1.605674e-02\n",
       "MYC1CYC3               1.274171e-02\n",
       "MYC1CYC4               3.310529e-03\n",
       "MYC1CYC5               1.438420e-02\n",
       "MYC1M1                 3.310529e-03\n",
       "MYC1M2                 1.438420e-02\n",
       "MYC2CYC1               2.432781e-02\n",
       "MYC2CYC2               1.605674e-02\n",
       "MYC2CYC3               1.274171e-02\n",
       "MYCON1                 2.432781e-02\n",
       "MYCON2                 1.605674e-02\n",
       "MYCON3                 1.274171e-02\n",
       "MYCON4                 3.310529e-03\n",
       "MYCON5                 1.438420e-02\n",
       "MYCSacp50              2.432781e-02\n",
       "MYCSacp56              1.936727e-02\n",
       "MYCSacp58              2.712590e-02\n",
       "OTSB1                  0.000000e+00\n",
       "MYCOPP                 4.433074e-02\n",
       "TMMYCO                 0.000000e+00\n",
       "MYCOE                  4.433074e-02\n",
       "PPM1                   4.433074e-02\n",
       "FBPA                   0.000000e+00\n",
       "BIRA                   0.000000e+00\n",
       "ACCD3                  0.000000e+00\n",
       "ACCA3                  0.000000e+00\n",
       "NADDP_1                0.000000e+00\n",
       "NMNAT_1                0.000000e+00\n",
       "ADNK1                  1.291347e-01\n",
       "ADNK3                  0.000000e+00\n",
       "ADNK4                  0.000000e+00\n",
       "CYTDK2                 0.000000e+00\n",
       "DADA                   0.000000e+00\n",
       "DADK                  -5.247557e-03\n",
       "GALT                   0.000000e+00\n",
       "GSNK                   0.000000e+00\n",
       "GUAD                   0.000000e+00\n",
       "GUAPRT                 0.000000e+00\n",
       "INSK                   0.000000e+00\n",
       "NTD10                  0.000000e+00\n",
       "NTD11                  0.000000e+00\n",
       "NTD3                   0.000000e+00\n",
       "NTD5                   0.000000e+00\n",
       "NTD6                   0.000000e+00\n",
       "NTD7                   0.000000e+00\n",
       "NTD8                   0.000000e+00\n",
       "NTD9                   0.000000e+00\n",
       "NTPP2                  0.000000e+00\n",
       "NTPP3                  0.000000e+00\n",
       "NTPP5                  0.000000e+00\n",
       "NTPP7                  0.000000e+00\n",
       "NTPP8                  0.000000e+00\n",
       "TMDK1                  0.000000e+00\n",
       "UDPG4E                 3.295502e-02\n",
       "UDPGD                  0.000000e+00\n",
       "XPPT                   0.000000e+00\n",
       "ACODA                  0.000000e+00\n",
       "AMID4                  0.000000e+00\n",
       "AMPTASECG              0.000000e+00\n",
       "BPNT                   0.000000e+00\n",
       "CHOLD                  0.000000e+00\n",
       "DALAOX                 0.000000e+00\n",
       "FDH                    0.000000e+00\n",
       "GTMLT                  0.000000e+00\n",
       "HSST                   4.503672e-01\n",
       "METSOXR1               0.000000e+00\n",
       "METSOXR2               0.000000e+00\n",
       "NH4OHDs                0.000000e+00\n",
       "PAPSR                 -9.728718e-03\n",
       "PGAMT                 -4.961466e-01\n",
       "PHETA1                -7.228465e-02\n",
       "TARTD                  0.000000e+00\n",
       "TRPTA                  0.000000e+00\n",
       "TYRTA                 -4.892310e-02\n",
       "ROSFE                  0.000000e+00\n",
       "MAK                    3.534437e-01\n",
       "TBSYNLDPS              0.000000e+00\n",
       "TBSNLS1                0.000000e+00\n",
       "TBSNLS2                0.000000e+00\n",
       "TBSNLS3                0.000000e+00\n",
       "AMMQT8_2               1.773229e-02\n",
       "ATPS4r                -2.446874e+01\n",
       "CYO1a                  0.000000e+00\n",
       "CYO1b                  0.000000e+00\n",
       "ICHORS                 1.773229e-02\n",
       "MNDNS1                 0.000000e+00\n",
       "MNDNS2                 0.000000e+00\n",
       "NADH10                 1.773229e-02\n",
       "NADH5                  0.000000e+00\n",
       "NADH9                  1.101724e+02\n",
       "PPA                    5.662173e+00\n",
       "5DGLCNR                0.000000e+00\n",
       "ACPS1                  0.000000e+00\n",
       "DPCOAK                 2.945364e-02\n",
       "DPR                    2.945364e-02\n",
       "MOHMT                  2.945364e-02\n",
       "NADK                   2.043722e-02\n",
       "NAPRT                  0.000000e+00\n",
       "NNAM                   0.000000e+00\n",
       "NNATr                  4.327882e-02\n",
       "NNDPR                  4.327882e-02\n",
       "PANTS                  2.945364e-02\n",
       "PDX5POi                0.000000e+00\n",
       "PNTK                   2.945364e-02\n",
       "PPCDC                  2.945364e-02\n",
       "PTPATi                 2.945364e-02\n",
       "PYAM5PO                0.000000e+00\n",
       "QULNS                  4.327882e-02\n",
       "DRPA                   0.000000e+00\n",
       "G6PDH2r                0.000000e+00\n",
       "GND                    0.000000e+00\n",
       "PGL                    0.000000e+00\n",
       "PRPPS                  1.937418e+00\n",
       "RBK                    0.000000e+00\n",
       "RPE                   -7.553001e-01\n",
       "RPI                   -6.498080e-01\n",
       "TALA                  -2.876098e-01\n",
       "TKT1                  -2.876098e-01\n",
       "TKT2                  -4.676903e-01\n",
       "G6PDH3                 0.000000e+00\n",
       "DRBK                   0.000000e+00\n",
       "5DOAN_1                0.000000e+00\n",
       "GLNSP1                 0.000000e+00\n",
       "GLNSP2                 0.000000e+00\n",
       "GLNSP3                 0.000000e+00\n",
       "PAPPT1                 2.984135e-02\n",
       "PAPPT2                 2.984135e-02\n",
       "PAPPT3                 1.481699e-03\n",
       "PGPPT3                 1.468174e-03\n",
       "PPTGS                  0.000000e+00\n",
       "PPTGS_TB1              2.832659e-02\n",
       "PPTGS_TB2              2.832659e-02\n",
       "UAAGDS                 1.481699e-03\n",
       "UAAGLS1                2.984135e-02\n",
       "UAAGLS2                2.984135e-02\n",
       "UAGPT1                 2.984135e-02\n",
       "UAGPT2                 2.984135e-02\n",
       "UAGPT3                 1.481699e-03\n",
       "UAMAGS                 6.116440e-02\n",
       "UAMAS                  6.116440e-02\n",
       "UGAGDS                 1.468174e-03\n",
       "UGGPT3                 1.468174e-03\n",
       "UGLDDS1_1              2.984135e-02\n",
       "UGLDDS2_2              2.984135e-02\n",
       "UGMAGS                 1.468174e-03\n",
       "UGMAS                  1.468174e-03\n",
       "UGMDDS                 1.481699e-03\n",
       "UGMDDS2                1.468174e-03\n",
       "PHBADA                 0.000000e+00\n",
       "PHBADB                 0.000000e+00\n",
       "PHBADD                 0.000000e+00\n",
       "FRRPPDIMAS             0.000000e+00\n",
       "RPPDIMAS               0.000000e+00\n",
       "CDPMEK                 7.145664e-01\n",
       "DCPDP                  0.000000e+00\n",
       "DCPDPS                 0.000000e+00\n",
       "DPPS                   0.000000e+00\n",
       "DXPRIi                 7.145664e-01\n",
       "DXPS                   7.157686e-01\n",
       "GRTT                   7.154530e-02\n",
       "IPDPS                  6.430211e-01\n",
       "MECDPDH                7.145664e-01\n",
       "MECDPS                 7.145664e-01\n",
       "MEPCT                  7.145664e-01\n",
       "UDPDPS                 0.000000e+00\n",
       "UDPDPS2                0.000000e+00\n",
       "HMEDS                 -4.108658e-13\n",
       "HMEDR                  0.000000e+00\n",
       "FRTT                   6.914092e-02\n",
       "IPDPUDCT               5.140863e-02\n",
       "PPCOAC                 3.786401e-01\n",
       "MCITD                  0.000000e+00\n",
       "MCITS                  0.000000e+00\n",
       "MICITDr                0.000000e+00\n",
       "MCITL2                 0.000000e+00\n",
       "PPAKr                  0.000000e+00\n",
       "ADA                    0.000000e+00\n",
       "ADK1                   3.587142e+00\n",
       "ADNCYC                 0.000000e+00\n",
       "ADPT                   3.264395e-02\n",
       "ADSL1r                 2.774187e-01\n",
       "ADSL2r                 6.394776e-01\n",
       "ADSS                   2.774187e-01\n",
       "AICART                 7.520582e-01\n",
       "AIRCr                  6.394776e-01\n",
       "ASPCT                  0.000000e+00\n",
       "CBPS                   1.809596e-01\n",
       "CTPS1                  9.672509e-01\n",
       "CTPS2                  0.000000e+00\n",
       "CYTD                   0.000000e+00\n",
       "CYTK1                 -1.282714e-01\n",
       "CYTK2                  0.000000e+00\n",
       "DCTPD                  0.000000e+00\n",
       "DCTPD2                 0.000000e+00\n",
       "DCYTD                  0.000000e+00\n",
       "DGK1                   0.000000e+00\n",
       "DHORTS                 0.000000e+00\n",
       "DTMPK                  1.532792e-02\n",
       "DURIK1                 0.000000e+00\n",
       "DURIPP                 0.000000e+00\n",
       "DUTPDP                 0.000000e+00\n",
       "GARFT                  6.406798e-01\n",
       "GK1                    1.084976e-01\n",
       "GLUPRT                 6.406798e-01\n",
       "GMPS2                  4.746394e-01\n",
       "GTPDPK                 0.000000e+00\n",
       "GTPH1                  0.000000e+00\n",
       "GUACYC                 0.000000e+00\n",
       "HXPRT                  0.000000e+00\n",
       "IMPC                  -7.520582e-01\n",
       "IMPD                   4.746394e-01\n",
       "INSH                   3.264395e-02\n",
       "NDPK1                 -2.251736e+02\n",
       "NDPK2                  1.572095e+00\n",
       "NDPK3                 -1.574245e-01\n",
       "NDPK4                  1.642642e-02\n",
       "NDPK5                  2.915310e-02\n",
       "NDPK6                  0.000000e+00\n",
       "NDPK7                  2.915310e-02\n",
       "NDPK8                  1.532792e-02\n",
       "NTD1                   0.000000e+00\n",
       "NTD2                   0.000000e+00\n",
       "NTD4                   5.357400e-01\n",
       "NTPP4                  0.000000e+00\n",
       "NTPTP1                 0.000000e+00\n",
       "NTPTP2                 0.000000e+00\n",
       "OMPDC                  0.000000e+00\n",
       "ORPT                   0.000000e+00\n",
       "PDE1                   0.000000e+00\n",
       "PDE4                   0.000000e+00\n",
       "PPK2                   0.000000e+00\n",
       "PRAGSr                 6.406798e-01\n",
       "PRAIS                  6.406798e-01\n",
       "PRASCSi                6.394776e-01\n",
       "PRFGS                  6.406798e-01\n",
       "PUNP1                  3.264395e-02\n",
       "PUNP2                  0.000000e+00\n",
       "PUNP3                  0.000000e+00\n",
       "PUNP4                  0.000000e+00\n",
       "PUNP5                 -3.264395e-02\n",
       "PUNP6                  0.000000e+00\n",
       "PUNP7                  0.000000e+00\n",
       "RNDR1                  2.057547e-02\n",
       "RNDR2                  2.915310e-02\n",
       "RNDR3                  2.915310e-02\n",
       "RNDR4                  1.532792e-02\n",
       "RNTR4                  0.000000e+00\n",
       "SADT                   2.001089e-01\n",
       "TMDPP                  0.000000e+00\n",
       "TMDS                   0.000000e+00\n",
       "TRDR                   2.845898e-01\n",
       "UMPK                   1.063731e+00\n",
       "UPPRT                  1.000000e+00\n",
       "UREA                   0.000000e+00\n",
       "URIDK2r               -1.532792e-02\n",
       "URIK2                  0.000000e+00\n",
       "YUMPS                 -1.000000e+00\n",
       "DHORDi                 0.000000e+00\n",
       "BARB                   0.000000e+00\n",
       "DHORD2                 0.000000e+00\n",
       "GTPDPDP                0.000000e+00\n",
       "PPGPPDP                0.000000e+00\n",
       "TMDS3                  1.532792e-02\n",
       "ACACT1r                0.000000e+00\n",
       "ACALD                  0.000000e+00\n",
       "ACKr                   2.100661e-01\n",
       "BDH                    0.000000e+00\n",
       "HOPNTAL                0.000000e+00\n",
       "INDPYRD                0.000000e+00\n",
       "LO                     0.000000e+00\n",
       "L_LACD                 0.000000e+00\n",
       "L_LACD2                0.000000e+00\n",
       "L_LACD3                0.000000e+00\n",
       "MALS                   0.000000e+00\n",
       "ME1                    1.125074e+02\n",
       "PFL                    9.049951e+01\n",
       "PPDK                   0.000000e+00\n",
       "PTAr                  -2.100661e-01\n",
       "2O4EH                  0.000000e+00\n",
       "MGSA                   0.000000e+00\n",
       "ALCD22_L               0.000000e+00\n",
       "GLYCS_I                0.000000e+00\n",
       "GLYCS_II               0.000000e+00\n",
       "LCADi                  0.000000e+00\n",
       "ACCOAC                 8.030703e+01\n",
       "L_LACDcm_1             0.000000e+00\n",
       "ACYP_2                 0.000000e+00\n",
       "ALDD1                  0.000000e+00\n",
       "BMNMSHS                0.000000e+00\n",
       "CAT                    0.000000e+00\n",
       "CIGAMS                 1.968585e-02\n",
       "CMCBTFL                8.415326e-03\n",
       "CMCBTFU                8.415326e-03\n",
       "CYTBD                  3.998504e+01\n",
       "CYTBD2                 0.000000e+00\n",
       "FCOAH2                 0.000000e+00\n",
       "FE3Ri                  3.606568e-03\n",
       "FETRANS                1.398621e-15\n",
       "FHL                    9.065895e+01\n",
       "FORMCOAL               0.000000e+00\n",
       "GTHS                   0.000000e+00\n",
       "MSHOXH                 0.000000e+00\n",
       "MYCTR                  0.000000e+00\n",
       "MYCTR2                 0.000000e+00\n",
       "NO                     0.000000e+00\n",
       "NTRIR2x                0.000000e+00\n",
       "NTRIRy                 0.000000e+00\n",
       "PRDX                   0.000000e+00\n",
       "NAGINS                 1.968585e-02\n",
       "NMO                    0.000000e+00\n",
       "SIRA2                 -1.903802e-01\n",
       "ACP1_FMN               0.000000e+00\n",
       "APRAUR                 5.274606e-02\n",
       "DHPPDA                 0.000000e+00\n",
       "DHPPDA2                5.274606e-02\n",
       "FMNAT                  1.938531e-02\n",
       "GTPCII                 0.000000e+00\n",
       "NNDMBRT                0.000000e+00\n",
       "RBFK                   5.274606e-02\n",
       "RBFSa                  1.054921e-01\n",
       "RBFSb                  5.274606e-02\n",
       "ORNDC                  0.000000e+00\n",
       "GLGE                   3.534437e-01\n",
       "TREY                   0.000000e+00\n",
       "GLGB                   3.534437e-01\n",
       "GLGP                   0.000000e+00\n",
       "AMYL2                  0.000000e+00\n",
       "PEPA                   0.000000e+00\n",
       "ADSK                   0.000000e+00\n",
       "IGAMD                  1.968585e-02\n",
       "MDFDH                  0.000000e+00\n",
       "MSHAMID                0.000000e+00\n",
       "MSHS                   1.968585e-02\n",
       "PAPA1                  0.000000e+00\n",
       "PAPA2                  0.000000e+00\n",
       "MMPL8                  0.000000e+00\n",
       "APSR                   2.001089e-01\n",
       "BPNT2                  0.000000e+00\n",
       "PMPK                   1.202189e-03\n",
       "TMPK                   1.202189e-03\n",
       "TMPPP                  1.202189e-03\n",
       "DAPDC                  1.184247e-01\n",
       "DAPE                   1.213746e-01\n",
       "DHDPRy                 1.213746e-01\n",
       "DHDPS                  1.213746e-01\n",
       "SDPDS                  1.213746e-01\n",
       "SDPTA                 -1.213746e-01\n",
       "THDPS                  1.213746e-01\n",
       "ACYSBMNt               0.000000e+00\n",
       "ALAt2r                 0.000000e+00\n",
       "ARB_Dabc               0.000000e+00\n",
       "ARBabc                 0.000000e+00\n",
       "ARBt2r                 0.000000e+00\n",
       "ARGt5r                 0.000000e+00\n",
       "ASNt2r                 0.000000e+00\n",
       "ASPt2r                 0.000000e+00\n",
       "BALAt2r                1.364040e-10\n",
       "BMNt                   0.000000e+00\n",
       "CAATPS                 0.000000e+00\n",
       "CAt4                   0.000000e+00\n",
       "CHLabc                 0.000000e+00\n",
       "CITabc                 1.000000e+00\n",
       "CO2t                   0.000000e+00\n",
       "COAt                   0.000000e+00\n",
       "COBALTt5               0.000000e+00\n",
       "COt                    0.000000e+00\n",
       "CRNabc                 0.000000e+00\n",
       "CYTDt2                -5.357400e-01\n",
       "Clt                    0.000000e+00\n",
       "Cuabc                  0.000000e+00\n",
       "Cut1                   0.000000e+00\n",
       "DALAt2r                0.000000e+00\n",
       "DSERt2                 0.000000e+00\n",
       "ETHAt                  0.000000e+00\n",
       "ADtr                   0.000000e+00\n",
       "FUMt2r                 0.000000e+00\n",
       "GALt2                  0.000000e+00\n",
       "GLCabc                 1.000000e+00\n",
       "GLUt2r                 1.000000e+00\n",
       "GLYBabc                0.000000e+00\n",
       "GLYC3Pabc              0.000000e+00\n",
       "GLYCt                 -2.320992e+02\n",
       "GLYt2r                 0.000000e+00\n",
       "GTHRDt2_1              0.000000e+00\n",
       "H2CO3TP                0.000000e+00\n",
       "H2Ot                  -2.452606e+02\n",
       "H2St1                  0.000000e+00\n",
       "H2td                   9.065895e+01\n",
       "HDCAt2                 0.000000e+00\n",
       "HISt2r                 0.000000e+00\n",
       "ID3ACALDt              0.000000e+00\n",
       "ILEt2r                -1.067648e+00\n",
       "Kabc                   0.000000e+00\n",
       "Kt1                    0.000000e+00\n",
       "LCTSabc                0.000000e+00\n",
       "LEUt2r                 0.000000e+00\n",
       "LYSt5r                 0.000000e+00\n",
       "L_LACt2r               0.000000e+00\n",
       "L_LACt3                0.000000e+00\n",
       "MALTHPabc              0.000000e+00\n",
       "MALTabc                0.000000e+00\n",
       "MALt2r                 0.000000e+00\n",
       "MEOHt2                 0.000000e+00\n",
       "METabc                 0.000000e+00\n",
       "MGt5                   0.000000e+00\n",
       "NAKtr                  0.000000e+00\n",
       "NARK                   0.000000e+00\n",
       "NAt                    0.000000e+00\n",
       "NH4t                   1.000000e+01\n",
       "NOt                    0.000000e+00\n",
       "O2t                    2.000000e+01\n",
       "OCDCAt2                0.000000e+00\n",
       "ORNt                   0.000000e+00\n",
       "PACt2r                 0.000000e+00\n",
       "PDIMAT                 0.000000e+00\n",
       "PHDCAt                 0.000000e+00\n",
       "PHEt2r                 0.000000e+00\n",
       "PIabc                  1.000000e+00\n",
       "PPAtr                  0.000000e+00\n",
       "PPDIMAT                0.000000e+00\n",
       "PROabc                 0.000000e+00\n",
       "PROt2r                 0.000000e+00\n",
       "PYRt2                  0.000000e+00\n",
       "RIBabc                 0.000000e+00\n",
       "SERt2r                 0.000000e+00\n",
       "SKMt2                  0.000000e+00\n",
       "SUCCt2r               -1.119682e+02\n",
       "SULabc                 2.001089e-01\n",
       "TARTRt7                0.000000e+00\n",
       "THRt2r                 0.000000e+00\n",
       "TREabc                 0.000000e+00\n",
       "TRPt2r                 0.000000e+00\n",
       "TSULabc                0.000000e+00\n",
       "TTDCAt2                0.000000e+00\n",
       "TYRt2r                 0.000000e+00\n",
       "VALt2r                -3.147863e-16\n",
       "GLNabc                 0.000000e+00\n",
       "NIt5                   0.000000e+00\n",
       "Mn2t                   0.000000e+00\n",
       "HIAt                   0.000000e+00\n",
       "CHSTEROLt_1            0.000000e+00\n",
       "MOBDabc                0.000000e+00\n",
       "MOBDabc_rev            0.000000e+00\n",
       "ACt2r_1                1.115358e-12\n",
       "4HBAt                 -1.202189e-03\n",
       "4ABZt                  0.000000e+00\n",
       "CHLabc_rev             0.000000e+00\n",
       "PYDXNtr                0.000000e+00\n",
       "FORt                   0.000000e+00\n",
       "GLYCLTt               -2.404379e-03\n",
       "NO3t3                  0.000000e+00\n",
       "MNabc_rev              0.000000e+00\n",
       "ADOCBLabc              0.000000e+00\n",
       "AKGt2r_1               0.000000e+00\n",
       "ACALDt                 0.000000e+00\n",
       "OCDCEAt               -8.762277e+00\n",
       "UREAt_2                0.000000e+00\n",
       "VIUB                   0.000000e+00\n",
       "ETOHt3                 1.756438e+01\n",
       "BTNTe                  0.000000e+00\n",
       "NODCOAt                0.000000e+00\n",
       "OCTSCOAt               0.000000e+00\n",
       "PC_TBt                 0.000000e+00\n",
       "GLYTRS                 0.000000e+00\n",
       "SELCYSS                0.000000e+00\n",
       "TYRTRS                 0.000000e+00\n",
       "ALDD19xr               0.000000e+00\n",
       "ANPRT                  3.024108e-02\n",
       "ANS                    3.024108e-02\n",
       "CHORM                  1.212077e-01\n",
       "CHORS                  1.800805e-01\n",
       "DDPA                   1.800805e-01\n",
       "DHQTi                  1.800805e-01\n",
       "DHQS                   1.800805e-01\n",
       "IGPS                   3.024108e-02\n",
       "PEAMNO                 0.000000e+00\n",
       "PHYCBOXL               0.000000e+00\n",
       "PPND                   4.892310e-02\n",
       "PPNDH                  7.228465e-02\n",
       "PSCVT                  1.800805e-01\n",
       "SHK3Dr                 1.800805e-01\n",
       "SHKK                   1.800805e-01\n",
       "TRPS1                  0.000000e+00\n",
       "TRPS2                  3.024108e-02\n",
       "TRPS3                  3.024108e-02\n",
       "ACONMT                 0.000000e+00\n",
       "ACGS                   0.000000e+00\n",
       "G5SD                   0.000000e+00\n",
       "G5SD2                  2.074228e-01\n",
       "GLU5K                  2.074228e-01\n",
       "SPMS                   0.000000e+00\n",
       "ACHBS                  1.578125e+00\n",
       "ACLS                   6.463872e-01\n",
       "DHAD1                  6.463872e-01\n",
       "DHAD2                  1.578125e+00\n",
       "ILETA                 -1.199485e+00\n",
       "IPMD                   3.076253e-01\n",
       "IPPMIa                -3.076253e-01\n",
       "IPPMIb                -3.076253e-01\n",
       "IPPS                   3.076253e-01\n",
       "KARA1                 -6.463872e-01\n",
       "KARA2                  1.578125e+00\n",
       "LEUTA                 -3.076253e-01\n",
       "OMCDC                  3.076253e-01\n",
       "VALTA                 -1.103651e+00\n",
       "MACCOAT                3.786401e-01\n",
       "ECOAH12               -1.476708e-12\n",
       "3HBCOAHL              -1.476708e-12\n",
       "HACD9                  3.786401e-01\n",
       "ECOAH9ir               3.786401e-01\n",
       "VPAMTr                -7.943422e-01\n",
       "EGTD                   0.000000e+00\n",
       "DGTP8DETOX             0.000000e+00\n",
       "DGTP8OXO               0.000000e+00\n",
       "GTP8OXO                0.000000e+00\n",
       "MMSAD2                 0.000000e+00\n",
       "ECHA20                 0.000000e+00\n",
       "CHOL1                  0.000000e+00\n",
       "FADE282                0.000000e+00\n",
       "HOPNTAL2_1             0.000000e+00\n",
       "ECHA192                0.000000e+00\n",
       "HSA                    0.000000e+00\n",
       "FADB3                  0.000000e+00\n",
       "FADB2                  0.000000e+00\n",
       "CHCD                   0.000000e+00\n",
       "HDAD                   0.000000e+00\n",
       "CHOD                   0.000000e+00\n",
       "3HSA                   0.000000e+00\n",
       "HSAC                   0.000000e+00\n",
       "HSAE                   0.000000e+00\n",
       "HIAA                   0.000000e+00\n",
       "IPDAB                  0.000000e+00\n",
       "KSH                    0.000000e+00\n",
       "ECHA193                0.000000e+00\n",
       "CYP1                   0.000000e+00\n",
       "IPDF                   0.000000e+00\n",
       "HIPA                   0.000000e+00\n",
       "CHOLCOA                0.000000e+00\n",
       "ECHA191                0.000000e+00\n",
       "FADE30                 0.000000e+00\n",
       "CYP3                   0.000000e+00\n",
       "CYP2                   0.000000e+00\n",
       "PRCOA1                 0.000000e+00\n",
       "FADE281                0.000000e+00\n",
       "FADD3                  0.000000e+00\n",
       "KSTD                   0.000000e+00\n",
       "FADD17                 0.000000e+00\n",
       "FADE51                 0.000000e+00\n",
       "FADE52                 0.000000e+00\n",
       "HIPEOX                 0.000000e+00\n",
       "IPDCF                  0.000000e+00\n",
       "ECHA20_2               0.000000e+00\n",
       "FADA6                  0.000000e+00\n",
       "FADE31                 0.000000e+00\n",
       "MBKTHIO                0.000000e+00\n",
       "EX_cbi_e               0.000000e+00\n",
       "BACA                   0.000000e+00\n",
       "SDH1                   0.000000e+00\n",
       "ATPM                   0.000000e+00\n",
       "DHFR_copy1             1.202189e-03\n",
       "BiomassGrowth_sMtb     0.000000e+00\n",
       "BIOMASS__2.1           0.000000e+00\n",
       "QRr                   -1.762952e+02\n",
       "NADH2r                 1.762952e+02\n",
       "ADK2                   0.000000e+00\n",
       "BIOMASS__2             1.502737e+00\n",
       "Name: fluxes, dtype: float64"
      ]
     },
     "execution_count": 57,
     "metadata": {},
     "output_type": "execute_result"
    }
   ],
   "source": [
    "A4_sol"
   ]
  },
  {
   "cell_type": "code",
   "execution_count": 58,
   "id": "d72170aa",
   "metadata": {},
   "outputs": [
    {
     "data": {
      "text/plain": [
       "'0.2352 14glucan[c] + 0.001681 Ac1PIM1[c] + 0.001488 Ac1PIM2[c] + 0.001335 Ac1PIM3[c] + 0.001211 Ac1PIM4[c] + 0.001274 Ac2PIM2[c] + 0.001573 PIM3[c] + 0.001403 PIM4[c] + 0.001266 PIM5[c] + 0.001154 PIM6[c] + 0.23018 acgam1p[c] + 0.40596 ala__L[c] + 0.0347 amet[c] + 0.000731 arabinanagalfragund[c] + 0.015676 arach[c] + 0.12042 arg__L[c] + 0.047699 asn__L[c] + 0.12031 asp__L[c] + 60.0 atp[c] + 0.0295 c78mycolatepp[c] + 0.005859 clpn160190[c] + 0.25095 cmp[c] + 0.0132 coa[c] + 0.0168 ctp[c] + 0.022 cys__L[c] + 0.003492 damp[c] + 0.0102 datp[c] + 0.0194 dctp[c] + 0.0194 dgtp[c] + 0.0102 dttp[c] + 0.0129 fad[c] + 0.0008 fdxox[c] + 0.0008 fdxrd[c] + 0.0008 fe2[c] + 0.0008 fe3[c] + 0.0222 fmn[c] + 0.0001 gdpmann[c] + 0.16315 glc__D[c] + 0.05812 gln__L[c] + 0.090007 glu__L[c] + 0.33581 gly[c] + 0.2352 glycogen[c] + 0.24365 gmp[c] + 0.0168 gtp[c] + 60.0 h2o[c] + 0.23515 hdca[c] + 0.01094 hdcea[c] + 0.0008 hemeA[c] + 0.0008 hemeO[c] + 0.058352 hexc[c] + 0.074917 his__L[c] + 0.0064 hphthiocnylcoa[c] + 0.087731 ile__L[c] + 0.20471 leu__L[c] + 0.03909 lys__L[c] + 0.095065 man[c] + 0.00784 mbhn[c] + 0.034889 met__L[c] + 0.095802 mocdca[c] + 0.0118 mql8[c] + 0.0131 msh[c] + 0.0152 nad[c] + 0.0136 nadp[c] + 0.034837 ocdca[c] + 0.009849 ocdcea[c] + 0.006798 pa160190[c] + 0.00724 pa160[c] + 0.006407 pa190190[c] + 0.001251 pat[c] + 0.004061 pe160[c] + 0.01885 peptido_TB1[c] + 0.01885 peptido_TB2[c] + 0.00613 pg160190[c] + 0.006487 pg160[c] + 0.00581 pg190[c] + 0.006453 phdca[c] + 0.048102 phe__L[c] + 0.13803 pro__L[c] + 0.021723 rib__D[c] + 0.2326 ser__L[c] + 0.0008 sheme[c] + 0.001176 tat[c] + 0.0008 thf[c] + 0.0008 thmpp[c] + 0.13571 thr__L[c] + 0.001106 tmha1[c] + 0.0011 tmha2[c] + 0.001104 tmha3[c] + 0.001097 tmha4[c] + 0.006491 tre6p[c] + 0.00797 tre[c] + 0.006474 tres[c] + 0.020124 trp__L[c] + 0.012193 ttdca[c] + 0.031756 tyr__L[c] + 0.001008 uaaAgla[c] + 0.001008 uaaGgla[c] + 0.000986 uaagmda[c] + 0.002793 uamr[c] + 0.000977 ugagmda[c] + 0.0088 utp[c] + 0.20583 val__L[c] --> 60.0 adp[c] + 60.0 h[c] + 60.0 pi[c]'"
      ]
     },
     "execution_count": 58,
     "metadata": {},
     "output_type": "execute_result"
    }
   ],
   "source": [
    "A4.reactions.get_by_id('BIOMASS__2').reaction"
   ]
  },
  {
   "cell_type": "code",
   "execution_count": 59,
   "id": "2f456e68",
   "metadata": {},
   "outputs": [
    {
     "data": {
      "text/html": [
       "\n",
       "        <table>\n",
       "            <tr>\n",
       "                <td><strong>Metabolite identifier</strong></td><td>3pg[c]</td>\n",
       "            </tr><tr>\n",
       "                <td><strong>Name</strong></td><td>3-Phospho-D-glycerate [cytoplasm]</td>\n",
       "            </tr><tr>\n",
       "                <td><strong>Memory address</strong></td>\n",
       "                <td>0x02977231d430</td>\n",
       "            </tr><tr>\n",
       "                <td><strong>Formula</strong></td><td>C3H4O7P</td>\n",
       "            </tr><tr>\n",
       "                <td><strong>Compartment</strong></td><td>c</td>\n",
       "            </tr><tr>\n",
       "                <td><strong>In 4 reaction(s)</strong></td><td>\n",
       "                    GLYCK, PGK, PGM, PGCD</td>\n",
       "            </tr>\n",
       "        </table>"
      ],
      "text/plain": [
       "<Metabolite 3pg[c] at 0x2977231d430>"
      ]
     },
     "execution_count": 59,
     "metadata": {},
     "output_type": "execute_result"
    }
   ],
   "source": [
    "base_mod.metabolites.get_by_id('3pg[c]')"
   ]
  },
  {
   "cell_type": "code",
   "execution_count": 60,
   "id": "e59b447f",
   "metadata": {},
   "outputs": [
    {
     "data": {
      "text/html": [
       "\n",
       "        <table>\n",
       "            <tr>\n",
       "                <td><strong>Metabolite identifier</strong></td><td>glyc__R[c]</td>\n",
       "            </tr><tr>\n",
       "                <td><strong>Name</strong></td><td>(R)-Glycerate [cytoplasm]</td>\n",
       "            </tr><tr>\n",
       "                <td><strong>Memory address</strong></td>\n",
       "                <td>0x0297722d8640</td>\n",
       "            </tr><tr>\n",
       "                <td><strong>Formula</strong></td><td>C3H5O4</td>\n",
       "            </tr><tr>\n",
       "                <td><strong>Compartment</strong></td><td>c</td>\n",
       "            </tr><tr>\n",
       "                <td><strong>In 3 reaction(s)</strong></td><td>\n",
       "                    GLYCK, GLYALDDr, MANPGH</td>\n",
       "            </tr>\n",
       "        </table>"
      ],
      "text/plain": [
       "<Metabolite glyc__R[c] at 0x297722d8640>"
      ]
     },
     "execution_count": 60,
     "metadata": {},
     "output_type": "execute_result"
    }
   ],
   "source": [
    "base_mod.metabolites.get_by_id('glyc__R[c]')"
   ]
  },
  {
   "cell_type": "code",
   "execution_count": 61,
   "id": "83948fb5",
   "metadata": {},
   "outputs": [
    {
     "data": {
      "text/html": [
       "\n",
       "        <table>\n",
       "            <tr>\n",
       "                <td><strong>Reaction identifier</strong></td><td>GLYALDDr</td>\n",
       "            </tr><tr>\n",
       "                <td><strong>Name</strong></td><td>D-Glyceraldehyde dehydrogenase</td>\n",
       "            </tr><tr>\n",
       "                <td><strong>Memory address</strong></td>\n",
       "                <td>0x0297726855b0</td>\n",
       "            </tr><tr>\n",
       "                <td><strong>Stoichiometry</strong></td>\n",
       "                <td>\n",
       "                    <p style='text-align:right'>glyald[c] + h2o[c] + nad[c] --> glyc__R[c] + 2.0 h[c] + nadh[c]</p>\n",
       "                    <p style='text-align:right'>D-Glyceraldehyde [cytoplasm] + H2O H2O [cytoplasm] + Nicotinamide adenine dinucleotide [cytoplasm] --> (R)-Glycerate [cytoplasm] + 2.0 H+ [cytoplasm] + Nicotinamide adenine dinucleotide - reduced...</p>\n",
       "                </td>\n",
       "            </tr><tr>\n",
       "                <td><strong>GPR</strong></td><td>Rv2858c or Rv0458</td>\n",
       "            </tr><tr>\n",
       "                <td><strong>Lower bound</strong></td><td>0.0</td>\n",
       "            </tr><tr>\n",
       "                <td><strong>Upper bound</strong></td><td>1000.0</td>\n",
       "            </tr>\n",
       "        </table>\n",
       "        "
      ],
      "text/plain": [
       "<Reaction GLYALDDr at 0x297726855b0>"
      ]
     },
     "execution_count": 61,
     "metadata": {},
     "output_type": "execute_result"
    }
   ],
   "source": [
    "base_mod.reactions.get_by_id('GLYALDDr')"
   ]
  },
  {
   "cell_type": "code",
   "execution_count": 62,
   "id": "c6b704de",
   "metadata": {},
   "outputs": [
    {
     "data": {
      "text/html": [
       "\n",
       "        <table>\n",
       "            <tr>\n",
       "                <td><strong>Reaction identifier</strong></td><td>GLYCK</td>\n",
       "            </tr><tr>\n",
       "                <td><strong>Name</strong></td><td>Glycerate kinase</td>\n",
       "            </tr><tr>\n",
       "                <td><strong>Memory address</strong></td>\n",
       "                <td>0x029772724b80</td>\n",
       "            </tr><tr>\n",
       "                <td><strong>Stoichiometry</strong></td>\n",
       "                <td>\n",
       "                    <p style='text-align:right'>atp[c] + glyc__R[c] --> 3pg[c] + adp[c] + h[c]</p>\n",
       "                    <p style='text-align:right'>ATP C10H12N5O13P3 [cytoplasm] + (R)-Glycerate [cytoplasm] --> 3-Phospho-D-glycerate [cytoplasm] + ADP C10H12N5O10P2 [cytoplasm] + H+ [cytoplasm]</p>\n",
       "                </td>\n",
       "            </tr><tr>\n",
       "                <td><strong>GPR</strong></td><td>Rv2205c</td>\n",
       "            </tr><tr>\n",
       "                <td><strong>Lower bound</strong></td><td>0.0</td>\n",
       "            </tr><tr>\n",
       "                <td><strong>Upper bound</strong></td><td>1000.0</td>\n",
       "            </tr>\n",
       "        </table>\n",
       "        "
      ],
      "text/plain": [
       "<Reaction GLYCK at 0x29772724b80>"
      ]
     },
     "execution_count": 62,
     "metadata": {},
     "output_type": "execute_result"
    }
   ],
   "source": [
    "base_mod.reactions.get_by_id('GLYCK')"
   ]
  },
  {
   "cell_type": "code",
   "execution_count": 63,
   "id": "f434dbe2",
   "metadata": {},
   "outputs": [
    {
     "data": {
      "text/html": [
       "\n",
       "        <table>\n",
       "            <tr>\n",
       "                <td><strong>Reaction identifier</strong></td><td>PGK</td>\n",
       "            </tr><tr>\n",
       "                <td><strong>Name</strong></td><td>Phosphoglycerate kinase</td>\n",
       "            </tr><tr>\n",
       "                <td><strong>Memory address</strong></td>\n",
       "                <td>0x029772731c10</td>\n",
       "            </tr><tr>\n",
       "                <td><strong>Stoichiometry</strong></td>\n",
       "                <td>\n",
       "                    <p style='text-align:right'>3pg[c] + atp[c] <=> 13dpg[c] + adp[c]</p>\n",
       "                    <p style='text-align:right'>3-Phospho-D-glycerate [cytoplasm] + ATP C10H12N5O13P3 [cytoplasm] <=> 3-Phospho-D-glyceroyl phosphate [cytoplasm] + ADP C10H12N5O10P2 [cytoplasm]</p>\n",
       "                </td>\n",
       "            </tr><tr>\n",
       "                <td><strong>GPR</strong></td><td>Rv1437</td>\n",
       "            </tr><tr>\n",
       "                <td><strong>Lower bound</strong></td><td>-1000.0</td>\n",
       "            </tr><tr>\n",
       "                <td><strong>Upper bound</strong></td><td>1000.0</td>\n",
       "            </tr>\n",
       "        </table>\n",
       "        "
      ],
      "text/plain": [
       "<Reaction PGK at 0x29772731c10>"
      ]
     },
     "execution_count": 63,
     "metadata": {},
     "output_type": "execute_result"
    }
   ],
   "source": [
    "base_mod.reactions.get_by_id('PGK')"
   ]
  },
  {
   "cell_type": "code",
   "execution_count": 64,
   "id": "2f9c3aa4",
   "metadata": {},
   "outputs": [
    {
     "data": {
      "text/html": [
       "\n",
       "        <table>\n",
       "            <tr>\n",
       "                <td><strong>Reaction identifier</strong></td><td>PGM</td>\n",
       "            </tr><tr>\n",
       "                <td><strong>Name</strong></td><td>Phosphoglycerate mutase</td>\n",
       "            </tr><tr>\n",
       "                <td><strong>Memory address</strong></td>\n",
       "                <td>0x029772731d30</td>\n",
       "            </tr><tr>\n",
       "                <td><strong>Stoichiometry</strong></td>\n",
       "                <td>\n",
       "                    <p style='text-align:right'>2pg[c] <=> 3pg[c]</p>\n",
       "                    <p style='text-align:right'>D-Glycerate 2-phosphate [cytoplasm] <=> 3-Phospho-D-glycerate [cytoplasm]</p>\n",
       "                </td>\n",
       "            </tr><tr>\n",
       "                <td><strong>GPR</strong></td><td>Rv3214 or Rv0489</td>\n",
       "            </tr><tr>\n",
       "                <td><strong>Lower bound</strong></td><td>-1000.0</td>\n",
       "            </tr><tr>\n",
       "                <td><strong>Upper bound</strong></td><td>1000.0</td>\n",
       "            </tr>\n",
       "        </table>\n",
       "        "
      ],
      "text/plain": [
       "<Reaction PGM at 0x29772731d30>"
      ]
     },
     "execution_count": 64,
     "metadata": {},
     "output_type": "execute_result"
    }
   ],
   "source": [
    "base_mod.reactions.get_by_id('PGM')"
   ]
  },
  {
   "cell_type": "code",
   "execution_count": 65,
   "id": "75dafc0a",
   "metadata": {},
   "outputs": [
    {
     "data": {
      "text/html": [
       "\n",
       "        <table>\n",
       "            <tr>\n",
       "                <td><strong>Reaction identifier</strong></td><td>PGCD</td>\n",
       "            </tr><tr>\n",
       "                <td><strong>Name</strong></td><td>Phosphoglycerate dehydrogenase</td>\n",
       "            </tr><tr>\n",
       "                <td><strong>Memory address</strong></td>\n",
       "                <td>0x029772731640</td>\n",
       "            </tr><tr>\n",
       "                <td><strong>Stoichiometry</strong></td>\n",
       "                <td>\n",
       "                    <p style='text-align:right'>3pg[c] + nad[c] --> 3php[c] + h[c] + nadh[c]</p>\n",
       "                    <p style='text-align:right'>3-Phospho-D-glycerate [cytoplasm] + Nicotinamide adenine dinucleotide [cytoplasm] --> 3-Phosphohydroxypyruvate [cytoplasm] + H+ [cytoplasm] + Nicotinamide adenine dinucleotide - reduced [cytoplasm]</p>\n",
       "                </td>\n",
       "            </tr><tr>\n",
       "                <td><strong>GPR</strong></td><td>Rv2996c and Rv0728c</td>\n",
       "            </tr><tr>\n",
       "                <td><strong>Lower bound</strong></td><td>0.0</td>\n",
       "            </tr><tr>\n",
       "                <td><strong>Upper bound</strong></td><td>1000.0</td>\n",
       "            </tr>\n",
       "        </table>\n",
       "        "
      ],
      "text/plain": [
       "<Reaction PGCD at 0x29772731640>"
      ]
     },
     "execution_count": 65,
     "metadata": {},
     "output_type": "execute_result"
    }
   ],
   "source": [
    "base_mod.reactions.get_by_id('PGCD')"
   ]
  },
  {
   "cell_type": "code",
   "execution_count": 66,
   "id": "85a182e2",
   "metadata": {},
   "outputs": [
    {
     "data": {
      "text/html": [
       "\n",
       "        <table>\n",
       "            <tr>\n",
       "                <td><strong>Metabolite identifier</strong></td><td>pep[c]</td>\n",
       "            </tr><tr>\n",
       "                <td><strong>Name</strong></td><td>Phosphoenolpyruvate [cytoplasm]</td>\n",
       "            </tr><tr>\n",
       "                <td><strong>Memory address</strong></td>\n",
       "                <td>0x0297722d84f0</td>\n",
       "            </tr><tr>\n",
       "                <td><strong>Formula</strong></td><td>C3H2O6P</td>\n",
       "            </tr><tr>\n",
       "                <td><strong>Compartment</strong></td><td>c</td>\n",
       "            </tr><tr>\n",
       "                <td><strong>In 7 reaction(s)</strong></td><td>\n",
       "                    UAGCVT, PYK, ENO, PSCVT, DDPA, PEPCK_re, PPDK</td>\n",
       "            </tr>\n",
       "        </table>"
      ],
      "text/plain": [
       "<Metabolite pep[c] at 0x297722d84f0>"
      ]
     },
     "execution_count": 66,
     "metadata": {},
     "output_type": "execute_result"
    }
   ],
   "source": [
    "base_mod.metabolites.get_by_id('pep[c]')"
   ]
  },
  {
   "cell_type": "code",
   "execution_count": 67,
   "id": "3e43f2b3",
   "metadata": {},
   "outputs": [
    {
     "data": {
      "text/html": [
       "\n",
       "        <table>\n",
       "            <tr>\n",
       "                <td><strong>Reaction identifier</strong></td><td>DDPA</td>\n",
       "            </tr><tr>\n",
       "                <td><strong>Name</strong></td><td>3-deoxy-D-arabino-heptulosonate 7-phosphate synthetase</td>\n",
       "            </tr><tr>\n",
       "                <td><strong>Memory address</strong></td>\n",
       "                <td>0x0297729c1e80</td>\n",
       "            </tr><tr>\n",
       "                <td><strong>Stoichiometry</strong></td>\n",
       "                <td>\n",
       "                    <p style='text-align:right'>e4p[c] + h2o[c] + pep[c] --> 2dda7p[c] + pi[c]</p>\n",
       "                    <p style='text-align:right'>D-Erythrose 4-phosphate [cytoplasm] + H2O H2O [cytoplasm] + Phosphoenolpyruvate [cytoplasm] --> 2-Dehydro-3-deoxy-D-arabino-heptonate 7-phosphate [cytoplasm] + Phosphate [cytoplasm]</p>\n",
       "                </td>\n",
       "            </tr><tr>\n",
       "                <td><strong>GPR</strong></td><td>Rv2178c</td>\n",
       "            </tr><tr>\n",
       "                <td><strong>Lower bound</strong></td><td>0.0</td>\n",
       "            </tr><tr>\n",
       "                <td><strong>Upper bound</strong></td><td>1000.0</td>\n",
       "            </tr>\n",
       "        </table>\n",
       "        "
      ],
      "text/plain": [
       "<Reaction DDPA at 0x297729c1e80>"
      ]
     },
     "execution_count": 67,
     "metadata": {},
     "output_type": "execute_result"
    }
   ],
   "source": [
    "base_mod.reactions.get_by_id('DDPA')"
   ]
  },
  {
   "cell_type": "code",
   "execution_count": 68,
   "id": "7306ad5d",
   "metadata": {},
   "outputs": [
    {
     "data": {
      "text/html": [
       "\n",
       "        <table>\n",
       "            <tr>\n",
       "                <td><strong>Reaction identifier</strong></td><td>PEPCK_re</td>\n",
       "            </tr><tr>\n",
       "                <td><strong>Name</strong></td><td>Phosphoenolpyruvate carboxykinase (GTP)</td>\n",
       "            </tr><tr>\n",
       "                <td><strong>Memory address</strong></td>\n",
       "                <td>0x02977248d490</td>\n",
       "            </tr><tr>\n",
       "                <td><strong>Stoichiometry</strong></td>\n",
       "                <td>\n",
       "                    <p style='text-align:right'>gtp[c] + oaa[c] <=> co2[c] + gdp[c] + pep[c]</p>\n",
       "                    <p style='text-align:right'>GTP C10H12N5O14P3 [cytoplasm] + Oxaloacetate [cytoplasm] <=> CO2 CO2 [cytoplasm] + GDP C10H12N5O11P2 [cytoplasm] + Phosphoenolpyruvate [cytoplasm]</p>\n",
       "                </td>\n",
       "            </tr><tr>\n",
       "                <td><strong>GPR</strong></td><td>Rv0211</td>\n",
       "            </tr><tr>\n",
       "                <td><strong>Lower bound</strong></td><td>-1000.0</td>\n",
       "            </tr><tr>\n",
       "                <td><strong>Upper bound</strong></td><td>1000.0</td>\n",
       "            </tr>\n",
       "        </table>\n",
       "        "
      ],
      "text/plain": [
       "<Reaction PEPCK_re at 0x2977248d490>"
      ]
     },
     "execution_count": 68,
     "metadata": {},
     "output_type": "execute_result"
    }
   ],
   "source": [
    "base_mod.reactions.get_by_id('PEPCK_re')"
   ]
  },
  {
   "cell_type": "code",
   "execution_count": 69,
   "id": "35b9cf5f",
   "metadata": {},
   "outputs": [
    {
     "data": {
      "text/html": [
       "\n",
       "        <table>\n",
       "            <tr>\n",
       "                <td><strong>Reaction identifier</strong></td><td>PSCVT</td>\n",
       "            </tr><tr>\n",
       "                <td><strong>Name</strong></td><td>3-phosphoshikimate 1-carboxyvinyltransferase</td>\n",
       "            </tr><tr>\n",
       "                <td><strong>Memory address</strong></td>\n",
       "                <td>0x0297729ce850</td>\n",
       "            </tr><tr>\n",
       "                <td><strong>Stoichiometry</strong></td>\n",
       "                <td>\n",
       "                    <p style='text-align:right'>pep[c] + skm5p[c] --> 3psme[c] + pi[c]</p>\n",
       "                    <p style='text-align:right'>Phosphoenolpyruvate [cytoplasm] + Shikimate 5-phosphate [cytoplasm] --> 5-O-(1-Carboxyvinyl)-3-phosphoshikimate [cytoplasm] + Phosphate [cytoplasm]</p>\n",
       "                </td>\n",
       "            </tr><tr>\n",
       "                <td><strong>GPR</strong></td><td>Rv3227</td>\n",
       "            </tr><tr>\n",
       "                <td><strong>Lower bound</strong></td><td>0.0</td>\n",
       "            </tr><tr>\n",
       "                <td><strong>Upper bound</strong></td><td>1000.0</td>\n",
       "            </tr>\n",
       "        </table>\n",
       "        "
      ],
      "text/plain": [
       "<Reaction PSCVT at 0x297729ce850>"
      ]
     },
     "execution_count": 69,
     "metadata": {},
     "output_type": "execute_result"
    }
   ],
   "source": [
    "base_mod.reactions.get_by_id('PSCVT')"
   ]
  },
  {
   "cell_type": "code",
   "execution_count": 70,
   "id": "6516a3bc",
   "metadata": {},
   "outputs": [
    {
     "data": {
      "text/html": [
       "\n",
       "        <table>\n",
       "            <tr>\n",
       "                <td><strong>Reaction identifier</strong></td><td>ENO</td>\n",
       "            </tr><tr>\n",
       "                <td><strong>Name</strong></td><td>Enolase</td>\n",
       "            </tr><tr>\n",
       "                <td><strong>Memory address</strong></td>\n",
       "                <td>0x02977271a340</td>\n",
       "            </tr><tr>\n",
       "                <td><strong>Stoichiometry</strong></td>\n",
       "                <td>\n",
       "                    <p style='text-align:right'>2pg[c] <=> h2o[c] + pep[c]</p>\n",
       "                    <p style='text-align:right'>D-Glycerate 2-phosphate [cytoplasm] <=> H2O H2O [cytoplasm] + Phosphoenolpyruvate [cytoplasm]</p>\n",
       "                </td>\n",
       "            </tr><tr>\n",
       "                <td><strong>GPR</strong></td><td>Rv1023</td>\n",
       "            </tr><tr>\n",
       "                <td><strong>Lower bound</strong></td><td>-1000.0</td>\n",
       "            </tr><tr>\n",
       "                <td><strong>Upper bound</strong></td><td>1000.0</td>\n",
       "            </tr>\n",
       "        </table>\n",
       "        "
      ],
      "text/plain": [
       "<Reaction ENO at 0x2977271a340>"
      ]
     },
     "execution_count": 70,
     "metadata": {},
     "output_type": "execute_result"
    }
   ],
   "source": [
    "base_mod.reactions.get_by_id('ENO')"
   ]
  }
 ],
 "metadata": {
  "kernelspec": {
   "display_name": "Python 3",
   "language": "python",
   "name": "python3"
  },
  "language_info": {
   "codemirror_mode": {
    "name": "ipython",
    "version": 3
   },
   "file_extension": ".py",
   "mimetype": "text/x-python",
   "name": "python",
   "nbconvert_exporter": "python",
   "pygments_lexer": "ipython3",
   "version": "3.9.5"
  }
 },
 "nbformat": 4,
 "nbformat_minor": 5
}
