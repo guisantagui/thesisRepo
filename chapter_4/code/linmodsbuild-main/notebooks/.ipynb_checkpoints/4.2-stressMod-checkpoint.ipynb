{
 "cells": [
  {
   "cell_type": "markdown",
   "id": "f1fd136a",
   "metadata": {},
   "source": [
    "# Add extracellular stresses to models to see if we can see separation with FBA"
   ]
  },
  {
   "cell_type": "code",
   "execution_count": 1,
   "id": "dd5da84b",
   "metadata": {},
   "outputs": [],
   "source": [
    "import cobra\n",
    "import pandas as pd\n",
    "import os\n",
    "from os.path import join\n",
    "from cobra.io import load_json_model\n",
    "import numpy as np\n",
    "from cobra import Model, Reaction, Metabolite\n",
    "import copy as cp"
   ]
  },
  {
   "cell_type": "code",
   "execution_count": 2,
   "id": "4c5ca209",
   "metadata": {},
   "outputs": [],
   "source": [
    "# Set pandas to display all rows\n",
    "pd.set_option('display.max_rows', None)"
   ]
  },
  {
   "cell_type": "code",
   "execution_count": 3,
   "id": "f9d43868",
   "metadata": {},
   "outputs": [],
   "source": [
    "# Directory stuff\n",
    "mod_dir = '../results/built_models/delsAllsnps_mods/cur/'\n",
    "baseMod_dir = '../data/models/'\n",
    "res_dir = '../results//simulations/delsAllSNPs/'\n",
    "FBA_dir = res_dir + 'FBA/'"
   ]
  },
  {
   "cell_type": "markdown",
   "id": "2f14c538",
   "metadata": {},
   "source": [
    "### Load base reconstruction, built models and different medium compositions for start running simulations"
   ]
  },
  {
   "cell_type": "code",
   "execution_count": 4,
   "id": "81b4ac79",
   "metadata": {},
   "outputs": [],
   "source": [
    "base_mod = cobra.io.load_json_model(join(baseMod_dir, \"iEK1011_2.0.json\"))"
   ]
  },
  {
   "cell_type": "code",
   "execution_count": 41,
   "id": "fd6c87fa",
   "metadata": {},
   "outputs": [],
   "source": [
    "# Create 7H9 OADC medium, obtained from S8 file matlab scripts from iEK1011 2.0 paper\n",
    "mi7H9_OADCChol_Med = {'EX_glu__L_e':1,'EX_cu2_e':1000,'EX_btn_e':1,'EX_pydxn_e':1,'EX_ca2_e':1000, 'EX_mg2_e':1000, 'EX_h_e':1000, 'EX_k_e':1000,\n",
    "'EX_nh4_e':10, 'EX_h2o_e':1000,'EX_pi_e':1, 'EX_cl_e':1000, 'EX_o2_e':20,\n",
    "'EX_na1_e':1000, 'EX_so4_e':1000,'EX_cit_e':1,'EX_fe3_e':5, 'EX_glyc_e':1,\n",
    "'EX_glc__D_e':1,'EX_ocdca_e':1, 'EX_chsterol_e':1}"
   ]
  },
  {
   "cell_type": "code",
   "execution_count": 6,
   "id": "13fe25b8",
   "metadata": {},
   "outputs": [],
   "source": [
    "# Create 7H9 OADC medium with h2o2\n",
    "mi7H9_OADC_h2o2_Med = cp.deepcopy(mi7H9_OADCChol_Med)\n",
    "mi7H9_OADC_h2o2_Med['EX_h2o2[e]'] = 10"
   ]
  },
  {
   "cell_type": "code",
   "execution_count": 7,
   "id": "5db1e448",
   "metadata": {},
   "outputs": [],
   "source": [
    "# Create 7H9 OADC medium iron depleted\n",
    "mi7H9_OADC_lowFe_Med = cp.deepcopy(mi7H9_OADCChol_Med)\n",
    "mi7H9_OADC_lowFe_Med['EX_fe3_e'] = 0.00005"
   ]
  },
  {
   "cell_type": "code",
   "execution_count": 8,
   "id": "7dfbd531",
   "metadata": {},
   "outputs": [],
   "source": [
    "# Create 7H9 OADC starvation by dividing the amounts by 100\n",
    "mi7H9_OADC_starv_Med = cp.deepcopy(mi7H9_OADCChol_Med)\n",
    "for met in mi7H9_OADC_starv_Med.keys():\n",
    "    mi7H9_OADC_starv_Med[met] = mi7H9_OADC_starv_Med[met]/100"
   ]
  },
  {
   "cell_type": "code",
   "execution_count": 9,
   "id": "d5a70c82",
   "metadata": {},
   "outputs": [],
   "source": [
    "# Load different iEK1011 models (in different mediums) to retrieve mediums \n",
    "inVivoMed = cobra.io.load_json_model('C:/Users/Guillem/Documents/PhD/comput/models/MTBC/iEK1011_inVivo_media.json').medium\n",
    "deJesuMed = cobra.io.load_json_model('C:/Users/Guillem/Documents/PhD/comput/models/MTBC/iEK1011_deJesusEssen_media.json').medium\n",
    "drugTsMed = cobra.io.load_json_model('C:/Users/Guillem/Documents/PhD/comput/models/MTBC/iEK1011_drugTesting_media.json').medium\n",
    "grifEsMed = cobra.io.load_json_model('C:/Users/Guillem/Documents/PhD/comput/models/MTBC/iEK1011_griffinEssen_media.json').medium\n",
    "mi7H10Med = cobra.io.load_json_model('C:/Users/Guillem/Documents/PhD/comput/models/MTBC/iEK1011_m7H10_media.json').medium"
   ]
  },
  {
   "cell_type": "code",
   "execution_count": 10,
   "id": "693f1362",
   "metadata": {},
   "outputs": [],
   "source": [
    "# Exchange reactions have different names in old model than in new, so change the keys to make mediums compatible with models. \n",
    "\n",
    "for m in list(inVivoMed.keys()):\n",
    "    if 'L' in m or 'D' in m:\n",
    "        k = m[0:(len(m)-1)] + '_' + m[len(m)-1] + '_e'\n",
    "    else:\n",
    "        k = m + '_e'\n",
    "    inVivoMed[k] = inVivoMed.pop(m)\n",
    "\n",
    "for m in list(deJesuMed.keys()):\n",
    "    if 'L' in m or 'D' in m:\n",
    "        k = m[0:(len(m)-1)] + '_' + m[len(m)-1] + '_e'\n",
    "    else:\n",
    "        k = m + '_e'\n",
    "    deJesuMed[k] = deJesuMed.pop(m)\n",
    "\n",
    "for m in list(drugTsMed.keys()):\n",
    "    if 'L' in m or 'D' in m:\n",
    "        k = m[0:(len(m)-1)] + '_' + m[len(m)-1] + '_e'\n",
    "    else:\n",
    "        k = m + '_e'\n",
    "    drugTsMed[k] = drugTsMed.pop(m)\n",
    "\n",
    "for m in list(grifEsMed.keys()):\n",
    "    if 'L' in m or 'D' in m:\n",
    "        k = m[0:(len(m)-1)] + '_' + m[len(m)-1] + '_e'\n",
    "    else:\n",
    "        k = m + '_e'\n",
    "    grifEsMed[k] = grifEsMed.pop(m)\n",
    "\n",
    "for m in list(mi7H10Med.keys()):\n",
    "    if 'L' in m or 'D' in m:\n",
    "        k = m[0:(len(m)-1)] + '_' + m[len(m)-1] + '_e'\n",
    "    else:\n",
    "        k = m + '_e'\n",
    "    mi7H10Med[k] = mi7H10Med.pop(m)"
   ]
  },
  {
   "cell_type": "code",
   "execution_count": 11,
   "id": "ba517118",
   "metadata": {},
   "outputs": [],
   "source": [
    "modList = [cobra.io.load_json_model(mod_dir + x) for x in os.listdir(mod_dir)]"
   ]
  },
  {
   "cell_type": "markdown",
   "id": "374f2dcc",
   "metadata": {},
   "source": [
    "### Oxidative stress: add H2O2 to medium and force its entry in the bacteria."
   ]
  },
  {
   "cell_type": "code",
   "execution_count": 12,
   "id": "5fc387ea",
   "metadata": {},
   "outputs": [],
   "source": [
    "h2o2_e = Metabolite(\n",
    "    'h2o2[e]',\n",
    "    formula='H2O2',\n",
    "    name='Hydrogen peroxyde [extracellular]',\n",
    "    compartment='e')"
   ]
  },
  {
   "cell_type": "code",
   "execution_count": 13,
   "id": "e5d01ed6",
   "metadata": {},
   "outputs": [],
   "source": [
    "# Set the bounds to force h2o2 entry\n",
    "H2O2t = Reaction('H2O2t')\n",
    "H2O2t.name = 'H2O2 transport diffusion'\n",
    "H2O2t.subsystem = 'Extracellular exchange'\n",
    "H2O2t.lower_bound = 1.\n",
    "H2O2t.upper_bound = 1."
   ]
  },
  {
   "cell_type": "code",
   "execution_count": 14,
   "id": "8215c695",
   "metadata": {},
   "outputs": [],
   "source": [
    "h2o2_c = cp.copy(modList[0].metabolites.get_by_id('h2o2[c]'))"
   ]
  },
  {
   "cell_type": "code",
   "execution_count": 15,
   "id": "03ae22d0",
   "metadata": {},
   "outputs": [
    {
     "data": {
      "text/html": [
       "\n",
       "        <table>\n",
       "            <tr>\n",
       "                <td><strong>Metabolite identifier</strong></td><td>h2o2[c]</td>\n",
       "            </tr><tr>\n",
       "                <td><strong>Name</strong></td><td>Hydrogen peroxide [cytoplasm]</td>\n",
       "            </tr><tr>\n",
       "                <td><strong>Memory address</strong></td>\n",
       "                <td>0x017bb9d81e50</td>\n",
       "            </tr><tr>\n",
       "                <td><strong>Formula</strong></td><td>H2O2</td>\n",
       "            </tr><tr>\n",
       "                <td><strong>Compartment</strong></td><td>c</td>\n",
       "            </tr><tr>\n",
       "                <td><strong>In 0 reaction(s)</strong></td><td>\n",
       "                    </td>\n",
       "            </tr>\n",
       "        </table>"
      ],
      "text/plain": [
       "<Metabolite h2o2[c] at 0x17bb9d81e50>"
      ]
     },
     "execution_count": 15,
     "metadata": {},
     "output_type": "execute_result"
    }
   ],
   "source": [
    "h2o2_c"
   ]
  },
  {
   "cell_type": "code",
   "execution_count": 16,
   "id": "a4676d67",
   "metadata": {},
   "outputs": [
    {
     "data": {
      "text/html": [
       "\n",
       "        <table>\n",
       "            <tr>\n",
       "                <td><strong>Metabolite identifier</strong></td><td>h2o2[e]</td>\n",
       "            </tr><tr>\n",
       "                <td><strong>Name</strong></td><td>Hydrogen peroxyde [extracellular]</td>\n",
       "            </tr><tr>\n",
       "                <td><strong>Memory address</strong></td>\n",
       "                <td>0x017bb9d81df0</td>\n",
       "            </tr><tr>\n",
       "                <td><strong>Formula</strong></td><td>H2O2</td>\n",
       "            </tr><tr>\n",
       "                <td><strong>Compartment</strong></td><td>e</td>\n",
       "            </tr><tr>\n",
       "                <td><strong>In 0 reaction(s)</strong></td><td>\n",
       "                    </td>\n",
       "            </tr>\n",
       "        </table>"
      ],
      "text/plain": [
       "<Metabolite h2o2[e] at 0x17bb9d81df0>"
      ]
     },
     "execution_count": 16,
     "metadata": {},
     "output_type": "execute_result"
    }
   ],
   "source": [
    "h2o2_e"
   ]
  },
  {
   "cell_type": "code",
   "execution_count": 17,
   "id": "0073f986",
   "metadata": {},
   "outputs": [],
   "source": [
    "# Add h2o2 exchange and transport reactions to models, initialize in 7H9 oadc h2o2 and do fba\n",
    "solDict = {}\n",
    "for i in range(0, len(modList)):\n",
    "    model = modList[i]\n",
    "    lin = model.id\n",
    "    model.add_metabolites([cp.copy(h2o2_e)])\n",
    "    model.add_boundary(model.metabolites.get_by_id(\"h2o2[e]\"), type=\"exchange\")\n",
    "    H2O2t_mod = cp.deepcopy(H2O2t)\n",
    "    H2O2t_mod.add_metabolites({model.metabolites.get_by_id('h2o2[e]'): -1.0,\n",
    "                             model.metabolites.get_by_id('h2o2[c]'): 1.0})\n",
    "    model.add_reactions([H2O2t_mod])\n",
    "    #model.medium = mi7H9_OADC_Med\n",
    "    model.medium = mi7H9_OADC_h2o2_Med\n",
    "    solution = model.optimize().fluxes\n",
    "    solDict[lin] = solution\n",
    "    #model.medium = grifEsMed\n",
    "    #model.add_reactions([cp.copy(H2O2t)])"
   ]
  },
  {
   "cell_type": "markdown",
   "id": "0027d3ec",
   "metadata": {},
   "source": [
    "Examine added reactions and metabolites"
   ]
  },
  {
   "cell_type": "code",
   "execution_count": 18,
   "id": "435cd143",
   "metadata": {},
   "outputs": [
    {
     "data": {
      "text/html": [
       "\n",
       "        <table>\n",
       "            <tr>\n",
       "                <td><strong>Metabolite identifier</strong></td><td>h2o2[e]</td>\n",
       "            </tr><tr>\n",
       "                <td><strong>Name</strong></td><td>Hydrogen peroxyde [extracellular]</td>\n",
       "            </tr><tr>\n",
       "                <td><strong>Memory address</strong></td>\n",
       "                <td>0x017bb9d7ac70</td>\n",
       "            </tr><tr>\n",
       "                <td><strong>Formula</strong></td><td>H2O2</td>\n",
       "            </tr><tr>\n",
       "                <td><strong>Compartment</strong></td><td>e</td>\n",
       "            </tr><tr>\n",
       "                <td><strong>In 2 reaction(s)</strong></td><td>\n",
       "                    H2O2t, EX_h2o2[e]</td>\n",
       "            </tr>\n",
       "        </table>"
      ],
      "text/plain": [
       "<Metabolite h2o2[e] at 0x17bb9d7ac70>"
      ]
     },
     "execution_count": 18,
     "metadata": {},
     "output_type": "execute_result"
    }
   ],
   "source": [
    "modList[0].metabolites.get_by_id('h2o2[e]')"
   ]
  },
  {
   "cell_type": "code",
   "execution_count": 19,
   "id": "d46f45a8",
   "metadata": {},
   "outputs": [
    {
     "data": {
      "text/html": [
       "\n",
       "        <table>\n",
       "            <tr>\n",
       "                <td><strong>Reaction identifier</strong></td><td>EX_h2o2[e]</td>\n",
       "            </tr><tr>\n",
       "                <td><strong>Name</strong></td><td>Hydrogen peroxyde [extracellular] exchange</td>\n",
       "            </tr><tr>\n",
       "                <td><strong>Memory address</strong></td>\n",
       "                <td>0x017bb9d7a820</td>\n",
       "            </tr><tr>\n",
       "                <td><strong>Stoichiometry</strong></td>\n",
       "                <td>\n",
       "                    <p style='text-align:right'>h2o2[e] <=></p>\n",
       "                    <p style='text-align:right'>Hydrogen peroxyde [extracellular] <=></p>\n",
       "                </td>\n",
       "            </tr><tr>\n",
       "                <td><strong>GPR</strong></td><td></td>\n",
       "            </tr><tr>\n",
       "                <td><strong>Lower bound</strong></td><td>-10</td>\n",
       "            </tr><tr>\n",
       "                <td><strong>Upper bound</strong></td><td>1000.0</td>\n",
       "            </tr>\n",
       "        </table>\n",
       "        "
      ],
      "text/plain": [
       "<Reaction EX_h2o2[e] at 0x17bb9d7a820>"
      ]
     },
     "execution_count": 19,
     "metadata": {},
     "output_type": "execute_result"
    }
   ],
   "source": [
    "modList[0].reactions.get_by_id('EX_h2o2[e]')"
   ]
  },
  {
   "cell_type": "code",
   "execution_count": 20,
   "id": "f7c6604e",
   "metadata": {},
   "outputs": [
    {
     "data": {
      "text/html": [
       "\n",
       "        <table>\n",
       "            <tr>\n",
       "                <td><strong>Reaction identifier</strong></td><td>H2O2t</td>\n",
       "            </tr><tr>\n",
       "                <td><strong>Name</strong></td><td>H2O2 transport diffusion</td>\n",
       "            </tr><tr>\n",
       "                <td><strong>Memory address</strong></td>\n",
       "                <td>0x017bb9d7a580</td>\n",
       "            </tr><tr>\n",
       "                <td><strong>Stoichiometry</strong></td>\n",
       "                <td>\n",
       "                    <p style='text-align:right'>h2o2[e] --> h2o2[c]</p>\n",
       "                    <p style='text-align:right'>Hydrogen peroxyde [extracellular] --> Hydrogen peroxide [cytoplasm]</p>\n",
       "                </td>\n",
       "            </tr><tr>\n",
       "                <td><strong>GPR</strong></td><td></td>\n",
       "            </tr><tr>\n",
       "                <td><strong>Lower bound</strong></td><td>1.0</td>\n",
       "            </tr><tr>\n",
       "                <td><strong>Upper bound</strong></td><td>1.0</td>\n",
       "            </tr>\n",
       "        </table>\n",
       "        "
      ],
      "text/plain": [
       "<Reaction H2O2t at 0x17bb9d7a580>"
      ]
     },
     "execution_count": 20,
     "metadata": {},
     "output_type": "execute_result"
    }
   ],
   "source": [
    "modList[0].reactions.get_by_id('H2O2t')"
   ]
  },
  {
   "cell_type": "markdown",
   "id": "cdf1885a",
   "metadata": {},
   "source": [
    "Convert the dictionary to a dataframe"
   ]
  },
  {
   "cell_type": "code",
   "execution_count": 21,
   "id": "ab0fd936",
   "metadata": {},
   "outputs": [],
   "source": [
    "allRxns = [x.id for x in base_mod.reactions]"
   ]
  },
  {
   "cell_type": "code",
   "execution_count": 22,
   "id": "f10f472a",
   "metadata": {},
   "outputs": [],
   "source": [
    "allRxns.append('H2O2t')\n",
    "allRxns.append('EX_h2o2[e]')"
   ]
  },
  {
   "cell_type": "code",
   "execution_count": 23,
   "id": "4e437274",
   "metadata": {},
   "outputs": [],
   "source": [
    "solDF = pd.DataFrame(index = list(solDict.keys()), columns = allRxns)"
   ]
  },
  {
   "cell_type": "code",
   "execution_count": 24,
   "id": "ba6a5c7c",
   "metadata": {},
   "outputs": [],
   "source": [
    "for l in list(solDF.index):\n",
    "    solFlxs = solDict[l]\n",
    "    for r in list(solDF.columns):\n",
    "        if r in list(solFlxs.index):\n",
    "            solDF[r][l] = solFlxs[r]\n",
    "        else:\n",
    "            solDF[r][l] = 0.0"
   ]
  },
  {
   "cell_type": "code",
   "execution_count": 25,
   "id": "09612ef0",
   "metadata": {},
   "outputs": [],
   "source": [
    "# Create output path for 7H9 OADC FBA simulation if it doesn't exist\n",
    "FBA_mi7H9OADCDir = FBA_dir + 'mi7H9OADCMed/'\n",
    "if not os.path.exists(FBA_mi7H9OADCDir):\n",
    "    os.mkdir(FBA_mi7H9OADCDir)"
   ]
  },
  {
   "cell_type": "code",
   "execution_count": 26,
   "id": "0950a449",
   "metadata": {},
   "outputs": [],
   "source": [
    "solDF.to_csv(FBA_mi7H9OADCDir + 'fbaFlxs_7H9OADC_h2o2.csv')"
   ]
  },
  {
   "cell_type": "markdown",
   "id": "7a38b2ea",
   "metadata": {},
   "source": [
    "### Iron scarcity: put iron in low amounts in medium"
   ]
  },
  {
   "cell_type": "code",
   "execution_count": 27,
   "id": "291fc85a",
   "metadata": {},
   "outputs": [],
   "source": [
    "solDictIron = {}\n",
    "for i in range(0, len(modList)):\n",
    "    model = modList[i]\n",
    "    lin = model.id\n",
    "    model.reactions.get_by_id('H2O2t').bounds = (0.0, 0.0)\n",
    "    model.medium = mi7H9_OADC_lowFe_Med\n",
    "    solution = model.optimize().fluxes\n",
    "    solDictIron[lin] = solution"
   ]
  },
  {
   "cell_type": "code",
   "execution_count": 28,
   "id": "ee9ee168",
   "metadata": {},
   "outputs": [],
   "source": [
    "solIronDF = pd.DataFrame(index = list(solDictIron.keys()), columns = allRxns)"
   ]
  },
  {
   "cell_type": "code",
   "execution_count": 29,
   "id": "ef90f1c9",
   "metadata": {},
   "outputs": [],
   "source": [
    "for l in list(solIronDF.index):\n",
    "    solFlxs = solDictIron[l]\n",
    "    for r in list(solIronDF.columns):\n",
    "        if r in list(solFlxs.index):\n",
    "            solIronDF[r][l] = solFlxs[r]\n",
    "        else:\n",
    "            solIronDF[r][l] = 0.0"
   ]
  },
  {
   "cell_type": "code",
   "execution_count": 30,
   "id": "e209ae12",
   "metadata": {},
   "outputs": [],
   "source": [
    "solIronDF.to_csv(FBA_mi7H9OADCDir + 'fbaFlxs_7H9OADC_lowFe.csv')"
   ]
  },
  {
   "cell_type": "markdown",
   "id": "ffe8980d",
   "metadata": {},
   "source": [
    "### Nutrient starvation: divide exchanges in 7H9OADC medium by 100"
   ]
  },
  {
   "cell_type": "code",
   "execution_count": 31,
   "id": "d2c6d9d9",
   "metadata": {},
   "outputs": [],
   "source": [
    "solDictStarv = {}\n",
    "for i in range(0, len(modList)):\n",
    "    model = modList[i]\n",
    "    lin = model.id\n",
    "    model.medium = mi7H9_OADC_starv_Med\n",
    "    solution = model.optimize().fluxes\n",
    "    solDictStarv[lin] = solution"
   ]
  },
  {
   "cell_type": "code",
   "execution_count": 32,
   "id": "6793e1c7",
   "metadata": {},
   "outputs": [],
   "source": [
    "solStarvDF = pd.DataFrame(index = list(solDictStarv.keys()), columns = allRxns)"
   ]
  },
  {
   "cell_type": "code",
   "execution_count": 33,
   "id": "37c49b6e",
   "metadata": {},
   "outputs": [],
   "source": [
    "for l in list(solStarvDF.index):\n",
    "    solFlxs = solDictStarv[l]\n",
    "    for r in list(solStarvDF.columns):\n",
    "        if r in list(solFlxs.index):\n",
    "            solStarvDF[r][l] = solFlxs[r]\n",
    "        else:\n",
    "            solStarvDF[r][l] = 0.0"
   ]
  },
  {
   "cell_type": "code",
   "execution_count": 34,
   "id": "cc4912d1",
   "metadata": {},
   "outputs": [],
   "source": [
    "solStarvDF.to_csv(FBA_mi7H9OADCDir + 'fbaFlxs_7H9OADC_starv.csv')"
   ]
  },
  {
   "cell_type": "code",
   "execution_count": 35,
   "id": "6b2fd06d",
   "metadata": {},
   "outputs": [
    {
     "data": {
      "text/plain": [
       "0.003683291764340507"
      ]
     },
     "execution_count": 35,
     "metadata": {},
     "output_type": "execute_result"
    }
   ],
   "source": [
    "model.slim_optimize()"
   ]
  },
  {
   "cell_type": "markdown",
   "id": "9ed46abf",
   "metadata": {},
   "source": [
    "### Sample the models forcing a situation of high rate growth by manipulating BIOMASS__2 bounds"
   ]
  },
  {
   "cell_type": "code",
   "execution_count": 40,
   "id": "5d2a268c",
   "metadata": {},
   "outputs": [
    {
     "data": {
      "text/plain": [
       "{'EX_ca2_e': 10.0,\n",
       " 'EX_cit_e': 0.01,\n",
       " 'EX_cl_e': 10.0,\n",
       " 'EX_cu2_e': 10.0,\n",
       " 'EX_fe3_e': 0.05,\n",
       " 'EX_glc__D_e': 0.01,\n",
       " 'EX_glu__L_e': 0.01,\n",
       " 'EX_glyc_e': 0.01,\n",
       " 'EX_h2o_e': 10.0,\n",
       " 'EX_h_e': 10.0,\n",
       " 'EX_k_e': 10.0,\n",
       " 'EX_mg2_e': 10.0,\n",
       " 'EX_na1_e': 10.0,\n",
       " 'EX_nh4_e': 0.1,\n",
       " 'EX_o2_e': 0.2,\n",
       " 'EX_ocdca_e': 0.01,\n",
       " 'EX_pi_e': 0.01,\n",
       " 'EX_so4_e': 10.0,\n",
       " 'EX_chsterol_e': 0.01,\n",
       " 'EX_pydxn_e': 0.01,\n",
       " 'EX_btn_e': 0.01}"
      ]
     },
     "execution_count": 40,
     "metadata": {},
     "output_type": "execute_result"
    }
   ],
   "source": [
    "modList[0].medium"
   ]
  },
  {
   "cell_type": "code",
   "execution_count": 42,
   "id": "a266e20c",
   "metadata": {},
   "outputs": [],
   "source": [
    "for mod in modList:\n",
    "    mod.medium = mi7H9_OADCChol_Med\n",
    "    mod.reactions.get_by_id('BIOMASS__2').bounds = (15.0, 37.0)"
   ]
  },
  {
   "cell_type": "code",
   "execution_count": null,
   "id": "67d8cec7",
   "metadata": {},
   "outputs": [],
   "source": [
    "def sampleFluxes(modLst, outDir, size = 100, outCsv = False, medium = mi7H10Med):\n",
    "    lins = [x.id for x in defModLst]\n",
    "    #sampFluxDict = {}\n",
    "    sampFiles = os.listdir(outDir)\n",
    "    for i in range(0, len(lins)):\n",
    "        lin = lins[i]\n",
    "        fileName = lin + '_samp.csv'\n",
    "        if fileName not in sampFiles:\n",
    "            mod = modLst[i].copy()\n",
    "            mod.medium = medium\n",
    "            print('Sampling %s model...'%lin)\n",
    "            sampFlux = sample(mod, size)\n",
    "        else: \n",
    "            print('%s already sampled, loading %s'%(lin, fileName))\n",
    "            sampFlux = pd.read_csv(outDir + fileName, index_col = 0)\n",
    "        #sampFluxDict[lin] = sampFlux\n",
    "        if outCsv == True and fileName not in sampFiles:\n",
    "            sampFlux.to_csv(outDir + lin + '_samp.csv')\n",
    "            print('%s_samp.csv saved at %s.'%(lin, outDir))"
   ]
  }
 ],
 "metadata": {
  "kernelspec": {
   "display_name": "Python 3",
   "language": "python",
   "name": "python3"
  },
  "language_info": {
   "codemirror_mode": {
    "name": "ipython",
    "version": 3
   },
   "file_extension": ".py",
   "mimetype": "text/x-python",
   "name": "python",
   "nbconvert_exporter": "python",
   "pygments_lexer": "ipython3",
   "version": "3.9.5"
  }
 },
 "nbformat": 4,
 "nbformat_minor": 5
}
